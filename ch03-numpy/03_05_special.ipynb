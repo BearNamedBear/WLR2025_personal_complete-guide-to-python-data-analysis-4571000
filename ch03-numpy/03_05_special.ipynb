{
 "cells": [
  {
   "cell_type": "code",
   "execution_count": 111,
   "metadata": {},
   "outputs": [],
   "source": [
    "# discography = np.array(\n",
    "#     [('David Bowie', np.datetime64('1969-11-14'), 17),\n",
    "#      ('The Man Who Sold the World', np.datetime64('1970-11-04'), 3),\n",
    "#      ('Hunky Dory', np.datetime64('1971-12-17'), 5),\n",
    "#      ('Ziggy Stardust', np.datetime64('1972-06-16'), 1),\n",
    "#      ('Aladdin Sane', np.datetime64('1973-04-13'), 1),\n",
    "#      ('Pin Ups', np.datetime64('1973-10-19'), 1),\n",
    "#      ('Diamond Dogs', np.datetime64('1974-05-24'), 1),\n",
    "#      ('Young Americans', np.datetime64('1975-03-07'), 2),\n",
    "#      ('Station To Station', np.datetime64('1976-01-23'), 5),\n",
    "#      ('Low', np.datetime64('1977-01-14'), 2),\n",
    "#      ('Heroes', np.datetime64('1977-10-14'), 3),\n",
    "#      ('Lodger', np.datetime64('1979-05-18'), 4)],\n",
    "    \n",
    "#      dtype=[('title','U32'), ('release', 'M8[D]'), ('toprank', np.int)])\n",
    "\n",
    "# np.save('discography.npy', discography)"
   ]
  },
  {
   "cell_type": "markdown",
   "metadata": {},
   "source": [
    "# 03_05: Special arrays"
   ]
  },
  {
   "cell_type": "code",
   "execution_count": 1,
   "metadata": {},
   "outputs": [],
   "source": [
    "import math\n",
    "import collections\n",
    "import dataclasses\n",
    "import datetime\n",
    "\n",
    "import numpy as np\n",
    "import pandas as pd\n",
    "import matplotlib.pyplot as pp"
   ]
  },
  {
   "cell_type": "markdown",
   "metadata": {},
   "source": [
    "In the last video for this chapter, I want to show you two NumPy features that are not always covered in tutorials but are still very useful.\n",
    "\n",
    "One is _record arrays_, which allow us to mix different data types and give descriptive names to fields. We'll see a much more powerful version of this in the `pandas` library, but sometimes it's good to use it within NumPy.\n",
    "\n",
    "The other feature is `datetime` objects, which (as the name says) can encode a date and time."
   ]
  },
  {
   "cell_type": "markdown",
   "metadata": {},
   "source": [
    "I will load a simple example of a record array, which I have saved in the numpy format."
   ]
  },
  {
   "cell_type": "code",
   "execution_count": 4,
   "metadata": {},
   "outputs": [],
   "source": [
    "discography = np.load('discography.npy')"
   ]
  },
  {
   "cell_type": "markdown",
   "metadata": {},
   "source": [
    "Let's have a look. This is a partial David Bowie discography. Each entry shows record a record's name, date of release, and top rank in the UK charts.\n",
    "\n",
    "The datatype is a list, which shows the name and dtype of each field. For 'title', it's 'U32', which denotes a unicode string of length 32; for release, it's 'M8[D]', which denotes a numpy datetime object with a precision of a day (but it could be as small as nanosecond); there's an 8 because the datetime objects are 8 bytes; last, the toprank is an 8-byte integer."
   ]
  },
  {
   "cell_type": "markdown",
   "metadata": {},
   "source": [
    "(If you wondering about the \"less than\" symbols, they refer to the _enddianness_ of the datatypes---the order in which bytes are stored in memory. On Intel processors, they are little-endian.)"
   ]
  },
  {
   "cell_type": "code",
   "execution_count": 36,
   "metadata": {},
   "outputs": [
    {
     "data": {
      "text/plain": [
       "array([('David Bowie', '1969-11-14', 17),\n",
       "       ('The Man Who Sold the World', '1970-11-04',  3),\n",
       "       ('Hunky Dory', '1971-12-17',  5),\n",
       "       ('Ziggy Stardust', '1972-06-16',  1),\n",
       "       ('Aladdin Sane', '1973-04-13',  1), ('Pin Ups', '1973-10-19',  1),\n",
       "       ('Diamond Dogs', '1974-05-24',  1),\n",
       "       ('Young Americans', '1975-03-07',  2),\n",
       "       ('Station To Station', '1976-01-23',  5),\n",
       "       ('Low', '1977-01-14',  2), ('Heroes', '1977-10-14',  3),\n",
       "       ('Lodger', '1979-05-18',  4)],\n",
       "      dtype=[('title', '<U32'), ('release', '<M8[D]'), ('toprank', '<i8')])"
      ]
     },
     "execution_count": 36,
     "metadata": {},
     "output_type": "execute_result"
    }
   ],
   "source": [
    "discography"
   ]
  },
  {
   "cell_type": "markdown",
   "metadata": {},
   "source": [
    "Of course we could also load data from a text file such as this:"
   ]
  },
  {
   "cell_type": "code",
   "execution_count": 29,
   "metadata": {},
   "outputs": [
    {
     "name": "stdout",
     "output_type": "stream",
     "text": [
      "# title, release, toprank\n",
      "David Bowie, 1969-11-14, 17\n",
      "The Man Who Sold the World, 1970-11-04, 3\n",
      "Hunky Dory, 1971-12-17, 5\n",
      "Ziggy Stardust, 1972-06-16, 1\n",
      "Aladdin Sane, 1973-04-13, 1\n",
      "Pin Ups, 1973-10-19, 1\n",
      "Diamond Dogs, 1974-05-24, 1\n",
      "Young Americans, 1975-03-07, 2\n",
      "Station To Station, 1976-01-23, 5\n",
      "Low, 1977-01-14, 2\n",
      "Heroes, 1977-10-14, 3\n",
      "Lodger, 1979-05-18, 4\n"
     ]
    }
   ],
   "source": [
    "!cat discography.txt"
   ]
  },
  {
   "cell_type": "markdown",
   "metadata": {},
   "source": [
    "Loading these data takes a bit more work because we have to specify the `dtype` of every field, as well as the field delimiter. `names=True` lets us grab the field names from the file header."
   ]
  },
  {
   "cell_type": "code",
   "execution_count": 37,
   "metadata": {},
   "outputs": [],
   "source": [
    "discography_txt = np.genfromtxt('discography.txt', dtype=('U32', 'M8[D]', 'i8'), delimiter=',', names=True)"
   ]
  },
  {
   "cell_type": "code",
   "execution_count": 38,
   "metadata": {},
   "outputs": [
    {
     "data": {
      "text/plain": [
       "array([ True,  True,  True,  True,  True,  True,  True,  True,  True,\n",
       "        True,  True,  True])"
      ]
     },
     "execution_count": 38,
     "metadata": {},
     "output_type": "execute_result"
    }
   ],
   "source": [
    "discography_txt == discography"
   ]
  },
  {
   "cell_type": "markdown",
   "metadata": {},
   "source": [
    "So what can we do with a record array? Each record looks like a Python tuple, and we can extract or modify the elements as we would for a tuple."
   ]
  },
  {
   "cell_type": "code",
   "execution_count": 42,
   "metadata": {},
   "outputs": [
    {
     "data": {
      "text/plain": [
       "('David Bowie', '1969-11-14', 17)"
      ]
     },
     "execution_count": 42,
     "metadata": {},
     "output_type": "execute_result"
    }
   ],
   "source": [
    "discography[0]"
   ]
  },
  {
   "cell_type": "code",
   "execution_count": 43,
   "metadata": {},
   "outputs": [
    {
     "data": {
      "text/plain": [
       "'David Bowie'"
      ]
     },
     "execution_count": 43,
     "metadata": {},
     "output_type": "execute_result"
    }
   ],
   "source": [
    "discography[0][0]"
   ]
  },
  {
   "cell_type": "code",
   "execution_count": 44,
   "metadata": {},
   "outputs": [
    {
     "data": {
      "text/plain": [
       "numpy.datetime64('1969-11-14')"
      ]
     },
     "execution_count": 44,
     "metadata": {},
     "output_type": "execute_result"
    }
   ],
   "source": [
    "discography[0][1]"
   ]
  },
  {
   "cell_type": "markdown",
   "metadata": {},
   "source": [
    "But we can also use the dictionary interface using field names."
   ]
  },
  {
   "cell_type": "code",
   "execution_count": 45,
   "metadata": {},
   "outputs": [
    {
     "data": {
      "text/plain": [
       "'David Bowie'"
      ]
     },
     "execution_count": 45,
     "metadata": {},
     "output_type": "execute_result"
    }
   ],
   "source": [
    "discography[0]['title']"
   ]
  },
  {
   "cell_type": "markdown",
   "metadata": {},
   "source": [
    "Using the field names on the entire array will give us a view of a column."
   ]
  },
  {
   "cell_type": "code",
   "execution_count": 46,
   "metadata": {},
   "outputs": [
    {
     "data": {
      "text/plain": [
       "array(['David Bowie', 'The Man Who Sold the World', 'Hunky Dory',\n",
       "       'Ziggy Stardust', 'Aladdin Sane', 'Pin Ups', 'Diamond Dogs',\n",
       "       'Young Americans', 'Station To Station', 'Low', 'Heroes', 'Lodger'],\n",
       "      dtype='<U32')"
      ]
     },
     "execution_count": 46,
     "metadata": {},
     "output_type": "execute_result"
    }
   ],
   "source": [
    "discography['title']"
   ]
  },
  {
   "cell_type": "markdown",
   "metadata": {},
   "source": [
    "To create a record array, we have to provide the data records as tuples, and be careful about describing the datatypes. For our discography, this would look like this."
   ]
  },
  {
   "cell_type": "code",
   "execution_count": 68,
   "metadata": {},
   "outputs": [
    {
     "data": {
      "text/plain": [
       "array([('David Bowie', '1969-11-14', 17),\n",
       "       ('The Man Who Sold the World', '1970-11-04',  3)],\n",
       "      dtype=[('title', '<U32'), ('release', '<M8[D]'), ('toprank', '<i8')])"
      ]
     },
     "execution_count": 68,
     "metadata": {},
     "output_type": "execute_result"
    }
   ],
   "source": [
    "np.array([('David Bowie', '1969-11-14', 17),\n",
    "          ('The Man Who Sold the World', '1970-11-04', 3)],\n",
    "         dtype = [('title', 'U32'), ('release', 'M8[D]'), ('toprank', 'i8')])"
   ]
  },
  {
   "cell_type": "markdown",
   "metadata": {},
   "source": [
    "Now for dates and times in NumPy. The dtype that we need is called `datetime64` to avoid confusion with the `datetime` object in the Python standard library, and to remind us that each element takes 64 bits. We initialize datetime objects from strings, and we can give as much detail as we want. The string format is ISO 8601, which goes from larger to smaller units (that is, from year to month to day and so on)."
   ]
  },
  {
   "cell_type": "code",
   "execution_count": 71,
   "metadata": {},
   "outputs": [
    {
     "data": {
      "text/plain": [
       "numpy.datetime64('1969')"
      ]
     },
     "execution_count": 71,
     "metadata": {},
     "output_type": "execute_result"
    }
   ],
   "source": [
    "np.datetime64('1969')"
   ]
  },
  {
   "cell_type": "code",
   "execution_count": 72,
   "metadata": {},
   "outputs": [
    {
     "data": {
      "text/plain": [
       "numpy.datetime64('1969-11-14')"
      ]
     },
     "execution_count": 72,
     "metadata": {},
     "output_type": "execute_result"
    }
   ],
   "source": [
    "np.datetime64('1969-11-14')"
   ]
  },
  {
   "cell_type": "code",
   "execution_count": 73,
   "metadata": {},
   "outputs": [
    {
     "data": {
      "text/plain": [
       "numpy.datetime64('2015-02-03T12:00')"
      ]
     },
     "execution_count": 73,
     "metadata": {},
     "output_type": "execute_result"
    }
   ],
   "source": [
    "np.datetime64('2015-02-03 12:00')"
   ]
  },
  {
   "cell_type": "markdown",
   "metadata": {},
   "source": [
    "We can also go through a Python `datetime` object. We specify a granularity of D to avoid setting the time at exactly midnight."
   ]
  },
  {
   "cell_type": "code",
   "execution_count": 100,
   "metadata": {},
   "outputs": [
    {
     "data": {
      "text/plain": [
       "numpy.datetime64('2015-02-03T00:00:00.000000')"
      ]
     },
     "execution_count": 100,
     "metadata": {},
     "output_type": "execute_result"
    }
   ],
   "source": [
    "np.datetime64(datetime.datetime(2015, 2, 3))"
   ]
  },
  {
   "cell_type": "code",
   "execution_count": 101,
   "metadata": {},
   "outputs": [
    {
     "data": {
      "text/plain": [
       "numpy.datetime64('2015-02-03')"
      ]
     },
     "execution_count": 101,
     "metadata": {},
     "output_type": "execute_result"
    }
   ],
   "source": [
    "np.datetime64(datetime.datetime(2015, 2, 3), 'D')"
   ]
  },
  {
   "cell_type": "markdown",
   "metadata": {},
   "source": [
    "The Python `datetime` module can also parse a generic string format."
   ]
  },
  {
   "cell_type": "code",
   "execution_count": 102,
   "metadata": {},
   "outputs": [
    {
     "data": {
      "text/plain": [
       "numpy.datetime64('2015-02-03')"
      ]
     },
     "execution_count": 102,
     "metadata": {},
     "output_type": "execute_result"
    }
   ],
   "source": [
    "np.datetime64(datetime.datetime.strptime('02/03/2015', '%m/%d/%Y'), 'D')"
   ]
  },
  {
   "cell_type": "markdown",
   "metadata": {},
   "source": [
    "Now, numpy datetime objects can be compared"
   ]
  },
  {
   "cell_type": "code",
   "execution_count": 177,
   "metadata": {},
   "outputs": [
    {
     "data": {
      "text/plain": [
       "True"
      ]
     },
     "execution_count": 177,
     "metadata": {},
     "output_type": "execute_result"
    }
   ],
   "source": [
    "np.datetime64('2015-02-03 12:00') < np.datetime64('2015-02-03 18:00')"
   ]
  },
  {
   "cell_type": "markdown",
   "metadata": {},
   "source": [
    "And they can be subtracted, resulting in a `timedelta` object... here it's specified in minutes."
   ]
  },
  {
   "cell_type": "code",
   "execution_count": 103,
   "metadata": {},
   "outputs": [
    {
     "data": {
      "text/plain": [
       "numpy.timedelta64(360,'m')"
      ]
     },
     "execution_count": 103,
     "metadata": {},
     "output_type": "execute_result"
    }
   ],
   "source": [
    "np.datetime64('2015-02-03 18:00') - np.datetime64('2015-02-03 12:00')"
   ]
  },
  {
   "cell_type": "markdown",
   "metadata": {},
   "source": [
    "The nice thing about these `datetime64` objects is that they work across NumPy. For instance, we can use the numpy function `diff`, which computes the difference between successive array elements, to see how long it took David to come up with each new record:"
   ]
  },
  {
   "cell_type": "code",
   "execution_count": 104,
   "metadata": {},
   "outputs": [
    {
     "data": {
      "text/plain": [
       "array([355, 408, 182, 301, 189, 217, 287, 322, 357, 273, 581],\n",
       "      dtype='timedelta64[D]')"
      ]
     },
     "execution_count": 104,
     "metadata": {},
     "output_type": "execute_result"
    }
   ],
   "source": [
    "np.diff(discography['release'])"
   ]
  },
  {
   "cell_type": "code",
   "execution_count": 109,
   "metadata": {},
   "outputs": [
    {
     "data": {
      "text/plain": [
       "('Ziggy Stardust', '1972-06-16', 1)"
      ]
     },
     "execution_count": 109,
     "metadata": {},
     "output_type": "execute_result"
    }
   ],
   "source": [
    "discography[3]"
   ]
  },
  {
   "cell_type": "markdown",
   "metadata": {},
   "source": [
    "\"Ziggy Stardust\" was especially quick!"
   ]
  },
  {
   "cell_type": "markdown",
   "metadata": {},
   "source": [
    "Another example of using standard NumPy function with `datetime64` is making a range of dates. Consistently with the usual convention, the last day in the range is excluded."
   ]
  },
  {
   "cell_type": "code",
   "execution_count": 110,
   "metadata": {},
   "outputs": [
    {
     "data": {
      "text/plain": [
       "array(['2015-02-03', '2015-02-04', '2015-02-05', '2015-02-06',\n",
       "       '2015-02-07', '2015-02-08', '2015-02-09', '2015-02-10',\n",
       "       '2015-02-11', '2015-02-12', '2015-02-13', '2015-02-14',\n",
       "       '2015-02-15', '2015-02-16', '2015-02-17', '2015-02-18',\n",
       "       '2015-02-19', '2015-02-20', '2015-02-21', '2015-02-22',\n",
       "       '2015-02-23', '2015-02-24', '2015-02-25', '2015-02-26',\n",
       "       '2015-02-27', '2015-02-28'], dtype='datetime64[D]')"
      ]
     },
     "execution_count": 110,
     "metadata": {},
     "output_type": "execute_result"
    }
   ],
   "source": [
    "np.arange(np.datetime64('2015-02-03'), np.datetime64('2015-03-01'))"
   ]
  },
  {
   "cell_type": "markdown",
   "metadata": {},
   "source": [
    "As for record arrays, NumPy datetime objects are even more powerful in the `pandas` libraries, which we will discuss later in this course."
   ]
  }
 ],
 "metadata": {
  "kernelspec": {
   "display_name": "Python 3 (ipykernel)",
   "language": "python",
   "name": "python3"
  },
  "language_info": {
   "codemirror_mode": {
    "name": "ipython",
    "version": 3
   },
   "file_extension": ".py",
   "mimetype": "text/x-python",
   "name": "python",
   "nbconvert_exporter": "python",
   "pygments_lexer": "ipython3",
   "version": "3.11.5"
  }
 },
 "nbformat": 4,
 "nbformat_minor": 4
}
