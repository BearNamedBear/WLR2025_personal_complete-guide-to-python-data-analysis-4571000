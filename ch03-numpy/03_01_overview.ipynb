{
 "cells": [
  {
   "cell_type": "markdown",
   "metadata": {},
   "source": [
    "# 03_01: NumPy overview"
   ]
  },
  {
   "cell_type": "markdown",
   "metadata": {},
   "source": [
    "In this chapter we introduce NumPy, a powerful library that supports large, multi-dimensional arrays, with a vast collection of mathematical functions to operate on them efficiently. [slide] NumPy is a fundamental part of the Python ecosystem, and it provides the foundation for many data-analysis and numerical libraries and applications, including SciPy for mathematics, Matplotlib for plotting, pandas and statmodels for statistics, scikit-learn for machine learning, and scikit-image for image processing. NumPy is also crucial in interfacing with compiled code in C, C++, or Fortran.\n",
    "\n",
    "[slide] In addition, if you learn NumPy you will be able to use deep-learning frameworks such as PyTorch and JAX, which share the same array interface, as well as specialized array libraries that are interoperable with NumPy: for instance CuPy, to work with arrays on fast GPUs; Dask, to spread arrays across computers; xarray, for arrays with labels; and PyData/Sparse, for sparse arrays with many zeros and efficient memory layout.\n",
    "\n",
    "Let's talk about how NumPy arrays are different from Python containers.\n",
    "\n",
    "[slide] Python variables are often described as _labels_. They are not little pigeonholes in computer memory, ready to receive a value. Rather, the values are independent objects with their own space in memory, and Python variables are just names associated with the values. So you can have more than one variable referring to the same object. This mechanism is very flexible, and it makes it possible to have lists and dictionaries with heterogeneous elements (you can think of a list as a numbered sequence of labels). However, this scheme is not very efficient when we need to deal with many values of the same type.\n",
    "\n",
    "[slide] In that case, you want to reserve space in memory and store all the values side by side. That's exactly what a NumPy array is. Organizing data in this way is both faster, and more memory efficient. It's also necessary to interface Python with other languages such as C or Fortran, which count on data being laid out in memory in this fashion. I'm showing you a schematic representing one dimensional and two dimensional NumPy arrays.\n",
    "\n",
    "The actual data items sit side by side in memory, and they all have the same size. We identify them by one index in the case of a one dimensional array; two indices for a two dimensional array; and so on. The index ranges from zero to N minus one, where N is the dimension of the array. In the case of a two dimensional array, the dimensions can be different, of course.\n",
    "\n",
    "[slide] Since, as we said, all the data items in an array need to have the same size, NumPy needs to be very precise about identifying data types. In fact, more precise than Python: while Python has just one type of integer, and one type of floating-point number, NumPy has several. NumPy identifies different types of integers, depending on the number of bits that each of them takes up in memory: int8, int16, int32, int64. The most common of these is int64. There are also unsigned versions of these integers. As for floating-point numbers, we have float16, float32, float64, and on some platforms float128. The most common is float64, a double precision floating-point number, which is also the same as a standard Python float.\n",
    "\n",
    "There are other more specialized types, such as booleans (true or false), bytes, unicode strings, _void_ (used for record arrays, which we will see later), and object, which is in effect a pointer to arbitrary Python objects. The underscores in their names are there to differentiate the types from the Python built-in types.\n",
    "\n",
    "Let's see NumPy arrays in action."
   ]
  },
  {
   "cell_type": "code",
   "execution_count": null,
   "metadata": {},
   "outputs": [],
   "source": []
  }
 ],
 "metadata": {
  "kernelspec": {
   "display_name": "Python 3 (ipykernel)",
   "language": "python",
   "name": "python3"
  },
  "language_info": {
   "codemirror_mode": {
    "name": "ipython",
    "version": 3
   },
   "file_extension": ".py",
   "mimetype": "text/x-python",
   "name": "python",
   "nbconvert_exporter": "python",
   "pygments_lexer": "ipython3",
   "version": "3.11.5"
  }
 },
 "nbformat": 4,
 "nbformat_minor": 4
}
