{
 "cells": [
  {
   "cell_type": "markdown",
   "metadata": {},
   "source": [
    "# 01_03: Dictionaries and sets"
   ]
  },
  {
   "cell_type": "code",
   "execution_count": 1,
   "metadata": {},
   "outputs": [],
   "source": [
    "import math\n",
    "import collections\n",
    "import dataclasses\n",
    "import datetime\n",
    "\n",
    "import numpy as np\n",
    "import pandas as pd\n",
    "import matplotlib.pyplot as pp  "
   ]
  },
  {
   "cell_type": "markdown",
   "metadata": {},
   "source": [
    "The other super-important data structure in Python is the _dictionary_ (or `dict`). While lists and tuples give us a way to retrieve values by their numerical index, dictionaries associate _values_ to unique _keys_.\n",
    "\n",
    "`dicts` are written with curly braces, separating _items_ with commas; each item is given as _key_, colon, `value`. For instance, here are the capitals of some of my favorite countries."
   ]
  },
  {
   "cell_type": "code",
   "execution_count": 2,
   "metadata": {},
   "outputs": [],
   "source": [
    "capitals = {'United States': 'Washington, DC', 'France': 'Paris', 'Italy': 'Rome'}"
   ]
  },
  {
   "cell_type": "code",
   "execution_count": 3,
   "metadata": {},
   "outputs": [
    {
     "data": {
      "text/plain": [
       "{'United States': 'Washington, DC', 'France': 'Paris', 'Italy': 'Rome'}"
      ]
     },
     "execution_count": 3,
     "metadata": {},
     "output_type": "execute_result"
    }
   ],
   "source": [
    "capitals"
   ]
  },
  {
   "cell_type": "markdown",
   "metadata": {},
   "source": [
    "The length of a dictionary is obtained with `len`, and the empty dictionary is denoted by empty braces."
   ]
  },
  {
   "cell_type": "code",
   "execution_count": 13,
   "metadata": {},
   "outputs": [
    {
     "data": {
      "text/plain": [
       "(4, 0)"
      ]
     },
     "execution_count": 13,
     "metadata": {},
     "output_type": "execute_result"
    }
   ],
   "source": [
    "len(capitals), len({})"
   ]
  },
  {
   "cell_type": "markdown",
   "metadata": {},
   "source": [
    "Just as we do with lists, values are accessed with a bracket notation, but instead of a number, we're going to use a key."
   ]
  },
  {
   "cell_type": "code",
   "execution_count": 4,
   "metadata": {},
   "outputs": [
    {
     "data": {
      "text/plain": [
       "'Rome'"
      ]
     },
     "execution_count": 4,
     "metadata": {},
     "output_type": "execute_result"
    }
   ],
   "source": [
    "capitals['Italy']"
   ]
  },
  {
   "cell_type": "markdown",
   "metadata": {},
   "source": [
    "The same notation can be used to add items to a dictionary."
   ]
  },
  {
   "cell_type": "code",
   "execution_count": 5,
   "metadata": {},
   "outputs": [],
   "source": [
    "capitals['Spain'] = 'Madrid'"
   ]
  },
  {
   "cell_type": "code",
   "execution_count": 6,
   "metadata": {},
   "outputs": [
    {
     "data": {
      "text/plain": [
       "{'United States': 'Washington, DC',\n",
       " 'France': 'Paris',\n",
       " 'Italy': 'Rome',\n",
       " 'Spain': 'Madrid'}"
      ]
     },
     "execution_count": 6,
     "metadata": {},
     "output_type": "execute_result"
    }
   ],
   "source": [
    "capitals"
   ]
  },
  {
   "cell_type": "markdown",
   "metadata": {},
   "source": [
    "Accessing a non-existent item results in a key error. To avoid that, we can check beforehand whether an item exists in a dictionary using the `in` operator."
   ]
  },
  {
   "cell_type": "code",
   "execution_count": 7,
   "metadata": {},
   "outputs": [
    {
     "ename": "KeyError",
     "evalue": "'Germany'",
     "output_type": "error",
     "traceback": [
      "\u001b[0;31m---------------------------------------------------------------------------\u001b[0m",
      "\u001b[0;31mKeyError\u001b[0m                                  Traceback (most recent call last)",
      "Cell \u001b[0;32mIn[7], line 1\u001b[0m\n\u001b[0;32m----> 1\u001b[0m \u001b[43mcapitals\u001b[49m\u001b[43m[\u001b[49m\u001b[38;5;124;43m'\u001b[39;49m\u001b[38;5;124;43mGermany\u001b[39;49m\u001b[38;5;124;43m'\u001b[39;49m\u001b[43m]\u001b[49m\n",
      "\u001b[0;31mKeyError\u001b[0m: 'Germany'"
     ]
    }
   ],
   "source": [
    "capitals['Germany']"
   ]
  },
  {
   "cell_type": "code",
   "execution_count": 8,
   "metadata": {},
   "outputs": [
    {
     "data": {
      "text/plain": [
       "(False, True)"
      ]
     },
     "execution_count": 8,
     "metadata": {},
     "output_type": "execute_result"
    }
   ],
   "source": [
    "'Germany' in capitals, 'Italy' in capitals"
   ]
  },
  {
   "cell_type": "markdown",
   "metadata": {},
   "source": [
    "To combine two dictionaries, we can unpack them within the same braces using the double-star unpacking operator, which works in a similar way to the star operator for lists. "
   ]
  },
  {
   "cell_type": "code",
   "execution_count": 26,
   "metadata": {},
   "outputs": [],
   "source": [
    "morecapitals = {'Germany': 'Berlin', 'United Kingdom': 'London'}"
   ]
  },
  {
   "cell_type": "code",
   "execution_count": 25,
   "metadata": {},
   "outputs": [
    {
     "data": {
      "text/plain": [
       "{'United States': 'DC',\n",
       " 'France': 'Paris',\n",
       " 'Italy': 'Rome',\n",
       " 'Spain': 'Madrid',\n",
       " 'Germany': 'Berlin',\n",
       " 'United Kingdom': 'London'}"
      ]
     },
     "execution_count": 25,
     "metadata": {},
     "output_type": "execute_result"
    }
   ],
   "source": [
    "{**capitals, **morecapitals}"
   ]
  },
  {
   "cell_type": "markdown",
   "metadata": {},
   "source": [
    "If keys are repeated, the last one is honored. We can also _update_ a dict in place using another dict:"
   ]
  },
  {
   "cell_type": "code",
   "execution_count": 30,
   "metadata": {},
   "outputs": [],
   "source": [
    "capitals.update(morecapitals)"
   ]
  },
  {
   "cell_type": "code",
   "execution_count": 31,
   "metadata": {},
   "outputs": [
    {
     "data": {
      "text/plain": [
       "{'United States': 'Washington, DC',\n",
       " 'France': 'Paris',\n",
       " 'Italy': 'Rome',\n",
       " 'Spain': 'Madrid',\n",
       " 'Germany': 'Berlin',\n",
       " 'United Kingdom': 'London'}"
      ]
     },
     "execution_count": 31,
     "metadata": {},
     "output_type": "execute_result"
    }
   ],
   "source": [
    "capitals"
   ]
  },
  {
   "cell_type": "markdown",
   "metadata": {},
   "source": [
    "Similarly to lists, we can delete items by key."
   ]
  },
  {
   "cell_type": "code",
   "execution_count": 64,
   "metadata": {},
   "outputs": [],
   "source": [
    "del capitals['United Kingdom']"
   ]
  },
  {
   "cell_type": "code",
   "execution_count": 65,
   "metadata": {},
   "outputs": [
    {
     "data": {
      "text/plain": [
       "{'United States': 'Washington, DC',\n",
       " 'France': 'Paris',\n",
       " 'Italy': 'Rome',\n",
       " 'Spain': 'Madrid',\n",
       " 'Germany': 'Berlin'}"
      ]
     },
     "execution_count": 65,
     "metadata": {},
     "output_type": "execute_result"
    }
   ],
   "source": [
    "capitals"
   ]
  },
  {
   "cell_type": "markdown",
   "metadata": {},
   "source": [
    "In fact, keys do not need to be strings: any Python object that is _hashable_ may be used as a name. _Hashable_ means that Python can convert it to a number. That's true for strings, numbers, and tuples, but not for lists."
   ]
  },
  {
   "cell_type": "code",
   "execution_count": 32,
   "metadata": {},
   "outputs": [],
   "source": [
    "birthdays = {(7,15): 'Michele', (3,14): 'Albert'}"
   ]
  },
  {
   "cell_type": "code",
   "execution_count": 33,
   "metadata": {},
   "outputs": [
    {
     "data": {
      "text/plain": [
       "'Michele'"
      ]
     },
     "execution_count": 33,
     "metadata": {},
     "output_type": "execute_result"
    }
   ],
   "source": [
    "birthdays[(7,15)]"
   ]
  },
  {
   "cell_type": "markdown",
   "metadata": {},
   "source": [
    "We can see the internal representation of the keys with `hash`:"
   ]
  },
  {
   "cell_type": "code",
   "execution_count": 36,
   "metadata": {},
   "outputs": [
    {
     "data": {
      "text/plain": [
       "(2991295390957851405, -2471369287409462312)"
      ]
     },
     "execution_count": 36,
     "metadata": {},
     "output_type": "execute_result"
    }
   ],
   "source": [
    "hash('Italy'), hash((7,15))"
   ]
  },
  {
   "cell_type": "markdown",
   "metadata": {},
   "source": [
    "Looping over a dictionary is very similar to looping over a list. However, there are three different kinds of loops you may want to write. [slide] The most straightforward syntax loops over the keys:"
   ]
  },
  {
   "cell_type": "code",
   "execution_count": 70,
   "metadata": {},
   "outputs": [
    {
     "name": "stdout",
     "output_type": "stream",
     "text": [
      "United States\n",
      "France\n",
      "Italy\n",
      "Spain\n",
      "Germany\n"
     ]
    }
   ],
   "source": [
    "for country in capitals:\n",
    "    print(country)"
   ]
  },
  {
   "cell_type": "markdown",
   "metadata": {},
   "source": [
    "You can also write this more explicitly:"
   ]
  },
  {
   "cell_type": "code",
   "execution_count": 71,
   "metadata": {},
   "outputs": [
    {
     "name": "stdout",
     "output_type": "stream",
     "text": [
      "United States\n",
      "France\n",
      "Italy\n",
      "Spain\n",
      "Germany\n"
     ]
    }
   ],
   "source": [
    "for country in capitals.keys():\n",
    "    print(country)"
   ]
  },
  {
   "cell_type": "code",
   "execution_count": 72,
   "metadata": {},
   "outputs": [
    {
     "data": {
      "text/plain": [
       "dict_keys(['United States', 'France', 'Italy', 'Spain', 'Germany'])"
      ]
     },
     "execution_count": 72,
     "metadata": {},
     "output_type": "execute_result"
    }
   ],
   "source": [
    "capitals.keys()"
   ]
  },
  {
   "cell_type": "code",
   "execution_count": 73,
   "metadata": {},
   "outputs": [
    {
     "data": {
      "text/plain": [
       "['United States', 'France', 'Italy', 'Spain', 'Germany']"
      ]
     },
     "execution_count": 73,
     "metadata": {},
     "output_type": "execute_result"
    }
   ],
   "source": [
    "list(capitals.keys())"
   ]
  },
  {
   "cell_type": "markdown",
   "metadata": {},
   "source": [
    "The other two dict loops are over the values:"
   ]
  },
  {
   "cell_type": "code",
   "execution_count": 74,
   "metadata": {},
   "outputs": [
    {
     "name": "stdout",
     "output_type": "stream",
     "text": [
      "Washington, DC\n",
      "Paris\n",
      "Rome\n",
      "Madrid\n",
      "Berlin\n"
     ]
    }
   ],
   "source": [
    "for capital in capitals.values():\n",
    "    print(capital)"
   ]
  },
  {
   "cell_type": "markdown",
   "metadata": {},
   "source": [
    "Or over keys and values together, using tuple unpacking:"
   ]
  },
  {
   "cell_type": "code",
   "execution_count": 75,
   "metadata": {},
   "outputs": [
    {
     "name": "stdout",
     "output_type": "stream",
     "text": [
      "United States Washington, DC\n",
      "France Paris\n",
      "Italy Rome\n",
      "Spain Madrid\n",
      "Germany Berlin\n"
     ]
    }
   ],
   "source": [
    "for country, capital in capitals.items():\n",
    "    print(country, capital)"
   ]
  },
  {
   "cell_type": "markdown",
   "metadata": {},
   "source": [
    "Note that `keys()`, `values()`, and `items()` are not lists, as they would have been in Python 2, but special iterable objects."
   ]
  },
  {
   "cell_type": "code",
   "execution_count": 38,
   "metadata": {},
   "outputs": [
    {
     "data": {
      "text/plain": [
       "dict_keys(['United States', 'France', 'Italy', 'Spain', 'Germany', 'United Kingdom'])"
      ]
     },
     "execution_count": 38,
     "metadata": {},
     "output_type": "execute_result"
    }
   ],
   "source": [
    "capitals.keys()"
   ]
  },
  {
   "cell_type": "markdown",
   "metadata": {},
   "source": [
    "However you can make them into lists."
   ]
  },
  {
   "cell_type": "code",
   "execution_count": 39,
   "metadata": {},
   "outputs": [
    {
     "data": {
      "text/plain": [
       "['United States', 'France', 'Italy', 'Spain', 'Germany', 'United Kingdom']"
      ]
     },
     "execution_count": 39,
     "metadata": {},
     "output_type": "execute_result"
    }
   ],
   "source": [
    "list(capitals.keys())"
   ]
  },
  {
   "cell_type": "markdown",
   "metadata": {},
   "source": [
    "Beginning in Python 3.6 for the CPython interpreter, and Python 3.7 for the very language definition, the order of insertion is preserved for dicts. This means that when we loop over keys or items, we get them in the order in which we originally inserted them.\n",
    "\n",
    "This was not the case in previous versions of Python, and in fact the standard library defined a special object (`OrderedDict` in the `collections` module) to preserve the order. That is not necessary now."
   ]
  },
  {
   "cell_type": "markdown",
   "metadata": {},
   "source": [
    "There is however another specialized dictionary data structure that is very useful. That is `defaultdict`, which you set up to return a default value (instead of an error) when an item has not been set."
   ]
  },
  {
   "cell_type": "code",
   "execution_count": 55,
   "metadata": {},
   "outputs": [],
   "source": [
    "capitals_default = collections.defaultdict(lambda: \"I don't know!\")"
   ]
  },
  {
   "cell_type": "code",
   "execution_count": 54,
   "metadata": {},
   "outputs": [],
   "source": [
    "capitals_default.update(capitals)"
   ]
  },
  {
   "cell_type": "code",
   "execution_count": 53,
   "metadata": {},
   "outputs": [
    {
     "data": {
      "text/plain": [
       "\"I don't know!\""
      ]
     },
     "execution_count": 53,
     "metadata": {},
     "output_type": "execute_result"
    }
   ],
   "source": [
    "capitals_default['Canada']"
   ]
  },
  {
   "cell_type": "markdown",
   "metadata": {},
   "source": [
    "Dicts are very important in Python, since they underlie many aspects of the language itself. For instance, the methods and attributes of classes are stored internally in dicts.\n",
    "\n",
    "The interface by which we access dict values using keys is also adopted in the Python data-analysis library `pandas`, which we will examine later in this course. So it's good to become familiar with it."
   ]
  },
  {
   "cell_type": "markdown",
   "metadata": {},
   "source": [
    "Last, I want to mention sets. You can think of them as _bags_ of items. These can be of any immutable types, and they are not duplicated."
   ]
  },
  {
   "cell_type": "code",
   "execution_count": 57,
   "metadata": {},
   "outputs": [],
   "source": [
    "continents = {'America', 'Europe', 'Asia', 'Oceania', 'Africa', 'Africa'}"
   ]
  },
  {
   "cell_type": "code",
   "execution_count": 58,
   "metadata": {},
   "outputs": [
    {
     "data": {
      "text/plain": [
       "{'Africa', 'America', 'Asia', 'Europe', 'Oceania'}"
      ]
     },
     "execution_count": 58,
     "metadata": {},
     "output_type": "execute_result"
    }
   ],
   "source": [
    "continents"
   ]
  },
  {
   "cell_type": "markdown",
   "metadata": {},
   "source": [
    "As you see, `'Africa'` appears only once."
   ]
  },
  {
   "cell_type": "markdown",
   "metadata": {},
   "source": [
    "You can check if an item exists in a set, or add an item, or remove it, or loop over a set. But there's no indexing."
   ]
  },
  {
   "cell_type": "code",
   "execution_count": 89,
   "metadata": {},
   "outputs": [
    {
     "data": {
      "text/plain": [
       "True"
      ]
     },
     "execution_count": 89,
     "metadata": {},
     "output_type": "execute_result"
    }
   ],
   "source": [
    "'Africa' in continents"
   ]
  },
  {
   "cell_type": "code",
   "execution_count": 95,
   "metadata": {},
   "outputs": [],
   "source": [
    "continents.add('Antarctica')"
   ]
  },
  {
   "cell_type": "code",
   "execution_count": 97,
   "metadata": {},
   "outputs": [],
   "source": [
    "continents.remove('Antarctica')"
   ]
  },
  {
   "cell_type": "code",
   "execution_count": 98,
   "metadata": {},
   "outputs": [
    {
     "name": "stdout",
     "output_type": "stream",
     "text": [
      "Oceania\n",
      "America\n",
      "Africa\n",
      "Europe\n",
      "Asia\n"
     ]
    }
   ],
   "source": [
    "for c in continents:\n",
    "    print(c)"
   ]
  }
 ],
 "metadata": {
  "kernelspec": {
   "display_name": "Python 3 (ipykernel)",
   "language": "python",
   "name": "python3"
  },
  "language_info": {
   "codemirror_mode": {
    "name": "ipython",
    "version": 3
   },
   "file_extension": ".py",
   "mimetype": "text/x-python",
   "name": "python",
   "nbconvert_exporter": "python",
   "pygments_lexer": "ipython3",
   "version": "3.12.3"
  }
 },
 "nbformat": 4,
 "nbformat_minor": 4
}
