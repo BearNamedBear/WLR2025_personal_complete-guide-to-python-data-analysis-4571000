{
 "cells": [
  {
   "cell_type": "markdown",
   "metadata": {},
   "source": [
    "# 01_03: Dictionaries and sets"
   ]
  },
  {
   "cell_type": "markdown",
   "metadata": {},
   "source": [
    "The other super important data structure in Python is the dictionary or dict. While lists and tuples give us a way to retrieve values by their numerical index, dictionaries associate values to unique keys. "
   ]
  },
  {
   "cell_type": "code",
   "execution_count": 32,
   "metadata": {},
   "outputs": [],
   "source": [
    "import math\n",
    "import collections\n",
    "import dataclasses\n",
    "import datetime\n",
    "\n",
    "import numpy as np\n",
    "import pandas as pd\n",
    "import matplotlib.pyplot as pp  "
   ]
  },
  {
   "cell_type": "code",
   "execution_count": 2,
   "metadata": {},
   "outputs": [],
   "source": [
    "# Dicts are written with curly braces with items \n",
    "# separated by commas. Each Item is given as key \n",
    "# colon value\n",
    "#In this example, the countries are they key, their capitals the value.\n",
    "capitals = {'United States': 'Washington, DC', 'France': 'Paris', 'Italy': 'Rome'}"
   ]
  },
  {
   "cell_type": "code",
   "execution_count": 3,
   "metadata": {},
   "outputs": [
    {
     "data": {
      "text/plain": [
       "{'United States': 'Washington, DC', 'France': 'Paris', 'Italy': 'Rome'}"
      ]
     },
     "execution_count": 3,
     "metadata": {},
     "output_type": "execute_result"
    }
   ],
   "source": [
    "capitals"
   ]
  },
  {
   "cell_type": "code",
   "execution_count": null,
   "metadata": {},
   "outputs": [
    {
     "data": {
      "text/plain": [
       "(3, 0)"
      ]
     },
     "execution_count": 4,
     "metadata": {},
     "output_type": "execute_result"
    }
   ],
   "source": [
    "#Like the preceding data structures, the length of a dictionary is provided by len()\n",
    "#The empty dictionary is empty curl braces\n",
    "len(capitals), len({})"
   ]
  },
  {
   "cell_type": "code",
   "execution_count": 5,
   "metadata": {},
   "outputs": [
    {
     "data": {
      "text/plain": [
       "'Rome'"
      ]
     },
     "execution_count": 5,
     "metadata": {},
     "output_type": "execute_result"
    }
   ],
   "source": [
    "#As with lists, values are accessed with a bracket notation\n",
    "#Though with dictionaries we use a key, which is usually a string, rather than an index\n",
    "capitals['Italy']"
   ]
  },
  {
   "cell_type": "code",
   "execution_count": 6,
   "metadata": {},
   "outputs": [],
   "source": [
    "#We can do the same key-as-index to add items to the dictionary\n",
    "capitals['Spain'] = 'Madrid'"
   ]
  },
  {
   "cell_type": "code",
   "execution_count": 7,
   "metadata": {},
   "outputs": [
    {
     "data": {
      "text/plain": [
       "{'United States': 'Washington, DC',\n",
       " 'France': 'Paris',\n",
       " 'Italy': 'Rome',\n",
       " 'Spain': 'Madrid'}"
      ]
     },
     "execution_count": 7,
     "metadata": {},
     "output_type": "execute_result"
    }
   ],
   "source": [
    "capitals"
   ]
  },
  {
   "cell_type": "code",
   "execution_count": 8,
   "metadata": {},
   "outputs": [
    {
     "ename": "KeyError",
     "evalue": "'Germany'",
     "output_type": "error",
     "traceback": [
      "\u001b[31m---------------------------------------------------------------------------\u001b[39m",
      "\u001b[31mKeyError\u001b[39m                                  Traceback (most recent call last)",
      "\u001b[36mCell\u001b[39m\u001b[36m \u001b[39m\u001b[32mIn[8]\u001b[39m\u001b[32m, line 2\u001b[39m\n\u001b[32m      1\u001b[39m \u001b[38;5;66;03m#Querying a dictionary for a nonexistent item results in a key error\u001b[39;00m\n\u001b[32m----> \u001b[39m\u001b[32m2\u001b[39m \u001b[43mcapitals\u001b[49m\u001b[43m[\u001b[49m\u001b[33;43m'\u001b[39;49m\u001b[33;43mGermany\u001b[39;49m\u001b[33;43m'\u001b[39;49m\u001b[43m]\u001b[49m\n",
      "\u001b[31mKeyError\u001b[39m: 'Germany'"
     ]
    }
   ],
   "source": [
    "#Querying a dictionary for a nonexistent item results in a key error\n",
    "capitals['Germany']"
   ]
  },
  {
   "cell_type": "code",
   "execution_count": 11,
   "metadata": {},
   "outputs": [
    {
     "data": {
      "text/plain": [
       "(False, True)"
      ]
     },
     "execution_count": 11,
     "metadata": {},
     "output_type": "execute_result"
    }
   ],
   "source": [
    "# We can avoid this by using the in operator to determine whether a key is present in a dictionary before we query it\n",
    "'Germany' in capitals, 'Italy' in capitals\n",
    "#This should produce False, True"
   ]
  },
  {
   "cell_type": "code",
   "execution_count": 12,
   "metadata": {},
   "outputs": [],
   "source": [
    "morecapitals = {'Germany': 'Berlin', 'United Kingdom': 'London'}"
   ]
  },
  {
   "cell_type": "code",
   "execution_count": null,
   "metadata": {},
   "outputs": [
    {
     "data": {
      "text/plain": [
       "{'United States': 'Washington, DC',\n",
       " 'France': 'Paris',\n",
       " 'Italy': 'Rome',\n",
       " 'Spain': 'Madrid',\n",
       " 'Germany': 'Berlin',\n",
       " 'United Kingdom': 'London'}"
      ]
     },
     "execution_count": 13,
     "metadata": {},
     "output_type": "execute_result"
    }
   ],
   "source": [
    "#Dictionaries also have an unpack operator, in the form of **\n",
    "#so we can combine two dictionaries by using the double unpack on the two dictionaries, and placing the unpacked dictionaries between two curly braces, as below\n",
    "{**capitals, **morecapitals}\n",
    "#Note that if keys are repeated, the last one is used."
   ]
  },
  {
   "cell_type": "code",
   "execution_count": 14,
   "metadata": {},
   "outputs": [],
   "source": [
    "#We can also update a dict in place using another dict. \n",
    "capitals.update(morecapitals)"
   ]
  },
  {
   "cell_type": "code",
   "execution_count": null,
   "metadata": {},
   "outputs": [
    {
     "data": {
      "text/plain": [
       "{'United States': 'Washington, DC',\n",
       " 'France': 'Paris',\n",
       " 'Italy': 'Rome',\n",
       " 'Spain': 'Madrid',\n",
       " 'Germany': 'Berlin',\n",
       " 'United Kingdom': 'London'}"
      ]
     },
     "execution_count": 15,
     "metadata": {},
     "output_type": "execute_result"
    }
   ],
   "source": [
    "#This adds morecapitals to capitals\n",
    "capitals"
   ]
  },
  {
   "cell_type": "code",
   "execution_count": 16,
   "metadata": {},
   "outputs": [],
   "source": [
    "# Similar to lists, we can delete items by key.\n",
    "del capitals['United Kingdom']"
   ]
  },
  {
   "cell_type": "code",
   "execution_count": 17,
   "metadata": {},
   "outputs": [
    {
     "data": {
      "text/plain": [
       "{'United States': 'Washington, DC',\n",
       " 'France': 'Paris',\n",
       " 'Italy': 'Rome',\n",
       " 'Spain': 'Madrid',\n",
       " 'Germany': 'Berlin'}"
      ]
     },
     "execution_count": 17,
     "metadata": {},
     "output_type": "execute_result"
    }
   ],
   "source": [
    "capitals"
   ]
  },
  {
   "cell_type": "code",
   "execution_count": 18,
   "metadata": {},
   "outputs": [],
   "source": [
    "# In fact, keys do not need to be strings. Any Python obect that is hashable may be used as a name. Hashable meaning that Python can convert the object to a number\n",
    "birthdays = {(7,15): 'Michele', (3,14): 'Albert'}\n",
    "#This hashability is true for strings, numbers, and tuples, but NOT for lists."
   ]
  },
  {
   "cell_type": "code",
   "execution_count": 19,
   "metadata": {},
   "outputs": [
    {
     "data": {
      "text/plain": [
       "'Michele'"
      ]
     },
     "execution_count": 19,
     "metadata": {},
     "output_type": "execute_result"
    }
   ],
   "source": [
    "birthdays[(7,15)]"
   ]
  },
  {
   "cell_type": "code",
   "execution_count": null,
   "metadata": {},
   "outputs": [
    {
     "data": {
      "text/plain": [
       "(-135269660706365527, -2471369287409462312)"
      ]
     },
     "execution_count": 20,
     "metadata": {},
     "output_type": "execute_result"
    }
   ],
   "source": [
    "#We can see the internal representation of the keys with hash.\n",
    "hash('Italy'), hash((7,15))"
   ]
  },
  {
   "cell_type": "code",
   "execution_count": null,
   "metadata": {},
   "outputs": [
    {
     "name": "stdout",
     "output_type": "stream",
     "text": [
      "United States\n",
      "France\n",
      "Italy\n",
      "Spain\n",
      "Germany\n"
     ]
    }
   ],
   "source": [
    "#Looping over a dictionary is very similar to looping over a list, but instead there are 3 types of loops we can write\n",
    "#over keys...\n",
    "for country in capitals:\n",
    "    print(country)"
   ]
  },
  {
   "cell_type": "code",
   "execution_count": null,
   "metadata": {},
   "outputs": [
    {
     "name": "stdout",
     "output_type": "stream",
     "text": [
      "United States\n",
      "France\n",
      "Italy\n",
      "Spain\n",
      "Germany\n"
     ]
    }
   ],
   "source": [
    "#(same as above)\n",
    "for country in capitals.keys():\n",
    "    print(country)"
   ]
  },
  {
   "cell_type": "code",
   "execution_count": 23,
   "metadata": {},
   "outputs": [
    {
     "data": {
      "text/plain": [
       "dict_keys(['United States', 'France', 'Italy', 'Spain', 'Germany'])"
      ]
     },
     "execution_count": 23,
     "metadata": {},
     "output_type": "execute_result"
    }
   ],
   "source": [
    "capitals.keys()"
   ]
  },
  {
   "cell_type": "code",
   "execution_count": 24,
   "metadata": {},
   "outputs": [
    {
     "data": {
      "text/plain": [
       "['United States', 'France', 'Italy', 'Spain', 'Germany']"
      ]
     },
     "execution_count": 24,
     "metadata": {},
     "output_type": "execute_result"
    }
   ],
   "source": [
    "list(capitals.keys())"
   ]
  },
  {
   "cell_type": "code",
   "execution_count": 25,
   "metadata": {},
   "outputs": [
    {
     "name": "stdout",
     "output_type": "stream",
     "text": [
      "Washington, DC\n",
      "Paris\n",
      "Rome\n",
      "Madrid\n",
      "Berlin\n"
     ]
    }
   ],
   "source": [
    "#...over values...\n",
    "for capital in capitals.values():\n",
    "    print(capital)"
   ]
  },
  {
   "cell_type": "code",
   "execution_count": null,
   "metadata": {},
   "outputs": [
    {
     "name": "stdout",
     "output_type": "stream",
     "text": [
      "United States Washington, DC\n",
      "France Paris\n",
      "Italy Rome\n",
      "Spain Madrid\n",
      "Germany Berlin\n"
     ]
    }
   ],
   "source": [
    "#..or over both\n",
    "#the pairs are known as items\n",
    "for country, capital in capitals.items():\n",
    "    print(country, capital)"
   ]
  },
  {
   "cell_type": "markdown",
   "metadata": {},
   "source": [
    "We can also write this more explicitly"
   ]
  },
  {
   "cell_type": "code",
   "execution_count": 28,
   "metadata": {},
   "outputs": [
    {
     "data": {
      "text/plain": [
       "dict_keys(['United States', 'France', 'Italy', 'Spain', 'Germany'])"
      ]
     },
     "execution_count": 28,
     "metadata": {},
     "output_type": "execute_result"
    }
   ],
   "source": [
    "# here are the keys of the dictionary\n",
    "capitals.keys()"
   ]
  },
  {
   "cell_type": "code",
   "execution_count": 27,
   "metadata": {},
   "outputs": [
    {
     "data": {
      "text/plain": [
       "['United States', 'France', 'Italy', 'Spain', 'Germany']"
      ]
     },
     "execution_count": 27,
     "metadata": {},
     "output_type": "execute_result"
    }
   ],
   "source": [
    "#This is a special iterative object, like range, but is one that can be turned into a list\n",
    "list(capitals.keys())"
   ]
  },
  {
   "cell_type": "markdown",
   "metadata": {},
   "source": [
    "The other two dict looping constructs are over values or over keys and values together using tuple unpacking\n",
    "\n",
    "From python 3.7 onwards, order of insertion is preserved for dicts\n",
    "this means that when we loop over keys or items, we get them in the order that we originally inserted them, which was not always the case\n",
    "The standard library defined a special object, ordereddict, to preserve the order, which is no longer necessary."
   ]
  },
  {
   "cell_type": "code",
   "execution_count": 33,
   "metadata": {},
   "outputs": [],
   "source": [
    "\n",
    "#There is another specialized dictionary data structure that is very useful; defaultdict, which we set up to return a default value instead of an error when an item has not been set\n",
    "#Here our dfefault vlaue is \"I don't know\"\n",
    "capitals_default = collections.defaultdict(lambda: \"I don't know!\")"
   ]
  },
  {
   "cell_type": "code",
   "execution_count": 34,
   "metadata": {},
   "outputs": [],
   "source": [
    "#Now we will add the original capitals to this object\n",
    "capitals_default.update(capitals)"
   ]
  },
  {
   "cell_type": "code",
   "execution_count": 35,
   "metadata": {},
   "outputs": [
    {
     "data": {
      "text/plain": [
       "\"I don't know!\""
      ]
     },
     "execution_count": 35,
     "metadata": {},
     "output_type": "execute_result"
    }
   ],
   "source": [
    "#Now we if lookup an item that isn't defined in the Dict, it will pop out our default value, \"I don't know\"\n",
    "capitals_default['Canada']"
   ]
  },
  {
   "cell_type": "markdown",
   "metadata": {},
   "source": [
    "Dicts are very important in Python since they underlie many aspects of the language itself, such as the methods and atributes of classes which are stored internally in dicts. And the interface by which we access dict values using keys is also adopted in the Python data analysis library Pandas, so it's helpful for us to be familiar with it. "
   ]
  },
  {
   "cell_type": "code",
   "execution_count": 36,
   "metadata": {},
   "outputs": [],
   "source": [
    "#Finally, we will mention sets. They are essentially bags of items, like the mathematical construct\n",
    "#They can be of any immutable type and they are never duplicated\n",
    "#What this means is that in the below, only one of the two Africa's are acknowledged\n",
    "continents = {'America', 'Europe', 'Asia', 'Oceania', 'Africa', 'Africa'}"
   ]
  },
  {
   "cell_type": "code",
   "execution_count": 37,
   "metadata": {},
   "outputs": [
    {
     "data": {
      "text/plain": [
       "{'Africa', 'America', 'Asia', 'Europe', 'Oceania'}"
      ]
     },
     "execution_count": 37,
     "metadata": {},
     "output_type": "execute_result"
    }
   ],
   "source": [
    "#See, only one Africa\n",
    "continents"
   ]
  },
  {
   "cell_type": "code",
   "execution_count": 38,
   "metadata": {},
   "outputs": [
    {
     "data": {
      "text/plain": [
       "True"
      ]
     },
     "execution_count": 38,
     "metadata": {},
     "output_type": "execute_result"
    }
   ],
   "source": [
    "#You can still use in to check to see if an item is in a setIFrame\n",
    "'Africa' in continents"
   ]
  },
  {
   "cell_type": "code",
   "execution_count": 39,
   "metadata": {},
   "outputs": [],
   "source": [
    "#You can add items\n",
    "continents.add('Antarctica')"
   ]
  },
  {
   "cell_type": "code",
   "execution_count": 40,
   "metadata": {},
   "outputs": [],
   "source": [
    "#You can remove them\n",
    "continents.remove('Antarctica')"
   ]
  },
  {
   "cell_type": "code",
   "execution_count": 41,
   "metadata": {},
   "outputs": [
    {
     "name": "stdout",
     "output_type": "stream",
     "text": [
      "Asia\n",
      "America\n",
      "Africa\n",
      "Oceania\n",
      "Europe\n"
     ]
    }
   ],
   "source": [
    "#You can even loop over them, but be careful as there is NO indexing\n",
    "for c in continents:\n",
    "    print(c)"
   ]
  }
 ],
 "metadata": {
  "kernelspec": {
   "display_name": "Python 3",
   "language": "python",
   "name": "python3"
  },
  "language_info": {
   "codemirror_mode": {
    "name": "ipython",
    "version": 3
   },
   "file_extension": ".py",
   "mimetype": "text/x-python",
   "name": "python",
   "nbconvert_exporter": "python",
   "pygments_lexer": "ipython3",
   "version": "3.12.1"
  }
 },
 "nbformat": 4,
 "nbformat_minor": 4
}
