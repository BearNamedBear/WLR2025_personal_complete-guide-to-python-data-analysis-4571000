{
 "cells": [
  {
   "cell_type": "markdown",
   "metadata": {},
   "source": [
    "# 01_01: Warmup with Python loops"
   ]
  },
  {
   "cell_type": "markdown",
   "metadata": {},
   "source": [
    "We will begin every video by importing the standard set of Python modules that we will need throughout this course. This cell does just that, so we execute it by selecting it with the cursor and pressing shift-return."
   ]
  },
  {
   "cell_type": "code",
   "execution_count": 28,
   "metadata": {},
   "outputs": [],
   "source": [
    "import math\n",
    "import collections\n",
    "import dataclasses\n",
    "import datetime\n",
    "\n",
    "# We load often-used modules using shorter aliases. np and pd are standard from numpy and pandas\n",
    "import numpy as np\n",
    "import pandas as pd\n",
    "\n",
    "# We also import the simpler command-oriented interface to matplotlib, pyplot\n",
    "import matplotlib.pyplot as pp  "
   ]
  },
  {
   "cell_type": "markdown",
   "metadata": {},
   "source": [
    "If you've worked in programming before, you must be familiar with loops. They occur in many different computing problems, and they allow us to automate repetitive operations.\n",
    "\n",
    "Loops are also a good topic to start our quick review of the Python core language, which will focus on the features that are most important to work with data.\n",
    "\n",
    "So how exactly do loops work in Python?"
   ]
  },
  {
   "cell_type": "markdown",
   "metadata": {},
   "source": [
    "We'll see them in a concrete example. Consider the _combinatorial_ problem of breaking a U.S. dollar into all possible combinations of coins: for instance, four quarters, two quarters and five 10-cent dimes, and so on.\n",
    "\n",
    "The U.S. coins currently in use are \\\\$1, \\\\$0.50 (rare), \\\\$0.25, \\\\$0.10, \\\\$0.05, \\\\$0.01."
   ]
  },
  {
   "cell_type": "markdown",
   "metadata": {},
   "source": [
    "Now, if we have to add coins up to a dollar, we can use at most one \\$1 coin, two 50-cent coins, four quarters, and so on, but also mix different "
   ]
  },
  {
   "cell_type": "code",
   "execution_count": 1,
   "metadata": {},
   "outputs": [],
   "source": [
    "# [slide 1]\n",
    "# 1 (bill) = 1 (coin)\n",
    "#            0.50 + 0.50,\n",
    "#            0.25 + 0.25 + 0.25 + 0.25,\n",
    "#            0.10 + 0.10 + 0.10 + 0.10 + 0.10,\n",
    "#            ...\n",
    "#            0.50 + 0.25 + 0.25\n",
    "#            0.50 + 0.25 + 0.10 + 0.10 + 0.05\n",
    "#            ..."
   ]
  },
  {
   "cell_type": "markdown",
   "metadata": {},
   "source": [
    "You can already see how we're going to need several nested loops to figure out all the combinations!\n",
    "\n",
    "To generate all possible ways to break up our dollar, let's start with a very simple-minded strategy. For each face value (such as one dollar, half a dollar, a quarter...), we enumerate all possible quantities: 0 to 1 \\$1 coins, 0 to 2 half-dollar coins, 0 to 4 quarters, and so on. And then for each combination we check whether it adds up to a dollar.\n",
    "\n",
    "Therefore, we need six nested loops... luckily it's Python that will keep track of them."
   ]
  },
  {
   "cell_type": "markdown",
   "metadata": {},
   "source": [
    "The basic structure of a loop in Python is \"for variable in iterable\", followed by the block of code that we are repeating, with the variable taking on the values provided by the iterable."
   ]
  },
  {
   "cell_type": "code",
   "execution_count": null,
   "metadata": {},
   "outputs": [],
   "source": [
    "# [slide 2]\n",
    "# for i in [iterable]: \n",
    "#     [do something with i]\n",
    "#\n",
    "# [arrow to iterable: list, dict, set, ..., iterator, generator]"
   ]
  },
  {
   "cell_type": "markdown",
   "metadata": {},
   "source": [
    "But what is an iterable? We can think of it as a black box that keeps providing new values until it runs out. A simple example is a Python container such as a list. Perhaps the most commonly used iterable is `range`, which provides integer values from a _start value_ to an _end value_, _exclusive_ of the end value. This means that `range(0,10)` counts from 0 to 9."
   ]
  },
  {
   "cell_type": "code",
   "execution_count": null,
   "metadata": {},
   "outputs": [],
   "source": [
    "# [add to slide 2]\n",
    "# range([start], stop, [step])"
   ]
  },
  {
   "cell_type": "code",
   "execution_count": 5,
   "metadata": {},
   "outputs": [
    {
     "name": "stdout",
     "output_type": "stream",
     "text": [
      "0\n",
      "1\n",
      "2\n",
      "3\n",
      "4\n",
      "5\n",
      "6\n",
      "7\n",
      "8\n",
      "9\n"
     ]
    }
   ],
   "source": [
    "for i in range(0, 10):\n",
    "    print(i)"
   ]
  },
  {
   "cell_type": "markdown",
   "metadata": {},
   "source": [
    "There are many reasons for this convention about the end value: for instance, by looking at the end value we see immediately the total number of elements in the range (in this case, 10). In the end, however, we just have to accept it as one of the building assumptions of the language."
   ]
  },
  {
   "cell_type": "markdown",
   "metadata": {},
   "source": [
    "`range` has a couple more interesting features: 1) if we omit the start value it is assumed to be zero; 2) we can provide a `step` argument to move through the range in increments larger than one. If we do provide the step, we must also specify the initial value to avoid confusion."
   ]
  },
  {
   "cell_type": "code",
   "execution_count": 1,
   "metadata": {},
   "outputs": [
    {
     "name": "stdout",
     "output_type": "stream",
     "text": [
      "0\n",
      "1\n",
      "2\n",
      "3\n",
      "4\n"
     ]
    }
   ],
   "source": [
    "for i in range(5):\n",
    "    print(i)"
   ]
  },
  {
   "cell_type": "code",
   "execution_count": 7,
   "metadata": {},
   "outputs": [
    {
     "name": "stdout",
     "output_type": "stream",
     "text": [
      "0\n",
      "2\n",
      "4\n",
      "6\n",
      "8\n"
     ]
    }
   ],
   "source": [
    "for i in range(0, 10, 2):\n",
    "    print(i)"
   ]
  },
  {
   "cell_type": "markdown",
   "metadata": {},
   "source": [
    "Let's go back to our dollar and build our nested loops: we need from 0 to 1 one-dollar coins, which means that the first `range` object will be `range(2)` (2 is excluded). To keep the maximum number of each coin in sight, let's write `range(1+1)`. We then proceed with the other coins, one loop for each. Each nested loop must be indented with respect to its parent, which I do with tab."
   ]
  },
  {
   "cell_type": "code",
   "execution_count": null,
   "metadata": {},
   "outputs": [],
   "source": [
    "for count_100 in range(1+1):\n",
    "    for count_50 in range(2+1):\n",
    "        for count_25 in range(5+1):\n",
    "            for count_10 in range(10+1):\n",
    "                for count_5 in range(20+1):\n",
    "                    for count_1 in range(100+1):"
   ]
  },
  {
   "cell_type": "markdown",
   "metadata": {},
   "source": [
    "Inside the innermost loop we will check whether the total amount is one dollar. If so, let's add the combination to a list, which we need to initialize as the empty list. (We will have a lot more to say about lists in the next video.) Let's try this out!"
   ]
  },
  {
   "cell_type": "code",
   "execution_count": 5,
   "metadata": {},
   "outputs": [],
   "source": [
    "combinations = []\n",
    "\n",
    "for count_100 in range(1+1):\n",
    "    for count_50 in range(2+1):\n",
    "        for count_25 in range(4+1):\n",
    "            for count_10 in range(10+1):\n",
    "                for count_5 in range(20+1):\n",
    "                    for count_1 in range(100+1):\n",
    "                        if 100*count_100 + 50*count_50 + 25*count_25 + 10*count_10 + 5*count_5 + count_1 == 100:\n",
    "                            combinations.append([count_100, count_50, count_25, count_10, count_5, count_1])"
   ]
  },
  {
   "cell_type": "markdown",
   "metadata": {},
   "source": [
    "Let's have a look:"
   ]
  },
  {
   "cell_type": "code",
   "execution_count": 6,
   "metadata": {},
   "outputs": [
    {
     "data": {
      "text/plain": [
       "[[0, 0, 0, 0, 0, 100],\n",
       " [0, 0, 0, 0, 1, 95],\n",
       " [0, 0, 0, 0, 2, 90],\n",
       " [0, 0, 0, 0, 3, 85],\n",
       " [0, 0, 0, 0, 4, 80],\n",
       " [0, 0, 0, 0, 5, 75],\n",
       " [0, 0, 0, 0, 6, 70],\n",
       " [0, 0, 0, 0, 7, 65],\n",
       " [0, 0, 0, 0, 8, 60],\n",
       " [0, 0, 0, 0, 9, 55],\n",
       " [0, 0, 0, 0, 10, 50],\n",
       " [0, 0, 0, 0, 11, 45],\n",
       " [0, 0, 0, 0, 12, 40],\n",
       " [0, 0, 0, 0, 13, 35],\n",
       " [0, 0, 0, 0, 14, 30],\n",
       " [0, 0, 0, 0, 15, 25],\n",
       " [0, 0, 0, 0, 16, 20],\n",
       " [0, 0, 0, 0, 17, 15],\n",
       " [0, 0, 0, 0, 18, 10],\n",
       " [0, 0, 0, 0, 19, 5],\n",
       " [0, 0, 0, 0, 20, 0],\n",
       " [0, 0, 0, 1, 0, 90],\n",
       " [0, 0, 0, 1, 1, 85],\n",
       " [0, 0, 0, 1, 2, 80],\n",
       " [0, 0, 0, 1, 3, 75],\n",
       " [0, 0, 0, 1, 4, 70],\n",
       " [0, 0, 0, 1, 5, 65],\n",
       " [0, 0, 0, 1, 6, 60],\n",
       " [0, 0, 0, 1, 7, 55],\n",
       " [0, 0, 0, 1, 8, 50],\n",
       " [0, 0, 0, 1, 9, 45],\n",
       " [0, 0, 0, 1, 10, 40],\n",
       " [0, 0, 0, 1, 11, 35],\n",
       " [0, 0, 0, 1, 12, 30],\n",
       " [0, 0, 0, 1, 13, 25],\n",
       " [0, 0, 0, 1, 14, 20],\n",
       " [0, 0, 0, 1, 15, 15],\n",
       " [0, 0, 0, 1, 16, 10],\n",
       " [0, 0, 0, 1, 17, 5],\n",
       " [0, 0, 0, 1, 18, 0],\n",
       " [0, 0, 0, 2, 0, 80],\n",
       " [0, 0, 0, 2, 1, 75],\n",
       " [0, 0, 0, 2, 2, 70],\n",
       " [0, 0, 0, 2, 3, 65],\n",
       " [0, 0, 0, 2, 4, 60],\n",
       " [0, 0, 0, 2, 5, 55],\n",
       " [0, 0, 0, 2, 6, 50],\n",
       " [0, 0, 0, 2, 7, 45],\n",
       " [0, 0, 0, 2, 8, 40],\n",
       " [0, 0, 0, 2, 9, 35],\n",
       " [0, 0, 0, 2, 10, 30],\n",
       " [0, 0, 0, 2, 11, 25],\n",
       " [0, 0, 0, 2, 12, 20],\n",
       " [0, 0, 0, 2, 13, 15],\n",
       " [0, 0, 0, 2, 14, 10],\n",
       " [0, 0, 0, 2, 15, 5],\n",
       " [0, 0, 0, 2, 16, 0],\n",
       " [0, 0, 0, 3, 0, 70],\n",
       " [0, 0, 0, 3, 1, 65],\n",
       " [0, 0, 0, 3, 2, 60],\n",
       " [0, 0, 0, 3, 3, 55],\n",
       " [0, 0, 0, 3, 4, 50],\n",
       " [0, 0, 0, 3, 5, 45],\n",
       " [0, 0, 0, 3, 6, 40],\n",
       " [0, 0, 0, 3, 7, 35],\n",
       " [0, 0, 0, 3, 8, 30],\n",
       " [0, 0, 0, 3, 9, 25],\n",
       " [0, 0, 0, 3, 10, 20],\n",
       " [0, 0, 0, 3, 11, 15],\n",
       " [0, 0, 0, 3, 12, 10],\n",
       " [0, 0, 0, 3, 13, 5],\n",
       " [0, 0, 0, 3, 14, 0],\n",
       " [0, 0, 0, 4, 0, 60],\n",
       " [0, 0, 0, 4, 1, 55],\n",
       " [0, 0, 0, 4, 2, 50],\n",
       " [0, 0, 0, 4, 3, 45],\n",
       " [0, 0, 0, 4, 4, 40],\n",
       " [0, 0, 0, 4, 5, 35],\n",
       " [0, 0, 0, 4, 6, 30],\n",
       " [0, 0, 0, 4, 7, 25],\n",
       " [0, 0, 0, 4, 8, 20],\n",
       " [0, 0, 0, 4, 9, 15],\n",
       " [0, 0, 0, 4, 10, 10],\n",
       " [0, 0, 0, 4, 11, 5],\n",
       " [0, 0, 0, 4, 12, 0],\n",
       " [0, 0, 0, 5, 0, 50],\n",
       " [0, 0, 0, 5, 1, 45],\n",
       " [0, 0, 0, 5, 2, 40],\n",
       " [0, 0, 0, 5, 3, 35],\n",
       " [0, 0, 0, 5, 4, 30],\n",
       " [0, 0, 0, 5, 5, 25],\n",
       " [0, 0, 0, 5, 6, 20],\n",
       " [0, 0, 0, 5, 7, 15],\n",
       " [0, 0, 0, 5, 8, 10],\n",
       " [0, 0, 0, 5, 9, 5],\n",
       " [0, 0, 0, 5, 10, 0],\n",
       " [0, 0, 0, 6, 0, 40],\n",
       " [0, 0, 0, 6, 1, 35],\n",
       " [0, 0, 0, 6, 2, 30],\n",
       " [0, 0, 0, 6, 3, 25],\n",
       " [0, 0, 0, 6, 4, 20],\n",
       " [0, 0, 0, 6, 5, 15],\n",
       " [0, 0, 0, 6, 6, 10],\n",
       " [0, 0, 0, 6, 7, 5],\n",
       " [0, 0, 0, 6, 8, 0],\n",
       " [0, 0, 0, 7, 0, 30],\n",
       " [0, 0, 0, 7, 1, 25],\n",
       " [0, 0, 0, 7, 2, 20],\n",
       " [0, 0, 0, 7, 3, 15],\n",
       " [0, 0, 0, 7, 4, 10],\n",
       " [0, 0, 0, 7, 5, 5],\n",
       " [0, 0, 0, 7, 6, 0],\n",
       " [0, 0, 0, 8, 0, 20],\n",
       " [0, 0, 0, 8, 1, 15],\n",
       " [0, 0, 0, 8, 2, 10],\n",
       " [0, 0, 0, 8, 3, 5],\n",
       " [0, 0, 0, 8, 4, 0],\n",
       " [0, 0, 0, 9, 0, 10],\n",
       " [0, 0, 0, 9, 1, 5],\n",
       " [0, 0, 0, 9, 2, 0],\n",
       " [0, 0, 0, 10, 0, 0],\n",
       " [0, 0, 1, 0, 0, 75],\n",
       " [0, 0, 1, 0, 1, 70],\n",
       " [0, 0, 1, 0, 2, 65],\n",
       " [0, 0, 1, 0, 3, 60],\n",
       " [0, 0, 1, 0, 4, 55],\n",
       " [0, 0, 1, 0, 5, 50],\n",
       " [0, 0, 1, 0, 6, 45],\n",
       " [0, 0, 1, 0, 7, 40],\n",
       " [0, 0, 1, 0, 8, 35],\n",
       " [0, 0, 1, 0, 9, 30],\n",
       " [0, 0, 1, 0, 10, 25],\n",
       " [0, 0, 1, 0, 11, 20],\n",
       " [0, 0, 1, 0, 12, 15],\n",
       " [0, 0, 1, 0, 13, 10],\n",
       " [0, 0, 1, 0, 14, 5],\n",
       " [0, 0, 1, 0, 15, 0],\n",
       " [0, 0, 1, 1, 0, 65],\n",
       " [0, 0, 1, 1, 1, 60],\n",
       " [0, 0, 1, 1, 2, 55],\n",
       " [0, 0, 1, 1, 3, 50],\n",
       " [0, 0, 1, 1, 4, 45],\n",
       " [0, 0, 1, 1, 5, 40],\n",
       " [0, 0, 1, 1, 6, 35],\n",
       " [0, 0, 1, 1, 7, 30],\n",
       " [0, 0, 1, 1, 8, 25],\n",
       " [0, 0, 1, 1, 9, 20],\n",
       " [0, 0, 1, 1, 10, 15],\n",
       " [0, 0, 1, 1, 11, 10],\n",
       " [0, 0, 1, 1, 12, 5],\n",
       " [0, 0, 1, 1, 13, 0],\n",
       " [0, 0, 1, 2, 0, 55],\n",
       " [0, 0, 1, 2, 1, 50],\n",
       " [0, 0, 1, 2, 2, 45],\n",
       " [0, 0, 1, 2, 3, 40],\n",
       " [0, 0, 1, 2, 4, 35],\n",
       " [0, 0, 1, 2, 5, 30],\n",
       " [0, 0, 1, 2, 6, 25],\n",
       " [0, 0, 1, 2, 7, 20],\n",
       " [0, 0, 1, 2, 8, 15],\n",
       " [0, 0, 1, 2, 9, 10],\n",
       " [0, 0, 1, 2, 10, 5],\n",
       " [0, 0, 1, 2, 11, 0],\n",
       " [0, 0, 1, 3, 0, 45],\n",
       " [0, 0, 1, 3, 1, 40],\n",
       " [0, 0, 1, 3, 2, 35],\n",
       " [0, 0, 1, 3, 3, 30],\n",
       " [0, 0, 1, 3, 4, 25],\n",
       " [0, 0, 1, 3, 5, 20],\n",
       " [0, 0, 1, 3, 6, 15],\n",
       " [0, 0, 1, 3, 7, 10],\n",
       " [0, 0, 1, 3, 8, 5],\n",
       " [0, 0, 1, 3, 9, 0],\n",
       " [0, 0, 1, 4, 0, 35],\n",
       " [0, 0, 1, 4, 1, 30],\n",
       " [0, 0, 1, 4, 2, 25],\n",
       " [0, 0, 1, 4, 3, 20],\n",
       " [0, 0, 1, 4, 4, 15],\n",
       " [0, 0, 1, 4, 5, 10],\n",
       " [0, 0, 1, 4, 6, 5],\n",
       " [0, 0, 1, 4, 7, 0],\n",
       " [0, 0, 1, 5, 0, 25],\n",
       " [0, 0, 1, 5, 1, 20],\n",
       " [0, 0, 1, 5, 2, 15],\n",
       " [0, 0, 1, 5, 3, 10],\n",
       " [0, 0, 1, 5, 4, 5],\n",
       " [0, 0, 1, 5, 5, 0],\n",
       " [0, 0, 1, 6, 0, 15],\n",
       " [0, 0, 1, 6, 1, 10],\n",
       " [0, 0, 1, 6, 2, 5],\n",
       " [0, 0, 1, 6, 3, 0],\n",
       " [0, 0, 1, 7, 0, 5],\n",
       " [0, 0, 1, 7, 1, 0],\n",
       " [0, 0, 2, 0, 0, 50],\n",
       " [0, 0, 2, 0, 1, 45],\n",
       " [0, 0, 2, 0, 2, 40],\n",
       " [0, 0, 2, 0, 3, 35],\n",
       " [0, 0, 2, 0, 4, 30],\n",
       " [0, 0, 2, 0, 5, 25],\n",
       " [0, 0, 2, 0, 6, 20],\n",
       " [0, 0, 2, 0, 7, 15],\n",
       " [0, 0, 2, 0, 8, 10],\n",
       " [0, 0, 2, 0, 9, 5],\n",
       " [0, 0, 2, 0, 10, 0],\n",
       " [0, 0, 2, 1, 0, 40],\n",
       " [0, 0, 2, 1, 1, 35],\n",
       " [0, 0, 2, 1, 2, 30],\n",
       " [0, 0, 2, 1, 3, 25],\n",
       " [0, 0, 2, 1, 4, 20],\n",
       " [0, 0, 2, 1, 5, 15],\n",
       " [0, 0, 2, 1, 6, 10],\n",
       " [0, 0, 2, 1, 7, 5],\n",
       " [0, 0, 2, 1, 8, 0],\n",
       " [0, 0, 2, 2, 0, 30],\n",
       " [0, 0, 2, 2, 1, 25],\n",
       " [0, 0, 2, 2, 2, 20],\n",
       " [0, 0, 2, 2, 3, 15],\n",
       " [0, 0, 2, 2, 4, 10],\n",
       " [0, 0, 2, 2, 5, 5],\n",
       " [0, 0, 2, 2, 6, 0],\n",
       " [0, 0, 2, 3, 0, 20],\n",
       " [0, 0, 2, 3, 1, 15],\n",
       " [0, 0, 2, 3, 2, 10],\n",
       " [0, 0, 2, 3, 3, 5],\n",
       " [0, 0, 2, 3, 4, 0],\n",
       " [0, 0, 2, 4, 0, 10],\n",
       " [0, 0, 2, 4, 1, 5],\n",
       " [0, 0, 2, 4, 2, 0],\n",
       " [0, 0, 2, 5, 0, 0],\n",
       " [0, 0, 3, 0, 0, 25],\n",
       " [0, 0, 3, 0, 1, 20],\n",
       " [0, 0, 3, 0, 2, 15],\n",
       " [0, 0, 3, 0, 3, 10],\n",
       " [0, 0, 3, 0, 4, 5],\n",
       " [0, 0, 3, 0, 5, 0],\n",
       " [0, 0, 3, 1, 0, 15],\n",
       " [0, 0, 3, 1, 1, 10],\n",
       " [0, 0, 3, 1, 2, 5],\n",
       " [0, 0, 3, 1, 3, 0],\n",
       " [0, 0, 3, 2, 0, 5],\n",
       " [0, 0, 3, 2, 1, 0],\n",
       " [0, 0, 4, 0, 0, 0],\n",
       " [0, 1, 0, 0, 0, 50],\n",
       " [0, 1, 0, 0, 1, 45],\n",
       " [0, 1, 0, 0, 2, 40],\n",
       " [0, 1, 0, 0, 3, 35],\n",
       " [0, 1, 0, 0, 4, 30],\n",
       " [0, 1, 0, 0, 5, 25],\n",
       " [0, 1, 0, 0, 6, 20],\n",
       " [0, 1, 0, 0, 7, 15],\n",
       " [0, 1, 0, 0, 8, 10],\n",
       " [0, 1, 0, 0, 9, 5],\n",
       " [0, 1, 0, 0, 10, 0],\n",
       " [0, 1, 0, 1, 0, 40],\n",
       " [0, 1, 0, 1, 1, 35],\n",
       " [0, 1, 0, 1, 2, 30],\n",
       " [0, 1, 0, 1, 3, 25],\n",
       " [0, 1, 0, 1, 4, 20],\n",
       " [0, 1, 0, 1, 5, 15],\n",
       " [0, 1, 0, 1, 6, 10],\n",
       " [0, 1, 0, 1, 7, 5],\n",
       " [0, 1, 0, 1, 8, 0],\n",
       " [0, 1, 0, 2, 0, 30],\n",
       " [0, 1, 0, 2, 1, 25],\n",
       " [0, 1, 0, 2, 2, 20],\n",
       " [0, 1, 0, 2, 3, 15],\n",
       " [0, 1, 0, 2, 4, 10],\n",
       " [0, 1, 0, 2, 5, 5],\n",
       " [0, 1, 0, 2, 6, 0],\n",
       " [0, 1, 0, 3, 0, 20],\n",
       " [0, 1, 0, 3, 1, 15],\n",
       " [0, 1, 0, 3, 2, 10],\n",
       " [0, 1, 0, 3, 3, 5],\n",
       " [0, 1, 0, 3, 4, 0],\n",
       " [0, 1, 0, 4, 0, 10],\n",
       " [0, 1, 0, 4, 1, 5],\n",
       " [0, 1, 0, 4, 2, 0],\n",
       " [0, 1, 0, 5, 0, 0],\n",
       " [0, 1, 1, 0, 0, 25],\n",
       " [0, 1, 1, 0, 1, 20],\n",
       " [0, 1, 1, 0, 2, 15],\n",
       " [0, 1, 1, 0, 3, 10],\n",
       " [0, 1, 1, 0, 4, 5],\n",
       " [0, 1, 1, 0, 5, 0],\n",
       " [0, 1, 1, 1, 0, 15],\n",
       " [0, 1, 1, 1, 1, 10],\n",
       " [0, 1, 1, 1, 2, 5],\n",
       " [0, 1, 1, 1, 3, 0],\n",
       " [0, 1, 1, 2, 0, 5],\n",
       " [0, 1, 1, 2, 1, 0],\n",
       " [0, 1, 2, 0, 0, 0],\n",
       " [0, 2, 0, 0, 0, 0],\n",
       " [1, 0, 0, 0, 0, 0]]"
      ]
     },
     "execution_count": 6,
     "metadata": {},
     "output_type": "execute_result"
    }
   ],
   "source": [
    "combinations"
   ]
  },
  {
   "cell_type": "markdown",
   "metadata": {},
   "source": [
    "The first few combinations seem to check out fine. It turns out there are 293 ways to get a dollar out of change."
   ]
  },
  {
   "cell_type": "code",
   "execution_count": 9,
   "metadata": {},
   "outputs": [
    {
     "data": {
      "text/plain": [
       "293"
      ]
     },
     "execution_count": 9,
     "metadata": {},
     "output_type": "execute_result"
    }
   ],
   "source": [
    "len(combinations)"
   ]
  },
  {
   "cell_type": "markdown",
   "metadata": {},
   "source": [
    "That's the solution to the problem we posed.\n",
    "\n",
    "However, in data analysis it often happens that the solution raises a new question. For instance, how many ways to make _two_ dollars out of change? Or three? Does the number of combinations increase linearly or quadratically with the amount we're breaking up?\n",
    "\n",
    "What we need to do is to take the code we wrote, and _generalize_ it to answer those questions, creating a function (we may call it `find_combinations`) that will take a dollar amount in cents, and return all possible ways to make it."
   ]
  },
  {
   "cell_type": "markdown",
   "metadata": {},
   "source": [
    "Before we do so, we make a couple of changes to our code to make it faster, and to make it easier to generalize. This is an example of _refactoring_.\n",
    "\n",
    "The first change is that we will not loop by count, but _by value_, using the `step` argument of the range. For instance, instead of the loop"
   ]
  },
  {
   "cell_type": "code",
   "execution_count": 4,
   "metadata": {},
   "outputs": [
    {
     "name": "stdout",
     "output_type": "stream",
     "text": [
      "0\n",
      "1\n",
      "2\n",
      "3\n",
      "4\n"
     ]
    }
   ],
   "source": [
    "for count_25 in range(4+1):\n",
    "    print(count_25)"
   ]
  },
  {
   "cell_type": "markdown",
   "metadata": {},
   "source": [
    "we will write"
   ]
  },
  {
   "cell_type": "code",
   "execution_count": 3,
   "metadata": {},
   "outputs": [
    {
     "name": "stdout",
     "output_type": "stream",
     "text": [
      "0\n",
      "25\n",
      "50\n",
      "75\n",
      "100\n"
     ]
    }
   ],
   "source": [
    "for amount_25 in range(0, 100+1, 25):\n",
    "    print(amount_25)"
   ]
  },
  {
   "cell_type": "markdown",
   "metadata": {},
   "source": [
    "The second is to recognize that we don't actually need the innermost loop: as long as the total up to that point is less or equal than a dollar, we can always make up the difference with pennies. Therefore we write:"
   ]
  },
  {
   "cell_type": "code",
   "execution_count": 13,
   "metadata": {},
   "outputs": [],
   "source": [
    "combinations_amounts = []\n",
    "\n",
    "for amount_100 in range(0, 100+1, 100):\n",
    "    for amount_50 in range(0, 100+1, 50):\n",
    "        for amount_25 in range(0, 100+1, 25):\n",
    "            for amount_10 in range(0, 100+1, 10):\n",
    "                for amount_5 in range(0, 100+1, 5):\n",
    "                    total_so_far = amount_100 + amount_50 + amount_25 + amount_10 + amount_5\n",
    "                    \n",
    "                    if total_so_far <= 100:\n",
    "                        combinations_amounts.append([amount_100, amount_50, amount_25, amount_10, amount_5,\n",
    "                                                     100 - total_so_far])"
   ]
  },
  {
   "cell_type": "markdown",
   "metadata": {},
   "source": [
    "Looks alright."
   ]
  },
  {
   "cell_type": "code",
   "execution_count": 14,
   "metadata": {},
   "outputs": [
    {
     "data": {
      "text/plain": [
       "[[0, 0, 0, 0, 0, 100],\n",
       " [0, 0, 0, 0, 5, 95],\n",
       " [0, 0, 0, 0, 10, 90],\n",
       " [0, 0, 0, 0, 15, 85],\n",
       " [0, 0, 0, 0, 20, 80],\n",
       " [0, 0, 0, 0, 25, 75],\n",
       " [0, 0, 0, 0, 30, 70],\n",
       " [0, 0, 0, 0, 35, 65],\n",
       " [0, 0, 0, 0, 40, 60],\n",
       " [0, 0, 0, 0, 45, 55],\n",
       " [0, 0, 0, 0, 50, 50],\n",
       " [0, 0, 0, 0, 55, 45],\n",
       " [0, 0, 0, 0, 60, 40],\n",
       " [0, 0, 0, 0, 65, 35],\n",
       " [0, 0, 0, 0, 70, 30],\n",
       " [0, 0, 0, 0, 75, 25],\n",
       " [0, 0, 0, 0, 80, 20],\n",
       " [0, 0, 0, 0, 85, 15],\n",
       " [0, 0, 0, 0, 90, 10],\n",
       " [0, 0, 0, 0, 95, 5],\n",
       " [0, 0, 0, 0, 100, 0],\n",
       " [0, 0, 0, 10, 0, 90],\n",
       " [0, 0, 0, 10, 5, 85],\n",
       " [0, 0, 0, 10, 10, 80],\n",
       " [0, 0, 0, 10, 15, 75],\n",
       " [0, 0, 0, 10, 20, 70],\n",
       " [0, 0, 0, 10, 25, 65],\n",
       " [0, 0, 0, 10, 30, 60],\n",
       " [0, 0, 0, 10, 35, 55],\n",
       " [0, 0, 0, 10, 40, 50],\n",
       " [0, 0, 0, 10, 45, 45],\n",
       " [0, 0, 0, 10, 50, 40],\n",
       " [0, 0, 0, 10, 55, 35],\n",
       " [0, 0, 0, 10, 60, 30],\n",
       " [0, 0, 0, 10, 65, 25],\n",
       " [0, 0, 0, 10, 70, 20],\n",
       " [0, 0, 0, 10, 75, 15],\n",
       " [0, 0, 0, 10, 80, 10],\n",
       " [0, 0, 0, 10, 85, 5],\n",
       " [0, 0, 0, 10, 90, 0],\n",
       " [0, 0, 0, 20, 0, 80],\n",
       " [0, 0, 0, 20, 5, 75],\n",
       " [0, 0, 0, 20, 10, 70],\n",
       " [0, 0, 0, 20, 15, 65],\n",
       " [0, 0, 0, 20, 20, 60],\n",
       " [0, 0, 0, 20, 25, 55],\n",
       " [0, 0, 0, 20, 30, 50],\n",
       " [0, 0, 0, 20, 35, 45],\n",
       " [0, 0, 0, 20, 40, 40],\n",
       " [0, 0, 0, 20, 45, 35],\n",
       " [0, 0, 0, 20, 50, 30],\n",
       " [0, 0, 0, 20, 55, 25],\n",
       " [0, 0, 0, 20, 60, 20],\n",
       " [0, 0, 0, 20, 65, 15],\n",
       " [0, 0, 0, 20, 70, 10],\n",
       " [0, 0, 0, 20, 75, 5],\n",
       " [0, 0, 0, 20, 80, 0],\n",
       " [0, 0, 0, 30, 0, 70],\n",
       " [0, 0, 0, 30, 5, 65],\n",
       " [0, 0, 0, 30, 10, 60],\n",
       " [0, 0, 0, 30, 15, 55],\n",
       " [0, 0, 0, 30, 20, 50],\n",
       " [0, 0, 0, 30, 25, 45],\n",
       " [0, 0, 0, 30, 30, 40],\n",
       " [0, 0, 0, 30, 35, 35],\n",
       " [0, 0, 0, 30, 40, 30],\n",
       " [0, 0, 0, 30, 45, 25],\n",
       " [0, 0, 0, 30, 50, 20],\n",
       " [0, 0, 0, 30, 55, 15],\n",
       " [0, 0, 0, 30, 60, 10],\n",
       " [0, 0, 0, 30, 65, 5],\n",
       " [0, 0, 0, 30, 70, 0],\n",
       " [0, 0, 0, 40, 0, 60],\n",
       " [0, 0, 0, 40, 5, 55],\n",
       " [0, 0, 0, 40, 10, 50],\n",
       " [0, 0, 0, 40, 15, 45],\n",
       " [0, 0, 0, 40, 20, 40],\n",
       " [0, 0, 0, 40, 25, 35],\n",
       " [0, 0, 0, 40, 30, 30],\n",
       " [0, 0, 0, 40, 35, 25],\n",
       " [0, 0, 0, 40, 40, 20],\n",
       " [0, 0, 0, 40, 45, 15],\n",
       " [0, 0, 0, 40, 50, 10],\n",
       " [0, 0, 0, 40, 55, 5],\n",
       " [0, 0, 0, 40, 60, 0],\n",
       " [0, 0, 0, 50, 0, 50],\n",
       " [0, 0, 0, 50, 5, 45],\n",
       " [0, 0, 0, 50, 10, 40],\n",
       " [0, 0, 0, 50, 15, 35],\n",
       " [0, 0, 0, 50, 20, 30],\n",
       " [0, 0, 0, 50, 25, 25],\n",
       " [0, 0, 0, 50, 30, 20],\n",
       " [0, 0, 0, 50, 35, 15],\n",
       " [0, 0, 0, 50, 40, 10],\n",
       " [0, 0, 0, 50, 45, 5],\n",
       " [0, 0, 0, 50, 50, 0],\n",
       " [0, 0, 0, 60, 0, 40],\n",
       " [0, 0, 0, 60, 5, 35],\n",
       " [0, 0, 0, 60, 10, 30],\n",
       " [0, 0, 0, 60, 15, 25],\n",
       " [0, 0, 0, 60, 20, 20],\n",
       " [0, 0, 0, 60, 25, 15],\n",
       " [0, 0, 0, 60, 30, 10],\n",
       " [0, 0, 0, 60, 35, 5],\n",
       " [0, 0, 0, 60, 40, 0],\n",
       " [0, 0, 0, 70, 0, 30],\n",
       " [0, 0, 0, 70, 5, 25],\n",
       " [0, 0, 0, 70, 10, 20],\n",
       " [0, 0, 0, 70, 15, 15],\n",
       " [0, 0, 0, 70, 20, 10],\n",
       " [0, 0, 0, 70, 25, 5],\n",
       " [0, 0, 0, 70, 30, 0],\n",
       " [0, 0, 0, 80, 0, 20],\n",
       " [0, 0, 0, 80, 5, 15],\n",
       " [0, 0, 0, 80, 10, 10],\n",
       " [0, 0, 0, 80, 15, 5],\n",
       " [0, 0, 0, 80, 20, 0],\n",
       " [0, 0, 0, 90, 0, 10],\n",
       " [0, 0, 0, 90, 5, 5],\n",
       " [0, 0, 0, 90, 10, 0],\n",
       " [0, 0, 0, 100, 0, 0],\n",
       " [0, 0, 25, 0, 0, 75],\n",
       " [0, 0, 25, 0, 5, 70],\n",
       " [0, 0, 25, 0, 10, 65],\n",
       " [0, 0, 25, 0, 15, 60],\n",
       " [0, 0, 25, 0, 20, 55],\n",
       " [0, 0, 25, 0, 25, 50],\n",
       " [0, 0, 25, 0, 30, 45],\n",
       " [0, 0, 25, 0, 35, 40],\n",
       " [0, 0, 25, 0, 40, 35],\n",
       " [0, 0, 25, 0, 45, 30],\n",
       " [0, 0, 25, 0, 50, 25],\n",
       " [0, 0, 25, 0, 55, 20],\n",
       " [0, 0, 25, 0, 60, 15],\n",
       " [0, 0, 25, 0, 65, 10],\n",
       " [0, 0, 25, 0, 70, 5],\n",
       " [0, 0, 25, 0, 75, 0],\n",
       " [0, 0, 25, 10, 0, 65],\n",
       " [0, 0, 25, 10, 5, 60],\n",
       " [0, 0, 25, 10, 10, 55],\n",
       " [0, 0, 25, 10, 15, 50],\n",
       " [0, 0, 25, 10, 20, 45],\n",
       " [0, 0, 25, 10, 25, 40],\n",
       " [0, 0, 25, 10, 30, 35],\n",
       " [0, 0, 25, 10, 35, 30],\n",
       " [0, 0, 25, 10, 40, 25],\n",
       " [0, 0, 25, 10, 45, 20],\n",
       " [0, 0, 25, 10, 50, 15],\n",
       " [0, 0, 25, 10, 55, 10],\n",
       " [0, 0, 25, 10, 60, 5],\n",
       " [0, 0, 25, 10, 65, 0],\n",
       " [0, 0, 25, 20, 0, 55],\n",
       " [0, 0, 25, 20, 5, 50],\n",
       " [0, 0, 25, 20, 10, 45],\n",
       " [0, 0, 25, 20, 15, 40],\n",
       " [0, 0, 25, 20, 20, 35],\n",
       " [0, 0, 25, 20, 25, 30],\n",
       " [0, 0, 25, 20, 30, 25],\n",
       " [0, 0, 25, 20, 35, 20],\n",
       " [0, 0, 25, 20, 40, 15],\n",
       " [0, 0, 25, 20, 45, 10],\n",
       " [0, 0, 25, 20, 50, 5],\n",
       " [0, 0, 25, 20, 55, 0],\n",
       " [0, 0, 25, 30, 0, 45],\n",
       " [0, 0, 25, 30, 5, 40],\n",
       " [0, 0, 25, 30, 10, 35],\n",
       " [0, 0, 25, 30, 15, 30],\n",
       " [0, 0, 25, 30, 20, 25],\n",
       " [0, 0, 25, 30, 25, 20],\n",
       " [0, 0, 25, 30, 30, 15],\n",
       " [0, 0, 25, 30, 35, 10],\n",
       " [0, 0, 25, 30, 40, 5],\n",
       " [0, 0, 25, 30, 45, 0],\n",
       " [0, 0, 25, 40, 0, 35],\n",
       " [0, 0, 25, 40, 5, 30],\n",
       " [0, 0, 25, 40, 10, 25],\n",
       " [0, 0, 25, 40, 15, 20],\n",
       " [0, 0, 25, 40, 20, 15],\n",
       " [0, 0, 25, 40, 25, 10],\n",
       " [0, 0, 25, 40, 30, 5],\n",
       " [0, 0, 25, 40, 35, 0],\n",
       " [0, 0, 25, 50, 0, 25],\n",
       " [0, 0, 25, 50, 5, 20],\n",
       " [0, 0, 25, 50, 10, 15],\n",
       " [0, 0, 25, 50, 15, 10],\n",
       " [0, 0, 25, 50, 20, 5],\n",
       " [0, 0, 25, 50, 25, 0],\n",
       " [0, 0, 25, 60, 0, 15],\n",
       " [0, 0, 25, 60, 5, 10],\n",
       " [0, 0, 25, 60, 10, 5],\n",
       " [0, 0, 25, 60, 15, 0],\n",
       " [0, 0, 25, 70, 0, 5],\n",
       " [0, 0, 25, 70, 5, 0],\n",
       " [0, 0, 50, 0, 0, 50],\n",
       " [0, 0, 50, 0, 5, 45],\n",
       " [0, 0, 50, 0, 10, 40],\n",
       " [0, 0, 50, 0, 15, 35],\n",
       " [0, 0, 50, 0, 20, 30],\n",
       " [0, 0, 50, 0, 25, 25],\n",
       " [0, 0, 50, 0, 30, 20],\n",
       " [0, 0, 50, 0, 35, 15],\n",
       " [0, 0, 50, 0, 40, 10],\n",
       " [0, 0, 50, 0, 45, 5],\n",
       " [0, 0, 50, 0, 50, 0],\n",
       " [0, 0, 50, 10, 0, 40],\n",
       " [0, 0, 50, 10, 5, 35],\n",
       " [0, 0, 50, 10, 10, 30],\n",
       " [0, 0, 50, 10, 15, 25],\n",
       " [0, 0, 50, 10, 20, 20],\n",
       " [0, 0, 50, 10, 25, 15],\n",
       " [0, 0, 50, 10, 30, 10],\n",
       " [0, 0, 50, 10, 35, 5],\n",
       " [0, 0, 50, 10, 40, 0],\n",
       " [0, 0, 50, 20, 0, 30],\n",
       " [0, 0, 50, 20, 5, 25],\n",
       " [0, 0, 50, 20, 10, 20],\n",
       " [0, 0, 50, 20, 15, 15],\n",
       " [0, 0, 50, 20, 20, 10],\n",
       " [0, 0, 50, 20, 25, 5],\n",
       " [0, 0, 50, 20, 30, 0],\n",
       " [0, 0, 50, 30, 0, 20],\n",
       " [0, 0, 50, 30, 5, 15],\n",
       " [0, 0, 50, 30, 10, 10],\n",
       " [0, 0, 50, 30, 15, 5],\n",
       " [0, 0, 50, 30, 20, 0],\n",
       " [0, 0, 50, 40, 0, 10],\n",
       " [0, 0, 50, 40, 5, 5],\n",
       " [0, 0, 50, 40, 10, 0],\n",
       " [0, 0, 50, 50, 0, 0],\n",
       " [0, 0, 75, 0, 0, 25],\n",
       " [0, 0, 75, 0, 5, 20],\n",
       " [0, 0, 75, 0, 10, 15],\n",
       " [0, 0, 75, 0, 15, 10],\n",
       " [0, 0, 75, 0, 20, 5],\n",
       " [0, 0, 75, 0, 25, 0],\n",
       " [0, 0, 75, 10, 0, 15],\n",
       " [0, 0, 75, 10, 5, 10],\n",
       " [0, 0, 75, 10, 10, 5],\n",
       " [0, 0, 75, 10, 15, 0],\n",
       " [0, 0, 75, 20, 0, 5],\n",
       " [0, 0, 75, 20, 5, 0],\n",
       " [0, 0, 100, 0, 0, 0],\n",
       " [0, 50, 0, 0, 0, 50],\n",
       " [0, 50, 0, 0, 5, 45],\n",
       " [0, 50, 0, 0, 10, 40],\n",
       " [0, 50, 0, 0, 15, 35],\n",
       " [0, 50, 0, 0, 20, 30],\n",
       " [0, 50, 0, 0, 25, 25],\n",
       " [0, 50, 0, 0, 30, 20],\n",
       " [0, 50, 0, 0, 35, 15],\n",
       " [0, 50, 0, 0, 40, 10],\n",
       " [0, 50, 0, 0, 45, 5],\n",
       " [0, 50, 0, 0, 50, 0],\n",
       " [0, 50, 0, 10, 0, 40],\n",
       " [0, 50, 0, 10, 5, 35],\n",
       " [0, 50, 0, 10, 10, 30],\n",
       " [0, 50, 0, 10, 15, 25],\n",
       " [0, 50, 0, 10, 20, 20],\n",
       " [0, 50, 0, 10, 25, 15],\n",
       " [0, 50, 0, 10, 30, 10],\n",
       " [0, 50, 0, 10, 35, 5],\n",
       " [0, 50, 0, 10, 40, 0],\n",
       " [0, 50, 0, 20, 0, 30],\n",
       " [0, 50, 0, 20, 5, 25],\n",
       " [0, 50, 0, 20, 10, 20],\n",
       " [0, 50, 0, 20, 15, 15],\n",
       " [0, 50, 0, 20, 20, 10],\n",
       " [0, 50, 0, 20, 25, 5],\n",
       " [0, 50, 0, 20, 30, 0],\n",
       " [0, 50, 0, 30, 0, 20],\n",
       " [0, 50, 0, 30, 5, 15],\n",
       " [0, 50, 0, 30, 10, 10],\n",
       " [0, 50, 0, 30, 15, 5],\n",
       " [0, 50, 0, 30, 20, 0],\n",
       " [0, 50, 0, 40, 0, 10],\n",
       " [0, 50, 0, 40, 5, 5],\n",
       " [0, 50, 0, 40, 10, 0],\n",
       " [0, 50, 0, 50, 0, 0],\n",
       " [0, 50, 25, 0, 0, 25],\n",
       " [0, 50, 25, 0, 5, 20],\n",
       " [0, 50, 25, 0, 10, 15],\n",
       " [0, 50, 25, 0, 15, 10],\n",
       " [0, 50, 25, 0, 20, 5],\n",
       " [0, 50, 25, 0, 25, 0],\n",
       " [0, 50, 25, 10, 0, 15],\n",
       " [0, 50, 25, 10, 5, 10],\n",
       " [0, 50, 25, 10, 10, 5],\n",
       " [0, 50, 25, 10, 15, 0],\n",
       " [0, 50, 25, 20, 0, 5],\n",
       " [0, 50, 25, 20, 5, 0],\n",
       " [0, 50, 50, 0, 0, 0],\n",
       " [0, 100, 0, 0, 0, 0],\n",
       " [100, 0, 0, 0, 0, 0]]"
      ]
     },
     "execution_count": 14,
     "metadata": {},
     "output_type": "execute_result"
    }
   ],
   "source": [
    "combinations_amounts"
   ]
  },
  {
   "cell_type": "code",
   "execution_count": 16,
   "metadata": {},
   "outputs": [
    {
     "data": {
      "text/plain": [
       "293"
      ]
     },
     "execution_count": 16,
     "metadata": {},
     "output_type": "execute_result"
    }
   ],
   "source": [
    "len(combinations_amounts) "
   ]
  },
  {
   "cell_type": "markdown",
   "metadata": {},
   "source": [
    "We are almost done! Now we can take our code and make it into the function `combinations` by replacing the value 100 everywhere with a variable argument. We also wrap our computation with `def` and `return` statements, so it becomes a function."
   ]
  },
  {
   "cell_type": "code",
   "execution_count": 19,
   "metadata": {},
   "outputs": [],
   "source": [
    "# [copy code from above]\n",
    "\n",
    "def find_combinations(total):\n",
    "    combinations_amounts = []\n",
    "\n",
    "    for amount_100 in range(0, total+1, 100):\n",
    "        for amount_50 in range(0, total+1, 50):\n",
    "            for amount_25 in range(0, total+1, 25):\n",
    "                for amount_10 in range(0, total+1, 10):\n",
    "                    for amount_5 in range(0, total+1, 5):\n",
    "                        total_so_far = amount_100 + amount_50 + amount_25 + amount_10 + amount_5\n",
    "\n",
    "                        if total_so_far <= total:\n",
    "                            combinations_amounts.append([amount_100, amount_50, amount_25, amount_10, amount_5,\n",
    "                                                         total - total_so_far])\n",
    "    \n",
    "    return combinations_amounts"
   ]
  },
  {
   "cell_type": "markdown",
   "metadata": {},
   "source": [
    "Here we go! Let's see how we can make 2 and 3 dollars."
   ]
  },
  {
   "cell_type": "code",
   "execution_count": 21,
   "metadata": {},
   "outputs": [
    {
     "data": {
      "text/plain": [
       "2728"
      ]
     },
     "execution_count": 21,
     "metadata": {},
     "output_type": "execute_result"
    }
   ],
   "source": [
    "len(find_combinations(200))"
   ]
  },
  {
   "cell_type": "code",
   "execution_count": 22,
   "metadata": {},
   "outputs": [
    {
     "data": {
      "text/plain": [
       "12318"
      ]
     },
     "execution_count": 22,
     "metadata": {},
     "output_type": "execute_result"
    }
   ],
   "source": [
    "len(find_combinations(300))"
   ]
  },
  {
   "cell_type": "markdown",
   "metadata": {},
   "source": [
    "You may be curious to know how fast this number grows. A matplotlib plot should give us an idea."
   ]
  },
  {
   "cell_type": "code",
   "execution_count": 32,
   "metadata": {},
   "outputs": [],
   "source": [
    "totals = range(100, 600, 100)\n",
    "lengths = [len(find_combinations(total)) for total in totals]"
   ]
  },
  {
   "cell_type": "code",
   "execution_count": 34,
   "metadata": {},
   "outputs": [
    {
     "data": {
      "text/plain": [
       "[<matplotlib.lines.Line2D at 0x1274f7160>]"
      ]
     },
     "execution_count": 34,
     "metadata": {},
     "output_type": "execute_result"
    },
    {
     "data": {
      "image/png": "[encoded data removed]",
      "text/plain": [
       "<Figure size 432x288 with 1 Axes>"
      ]
     },
     "metadata": {
      "needs_background": "light"
     },
     "output_type": "display_data"
    }
   ],
   "source": [
    "pp.plot(totals, lengths)"
   ]
  },
  {
   "cell_type": "markdown",
   "metadata": {},
   "source": [
    "In fact, the number grows approximately as the fifth power of the total."
   ]
  }
 ],
 "metadata": {
  "kernelspec": {
   "display_name": "Python 3 (ipykernel)",
   "language": "python",
   "name": "python3"
  },
  "language_info": {
   "codemirror_mode": {
    "name": "ipython",
    "version": 3
   },
   "file_extension": ".py",
   "mimetype": "text/x-python",
   "name": "python",
   "nbconvert_exporter": "python",
   "pygments_lexer": "ipython3",
   "version": "3.12.3"
  }
 },
 "nbformat": 4,
 "nbformat_minor": 4
}
