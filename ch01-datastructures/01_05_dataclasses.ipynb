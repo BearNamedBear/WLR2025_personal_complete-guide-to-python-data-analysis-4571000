{
 "cells": [
  {
   "cell_type": "markdown",
   "metadata": {},
   "source": [
    "# 01_05: Data classes"
   ]
  },
  {
   "cell_type": "code",
   "execution_count": 128,
   "metadata": {},
   "outputs": [],
   "source": [
    "import math\n",
    "import collections\n",
    "import dataclasses\n",
    "import datetime\n",
    "\n",
    "import numpy as np\n",
    "import pandas as pd\n",
    "import matplotlib.pyplot as pp"
   ]
  },
  {
   "cell_type": "markdown",
   "metadata": {},
   "source": [
    "Let us look at Python data structures from the perspective of a data scientist or data analyst. What are the options to store _tabular_ data, such as a table of famous people with their names and birthdays?"
   ]
  },
  {
   "cell_type": "markdown",
   "metadata": {},
   "source": [
    "<table>\n",
    "<tr><th>name</th><th>lastname</th><th>birthday</th></tr>\n",
    "<tr><td>Michele</td><td>Vallisneri</td><td>July 15</td></tr>\n",
    "<tr><td>Albert</td><td>Einstein</td><td>March 14</td></tr>\n",
    "<tr><td>John</td><td>Lennon</td><td>October 9</td></tr>\n",
    "<tr><td>Jocelyn</td><td>Bell Burnell</td><td>July 15</td></tr>\n",
    "</table>"
   ]
  },
  {
   "cell_type": "markdown",
   "metadata": {},
   "source": [
    "A list of Python dicts is certainly a possibility: it's easy to access the columns by their key, and to query the rows using comprehensions."
   ]
  },
  {
   "cell_type": "code",
   "execution_count": 3,
   "metadata": {},
   "outputs": [],
   "source": [
    "peopledict = [{\"name\": \"Michele\", \"lastname\": \"Vallisneri\",   \"birthday\": \"July 15\"},\n",
    "              {\"name\": \"Albert\",  \"lastname\": \"Einstein\",     \"birthday\": \"March 14\"},\n",
    "              {\"name\": \"John\",    \"lastname\": \"Lennon\",       \"birthday\": \"October 9\"},\n",
    "              {\"name\": \"Jocelyn\", \"lastname\": \"Bell Burnell\", \"birthday\": \"July 15\"}]"
   ]
  },
  {
   "cell_type": "code",
   "execution_count": 4,
   "metadata": {},
   "outputs": [
    {
     "data": {
      "text/plain": [
       "[{'name': 'Michele', 'lastname': 'Vallisneri', 'birthday': 'July 15'},\n",
       " {'name': 'Jocelyn', 'lastname': 'Bell Burnell', 'birthday': 'July 15'}]"
      ]
     },
     "execution_count": 4,
     "metadata": {},
     "output_type": "execute_result"
    }
   ],
   "source": [
    "[person for person in peopledict if person[\"birthday\"] == \"July 15\"]"
   ]
  },
  {
   "cell_type": "markdown",
   "metadata": {},
   "source": [
    "However dicts are fairly wasteful because the keys need to be repeated for every row.\n",
    "\n",
    "Another possibilities are `tuple`s, or even better the `namedtuple`s from the `collections` module in the Python standard binary. With these, we create a specialized tuple that associates labels with columns."
   ]
  },
  {
   "cell_type": "code",
   "execution_count": 43,
   "metadata": {},
   "outputs": [],
   "source": [
    "Person = collections.namedtuple(\"Person\", [\"name\", \"lastname\", \"birthday\"])"
   ]
  },
  {
   "cell_type": "markdown",
   "metadata": {},
   "source": [
    "The syntax to create a `person` is intuitive:"
   ]
  },
  {
   "cell_type": "code",
   "execution_count": 29,
   "metadata": {},
   "outputs": [
    {
     "data": {
      "text/plain": [
       "Person(name='Michele', lastname='Vallisneri', birthday='July 15')"
      ]
     },
     "execution_count": 29,
     "metadata": {},
     "output_type": "execute_result"
    }
   ],
   "source": [
    "Person(name='Michele', lastname='Vallisneri', birthday='July 15')"
   ]
  },
  {
   "cell_type": "markdown",
   "metadata": {},
   "source": [
    "...although we can also omit the labels:"
   ]
  },
  {
   "cell_type": "code",
   "execution_count": 31,
   "metadata": {},
   "outputs": [],
   "source": [
    "peopletuples = [Person(\"Michele\", \"Vallisneri\", \"July 15\"),\n",
    "                Person(\"Albert\", \"Einstein\", \"March 14\"),\n",
    "                Person(\"John\", \"Lennon\", \"October 9\"),\n",
    "                Person(\"Jocelyn\", \"Bell Burnell\", \"July 15\")]"
   ]
  },
  {
   "cell_type": "markdown",
   "metadata": {},
   "source": [
    "The columns can be accessed with the dot notation of Python object attributes, although regular tuple indices would also work."
   ]
  },
  {
   "cell_type": "code",
   "execution_count": 32,
   "metadata": {},
   "outputs": [
    {
     "data": {
      "text/plain": [
       "[Person(name='John', lastname='Lennon', birthday='October 9')]"
      ]
     },
     "execution_count": 32,
     "metadata": {},
     "output_type": "execute_result"
    }
   ],
   "source": [
    "[person for person in peopletuples if person.lastname == \"Lennon\"]"
   ]
  },
  {
   "cell_type": "markdown",
   "metadata": {},
   "source": [
    "We can convert from and to a dictionary using double-star unpacking and the `namedtuple` method `_asdict`. The underscore is there to avoid confusion in case you _really_ want to use `asdict` as a label."
   ]
  },
  {
   "cell_type": "code",
   "execution_count": 38,
   "metadata": {},
   "outputs": [
    {
     "data": {
      "text/plain": [
       "Person(name='Jocelyn', lastname='Bell Burnell', birthday='July 15')"
      ]
     },
     "execution_count": 38,
     "metadata": {},
     "output_type": "execute_result"
    }
   ],
   "source": [
    "Person(**peopledict[3])"
   ]
  },
  {
   "cell_type": "code",
   "execution_count": 39,
   "metadata": {},
   "outputs": [
    {
     "data": {
      "text/plain": [
       "{'name': 'Jocelyn', 'lastname': 'Bell Burnell', 'birthday': 'July 15'}"
      ]
     },
     "execution_count": 39,
     "metadata": {},
     "output_type": "execute_result"
    }
   ],
   "source": [
    "peopletuples[3]._asdict()"
   ]
  },
  {
   "cell_type": "markdown",
   "metadata": {},
   "source": [
    "Python 3.7 introduced an alternative to tuples and dicts for storing data records, _data classes_, in the module `dataclasses`.\n",
    "\n",
    "This is how we would set up a `person` record with `name`, `lastname`, and `birthday`. We specify the Python type of each field, and we can also set a default value."
   ]
  },
  {
   "cell_type": "code",
   "execution_count": 67,
   "metadata": {},
   "outputs": [],
   "source": [
    "@dataclasses.dataclass\n",
    "class Persondata:\n",
    "    name: str\n",
    "    lastname: str\n",
    "    birthday: str = \"unknown\""
   ]
  },
  {
   "cell_type": "markdown",
   "metadata": {},
   "source": [
    "The syntax is that of a Python `class`, but we have added the _class decorator_ `@dataclass` at the top, and _type annotations_ for each field."
   ]
  },
  {
   "cell_type": "markdown",
   "metadata": {},
   "source": [
    "Again, the syntax is intuitive, using or omitting keywords"
   ]
  },
  {
   "cell_type": "code",
   "execution_count": 91,
   "metadata": {},
   "outputs": [],
   "source": [
    "peopledata = [Persondata(name=\"Michele\", lastname=\"Vallisneri\", birthday=\"July 15\"),\n",
    "              Persondata(\"Albert\", \"Einstein\", \"March 14\"),\n",
    "              Persondata(\"John\", \"Lennon\", \"October 9\"),\n",
    "              Persondata(\"Jocelyn\", \"Bell Burnell\", \"July 15\")]"
   ]
  },
  {
   "cell_type": "markdown",
   "metadata": {},
   "source": [
    "...and we access fields by name:"
   ]
  },
  {
   "cell_type": "code",
   "execution_count": 52,
   "metadata": {},
   "outputs": [
    {
     "data": {
      "text/plain": [
       "[Persondata(name='Albert', lastname='Einstein', birthday='March 14'),\n",
       " Persondata(name='John', lastname='Lennon', birthday='October 9')]"
      ]
     },
     "execution_count": 52,
     "metadata": {},
     "output_type": "execute_result"
    }
   ],
   "source": [
    "[person for person in peopledata if person.birthday != \"July 15\"]"
   ]
  },
  {
   "cell_type": "markdown",
   "metadata": {},
   "source": [
    "So far this is very similar to `namedtuple`. However data classes are full Python classes, so we can define methods that operate on the fields: for instance, a method that returns a person's full name, or a prettier printout:"
   ]
  },
  {
   "cell_type": "code",
   "execution_count": 72,
   "metadata": {},
   "outputs": [],
   "source": [
    "@dataclasses.dataclass\n",
    "class Persondata:\n",
    "    name: str\n",
    "    lastname: str\n",
    "    birthday: str = \"unknown\"\n",
    "    \n",
    "    # when writing class methods, \"self\" refers to instances\n",
    "    def fullname(self):\n",
    "        return self.name + \" \" + self.lastname\n",
    "\n",
    "    # the special method __str__ overrides the standard printout\n",
    "    def __str__(self):\n",
    "        return self.lastname + \", \" + self.name + \", born \" + self.birthday"
   ]
  },
  {
   "cell_type": "code",
   "execution_count": 61,
   "metadata": {},
   "outputs": [],
   "source": [
    "michele = Persondata('Michele', 'Vallisneri', 'July 15')"
   ]
  },
  {
   "cell_type": "code",
   "execution_count": 62,
   "metadata": {},
   "outputs": [
    {
     "data": {
      "text/plain": [
       "'Michele Vallisneri'"
      ]
     },
     "execution_count": 62,
     "metadata": {},
     "output_type": "execute_result"
    }
   ],
   "source": [
    "michele.fullname()"
   ]
  },
  {
   "cell_type": "code",
   "execution_count": 65,
   "metadata": {},
   "outputs": [
    {
     "name": "stdout",
     "output_type": "stream",
     "text": [
      "Vallisneri, Michele born July 15\n"
     ]
    }
   ],
   "source": [
    "print(michele)"
   ]
  },
  {
   "cell_type": "markdown",
   "metadata": {},
   "source": [
    "Data classes have a number of other useful features, such as freezing (columns cannot be changed), sorting (by comparing fields in order, or with a custom \"less than\" function, computed fields\n",
    "\n",
    "I encourage you to stop the video here for a moment and experiment with these variants."
   ]
  },
  {
   "cell_type": "code",
   "execution_count": 109,
   "metadata": {},
   "outputs": [],
   "source": [
    "@dataclasses.dataclass(frozen = True)\n",
    "class Persondata_frozen:\n",
    "    name: str\n",
    "    lastname: str\n",
    "    birthday: str = \"unknown\"\n",
    "\n",
    "\n",
    "@dataclasses.dataclass(order = True)\n",
    "class Persondata_ordered:\n",
    "    name: str\n",
    "    lastname: str\n",
    "    birthday: str = \"unknown\"\n",
    "\n",
    "\n",
    "@dataclasses.dataclass\n",
    "class Persondata_customorder:\n",
    "    name: str\n",
    "    lastname: str\n",
    "    birthday: str = \"unknown\"\n",
    "\n",
    "    # custom \"less than\" comparison\n",
    "    def __lt__(self, other):       \n",
    "        return (self.lastname, self.name, self.birthday) < (other.lastname, other.name, other.birthday)\n",
    "\n",
    "\n",
    "@dataclasses.dataclass\n",
    "class Persondata_computed:\n",
    "    name: str\n",
    "    lastname: str\n",
    "    birthday: str = \"unknown\"\n",
    "    fullname: str = dataclasses.field(init=False) # will compute it below\n",
    "\n",
    "    def __post_init__(self):\n",
    "        self.fullname = self.name + \" \" + self.lastname"
   ]
  },
  {
   "cell_type": "markdown",
   "metadata": {},
   "source": [
    "One thing we haven't seen is how the _type_ of a field (such as `str`) is used with dataclasses. In fact, by default it is _not_. But it is made available to third-party packages to validate data entry. An excellent package for that purpose is `pydantic`."
   ]
  },
  {
   "cell_type": "code",
   "execution_count": 118,
   "metadata": {},
   "outputs": [],
   "source": [
    "import pydantic"
   ]
  },
  {
   "cell_type": "markdown",
   "metadata": {},
   "source": [
    "We replace the standard `dataclasses.dataclass` constructor with its equivalent in `pydantic`. We also write a custom validator for the birthday, which will try to convert it to a Python `datetime` object, and raise an exception if not"
   ]
  },
  {
   "cell_type": "code",
   "execution_count": 149,
   "metadata": {},
   "outputs": [],
   "source": [
    "@pydantic.dataclasses.dataclass\n",
    "class Persondata_pydantic:\n",
    "    name: str\n",
    "    lastname: str\n",
    "    birthday: str = \"unknown\"\n",
    "\n",
    "    @pydantic.field_validator(\"birthday\")\n",
    "    def validate_date(cls, value): # a class method, so first argument is the class \n",
    "        \n",
    "        # will fail if date is not \"MONTHNAME DAYNUMBER\" \n",
    "        datetime.datetime.strptime(value, \"%B %d\")\n",
    "        \n",
    "        return value"
   ]
  },
  {
   "cell_type": "markdown",
   "metadata": {},
   "source": [
    "Now we would get an error if we try to create this dataclass with a name that is not a string, or a date that does not match our template."
   ]
  },
  {
   "cell_type": "code",
   "execution_count": 153,
   "metadata": {},
   "outputs": [
    {
     "ename": "ValidationError",
     "evalue": "1 validation error for Persondata_pydantic\n1\n  Input should be a valid string [type=string_type, input_value=15, input_type=int]\n    For further information visit https://errors.pydantic.dev/2.8/v/string_type",
     "output_type": "error",
     "traceback": [
      "\u001b[0;31m---------------------------------------------------------------------------\u001b[0m",
      "\u001b[0;31mValidationError\u001b[0m                           Traceback (most recent call last)",
      "Cell \u001b[0;32mIn[153], line 1\u001b[0m\n\u001b[0;32m----> 1\u001b[0m \u001b[43mPersondata_pydantic\u001b[49m\u001b[43m(\u001b[49m\u001b[38;5;124;43m\"\u001b[39;49m\u001b[38;5;124;43mMichele\u001b[39;49m\u001b[38;5;124;43m\"\u001b[39;49m\u001b[43m,\u001b[49m\u001b[43m \u001b[49m\u001b[38;5;241;43m15\u001b[39;49m\u001b[43m,\u001b[49m\u001b[43m \u001b[49m\u001b[38;5;124;43m\"\u001b[39;49m\u001b[38;5;124;43mJuly 15\u001b[39;49m\u001b[38;5;124;43m\"\u001b[39;49m\u001b[43m)\u001b[49m\n",
      "File \u001b[0;32m~/miniforge3/envs/nanograv/lib/python3.12/site-packages/pydantic/_internal/_dataclasses.py:141\u001b[0m, in \u001b[0;36mcomplete_dataclass.<locals>.__init__\u001b[0;34m(__dataclass_self__, *args, **kwargs)\u001b[0m\n\u001b[1;32m    139\u001b[0m __tracebackhide__ \u001b[38;5;241m=\u001b[39m \u001b[38;5;28;01mTrue\u001b[39;00m\n\u001b[1;32m    140\u001b[0m s \u001b[38;5;241m=\u001b[39m __dataclass_self__\n\u001b[0;32m--> 141\u001b[0m \u001b[43ms\u001b[49m\u001b[38;5;241;43m.\u001b[39;49m\u001b[43m__pydantic_validator__\u001b[49m\u001b[38;5;241;43m.\u001b[39;49m\u001b[43mvalidate_python\u001b[49m\u001b[43m(\u001b[49m\u001b[43mArgsKwargs\u001b[49m\u001b[43m(\u001b[49m\u001b[43margs\u001b[49m\u001b[43m,\u001b[49m\u001b[43m \u001b[49m\u001b[43mkwargs\u001b[49m\u001b[43m)\u001b[49m\u001b[43m,\u001b[49m\u001b[43m \u001b[49m\u001b[43mself_instance\u001b[49m\u001b[38;5;241;43m=\u001b[39;49m\u001b[43ms\u001b[49m\u001b[43m)\u001b[49m\n",
      "\u001b[0;31mValidationError\u001b[0m: 1 validation error for Persondata_pydantic\n1\n  Input should be a valid string [type=string_type, input_value=15, input_type=int]\n    For further information visit https://errors.pydantic.dev/2.8/v/string_type"
     ]
    }
   ],
   "source": [
    "Persondata_pydantic(\"Michele\", 15, \"July 15\")"
   ]
  },
  {
   "cell_type": "code",
   "execution_count": 154,
   "metadata": {},
   "outputs": [
    {
     "ename": "ValidationError",
     "evalue": "1 validation error for Persondata_pydantic\n2\n  Value error, time data '7/15' does not match format '%B %d' [type=value_error, input_value='7/15', input_type=str]\n    For further information visit https://errors.pydantic.dev/2.8/v/value_error",
     "output_type": "error",
     "traceback": [
      "\u001b[0;31m---------------------------------------------------------------------------\u001b[0m",
      "\u001b[0;31mValidationError\u001b[0m                           Traceback (most recent call last)",
      "Cell \u001b[0;32mIn[154], line 1\u001b[0m\n\u001b[0;32m----> 1\u001b[0m \u001b[43mPersondata_pydantic\u001b[49m\u001b[43m(\u001b[49m\u001b[38;5;124;43m'\u001b[39;49m\u001b[38;5;124;43mMichele\u001b[39;49m\u001b[38;5;124;43m'\u001b[39;49m\u001b[43m,\u001b[49m\u001b[43m \u001b[49m\u001b[38;5;124;43m\"\u001b[39;49m\u001b[38;5;124;43mVallisneri\u001b[39;49m\u001b[38;5;124;43m\"\u001b[39;49m\u001b[43m,\u001b[49m\u001b[43m \u001b[49m\u001b[38;5;124;43m\"\u001b[39;49m\u001b[38;5;124;43m7/15\u001b[39;49m\u001b[38;5;124;43m\"\u001b[39;49m\u001b[43m)\u001b[49m\n",
      "File \u001b[0;32m~/miniforge3/envs/nanograv/lib/python3.12/site-packages/pydantic/_internal/_dataclasses.py:141\u001b[0m, in \u001b[0;36mcomplete_dataclass.<locals>.__init__\u001b[0;34m(__dataclass_self__, *args, **kwargs)\u001b[0m\n\u001b[1;32m    139\u001b[0m __tracebackhide__ \u001b[38;5;241m=\u001b[39m \u001b[38;5;28;01mTrue\u001b[39;00m\n\u001b[1;32m    140\u001b[0m s \u001b[38;5;241m=\u001b[39m __dataclass_self__\n\u001b[0;32m--> 141\u001b[0m \u001b[43ms\u001b[49m\u001b[38;5;241;43m.\u001b[39;49m\u001b[43m__pydantic_validator__\u001b[49m\u001b[38;5;241;43m.\u001b[39;49m\u001b[43mvalidate_python\u001b[49m\u001b[43m(\u001b[49m\u001b[43mArgsKwargs\u001b[49m\u001b[43m(\u001b[49m\u001b[43margs\u001b[49m\u001b[43m,\u001b[49m\u001b[43m \u001b[49m\u001b[43mkwargs\u001b[49m\u001b[43m)\u001b[49m\u001b[43m,\u001b[49m\u001b[43m \u001b[49m\u001b[43mself_instance\u001b[49m\u001b[38;5;241;43m=\u001b[39;49m\u001b[43ms\u001b[49m\u001b[43m)\u001b[49m\n",
      "\u001b[0;31mValidationError\u001b[0m: 1 validation error for Persondata_pydantic\n2\n  Value error, time data '7/15' does not match format '%B %d' [type=value_error, input_value='7/15', input_type=str]\n    For further information visit https://errors.pydantic.dev/2.8/v/value_error"
     ]
    }
   ],
   "source": [
    "Persondata_pydantic('Michele', \"Vallisneri\", \"7/15\")"
   ]
  },
  {
   "cell_type": "markdown",
   "metadata": {},
   "source": [
    "`pydantic` is a very sophisticated and powerful package with many features. It is also compatible with many data analysis and data science packages.\n",
    "\n",
    "If your project requires substantial data validation, it will pay to dig into `pydantic`."
   ]
  }
 ],
 "metadata": {
  "kernelspec": {
   "display_name": "Python 3 (ipykernel)",
   "language": "python",
   "name": "python3"
  },
  "language_info": {
   "codemirror_mode": {
    "name": "ipython",
    "version": 3
   },
   "file_extension": ".py",
   "mimetype": "text/x-python",
   "name": "python",
   "nbconvert_exporter": "python",
   "pygments_lexer": "ipython3",
   "version": "3.11.5"
  }
 },
 "nbformat": 4,
 "nbformat_minor": 4
}
