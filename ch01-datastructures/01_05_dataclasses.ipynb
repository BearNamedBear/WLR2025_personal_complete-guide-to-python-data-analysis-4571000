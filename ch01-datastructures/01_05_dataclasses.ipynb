{
 "cells": [
  {
   "cell_type": "markdown",
   "metadata": {},
   "source": [
    "# 01_05: Data classes"
   ]
  },
  {
   "cell_type": "markdown",
   "metadata": {},
   "source": [
    "Let us look at Python data structures from the persepctive of a data scientist or a data analyst. What are the options to store tabular data, such as a table of famous people with their names and birthdays? "
   ]
  },
  {
   "cell_type": "code",
   "execution_count": 1,
   "metadata": {},
   "outputs": [],
   "source": [
    "import math\n",
    "import collections\n",
    "import dataclasses\n",
    "import datetime\n",
    "\n",
    "import numpy as np\n",
    "import pandas as pd\n",
    "import matplotlib.pyplot as pp"
   ]
  },
  {
   "cell_type": "markdown",
   "metadata": {},
   "source": [
    "<table>\n",
    "<tr><th>name</th><th>lastname</th><th>birthday</th></tr>\n",
    "<tr><td>Michele</td><td>Vallisneri</td><td>July 15</td></tr>\n",
    "<tr><td>Albert</td><td>Einstein</td><td>March 14</td></tr>\n",
    "<tr><td>John</td><td>Lennon</td><td>October 9</td></tr>\n",
    "<tr><td>Jocelyn</td><td>Bell Burnell</td><td>July 15</td></tr>\n",
    "</table>"
   ]
  },
  {
   "cell_type": "markdown",
   "metadata": {},
   "source": [
    "A list of Python dicts is certainly a possibility. It's certainly easy to access the columns by the key and to query the rows using comprehensions. For instance, famous people with a birthday on July 15th"
   ]
  },
  {
   "cell_type": "code",
   "execution_count": null,
   "metadata": {},
   "outputs": [],
   "source": [
    "#store each person and their info in an individual dict\n",
    "peopledict = [{\"name\": \"Michele\", \"lastname\": \"Vallisneri\",   \"birthday\": \"July 15\"},\n",
    "              {\"name\": \"Albert\",  \"lastname\": \"Einstein\",     \"birthday\": \"March 14\"},\n",
    "              {\"name\": \"John\",    \"lastname\": \"Lennon\",       \"birthday\": \"October 9\"},\n",
    "              {\"name\": \"Jocelyn\", \"lastname\": \"Bell Burnell\", \"birthday\": \"July 15\"}]"
   ]
  },
  {
   "cell_type": "code",
   "execution_count": 3,
   "metadata": {},
   "outputs": [
    {
     "data": {
      "text/plain": [
       "[{'name': 'Michele', 'lastname': 'Vallisneri', 'birthday': 'July 15'},\n",
       " {'name': 'Jocelyn', 'lastname': 'Bell Burnell', 'birthday': 'July 15'}]"
      ]
     },
     "execution_count": 3,
     "metadata": {},
     "output_type": "execute_result"
    }
   ],
   "source": [
    "#find those whose names line up with the birthday we're looking for by iterating through entry and returning each whose birthday is on July 15th\n",
    "[person for person in peopledict if person[\"birthday\"] == \"July 15\"]"
   ]
  },
  {
   "cell_type": "code",
   "execution_count": 4,
   "metadata": {},
   "outputs": [],
   "source": [
    "#ANother possibility lies in tuples, or, even betterm the namedtuples from the collections module in the Python starter library.\n",
    "#With these we can create a specialized tuple that associates labels with columns\n",
    "Person = collections.namedtuple(\"Person\", [\"name\", \"lastname\", \"birthday\"])"
   ]
  },
  {
   "cell_type": "code",
   "execution_count": null,
   "metadata": {},
   "outputs": [],
   "source": [
    "# The syntax to create a person like this is intuitive. We can also meet the labels\n",
    "Person(name='Michele', lastname='Vallisneri', birthday='July 15')"
   ]
  },
  {
   "cell_type": "code",
   "execution_count": 6,
   "metadata": {},
   "outputs": [],
   "source": [
    "peopletuples = [Person(\"Michele\", \"Vallisneri\", \"July 15\"),\n",
    "                Person(\"Albert\", \"Einstein\", \"March 14\"),\n",
    "                Person(\"John\", \"Lennon\", \"October 9\"),\n",
    "                Person(\"Jocelyn\", \"Bell Burnell\", \"July 15\")]"
   ]
  },
  {
   "cell_type": "code",
   "execution_count": 7,
   "metadata": {},
   "outputs": [
    {
     "data": {
      "text/plain": [
       "[Person(name='John', lastname='Lennon', birthday='October 9')]"
      ]
     },
     "execution_count": 7,
     "metadata": {},
     "output_type": "execute_result"
    }
   ],
   "source": [
    "# \n",
    "# The columns can be accesswed with a dot notation of Python object attributes\n",
    "[person for person in peopletuples if person.lastname == \"Lennon\"]"
   ]
  },
  {
   "cell_type": "code",
   "execution_count": 10,
   "metadata": {},
   "outputs": [
    {
     "data": {
      "text/plain": [
       "Person(name='Jocelyn', lastname='Bell Burnell', birthday='July 15')"
      ]
     },
     "execution_count": 10,
     "metadata": {},
     "output_type": "execute_result"
    }
   ],
   "source": [
    "#Although normal tuple indices would also work\n",
    "Person(**peopledict[3])"
   ]
  },
  {
   "cell_type": "code",
   "execution_count": 12,
   "metadata": {},
   "outputs": [
    {
     "data": {
      "text/plain": [
       "{'name': 'Jocelyn', 'lastname': 'Bell Burnell', 'birthday': 'July 15'}"
      ]
     },
     "execution_count": 12,
     "metadata": {},
     "output_type": "execute_result"
    }
   ],
   "source": [
    "# We can convert these tuples from and to a dictionary using ** unpacking and the namedtuple method asdict\n",
    "peopletuples[3]._asdict()\n",
    "# The reason the underscore is there is to avoid confusion in case you really want to use asdict as a label. asdict is specific to namedtuple"
   ]
  },
  {
   "cell_type": "code",
   "execution_count": 15,
   "metadata": {},
   "outputs": [],
   "source": [
    "#Python 3.7 provided an alternative to tuples and dicts for data storage in the form of dataclasses\n",
    "# In a dataclass, we list the fields in order and specifytheir type, such as int or string. We can also provide a default value. \n",
    "@dataclasses.dataclass\n",
    "class Persondata:\n",
    "  name : str\n",
    "  lastname :str\n",
    "  birthday : str = \"unknown\"\n"
   ]
  },
  {
   "cell_type": "code",
   "execution_count": 17,
   "metadata": {},
   "outputs": [],
   "source": [
    "# The syntax here is again intuitive and we can either use or omit the labels\n",
    "peopledata = [Persondata(name=\"Michele\", lastname=\"Vallisneri\", birthday=\"July 15\"),\n",
    "              Persondata(\"Albert\", \"Einstein\", \"March 14\"),\n",
    "              Persondata(\"John\", \"Lennon\", \"October 9\"),\n",
    "              Persondata(\"Jocelyn\", \"Bell Burnell\", \"July 15\")]"
   ]
  },
  {
   "cell_type": "code",
   "execution_count": 18,
   "metadata": {},
   "outputs": [
    {
     "data": {
      "text/plain": [
       "[Persondata(name='Albert', lastname='Einstein', birthday='March 14'),\n",
       " Persondata(name='John', lastname='Lennon', birthday='October 9')]"
      ]
     },
     "execution_count": 18,
     "metadata": {},
     "output_type": "execute_result"
    }
   ],
   "source": [
    "#As with tuples, we access fields by name\n",
    "[person for person in peopledata if person.birthday!=\"July 15\"]"
   ]
  },
  {
   "cell_type": "markdown",
   "metadata": {},
   "source": [
    "So far this is very similar to namedtuple, however, dataclass is a full Python class, so we can define methods that oper ate on the fields, just like we do in any Python class\n",
    "\n",
    "**Python dataclass**\n",
    "\n",
    "dataclass is a decorator class in Python 3.7. It is just meant to streamline the production of classes intended solely for the storage of data. It automatically generates the __init__(), __repr__(), __eq__(), and others\n",
    "\n",
    "from dataclasses import dataclass\n",
    "\n",
    "@dataclass\n",
    "class \\<classname\\>: \n",
    "  \n",
    "&emsp;  \\<field1\\>: \\<type1\\>\n",
    "\n",
    "&emsp;  \\<field2>: \\<type2\\> = \\<defaultvalue\\>\n",
    "  \n",
    "&emsp;  def \\<method>(self, ...):\n",
    "\n",
    "&emsp;&emsp;    [method body]"
   ]
  },
  {
   "cell_type": "code",
   "execution_count": 20,
   "metadata": {},
   "outputs": [],
   "source": [
    "#The first compulsory variable in a method refers to the particular instance of the class.\n",
    "#For instance, a person\n",
    "@dataclasses.dataclass\n",
    "class Persondata:\n",
    "    name: str\n",
    "    lastname: str\n",
    "    birthday: str = \"unknown\"\n",
    "    \n",
    "    # Let's do methods that provide a prettier printout\n",
    "\n",
    "    # when writing class methods, \"self\" refers to instances\n",
    "    def fullname(self):\n",
    "        return self.name + \" \" + self.lastname\n",
    "\n",
    "    # the special method __str__ overrides the standard printout\n",
    "    def __str__(self):\n",
    "        return self.lastname + \", \" + self.name + \", born \" + self.birthday"
   ]
  },
  {
   "cell_type": "code",
   "execution_count": 21,
   "metadata": {},
   "outputs": [],
   "source": [
    "#Here's the definition of the person\n",
    "michele = Persondata('Michele', 'Vallisneri', 'July 15')"
   ]
  },
  {
   "cell_type": "code",
   "execution_count": 22,
   "metadata": {},
   "outputs": [
    {
     "data": {
      "text/plain": [
       "'Michele Vallisneri'"
      ]
     },
     "execution_count": 22,
     "metadata": {},
     "output_type": "execute_result"
    }
   ],
   "source": [
    "#here's our prettier fullname method\n",
    "michele.fullname()"
   ]
  },
  {
   "cell_type": "code",
   "execution_count": 23,
   "metadata": {},
   "outputs": [
    {
     "name": "stdout",
     "output_type": "stream",
     "text": [
      "Vallisneri, Michele, born July 15\n"
     ]
    }
   ],
   "source": [
    "#Here's how our new method makes persondata objects print\n",
    "print(michele)"
   ]
  },
  {
   "cell_type": "code",
   "execution_count": null,
   "metadata": {},
   "outputs": [],
   "source": [
    "#Dataclasses have a number of other useful features, such as freezing, so that fields cannot be changed\n",
    "#makes fields uneditable after they've been defined\n",
    "@dataclasses.dataclass(frozen = True)\n",
    "class Persondata_frozen:\n",
    "    name: str\n",
    "    lastname: str\n",
    "    birthday: str = \"unknown\"\n",
    "\n",
    "# THis allows items to be compared using operators like <, >, or ==\n",
    "@dataclasses.dataclass(order = True)\n",
    "class Persondata_ordered:\n",
    "    name: str\n",
    "    lastname: str\n",
    "    birthday: str = \"unknown\"\n",
    "\n",
    "#This allows us to define how those objects are compared in each operator\n",
    "@dataclasses.dataclass\n",
    "class Persondata_customorder:\n",
    "    name: str\n",
    "    lastname: str\n",
    "    birthday: str = \"unknown\"\n",
    "\n",
    "    # custom \"less than\" comparison\n",
    "    def __lt__(self, other): \n",
    "        #I guess this compares the hashes, will play with tomorrow      \n",
    "        return (self.lastname, self.name, self.birthday) < (other.lastname, other.name, other.birthday)\n",
    "\n",
    "\n",
    "@dataclasses.dataclass\n",
    "class Persondata_computed:\n",
    "    name: str\n",
    "    lastname: str\n",
    "    birthday: str = \"unknown\"\n",
    "    fullname: str = dataclasses.field(init=False) # will compute it below, after initialization\n",
    "    \n",
    "    #this runs after initialization\n",
    "    def __post_init__(self):\n",
    "        self.fullname = self.name + \" \" + self.lastname"
   ]
  },
  {
   "cell_type": "code",
   "execution_count": 27,
   "metadata": {},
   "outputs": [],
   "source": [
    "peep = Persondata(\"Tom\",\"Hanks\")\n",
    "peep.lastname = \"Henks\""
   ]
  },
  {
   "cell_type": "code",
   "execution_count": 28,
   "metadata": {},
   "outputs": [],
   "source": [
    "#One thing we have not een is how the type of a field, such as string, is used with dataclasses. In fact, by default, it's not\n",
    "#It is made available to third-party packages for certain applications, like validating data entry.\n",
    "#An excellent packagge for this purpose is Pydantic\n",
    "import pydantic"
   ]
  },
  {
   "cell_type": "code",
   "execution_count": null,
   "metadata": {},
   "outputs": [],
   "source": [
    "#To use if, we replace the standard dataclass **decorator** with the equivalent from Pydantic\n",
    "@pydantic.dataclasses.dataclass\n",
    "class Persondata_pydantic:\n",
    "    name: str\n",
    "    lastname: str\n",
    "    birthday: str = \"unknown\"\n",
    "\n",
    "    #We also write a custom validator for the birthday field\n",
    "    #We'll try to convert it to a Python datetime object, and raise an exception if that's not possible\n",
    "    @pydantic.field_validator(\"birthday\")\n",
    "    def validate_date(cls, value): # a class method, so first argument is the class \n",
    "        \n",
    "        # will fail if date is not \"MONTHNAME DAYNUMBER\" \n",
    "        datetime.datetime.strptime(value, \"%B %d\")\n",
    "        \n",
    "        return value"
   ]
  },
  {
   "cell_type": "markdown",
   "metadata": {},
   "source": [
    "here's two bad examples where the validation fails"
   ]
  },
  {
   "cell_type": "code",
   "execution_count": null,
   "metadata": {},
   "outputs": [],
   "source": [
    "Persondata_pydantic(\"Michele\", 15, \"July 15\")"
   ]
  },
  {
   "cell_type": "code",
   "execution_count": null,
   "metadata": {},
   "outputs": [],
   "source": [
    "Persondata_pydantic('Michele', \"Vallisneri\", \"7/15\")"
   ]
  },
  {
   "cell_type": "markdown",
   "metadata": {},
   "source": [
    "Pydantic is a very sophisticated and powerful package with many features. It's also compatible with many data analysis and data science packages. If your package requires substantial data validation, it'll pay to dig into Pydantic.\n",
    "\n",
    "This concludes the overview of basic data structures in PYthon"
   ]
  }
 ],
 "metadata": {
  "kernelspec": {
   "display_name": "Python 3",
   "language": "python",
   "name": "python3"
  },
  "language_info": {
   "codemirror_mode": {
    "name": "ipython",
    "version": 3
   },
   "file_extension": ".py",
   "mimetype": "text/x-python",
   "name": "python",
   "nbconvert_exporter": "python",
   "pygments_lexer": "ipython3",
   "version": "3.12.1"
  }
 },
 "nbformat": 4,
 "nbformat_minor": 4
}
