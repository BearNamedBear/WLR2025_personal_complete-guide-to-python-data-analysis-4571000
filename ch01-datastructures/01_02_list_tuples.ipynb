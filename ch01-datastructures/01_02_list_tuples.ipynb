{
 "cells": [
  {
   "cell_type": "markdown",
   "metadata": {},
   "source": [
    "# 01_02: Lists, tuples, and the slicing syntax"
   ]
  },
  {
   "cell_type": "markdown",
   "metadata": {},
   "source": [
    "This is a review of lists and tuples, which are maybe the quintessential Python data structures. While being extrememly useful on their own, they are foundational for data science as they set the standard interface for accessing elements and ranges of elements but they're all in an index.\n",
    "\n",
    "Being able to select only a specific portion of the list, string, or tuple is referred to as slicing in Python. You will remember it from Matlab, Slicing is when we do something like this to a matrix:\n",
    "sequence[start:stop:step]\n",
    "NumPy uses the same interface; NumPy being the most important library that is able to manipulate large amounts of numerical data.\n",
    "\n",
    "Lists in Python provide a way to store an arbitrary number of Python objects, such as strings, floating point numbers, other lists, or any other object, all accessible using a numerical index. "
   ]
  },
  {
   "cell_type": "code",
   "execution_count": 40,
   "metadata": {},
   "outputs": [],
   "source": [
    "import math\n",
    "import collections\n",
    "import dataclasses\n",
    "import datetime\n",
    "\n",
    "import numpy as np\n",
    "import pandas as pd\n",
    "import matplotlib.pyplot as pp  "
   ]
  },
  {
   "cell_type": "code",
   "execution_count": 41,
   "metadata": {},
   "outputs": [],
   "source": [
    "#In Python, Lists are denoted by brackets, and their elements are separated by commas\n",
    "nephews = ['Huey', 'Dewey', 'Louie']"
   ]
  },
  {
   "cell_type": "code",
   "execution_count": 42,
   "metadata": {},
   "outputs": [
    {
     "data": {
      "text/plain": [
       "['Huey', 'Dewey', 'Louie']"
      ]
     },
     "execution_count": 42,
     "metadata": {},
     "output_type": "execute_result"
    }
   ],
   "source": [
    "nephews"
   ]
  },
  {
   "cell_type": "code",
   "execution_count": 43,
   "metadata": {},
   "outputs": [
    {
     "data": {
      "text/plain": [
       "3"
      ]
     },
     "execution_count": 43,
     "metadata": {},
     "output_type": "execute_result"
    }
   ],
   "source": [
    "# len provides us with the length of the list\n",
    "len(nephews)"
   ]
  },
  {
   "cell_type": "code",
   "execution_count": 44,
   "metadata": {},
   "outputs": [
    {
     "data": {
      "text/plain": [
       "0"
      ]
     },
     "execution_count": 44,
     "metadata": {},
     "output_type": "execute_result"
    }
   ],
   "source": [
    "# The empty list, [], has a length of zero, obviously\n",
    "len([])"
   ]
  },
  {
   "cell_type": "markdown",
   "metadata": {},
   "source": [
    "LIST INDEXING AND SLICING\n",
    "\n",
    "Individual list elements can be accessed by index, starting with zero for the first element and ending at the length of the list minus one\n"
   ]
  },
  {
   "cell_type": "code",
   "execution_count": 45,
   "metadata": {},
   "outputs": [
    {
     "data": {
      "text/plain": [
       "'Huey'"
      ]
     },
     "execution_count": 45,
     "metadata": {},
     "output_type": "execute_result"
    }
   ],
   "source": [
    "#first element\n",
    "nephews[0]"
   ]
  },
  {
   "cell_type": "code",
   "execution_count": 46,
   "metadata": {},
   "outputs": [
    {
     "data": {
      "text/plain": [
       "'Louie'"
      ]
     },
     "execution_count": 46,
     "metadata": {},
     "output_type": "execute_result"
    }
   ],
   "source": [
    "#third element\n",
    "nephews[2]"
   ]
  },
  {
   "cell_type": "code",
   "execution_count": 47,
   "metadata": {},
   "outputs": [
    {
     "ename": "IndexError",
     "evalue": "list index out of range",
     "output_type": "error",
     "traceback": [
      "\u001b[31m---------------------------------------------------------------------------\u001b[39m",
      "\u001b[31mIndexError\u001b[39m                                Traceback (most recent call last)",
      "\u001b[36mCell\u001b[39m\u001b[36m \u001b[39m\u001b[32mIn[47]\u001b[39m\u001b[32m, line 2\u001b[39m\n\u001b[32m      1\u001b[39m \u001b[38;5;66;03m#this would be the fourth entry in the list, but since there are only 3 and indexing starts at 0, not 1, this throws an error\u001b[39;00m\n\u001b[32m----> \u001b[39m\u001b[32m2\u001b[39m \u001b[43mnephews\u001b[49m\u001b[43m[\u001b[49m\u001b[32;43m3\u001b[39;49m\u001b[43m]\u001b[49m\n",
      "\u001b[31mIndexError\u001b[39m: list index out of range"
     ]
    }
   ],
   "source": [
    "#this would be the fourth entry in the list, but since there are only 3 and indexing starts at 0, not 1, this throws an error\n",
    "nephews[3]"
   ]
  },
  {
   "cell_type": "code",
   "execution_count": null,
   "metadata": {},
   "outputs": [
    {
     "data": {
      "text/plain": [
       "'Louie'"
      ]
     },
     "execution_count": 8,
     "metadata": {},
     "output_type": "execute_result"
    }
   ],
   "source": [
    "#last element\n",
    "nephews[-1]"
   ]
  },
  {
   "cell_type": "code",
   "execution_count": null,
   "metadata": {},
   "outputs": [
    {
     "data": {
      "text/plain": [
       "'Dewey'"
      ]
     },
     "execution_count": 9,
     "metadata": {},
     "output_type": "execute_result"
    }
   ],
   "source": [
    "#second-to-last element\n",
    "nephews[-2]"
   ]
  },
  {
   "cell_type": "code",
   "execution_count": null,
   "metadata": {},
   "outputs": [],
   "source": [
    "#bracket indexing can also be used to reassign elements \n",
    "for i in range(3):\n",
    "  nephews[i] = nephews[i] + ' Duck'"
   ]
  },
  {
   "cell_type": "code",
   "execution_count": null,
   "metadata": {},
   "outputs": [
    {
     "data": {
      "text/plain": [
       "['Huey Duck', 'Dewey Duck', 'Louie Duck']"
      ]
     },
     "execution_count": 12,
     "metadata": {},
     "output_type": "execute_result"
    }
   ],
   "source": [
    "nephews #That inserted ' Duck' after the name of each duck in the list"
   ]
  },
  {
   "cell_type": "code",
   "execution_count": null,
   "metadata": {},
   "outputs": [],
   "source": [
    "#another point is that lists do not need to have homogenous content; a list does not need to be all strings or all numbers\n",
    "mix_it_up = [1, [1, 2], 'alpha']"
   ]
  },
  {
   "cell_type": "code",
   "execution_count": null,
   "metadata": {},
   "outputs": [
    {
     "data": {
      "text/plain": [
       "[1, [1, 2], 'alpha']"
      ]
     },
     "execution_count": 14,
     "metadata": {},
     "output_type": "execute_result"
    }
   ],
   "source": [
    "mix_it_up"
   ]
  },
  {
   "cell_type": "code",
   "execution_count": null,
   "metadata": {},
   "outputs": [
    {
     "data": {
      "text/plain": [
       "False"
      ]
     },
     "execution_count": 15,
     "metadata": {},
     "output_type": "execute_result"
    }
   ],
   "source": [
    "#The in operator allows to verify that certain items exist inside of a list\n",
    "#This will return False since we changed the first entry from 'Huey' to 'Huey Duck', so 'Huey' is no longer in the list that is nephews\n",
    "'Huey' in nephews"
   ]
  },
  {
   "cell_type": "code",
   "execution_count": null,
   "metadata": {},
   "outputs": [
    {
     "data": {
      "text/plain": [
       "True"
      ]
     },
     "execution_count": 16,
     "metadata": {},
     "output_type": "execute_result"
    }
   ],
   "source": [
    "#This will return true because 'Huey Duck' is an element in our list\n",
    "'Huey Duck' in nephews"
   ]
  },
  {
   "cell_type": "code",
   "execution_count": null,
   "metadata": {},
   "outputs": [],
   "source": [
    "#append allows us to add a single item to the end of a list\n",
    "nephews.append('April Duck')"
   ]
  },
  {
   "cell_type": "markdown",
   "metadata": {},
   "source": [
    "As you can see here we're using Python in an object-oriented way by accessing a method, specifically append, of the list object. It sounds sophisticated, but it's actually very natural"
   ]
  },
  {
   "cell_type": "code",
   "execution_count": null,
   "metadata": {},
   "outputs": [
    {
     "data": {
      "text/plain": [
       "['Huey Duck', 'Dewey Duck', 'Louie Duck', 'April Duck']"
      ]
     },
     "execution_count": 18,
     "metadata": {},
     "output_type": "execute_result"
    }
   ],
   "source": [
    "nephews"
   ]
  },
  {
   "cell_type": "code",
   "execution_count": null,
   "metadata": {},
   "outputs": [],
   "source": [
    "# To add multiple elements in one go, we can use extend\n",
    "nephews.extend(['May Duck', 'June Duck'])"
   ]
  },
  {
   "cell_type": "code",
   "execution_count": null,
   "metadata": {},
   "outputs": [
    {
     "data": {
      "text/plain": [
       "['Huey Duck',\n",
       " 'Dewey Duck',\n",
       " 'Louie Duck',\n",
       " 'April Duck',\n",
       " 'May Duck',\n",
       " 'June Duck']"
      ]
     },
     "execution_count": 22,
     "metadata": {},
     "output_type": "execute_result"
    }
   ],
   "source": [
    "nephews"
   ]
  },
  {
   "cell_type": "code",
   "execution_count": null,
   "metadata": {},
   "outputs": [],
   "source": [
    "# In order to concatenate two lists we can just use a plus sign\n",
    "ducks = nephews + ['Donald Duck', 'Daisy Duck']"
   ]
  },
  {
   "cell_type": "code",
   "execution_count": null,
   "metadata": {},
   "outputs": [
    {
     "data": {
      "text/plain": [
       "['Huey Duck',\n",
       " 'Dewey Duck',\n",
       " 'Louie Duck',\n",
       " 'April Duck',\n",
       " 'May Duck',\n",
       " 'June Duck',\n",
       " 'Donald Duck',\n",
       " 'Daisy Duck']"
      ]
     },
     "execution_count": 24,
     "metadata": {},
     "output_type": "execute_result"
    }
   ],
   "source": [
    "ducks"
   ]
  },
  {
   "cell_type": "code",
   "execution_count": null,
   "metadata": {},
   "outputs": [],
   "source": [
    "#Last, we can insert elements at any position in the list using the insert method\n",
    "ducks.insert(0, 'Scrooge McDuck')"
   ]
  },
  {
   "cell_type": "code",
   "execution_count": null,
   "metadata": {},
   "outputs": [
    {
     "data": {
      "text/plain": [
       "['Scrooge McDuck',\n",
       " 'Huey Duck',\n",
       " 'Dewey Duck',\n",
       " 'Louie Duck',\n",
       " 'April Duck',\n",
       " 'May Duck',\n",
       " 'June Duck',\n",
       " 'Donald Duck',\n",
       " 'Daisy Duck']"
      ]
     },
     "execution_count": 26,
     "metadata": {},
     "output_type": "execute_result"
    }
   ],
   "source": [
    "ducks"
   ]
  },
  {
   "cell_type": "markdown",
   "metadata": {},
   "source": [
    "We've seen how to build up lists, now let's break them down"
   ]
  },
  {
   "cell_type": "code",
   "execution_count": null,
   "metadata": {},
   "outputs": [],
   "source": [
    "#WE can delete elements either by their index, with del...\n",
    "del ducks[0]"
   ]
  },
  {
   "cell_type": "code",
   "execution_count": null,
   "metadata": {},
   "outputs": [
    {
     "data": {
      "text/plain": [
       "['Huey Duck',\n",
       " 'Dewey Duck',\n",
       " 'Louie Duck',\n",
       " 'April Duck',\n",
       " 'May Duck',\n",
       " 'June Duck',\n",
       " 'Donald Duck',\n",
       " 'Daisy Duck']"
      ]
     },
     "execution_count": 28,
     "metadata": {},
     "output_type": "execute_result"
    }
   ],
   "source": [
    "ducks"
   ]
  },
  {
   "cell_type": "code",
   "execution_count": null,
   "metadata": {},
   "outputs": [],
   "source": [
    "#..or by their value, with remove\n",
    "ducks.remove('Donald Duck')"
   ]
  },
  {
   "cell_type": "code",
   "execution_count": null,
   "metadata": {},
   "outputs": [
    {
     "data": {
      "text/plain": [
       "['Huey Duck',\n",
       " 'Dewey Duck',\n",
       " 'Louie Duck',\n",
       " 'April Duck',\n",
       " 'May Duck',\n",
       " 'June Duck',\n",
       " 'Daisy Duck']"
      ]
     },
     "execution_count": 30,
     "metadata": {},
     "output_type": "execute_result"
    }
   ],
   "source": [
    "#This removed Uncle Donald\n",
    "ducks"
   ]
  },
  {
   "cell_type": "code",
   "execution_count": null,
   "metadata": {},
   "outputs": [],
   "source": [
    "#If we wanted our list sorted, we could do this in place modifying the existing list with sort...\n",
    "ducks.sort()"
   ]
  },
  {
   "cell_type": "code",
   "execution_count": null,
   "metadata": {},
   "outputs": [
    {
     "data": {
      "text/plain": [
       "['April Duck',\n",
       " 'Daisy Duck',\n",
       " 'Dewey Duck',\n",
       " 'Huey Duck',\n",
       " 'June Duck',\n",
       " 'Louie Duck',\n",
       " 'May Duck']"
      ]
     },
     "execution_count": 32,
     "metadata": {},
     "output_type": "execute_result"
    }
   ],
   "source": [
    "ducks"
   ]
  },
  {
   "cell_type": "code",
   "execution_count": null,
   "metadata": {},
   "outputs": [],
   "source": [
    "#...Or we can make a new sorted list out of an existing one with sorted.\n",
    "reverse_ducks = sorted(ducks, reverse=True)"
   ]
  },
  {
   "cell_type": "code",
   "execution_count": null,
   "metadata": {},
   "outputs": [
    {
     "data": {
      "text/plain": [
       "['May Duck',\n",
       " 'Louie Duck',\n",
       " 'June Duck',\n",
       " 'Huey Duck',\n",
       " 'Dewey Duck',\n",
       " 'Daisy Duck',\n",
       " 'April Duck']"
      ]
     },
     "execution_count": 34,
     "metadata": {},
     "output_type": "execute_result"
    }
   ],
   "source": [
    "reverse_ducks"
   ]
  },
  {
   "cell_type": "code",
   "execution_count": null,
   "metadata": {},
   "outputs": [
    {
     "name": "stdout",
     "output_type": "stream",
     "text": [
      "April Duck quacks!\n",
      "Daisy Duck quacks!\n",
      "Dewey Duck quacks!\n",
      "Huey Duck quacks!\n",
      "June Duck quacks!\n",
      "Louie Duck quacks!\n",
      "May Duck quacks!\n"
     ]
    }
   ],
   "source": [
    "# It's also very easy to loop over a list\n",
    "for duck in ducks: #indices aren't even necessary\n",
    "    print(duck, \"quacks!\")"
   ]
  },
  {
   "cell_type": "markdown",
   "metadata": {},
   "source": [
    "Moving on to slices"
   ]
  },
  {
   "cell_type": "code",
   "execution_count": null,
   "metadata": {},
   "outputs": [],
   "source": [
    "#Beyond working with individual list elements, we can manipulate them in contiguous groups.\n",
    "#We'll take a numerical example, the first few squares of the natural numbers.\n",
    "squares = [1, 4, 9, 16, 25, 36, 49]"
   ]
  },
  {
   "cell_type": "code",
   "execution_count": null,
   "metadata": {},
   "outputs": [
    {
     "data": {
      "text/plain": [
       "[1, 4]"
      ]
     },
     "execution_count": 39,
     "metadata": {},
     "output_type": "execute_result"
    }
   ],
   "source": [
    "#The convention to select the slice in Python is the same for loops\n",
    "# The first index is included, the last index is not.\n",
    "squares[0:2]\n",
    "#It pays to imagine that the indices sit on the edges of the lements. So if we anted the first two squares, like above, we'd write a slice that goes from zero to two like above"
   ]
  },
  {
   "cell_type": "markdown",
   "metadata": {},
   "source": [
    "There's a few more tricks and shortcuts that we can use in slicing."
   ]
  },
  {
   "cell_type": "code",
   "execution_count": null,
   "metadata": {},
   "outputs": [
    {
     "data": {
      "text/plain": [
       "[1, 4, 9, 16]"
      ]
     },
     "execution_count": 48,
     "metadata": {},
     "output_type": "execute_result"
    }
   ],
   "source": [
    "#If we omit the first it gives us all leading up to the second index\n",
    "squares[:4]"
   ]
  },
  {
   "cell_type": "code",
   "execution_count": 49,
   "metadata": {},
   "outputs": [
    {
     "data": {
      "text/plain": [
       "[16, 25, 36, 49]"
      ]
     },
     "execution_count": 49,
     "metadata": {},
     "output_type": "execute_result"
    }
   ],
   "source": [
    "#If we omit the second index, it gives us everything following the first index\n",
    "squares[3:]"
   ]
  },
  {
   "cell_type": "code",
   "execution_count": 50,
   "metadata": {},
   "outputs": [
    {
     "data": {
      "text/plain": [
       "[1, 4, 9, 16, 25, 36, 49]"
      ]
     },
     "execution_count": 50,
     "metadata": {},
     "output_type": "execute_result"
    }
   ],
   "source": [
    "#When slicing, if we omit both indices, then we get the whole list\n",
    "squares[:]"
   ]
  },
  {
   "cell_type": "code",
   "execution_count": 53,
   "metadata": {},
   "outputs": [
    {
     "data": {
      "text/plain": [
       "[1, 9, 25, 49]"
      ]
     },
     "execution_count": 53,
     "metadata": {},
     "output_type": "execute_result"
    }
   ],
   "source": [
    "#This allows us to move through the indices in steps\n",
    "#This gives us every other entry between the first and the sixth entry\n",
    "squares[0:7:2]"
   ]
  },
  {
   "cell_type": "code",
   "execution_count": 52,
   "metadata": {},
   "outputs": [
    {
     "data": {
      "text/plain": [
       "[25, 36]"
      ]
     },
     "execution_count": 52,
     "metadata": {},
     "output_type": "execute_result"
    }
   ],
   "source": [
    "#Negative indices allow us to count backwards from the end\n",
    "squares[-3:-1]\n",
    "#This gives us the third-to-last through last elements of the list"
   ]
  },
  {
   "cell_type": "code",
   "execution_count": 54,
   "metadata": {},
   "outputs": [
    {
     "data": {
      "text/plain": [
       "[49, 36, 25, 16, 9, 4, 1]"
      ]
     },
     "execution_count": 54,
     "metadata": {},
     "output_type": "execute_result"
    }
   ],
   "source": [
    "# reverse the list!\n",
    "#This works because the order of entries for stepping is [(start):(end):(step)]\n",
    "#The negative step moves us through the list backwards\n",
    "squares[::-1]"
   ]
  },
  {
   "cell_type": "code",
   "execution_count": 55,
   "metadata": {},
   "outputs": [],
   "source": [
    "#Slices also allow us to reassign a subset of the larger list inline\n",
    "squares[2:4] = ['four', 'nine']"
   ]
  },
  {
   "cell_type": "code",
   "execution_count": 56,
   "metadata": {},
   "outputs": [
    {
     "data": {
      "text/plain": [
       "[1, 4, 'four', 'nine', 25, 36, 49]"
      ]
     },
     "execution_count": 56,
     "metadata": {},
     "output_type": "execute_result"
    }
   ],
   "source": [
    "squares"
   ]
  },
  {
   "cell_type": "code",
   "execution_count": 57,
   "metadata": {},
   "outputs": [],
   "source": [
    "# We can also use slices to delete\n",
    "del squares[4:6]"
   ]
  },
  {
   "cell_type": "code",
   "execution_count": 58,
   "metadata": {},
   "outputs": [
    {
     "data": {
      "text/plain": [
       "[1, 4, 'four', 'nine', 49]"
      ]
     },
     "execution_count": 58,
     "metadata": {},
     "output_type": "execute_result"
    }
   ],
   "source": [
    "squares"
   ]
  },
  {
   "cell_type": "markdown",
   "metadata": {},
   "source": [
    "Now for tuples. They look like lists but with parenthesis instead of brackets, Tuples are sometimes described as immutable versions of lists. ONce a tuple is defined, we cannot modify its elements or add new ones.\n",
    "\n",
    "This is a feature, not a bug. It ensures the integrity and makes it possible to usetuples as keys in dictionaries or indices.\n",
    "\n",
    "Nevertheless, we can perform the same indexing and slicing tricks as for lists, just not assignment.\n",
    "\n",
    "One context where we see tuples often in Python is triple unpacking, where Python statements or expressions are automatically evaluated in parallel over a tuple."
   ]
  },
  {
   "cell_type": "code",
   "execution_count": 59,
   "metadata": {},
   "outputs": [],
   "source": [
    "integers = ('one', 'two', 'three', 'four')"
   ]
  },
  {
   "cell_type": "code",
   "execution_count": 60,
   "metadata": {},
   "outputs": [
    {
     "data": {
      "text/plain": [
       "('one', 'two', 'three', 'four')"
      ]
     },
     "execution_count": 60,
     "metadata": {},
     "output_type": "execute_result"
    }
   ],
   "source": [
    "integers"
   ]
  },
  {
   "cell_type": "code",
   "execution_count": 61,
   "metadata": {},
   "outputs": [
    {
     "data": {
      "text/plain": [
       "('four', ('two', 'three'))"
      ]
     },
     "execution_count": 61,
     "metadata": {},
     "output_type": "execute_result"
    }
   ],
   "source": [
    "integers[-1], integers[1:3]"
   ]
  },
  {
   "cell_type": "code",
   "execution_count": 63,
   "metadata": {},
   "outputs": [
    {
     "ename": "TypeError",
     "evalue": "'tuple' object does not support item assignment",
     "output_type": "error",
     "traceback": [
      "\u001b[31m---------------------------------------------------------------------------\u001b[39m",
      "\u001b[31mTypeError\u001b[39m                                 Traceback (most recent call last)",
      "\u001b[36mCell\u001b[39m\u001b[36m \u001b[39m\u001b[32mIn[63]\u001b[39m\u001b[32m, line 2\u001b[39m\n\u001b[32m      1\u001b[39m \u001b[38;5;66;03m#We cannot reassign after definition\u001b[39;00m\n\u001b[32m----> \u001b[39m\u001b[32m2\u001b[39m \u001b[43mintegers\u001b[49m\u001b[43m[\u001b[49m\u001b[32;43m0\u001b[39;49m\u001b[43m]\u001b[49m = \u001b[32m1\u001b[39m\n",
      "\u001b[31mTypeError\u001b[39m: 'tuple' object does not support item assignment"
     ]
    }
   ],
   "source": [
    "#We cannot reassign after definition\n",
    "integers[0] = 1"
   ]
  },
  {
   "cell_type": "code",
   "execution_count": null,
   "metadata": {},
   "outputs": [],
   "source": [
    "# Triple Unpacking\n",
    "# This is allowed since the in/out is a tuple\n",
    "(a, b) = (1, 2)"
   ]
  },
  {
   "cell_type": "code",
   "execution_count": 69,
   "metadata": {},
   "outputs": [],
   "source": [
    "#As mentioned above, parentheses can be omitted, so this has the same effect\n",
    "c, d = 3, 4"
   ]
  },
  {
   "cell_type": "code",
   "execution_count": 68,
   "metadata": {},
   "outputs": [
    {
     "name": "stdout",
     "output_type": "stream",
     "text": [
      "1\n",
      "2\n",
      "3\n",
      "4\n"
     ]
    }
   ],
   "source": [
    "print(a)\n",
    "print(b)\n",
    "print(c)\n",
    "print(d)"
   ]
  },
  {
   "cell_type": "code",
   "execution_count": null,
   "metadata": {},
   "outputs": [
    {
     "name": "stdout",
     "output_type": "stream",
     "text": [
      "0 April Duck\n",
      "1 Daisy Duck\n",
      "2 Dewey Duck\n",
      "3 Huey Duck\n",
      "4 June Duck\n",
      "5 Louie Duck\n",
      "6 May Duck\n"
     ]
    }
   ],
   "source": [
    "#Tuples also appear when we iterate over multiple variables at once\n",
    "#enumerate makes a tuple out of the indices of the items in a list and the items in the list\n",
    "#This allows us to iterate over both concurrently\n",
    "for i, duck in enumerate(ducks):\n",
    "    print(i, duck)"
   ]
  },
  {
   "cell_type": "code",
   "execution_count": 71,
   "metadata": {},
   "outputs": [],
   "source": [
    "#One final useful trick is unpacking a tuple to pass it to a function that requires multiple arguments.\n",
    "def print_three_args(a, b, c):\n",
    "    print(a, b, c)"
   ]
  },
  {
   "cell_type": "code",
   "execution_count": null,
   "metadata": {},
   "outputs": [],
   "source": [
    "#we save the arguments to a tuple\n",
    "my_args = (1,2,3)"
   ]
  },
  {
   "cell_type": "code",
   "execution_count": null,
   "metadata": {},
   "outputs": [
    {
     "name": "stdout",
     "output_type": "stream",
     "text": [
      "1 2 3\n"
     ]
    }
   ],
   "source": [
    "#We unpack those arguments into the function using an asterisk\n",
    "print_three_args(*my_args)"
   ]
  },
  {
   "cell_type": "code",
   "execution_count": 74,
   "metadata": {},
   "outputs": [],
   "source": [
    "#That star function can also be used to define arguments with a variable number of arguments\n",
    "def any_args(*args):\n",
    "    print(args)"
   ]
  },
  {
   "cell_type": "code",
   "execution_count": 76,
   "metadata": {},
   "outputs": [
    {
     "name": "stdout",
     "output_type": "stream",
     "text": [
      "(1, 2, 3)\n"
     ]
    }
   ],
   "source": [
    "#Same thing, but we could do the same now with (1,2) or (1,2,3,4,5)\n",
    "any_args(1,2,3)"
   ]
  }
 ],
 "metadata": {
  "kernelspec": {
   "display_name": "Python 3",
   "language": "python",
   "name": "python3"
  },
  "language_info": {
   "codemirror_mode": {
    "name": "ipython",
    "version": 3
   },
   "file_extension": ".py",
   "mimetype": "text/x-python",
   "name": "python",
   "nbconvert_exporter": "python",
   "pygments_lexer": "ipython3",
   "version": "3.12.1"
  }
 },
 "nbformat": 4,
 "nbformat_minor": 4
}
