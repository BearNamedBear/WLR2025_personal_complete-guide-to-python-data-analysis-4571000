{
 "cells": [
  {
   "cell_type": "markdown",
   "metadata": {},
   "source": [
    "# 05_01: Pandas overview"
   ]
  },
  {
   "cell_type": "markdown",
   "metadata": {},
   "source": [
    "Pandas has gained broad acceptance in the Python community as the leading data-analysis library. It's especially useful for statistics, but also to prepare data for visualization and machine learning.\n",
    "\n",
    "While NumPy works with arrays, pandas deals with _data tables_, which are known in pandas as _DataFrames_.\n",
    "\n",
    "The main difference is that array rows, columns, and elements are identified by their integer indices, while DataFrame rows and columns can be indexed by strings, dates, floating-point numbers, and other Python objects---in fact, any DataFrame column can be promoted to act as the index. That's just one of many table manipulations that are possible with this library.\n",
    "\n",
    "In addition, pandas can read and write many common data formats; it provides a consistent way to handle missing data; it implements powerful database operations such as joins; and it can even make plots!\n",
    "\n",
    "Historically, pandas used NumPy to store data behind the scenes, but since version 2.0, pandas has introduced Apache Arrow as an alternative backend. Arrow handles missing data, strings, and categorical data more efficiently than NumPy; it's optimized for memory efficiency and performance; and it supports data formats that are interoperable with many other data-science libraries and applications.\n",
    "\n",
    "If you want to do data analysis or data science with Python, I really recommend that you learn Pandas."
   ]
  }
 ],
 "metadata": {
  "kernelspec": {
   "display_name": "Python 3 (ipykernel)",
   "language": "python",
   "name": "python3"
  },
  "language_info": {
   "codemirror_mode": {
    "name": "ipython",
    "version": 3
   },
   "file_extension": ".py",
   "mimetype": "text/x-python",
   "name": "python",
   "nbconvert_exporter": "python",
   "pygments_lexer": "ipython3",
   "version": "3.12.5"
  }
 },
 "nbformat": 4,
 "nbformat_minor": 4
}
