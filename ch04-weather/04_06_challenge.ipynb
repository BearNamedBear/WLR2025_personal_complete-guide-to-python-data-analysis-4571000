{
 "cells": [
  {
   "cell_type": "markdown",
   "metadata": {},
   "source": [
    "# 04_06: CoderPad challenge"
   ]
  },
  {
   "cell_type": "code",
   "execution_count": 1,
   "metadata": {},
   "outputs": [],
   "source": [
    "# Instructions"
   ]
  },
  {
   "cell_type": "markdown",
   "metadata": {},
   "source": [
    "## Temperature anomaly\n",
    "\n",
    "The _temperature anomaly_ is the difference of the average temperature in a year (defined as the average of the average min and average max) and the midcentury average for the 1945-1955 decade (inclusive).\n",
    "\n",
    "**Your task**: compute the temperature anomaly for New York between 1880 and 2023. Use `getweather` for 'NEW YORK', which will load the dataset in the current directory. Round the result to two decimals using `np.round(..., 2)`.\n",
    "\n",
    "## Parameters\n",
    "\n",
    "None.\n",
    "\n",
    "## Result\n",
    "\n",
    "A NumPy one-dimensional np.float64 array of length 144."
   ]
  },
  {
   "cell_type": "code",
   "execution_count": 2,
   "metadata": {},
   "outputs": [],
   "source": [
    "# Answer"
   ]
  },
  {
   "cell_type": "code",
   "execution_count": 28,
   "metadata": {},
   "outputs": [],
   "source": [
    "# Python code​​​​​​‌​‌​‌​​‌‌​‌​‌​‌​‌​‌‌‌‌​‌‌ below\n",
    "# Use print(\"messages...\") to debug your solution.\n",
    "\n",
    "show_expected_result = True\n",
    "show_hints = True\n",
    "\n",
    "import numpy as np\n",
    "\n",
    "def anomaly(allyears):\n",
    "    # Your code goes here\n",
    "    \n",
    "    refmean = 0.5 * (np.mean(allyears[65:76,:]['TMIN']) + np.mean(allyears[65:76,:]['TMAX']))\n",
    "    anomaly = 0.5 * (np.mean(allyears['TMIN'], axis=1) + np.mean(allyears['TMAX'], axis=1)) - refmean\n",
    "    \n",
    "    return np.round(anomaly, 2)"
   ]
  },
  {
   "cell_type": "code",
   "execution_count": 5,
   "metadata": {},
   "outputs": [],
   "source": [
    "allyears = np.vstack([getweather.getyear('NEW YORK', ['TMIN','TMAX'], year) for year in range(1880, 2024)])"
   ]
  },
  {
   "cell_type": "code",
   "execution_count": 32,
   "metadata": {},
   "outputs": [],
   "source": [
    "np.save('allyears.npy', allyears)"
   ]
  },
  {
   "cell_type": "code",
   "execution_count": 33,
   "metadata": {},
   "outputs": [
    {
     "data": {
      "text/plain": [
       "array([[( -0.6,   4.4), (  2.2,   7.8), (  2.8,   4.4), ...,\n",
       "        (-12.2,   0. ), (-15.6, -12.2), (-21.1, -15.6)],\n",
       "       [(-17.2,  -8.9), (-12.2,   1.1), ( -7.8,   2.8), ...,\n",
       "        (  7.2,  11.1), (  2.2,  11.1), ( -4.4,   2.2)],\n",
       "       [( -7.8,  -0.6), (-12.8,  -7.2), (-11.7,  -1.7), ...,\n",
       "        ( -5. ,   1.7), ( -3.3,   0.6), ( -1.7,   2.2)],\n",
       "       ...,\n",
       "       [(  0.6,   4.4), (  2.2,  10.6), (  1.1,   3.3), ...,\n",
       "        (  5. ,   6.7), (  6.1,   9.4), (  8.9,  12.8)],\n",
       "       [( 10. ,  13.3), (  2.8,  15. ), ( -5.5,   2.8), ...,\n",
       "        (  4.4,  10.6), (  7.8,  16.7), ( 10. ,  12.8)],\n",
       "       [(  9.4,  12.8), (  9.4,  13.3), (  8.3,  14.4), ...,\n",
       "        (  7.8,  12.8), (  3.9,   7.8), (  3.9,   6.1)]],\n",
       "      dtype=[('TMIN', '<f8'), ('TMAX', '<f8')])"
      ]
     },
     "execution_count": 33,
     "metadata": {},
     "output_type": "execute_result"
    }
   ],
   "source": [
    "np.load('allyears.npy')"
   ]
  },
  {
   "cell_type": "code",
   "execution_count": 29,
   "metadata": {},
   "outputs": [
    {
     "data": {
      "text/plain": [
       "array([-1.13, -1.54, -1.84, -2.7 , -1.58, -2.44, -2.07, -2.26, -3.12,\n",
       "       -1.21, -1.15, -0.49, -1.54, -2.38, -1.1 , -1.09, -0.78, -0.77,\n",
       "        0.03, -0.55, -0.44, -1.39, -1.11, -1.08, -2.3 , -0.84,  0.02,\n",
       "       -1.15,  0.03, -0.77, -0.81, -0.84, -1.28, -0.02, -1.67, -0.9 ,\n",
       "       -1.53, -2.38, -1.01, -0.7 , -1.53, -0.07, -0.84, -1.17, -1.72,\n",
       "       -0.91, -2.1 , -0.91, -0.82, -0.51, -0.3 ,  0.43,  0.07, -0.43,\n",
       "       -1.11, -1.1 , -0.91, -0.32,  0.1 , -0.21, -1.77, -0.05, -0.53,\n",
       "       -0.72, -0.21, -0.53,  0.2 , -0.68, -0.53,  1.04, -0.79,  0.03,\n",
       "        0.43,  1.13, -0.1 , -0.19, -0.85,  0.21, -1.37,  0.22, -0.58,\n",
       "        0.  , -0.88, -0.79, -0.26, -0.46,  0.01, -1.13, -0.53, -0.14,\n",
       "       -0.42,  0.1 , -0.66,  0.59, -0.18, -0.05, -0.93, -0.38, -1.13,\n",
       "        0.41, -0.  ,  0.07, -0.09,  0.52,  0.22,  0.27,  0.14,  0.06,\n",
       "       -0.14, -0.6 ,  1.21,  1.21, -0.64,  0.27,  0.11,  0.17, -0.71,\n",
       "       -0.42,  1.18,  0.8 , -0.67,  0.66,  0.76, -0.89, -0.32,  0.38,\n",
       "        1.  ,  0.04,  0.2 , -0.56,  0.94,  0.78,  1.29,  0.19, -0.32,\n",
       "        0.97,  1.21,  0.73,  0.48,  0.34,  1.26,  1.06,  0.74,  1.61])"
      ]
     },
     "execution_count": 29,
     "metadata": {},
     "output_type": "execute_result"
    }
   ],
   "source": [
    "# Test code\n",
    "\n",
    "anomaly(allyears)"
   ]
  },
  {
   "cell_type": "code",
   "execution_count": 14,
   "metadata": {},
   "outputs": [],
   "source": [
    "# Console output\n",
    "\n",
    "# Hint: for a \"year x day\" array, the yearly mean is np.mean(array, axis=1)"
   ]
  },
  {
   "cell_type": "code",
   "execution_count": 34,
   "metadata": {},
   "outputs": [
    {
     "data": {
      "text/plain": [
       "array([-0.7 , -1.11, -1.41, -2.27, -1.16, -2.02, -1.65, -1.83, -2.7 ,\n",
       "       -0.78, -0.73, -0.07, -1.12, -1.96, -0.68, -0.66, -0.35, -0.35,\n",
       "        0.45, -0.13, -0.01, -0.96, -0.68, -0.66, -1.87, -0.42,  0.44,\n",
       "       -0.73,  0.45, -0.34, -0.38, -0.42, -0.86,  0.4 , -1.25, -0.47,\n",
       "       -1.11, -1.95, -0.59, -0.27, -1.11,  0.35, -0.41, -0.74, -1.3 ,\n",
       "       -0.48, -1.67, -0.48, -0.39, -0.09,  0.12,  0.85,  0.5 , -0.01,\n",
       "       -0.68, -0.68, -0.48,  0.11,  0.52,  0.21, -1.34,  0.37, -0.1 ,\n",
       "       -0.3 ,  0.21, -0.11,  0.63, -0.25, -0.11,  1.46, -0.36,  0.45,\n",
       "        0.86,  1.55,  0.32,  0.23, -0.43,  0.64, -0.95,  0.65, -0.16,\n",
       "        0.43, -0.46, -0.37,  0.16, -0.04,  0.43, -0.71, -0.1 ,  0.29,\n",
       "        0.01,  0.53, -0.23,  1.02,  0.25,  0.38, -0.5 ,  0.04, -0.71,\n",
       "        0.84,  0.42,  0.5 ,  0.34,  0.95,  0.64,  0.7 ,  0.57,  0.49,\n",
       "        0.29, -0.18,  1.63,  1.64, -0.22,  0.7 ,  0.54,  0.6 , -0.29,\n",
       "        0.  ,  1.6 ,  1.23, -0.24,  1.08,  1.19, -0.46,  0.11,  0.81,\n",
       "        1.43,  0.46,  0.62, -0.14,  1.37,  1.21,  1.72,  0.62,  0.1 ,\n",
       "        1.4 ,  1.63,  1.16,  0.9 ,  0.77,  1.68,  1.48,  1.16,  2.03])"
      ]
     },
     "execution_count": 34,
     "metadata": {},
     "output_type": "execute_result"
    }
   ],
   "source": [
    "anomaly()"
   ]
  }
 ],
 "metadata": {
  "kernelspec": {
   "display_name": "Python 3 (ipykernel)",
   "language": "python",
   "name": "python3"
  },
  "language_info": {
   "codemirror_mode": {
    "name": "ipython",
    "version": 3
   },
   "file_extension": ".py",
   "mimetype": "text/x-python",
   "name": "python",
   "nbconvert_exporter": "python",
   "pygments_lexer": "ipython3",
   "version": "3.11.8"
  }
 },
 "nbformat": 4,
 "nbformat_minor": 4
}
