{
 "cells": [
  {
   "cell_type": "markdown",
   "metadata": {},
   "source": [
    "# 04_06: CoderPad challenge"
   ]
  },
  {
   "cell_type": "code",
   "execution_count": 1,
   "metadata": {},
   "outputs": [],
   "source": [
    "# Instructions"
   ]
  },
  {
   "cell_type": "markdown",
   "metadata": {},
   "source": [
    "## Temperature anomaly\n",
    "\n",
    "The _temperature anomaly_ is the difference of the average temperature in a year (defined as the average of the average min and average max) and the midcentury average for the 1945-1955 decade (inclusive).\n",
    "\n",
    "**Your task**: compute the temperature anomaly for New York between 1880 and 2023. Use `getweather` for 'NEW YORK', which will load the dataset in the current directory. Round the result to two decimals using `np.round(..., 2)`.\n",
    "\n",
    "## Parameters\n",
    "\n",
    "None.\n",
    "\n",
    "## Result\n",
    "\n",
    "A NumPy one-dimensional np.float64 array of length 144."
   ]
  },
  {
   "cell_type": "code",
   "execution_count": 2,
   "metadata": {},
   "outputs": [],
   "source": [
    "# Answer"
   ]
  },
  {
   "cell_type": "code",
   "execution_count": 19,
   "metadata": {},
   "outputs": [],
   "source": [
    "# Python code​​​​​​‌​‌​‌​​‌‌​‌​‌​‌​‌​‌‌‌‌​‌‌ below\n",
    "# Use print(\"messages...\") to debug your solution.\n",
    "\n",
    "show_expected_result = True\n",
    "show_hints = True\n",
    "\n",
    "import numpy as np\n",
    "import getweather\n",
    "\n",
    "def anomaly():\n",
    "    # Your code goes here\n",
    "    \n",
    "    allyears = np.vstack([getweather.getyear('NEW YORK', ['TMIN','TMAX'], year) for year in range(1880, 2024)])\n",
    "    refyears = np.vstack([getweather.getyear('NEW YORK', ['TMIN','TMAX'], year) for year in range(1945, 1956)])\n",
    "\n",
    "    refmean = 0.5 * (np.mean(allyears['TMIN']) + np.mean(allyears['TMAX']))\n",
    "    anomaly = 0.5 * (np.mean(allyears['TMIN'], axis=1) + np.mean(allyears['TMAX'], axis=1)) - refmean\n",
    "    \n",
    "    return np.round(anomaly, 2)"
   ]
  },
  {
   "cell_type": "code",
   "execution_count": null,
   "metadata": {},
   "outputs": [],
   "source": [
    "# Test code\n",
    "\n",
    "anomaly()"
   ]
  },
  {
   "cell_type": "code",
   "execution_count": 14,
   "metadata": {},
   "outputs": [],
   "source": [
    "# Console output\n",
    "\n",
    "# Hint: for a \"year x day\" array, the yearly mean is np.mean(array, axis=1)"
   ]
  },
  {
   "cell_type": "code",
   "execution_count": 34,
   "metadata": {},
   "outputs": [
    {
     "data": {
      "text/plain": [
       "array([-0.7 , -1.11, -1.41, -2.27, -1.16, -2.02, -1.65, -1.83, -2.7 ,\n",
       "       -0.78, -0.73, -0.07, -1.12, -1.96, -0.68, -0.66, -0.35, -0.35,\n",
       "        0.45, -0.13, -0.01, -0.96, -0.68, -0.66, -1.87, -0.42,  0.44,\n",
       "       -0.73,  0.45, -0.34, -0.38, -0.42, -0.86,  0.4 , -1.25, -0.47,\n",
       "       -1.11, -1.95, -0.59, -0.27, -1.11,  0.35, -0.41, -0.74, -1.3 ,\n",
       "       -0.48, -1.67, -0.48, -0.39, -0.09,  0.12,  0.85,  0.5 , -0.01,\n",
       "       -0.68, -0.68, -0.48,  0.11,  0.52,  0.21, -1.34,  0.37, -0.1 ,\n",
       "       -0.3 ,  0.21, -0.11,  0.63, -0.25, -0.11,  1.46, -0.36,  0.45,\n",
       "        0.86,  1.55,  0.32,  0.23, -0.43,  0.64, -0.95,  0.65, -0.16,\n",
       "        0.43, -0.46, -0.37,  0.16, -0.04,  0.43, -0.71, -0.1 ,  0.29,\n",
       "        0.01,  0.53, -0.23,  1.02,  0.25,  0.38, -0.5 ,  0.04, -0.71,\n",
       "        0.84,  0.42,  0.5 ,  0.34,  0.95,  0.64,  0.7 ,  0.57,  0.49,\n",
       "        0.29, -0.18,  1.63,  1.64, -0.22,  0.7 ,  0.54,  0.6 , -0.29,\n",
       "        0.  ,  1.6 ,  1.23, -0.24,  1.08,  1.19, -0.46,  0.11,  0.81,\n",
       "        1.43,  0.46,  0.62, -0.14,  1.37,  1.21,  1.72,  0.62,  0.1 ,\n",
       "        1.4 ,  1.63,  1.16,  0.9 ,  0.77,  1.68,  1.48,  1.16,  2.03])"
      ]
     },
     "execution_count": 34,
     "metadata": {},
     "output_type": "execute_result"
    }
   ],
   "source": [
    "anomaly()"
   ]
  }
 ],
 "metadata": {
  "kernelspec": {
   "display_name": "Python 3 (ipykernel)",
   "language": "python",
   "name": "python3"
  },
  "language_info": {
   "codemirror_mode": {
    "name": "ipython",
    "version": 3
   },
   "file_extension": ".py",
   "mimetype": "text/x-python",
   "name": "python",
   "nbconvert_exporter": "python",
   "pygments_lexer": "ipython3",
   "version": "3.11.8"
  }
 },
 "nbformat": 4,
 "nbformat_minor": 4
}
