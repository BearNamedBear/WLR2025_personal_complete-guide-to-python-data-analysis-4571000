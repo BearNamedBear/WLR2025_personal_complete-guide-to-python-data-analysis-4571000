{
 "cells": [
  {
   "cell_type": "markdown",
   "metadata": {},
   "source": [
    "# 04_01: Analyzing weather"
   ]
  },
  {
   "cell_type": "markdown",
   "metadata": {},
   "source": [
    "In this chapter, we are going to experiment with NumPy on a real-world use case: analyzing weather data from NOAA, the National Oceanic and Atmosphere Administration. The GHCN (Global Historical Climatology Network)-Daily is an integrated database of daily climate summaries from land surface stations across the globe. Summaries in this case means variables such as the minimum and maximum temperatures, the total precipitation, and so on.\n",
    "\n",
    "    display https://data.noaa.gov/onestop/collections/details/b0ab9adc-d804-4768-a11a-4487b8555cb7\n",
    "    overlay: search for \"GHCN daily\" on https://data.noaa.gov/onestop\n",
    "\n",
    "The datafiles that we will be using can be obtained from \n",
    "\n",
    "    https://www.ncei.noaa.gov/pub/data/ghcn/daily/\n",
    "\n",
    "Together, we will download a station list and use it to locate temperature data; we will load the data, fill missing values, and smooth time series. Finally, we will create a visualization of daily temperatures inspired by the  New York Times weather plots."
   ]
  },
  {
   "cell_type": "code",
   "execution_count": null,
   "metadata": {},
   "outputs": [],
   "source": []
  }
 ],
 "metadata": {
  "kernelspec": {
   "display_name": "Python 3 (ipykernel)",
   "language": "python",
   "name": "python3"
  },
  "language_info": {
   "codemirror_mode": {
    "name": "ipython",
    "version": 3
   },
   "file_extension": ".py",
   "mimetype": "text/x-python",
   "name": "python",
   "nbconvert_exporter": "python",
   "pygments_lexer": "ipython3",
   "version": "3.11.5"
  }
 },
 "nbformat": 4,
 "nbformat_minor": 4
}
