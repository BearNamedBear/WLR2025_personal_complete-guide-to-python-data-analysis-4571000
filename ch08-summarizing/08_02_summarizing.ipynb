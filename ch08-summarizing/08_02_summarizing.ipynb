{
 "cells": [
  {
   "cell_type": "markdown",
   "metadata": {},
   "source": [
    "# 09_02: Summarizing distributions"
   ]
  },
  {
   "cell_type": "code",
   "execution_count": null,
   "metadata": {},
   "outputs": [],
   "source": [
    "# incomes = pd.concat([pd.read_csv('../gdata/income-1965-china.csv').assign(country='China', year=1965),\n",
    "#           pd.read_csv('../gdata/income-1965-usa.csv').assign(country='USA', year=1965),\n",
    "#           pd.read_csv('../gdata/income-2015-china.csv').assign(country='China', year=2015),\n",
    "#           pd.read_csv('../gdata/income-2015-usa.csv').assign(country='USA', year=2015)]).sort_values(['country','year']).convert_dtypes(dtype_backend='pyarrow')\n",
    "\n",
    "# incomes.to_csv('incomes.csv', index=False)"
   ]
  },
  {
   "cell_type": "code",
   "execution_count": 1,
   "metadata": {},
   "outputs": [],
   "source": [
    "import math\n",
    "import collections\n",
    "import dataclasses\n",
    "import datetime\n",
    "\n",
    "import numpy as np\n",
    "import pandas as pd\n",
    "import matplotlib.pyplot as pp"
   ]
  },
  {
   "cell_type": "markdown",
   "metadata": {},
   "source": [
    "To learn from data, we first need to summarize it: that is, we need to quantify both the typical trends, and the variations around them---in short, the distribution of the data.\n",
    "\n",
    "In this video we'll look at a few simple ways to summarize the _distribution_ of a numerical variable. \n",
    "\n",
    "We'll play with gapminder data that describe the distribution of incomes in China and in the US, in 1965 and 2015; these data are in 2011-equivalent dollars. These distributions are not very accurate, but they will be sufficient for our example."
   ]
  },
  {
   "cell_type": "code",
   "execution_count": 76,
   "metadata": {},
   "outputs": [
    {
     "data": {
      "text/html": [
       "<div>\n",
       "<style scoped>\n",
       "    .dataframe tbody tr th:only-of-type {\n",
       "        vertical-align: middle;\n",
       "    }\n",
       "\n",
       "    .dataframe tbody tr th {\n",
       "        vertical-align: top;\n",
       "    }\n",
       "\n",
       "    .dataframe thead th {\n",
       "        text-align: right;\n",
       "    }\n",
       "</style>\n",
       "<table border=\"1\" class=\"dataframe\">\n",
       "  <thead>\n",
       "    <tr style=\"text-align: right;\">\n",
       "      <th></th>\n",
       "      <th></th>\n",
       "      <th>yearly</th>\n",
       "    </tr>\n",
       "    <tr>\n",
       "      <th>country</th>\n",
       "      <th>year</th>\n",
       "      <th></th>\n",
       "    </tr>\n",
       "  </thead>\n",
       "  <tbody>\n",
       "    <tr>\n",
       "      <th rowspan=\"5\" valign=\"top\">China</th>\n",
       "      <th>1965</th>\n",
       "      <td>374.584412</td>\n",
       "    </tr>\n",
       "    <tr>\n",
       "      <th>1965</th>\n",
       "      <td>332.899298</td>\n",
       "    </tr>\n",
       "    <tr>\n",
       "      <th>1965</th>\n",
       "      <td>40.405060</td>\n",
       "    </tr>\n",
       "    <tr>\n",
       "      <th>1965</th>\n",
       "      <td>171.425536</td>\n",
       "    </tr>\n",
       "    <tr>\n",
       "      <th>1965</th>\n",
       "      <td>136.738420</td>\n",
       "    </tr>\n",
       "    <tr>\n",
       "      <th>...</th>\n",
       "      <th>...</th>\n",
       "      <td>...</td>\n",
       "    </tr>\n",
       "    <tr>\n",
       "      <th rowspan=\"5\" valign=\"top\">USA</th>\n",
       "      <th>2015</th>\n",
       "      <td>17830.112511</td>\n",
       "    </tr>\n",
       "    <tr>\n",
       "      <th>2015</th>\n",
       "      <td>12448.307718</td>\n",
       "    </tr>\n",
       "    <tr>\n",
       "      <th>2015</th>\n",
       "      <td>87588.746752</td>\n",
       "    </tr>\n",
       "    <tr>\n",
       "      <th>2015</th>\n",
       "      <td>5597.465988</td>\n",
       "    </tr>\n",
       "    <tr>\n",
       "      <th>2015</th>\n",
       "      <td>36709.679066</td>\n",
       "    </tr>\n",
       "  </tbody>\n",
       "</table>\n",
       "<p>4000 rows × 1 columns</p>\n",
       "</div>"
      ],
      "text/plain": [
       "                    yearly\n",
       "country year              \n",
       "China   1965    374.584412\n",
       "        1965    332.899298\n",
       "        1965     40.405060\n",
       "        1965    171.425536\n",
       "        1965    136.738420\n",
       "...                    ...\n",
       "USA     2015  17830.112511\n",
       "        2015  12448.307718\n",
       "        2015  87588.746752\n",
       "        2015   5597.465988\n",
       "        2015  36709.679066\n",
       "\n",
       "[4000 rows x 1 columns]"
      ]
     },
     "execution_count": 76,
     "metadata": {},
     "output_type": "execute_result"
    }
   ],
   "source": [
    "incomes = pd.read_csv('incomes2.csv').set_index(['country', 'year'])\n",
    "incomes"
   ]
  },
  {
   "cell_type": "code",
   "execution_count": 175,
   "metadata": {},
   "outputs": [
    {
     "data": {
      "text/html": [
       "<div>\n",
       "<style scoped>\n",
       "    .dataframe tbody tr th:only-of-type {\n",
       "        vertical-align: middle;\n",
       "    }\n",
       "\n",
       "    .dataframe tbody tr th {\n",
       "        vertical-align: top;\n",
       "    }\n",
       "\n",
       "    .dataframe thead th {\n",
       "        text-align: right;\n",
       "    }\n",
       "</style>\n",
       "<table border=\"1\" class=\"dataframe\">\n",
       "  <thead>\n",
       "    <tr style=\"text-align: right;\">\n",
       "      <th></th>\n",
       "      <th></th>\n",
       "      <th>yearly</th>\n",
       "      <th>log10_daily</th>\n",
       "    </tr>\n",
       "    <tr>\n",
       "      <th>country</th>\n",
       "      <th>year</th>\n",
       "      <th></th>\n",
       "      <th></th>\n",
       "    </tr>\n",
       "  </thead>\n",
       "  <tbody>\n",
       "    <tr>\n",
       "      <th rowspan=\"2\" valign=\"top\">China</th>\n",
       "      <th>1965</th>\n",
       "      <td>1000</td>\n",
       "      <td>1000</td>\n",
       "    </tr>\n",
       "    <tr>\n",
       "      <th>2015</th>\n",
       "      <td>1000</td>\n",
       "      <td>1000</td>\n",
       "    </tr>\n",
       "    <tr>\n",
       "      <th rowspan=\"2\" valign=\"top\">USA</th>\n",
       "      <th>1965</th>\n",
       "      <td>1000</td>\n",
       "      <td>1000</td>\n",
       "    </tr>\n",
       "    <tr>\n",
       "      <th>2015</th>\n",
       "      <td>1000</td>\n",
       "      <td>1000</td>\n",
       "    </tr>\n",
       "  </tbody>\n",
       "</table>\n",
       "</div>"
      ],
      "text/plain": [
       "              yearly  log10_daily\n",
       "country year                     \n",
       "China   1965    1000         1000\n",
       "        2015    1000         1000\n",
       "USA     1965    1000         1000\n",
       "        2015    1000         1000"
      ]
     },
     "execution_count": 175,
     "metadata": {},
     "output_type": "execute_result"
    }
   ],
   "source": [
    "incomes.groupby(['country','year']).count()"
   ]
  },
  {
   "cell_type": "markdown",
   "metadata": {},
   "source": [
    "For each country and year, we have 1,000 entries, corresponding to a sample of 1,000 representative people.\n",
    "\n",
    "Hans Rosling argues that it is most insightful to look at the base-10 logarithm of the daily income. He points out that the actual difference that money makes in one's quality of life goes roughly logarithmically with daily income. For instance, if you have 16 dollars a day, you have to double it before things really change for you.\n",
    "\n",
    "No problem, that's easy to compute."
   ]
  },
  {
   "cell_type": "code",
   "execution_count": 78,
   "metadata": {},
   "outputs": [],
   "source": [
    "incomes['log10_daily'] = np.log10(incomes.yearly / 365.25)"
   ]
  },
  {
   "cell_type": "code",
   "execution_count": 79,
   "metadata": {},
   "outputs": [
    {
     "data": {
      "text/html": [
       "<div>\n",
       "<style scoped>\n",
       "    .dataframe tbody tr th:only-of-type {\n",
       "        vertical-align: middle;\n",
       "    }\n",
       "\n",
       "    .dataframe tbody tr th {\n",
       "        vertical-align: top;\n",
       "    }\n",
       "\n",
       "    .dataframe thead th {\n",
       "        text-align: right;\n",
       "    }\n",
       "</style>\n",
       "<table border=\"1\" class=\"dataframe\">\n",
       "  <thead>\n",
       "    <tr style=\"text-align: right;\">\n",
       "      <th></th>\n",
       "      <th></th>\n",
       "      <th>yearly</th>\n",
       "      <th>log10_daily</th>\n",
       "    </tr>\n",
       "    <tr>\n",
       "      <th>country</th>\n",
       "      <th>year</th>\n",
       "      <th></th>\n",
       "      <th></th>\n",
       "    </tr>\n",
       "  </thead>\n",
       "  <tbody>\n",
       "    <tr>\n",
       "      <th rowspan=\"5\" valign=\"top\">China</th>\n",
       "      <th>1965</th>\n",
       "      <td>374.584412</td>\n",
       "      <td>0.010959</td>\n",
       "    </tr>\n",
       "    <tr>\n",
       "      <th>1965</th>\n",
       "      <td>332.899298</td>\n",
       "      <td>-0.040277</td>\n",
       "    </tr>\n",
       "    <tr>\n",
       "      <th>1965</th>\n",
       "      <td>40.405060</td>\n",
       "      <td>-0.956154</td>\n",
       "    </tr>\n",
       "    <tr>\n",
       "      <th>1965</th>\n",
       "      <td>171.425536</td>\n",
       "      <td>-0.328515</td>\n",
       "    </tr>\n",
       "    <tr>\n",
       "      <th>1965</th>\n",
       "      <td>136.738420</td>\n",
       "      <td>-0.426700</td>\n",
       "    </tr>\n",
       "    <tr>\n",
       "      <th>...</th>\n",
       "      <th>...</th>\n",
       "      <td>...</td>\n",
       "      <td>...</td>\n",
       "    </tr>\n",
       "    <tr>\n",
       "      <th rowspan=\"5\" valign=\"top\">USA</th>\n",
       "      <th>2015</th>\n",
       "      <td>17830.112511</td>\n",
       "      <td>1.688564</td>\n",
       "    </tr>\n",
       "    <tr>\n",
       "      <th>2015</th>\n",
       "      <td>12448.307718</td>\n",
       "      <td>1.532520</td>\n",
       "    </tr>\n",
       "    <tr>\n",
       "      <th>2015</th>\n",
       "      <td>87588.746752</td>\n",
       "      <td>2.379858</td>\n",
       "    </tr>\n",
       "    <tr>\n",
       "      <th>2015</th>\n",
       "      <td>5597.465988</td>\n",
       "      <td>1.185401</td>\n",
       "    </tr>\n",
       "    <tr>\n",
       "      <th>2015</th>\n",
       "      <td>36709.679066</td>\n",
       "      <td>2.002190</td>\n",
       "    </tr>\n",
       "  </tbody>\n",
       "</table>\n",
       "<p>4000 rows × 2 columns</p>\n",
       "</div>"
      ],
      "text/plain": [
       "                    yearly  log10_daily\n",
       "country year                           \n",
       "China   1965    374.584412     0.010959\n",
       "        1965    332.899298    -0.040277\n",
       "        1965     40.405060    -0.956154\n",
       "        1965    171.425536    -0.328515\n",
       "        1965    136.738420    -0.426700\n",
       "...                    ...          ...\n",
       "USA     2015  17830.112511     1.688564\n",
       "        2015  12448.307718     1.532520\n",
       "        2015  87588.746752     2.379858\n",
       "        2015   5597.465988     1.185401\n",
       "        2015  36709.679066     2.002190\n",
       "\n",
       "[4000 rows x 2 columns]"
      ]
     },
     "execution_count": 79,
     "metadata": {},
     "output_type": "execute_result"
    }
   ],
   "source": [
    "incomes"
   ]
  },
  {
   "cell_type": "markdown",
   "metadata": {},
   "source": [
    "One way to describe the variation of a variable is by quantifying its range (more precisely, its **range of extremes**). However, focusing on the extremes is usually not very insightful; it is also imprecise given that our dataset is a limited sample of a population, rather than a complete census. Nevertheless, you get minimum and maxima in pandas with the min and max methods, applied to a DataFrame or to a Series."
   ]
  },
  {
   "cell_type": "code",
   "execution_count": 81,
   "metadata": {},
   "outputs": [
    {
     "data": {
      "text/plain": [
       "yearly         1782.589480\n",
       "log10_daily       0.688461\n",
       "dtype: float64"
      ]
     },
     "execution_count": 81,
     "metadata": {},
     "output_type": "execute_result"
    }
   ],
   "source": [
    "incomes.loc['USA', 2015].min()"
   ]
  },
  {
   "cell_type": "code",
   "execution_count": 82,
   "metadata": {},
   "outputs": [
    {
     "data": {
      "text/plain": [
       "yearly         256054.350614\n",
       "log10_daily         2.845742\n",
       "dtype: float64"
      ]
     },
     "execution_count": 82,
     "metadata": {},
     "output_type": "execute_result"
    }
   ],
   "source": [
    "incomes.loc['USA', 2015].max()"
   ]
  },
  {
   "cell_type": "markdown",
   "metadata": {},
   "source": [
    "Both minimum and maximum are **statistics**: descriptive numbers that we compute from the data, and that summarize them. Of course, another very important statistic is the **mean**, computed by summing up all the datapoints and dividing by the number of points. In symbols, we'd write a sum of the data points x_i divided by their number."
   ]
  },
  {
   "cell_type": "markdown",
   "metadata": {},
   "source": [
    "**mean**: $\\bar{x} = (\\sum_{i=1}^{N} x_i) / N$"
   ]
  },
  {
   "cell_type": "code",
   "execution_count": 95,
   "metadata": {},
   "outputs": [
    {
     "data": {
      "text/plain": [
       "yearly         22159.404538\n",
       "log10_daily        1.666931\n",
       "dtype: float64"
      ]
     },
     "execution_count": 95,
     "metadata": {},
     "output_type": "execute_result"
    }
   ],
   "source": [
    "incomes.loc['USA', 2015].mean()"
   ]
  },
  {
   "cell_type": "markdown",
   "metadata": {},
   "source": [
    "We can group by the index to compute a statistic for both countries and years:"
   ]
  },
  {
   "cell_type": "code",
   "execution_count": 89,
   "metadata": {},
   "outputs": [
    {
     "data": {
      "text/plain": [
       "country  year\n",
       "China    1965      241.117733\n",
       "         2015     3651.785585\n",
       "USA      1965    11529.607090\n",
       "         2015    22159.404538\n",
       "Name: yearly, dtype: float64"
      ]
     },
     "execution_count": 89,
     "metadata": {},
     "output_type": "execute_result"
    }
   ],
   "source": [
    "incomes.groupby(['country', 'year']).yearly.mean()"
   ]
  },
  {
   "cell_type": "markdown",
   "metadata": {},
   "source": [
    "The **variance** is a measure of variation tied closely to the mathematical concept of normal distribution. To compute it, we obtain deviations from the mean, square them, and take the average. For a technical reason, we actually divide by the number of points minus one.\n",
    "\n",
    "The square root of the variance is known as **standard deviation**, and taken together with the mean, it gives a pretty good idea of the center and variation of a distribution."
   ]
  },
  {
   "cell_type": "markdown",
   "metadata": {},
   "source": [
    "**Variance**: ${\\rm var}(x) = \\frac{1}{N - 1} \\sum_{i=0}^N (x_i - \\bar{x})^2$\n",
    "\n",
    "**Standard deviation**: ${\\rm std}(x) = \\sqrt{{\\rm var}(x)}$"
   ]
  },
  {
   "cell_type": "code",
   "execution_count": 93,
   "metadata": {},
   "outputs": [
    {
     "data": {
      "text/html": [
       "<div>\n",
       "<style scoped>\n",
       "    .dataframe tbody tr th:only-of-type {\n",
       "        vertical-align: middle;\n",
       "    }\n",
       "\n",
       "    .dataframe tbody tr th {\n",
       "        vertical-align: top;\n",
       "    }\n",
       "\n",
       "    .dataframe thead th {\n",
       "        text-align: right;\n",
       "    }\n",
       "</style>\n",
       "<table border=\"1\" class=\"dataframe\">\n",
       "  <thead>\n",
       "    <tr style=\"text-align: right;\">\n",
       "      <th></th>\n",
       "      <th></th>\n",
       "      <th>yearly</th>\n",
       "      <th>log10_daily</th>\n",
       "    </tr>\n",
       "    <tr>\n",
       "      <th>country</th>\n",
       "      <th>year</th>\n",
       "      <th></th>\n",
       "      <th></th>\n",
       "    </tr>\n",
       "  </thead>\n",
       "  <tbody>\n",
       "    <tr>\n",
       "      <th rowspan=\"2\" valign=\"top\">China</th>\n",
       "      <th>1965</th>\n",
       "      <td>2.785142e+04</td>\n",
       "      <td>0.088698</td>\n",
       "    </tr>\n",
       "    <tr>\n",
       "      <th>2015</th>\n",
       "      <td>7.657566e+06</td>\n",
       "      <td>0.091214</td>\n",
       "    </tr>\n",
       "    <tr>\n",
       "      <th rowspan=\"2\" valign=\"top\">USA</th>\n",
       "      <th>1965</th>\n",
       "      <td>6.507744e+07</td>\n",
       "      <td>0.068749</td>\n",
       "    </tr>\n",
       "    <tr>\n",
       "      <th>2015</th>\n",
       "      <td>3.836775e+08</td>\n",
       "      <td>0.098663</td>\n",
       "    </tr>\n",
       "  </tbody>\n",
       "</table>\n",
       "</div>"
      ],
      "text/plain": [
       "                    yearly  log10_daily\n",
       "country year                           \n",
       "China   1965  2.785142e+04     0.088698\n",
       "        2015  7.657566e+06     0.091214\n",
       "USA     1965  6.507744e+07     0.068749\n",
       "        2015  3.836775e+08     0.098663"
      ]
     },
     "execution_count": 93,
     "metadata": {},
     "output_type": "execute_result"
    }
   ],
   "source": [
    "incomes.groupby(['country', 'year']).var()"
   ]
  },
  {
   "cell_type": "code",
   "execution_count": 92,
   "metadata": {},
   "outputs": [
    {
     "data": {
      "text/html": [
       "<div>\n",
       "<style scoped>\n",
       "    .dataframe tbody tr th:only-of-type {\n",
       "        vertical-align: middle;\n",
       "    }\n",
       "\n",
       "    .dataframe tbody tr th {\n",
       "        vertical-align: top;\n",
       "    }\n",
       "\n",
       "    .dataframe thead th {\n",
       "        text-align: right;\n",
       "    }\n",
       "</style>\n",
       "<table border=\"1\" class=\"dataframe\">\n",
       "  <thead>\n",
       "    <tr style=\"text-align: right;\">\n",
       "      <th></th>\n",
       "      <th></th>\n",
       "      <th>yearly</th>\n",
       "      <th>log10_daily</th>\n",
       "    </tr>\n",
       "    <tr>\n",
       "      <th>country</th>\n",
       "      <th>year</th>\n",
       "      <th></th>\n",
       "      <th></th>\n",
       "    </tr>\n",
       "  </thead>\n",
       "  <tbody>\n",
       "    <tr>\n",
       "      <th rowspan=\"2\" valign=\"top\">China</th>\n",
       "      <th>1965</th>\n",
       "      <td>166.887455</td>\n",
       "      <td>0.297822</td>\n",
       "    </tr>\n",
       "    <tr>\n",
       "      <th>2015</th>\n",
       "      <td>2767.230725</td>\n",
       "      <td>0.302017</td>\n",
       "    </tr>\n",
       "    <tr>\n",
       "      <th rowspan=\"2\" valign=\"top\">USA</th>\n",
       "      <th>1965</th>\n",
       "      <td>8067.058766</td>\n",
       "      <td>0.262200</td>\n",
       "    </tr>\n",
       "    <tr>\n",
       "      <th>2015</th>\n",
       "      <td>19587.688162</td>\n",
       "      <td>0.314107</td>\n",
       "    </tr>\n",
       "  </tbody>\n",
       "</table>\n",
       "</div>"
      ],
      "text/plain": [
       "                    yearly  log10_daily\n",
       "country year                           \n",
       "China   1965    166.887455     0.297822\n",
       "        2015   2767.230725     0.302017\n",
       "USA     1965   8067.058766     0.262200\n",
       "        2015  19587.688162     0.314107"
      ]
     },
     "execution_count": 92,
     "metadata": {},
     "output_type": "execute_result"
    }
   ],
   "source": [
    "incomes.groupby(['country', 'year']).std()"
   ]
  },
  {
   "cell_type": "markdown",
   "metadata": {},
   "source": [
    "The **quantile** is a statistic that describes the value for which a certain percentage of the datapoints lies below. We compute it as follows. Taken together, the 25% and 75% quantiles specify a **coverage interval** that includes 50% of the datapoints. The 50% quantile is known as the median.\n",
    "\n",
    "From this table, we see, say, that in 2015 approximately half of the Chinese population made less than 2869 dollars, and approximately 25% made less than $1839."
   ]
  },
  {
   "cell_type": "code",
   "execution_count": 127,
   "metadata": {},
   "outputs": [
    {
     "data": {
      "text/html": [
       "<div>\n",
       "<style scoped>\n",
       "    .dataframe tbody tr th:only-of-type {\n",
       "        vertical-align: middle;\n",
       "    }\n",
       "\n",
       "    .dataframe tbody tr th {\n",
       "        vertical-align: top;\n",
       "    }\n",
       "\n",
       "    .dataframe thead th {\n",
       "        text-align: right;\n",
       "    }\n",
       "</style>\n",
       "<table border=\"1\" class=\"dataframe\">\n",
       "  <thead>\n",
       "    <tr style=\"text-align: right;\">\n",
       "      <th></th>\n",
       "      <th></th>\n",
       "      <th>25%</th>\n",
       "      <th>50%</th>\n",
       "      <th>75%</th>\n",
       "    </tr>\n",
       "    <tr>\n",
       "      <th>country</th>\n",
       "      <th>year</th>\n",
       "      <th></th>\n",
       "      <th></th>\n",
       "      <th></th>\n",
       "    </tr>\n",
       "  </thead>\n",
       "  <tbody>\n",
       "    <tr>\n",
       "      <th rowspan=\"2\" valign=\"top\">China</th>\n",
       "      <th>1965</th>\n",
       "      <td>125.607498</td>\n",
       "      <td>203.478954</td>\n",
       "      <td>315.248787</td>\n",
       "    </tr>\n",
       "    <tr>\n",
       "      <th>2015</th>\n",
       "      <td>1839.690284</td>\n",
       "      <td>2869.259934</td>\n",
       "      <td>4659.306189</td>\n",
       "    </tr>\n",
       "    <tr>\n",
       "      <th rowspan=\"2\" valign=\"top\">USA</th>\n",
       "      <th>1965</th>\n",
       "      <td>6386.986126</td>\n",
       "      <td>9515.378686</td>\n",
       "      <td>14241.246328</td>\n",
       "    </tr>\n",
       "    <tr>\n",
       "      <th>2015</th>\n",
       "      <td>10771.205045</td>\n",
       "      <td>16859.098812</td>\n",
       "      <td>26648.526889</td>\n",
       "    </tr>\n",
       "  </tbody>\n",
       "</table>\n",
       "</div>"
      ],
      "text/plain": [
       "                       25%           50%           75%\n",
       "country year                                          \n",
       "China   1965    125.607498    203.478954    315.248787\n",
       "        2015   1839.690284   2869.259934   4659.306189\n",
       "USA     1965   6386.986126   9515.378686  14241.246328\n",
       "        2015  10771.205045  16859.098812  26648.526889"
      ]
     },
     "execution_count": 127,
     "metadata": {},
     "output_type": "execute_result"
    }
   ],
   "source": [
    "pd.DataFrame({'25%': incomes.groupby(['country', 'year']).yearly.quantile(0.25),\n",
    "              '50%': incomes.groupby(['country', 'year']).yearly.median(),\n",
    "              '75%': incomes.groupby(['country', 'year']).yearly.quantile(0.75)})"
   ]
  },
  {
   "cell_type": "markdown",
   "metadata": {},
   "source": [
    "The inverse of the quantile consists in finding the percentage of the population at which a given value (or **score**) lies. To find it, we need to go outside pandas, to scipy.stats. To compute a non-pandas statistic with groupby, we use `apply`.\n",
    "\n",
    "In the China of 1965, no one in our sample made 5000 dollars a year. By contrast, it is a very low income in the States in 2015."
   ]
  },
  {
   "cell_type": "code",
   "execution_count": 150,
   "metadata": {},
   "outputs": [],
   "source": [
    "import scipy.stats"
   ]
  },
  {
   "cell_type": "code",
   "execution_count": 151,
   "metadata": {},
   "outputs": [
    {
     "data": {
      "text/plain": [
       "country  year\n",
       "China    1965    100.0\n",
       "         2015     79.8\n",
       "USA      1965     13.7\n",
       "         2015      4.5\n",
       "Name: yearly, dtype: float64"
      ]
     },
     "execution_count": 151,
     "metadata": {},
     "output_type": "execute_result"
    }
   ],
   "source": [
    "incomes.groupby(['country', 'year']).yearly.apply(lambda d: scipy.stats.percentileofscore(d, 5000))"
   ]
  },
  {
   "cell_type": "markdown",
   "metadata": {},
   "source": [
    "pandas offers a convenient method, `describe`, which returns several summary statistics at once. Between 1965 and 2015, China made great strides, but it had still some way to go. We see these clearly if we take USA/2015 values as a reference and use them to normalize the other entries."
   ]
  },
  {
   "cell_type": "code",
   "execution_count": 162,
   "metadata": {},
   "outputs": [
    {
     "data": {
      "text/html": [
       "<div>\n",
       "<style scoped>\n",
       "    .dataframe tbody tr th:only-of-type {\n",
       "        vertical-align: middle;\n",
       "    }\n",
       "\n",
       "    .dataframe tbody tr th {\n",
       "        vertical-align: top;\n",
       "    }\n",
       "\n",
       "    .dataframe thead th {\n",
       "        text-align: right;\n",
       "    }\n",
       "</style>\n",
       "<table border=\"1\" class=\"dataframe\">\n",
       "  <thead>\n",
       "    <tr style=\"text-align: right;\">\n",
       "      <th></th>\n",
       "      <th></th>\n",
       "      <th>count</th>\n",
       "      <th>mean</th>\n",
       "      <th>std</th>\n",
       "      <th>min</th>\n",
       "      <th>25%</th>\n",
       "      <th>50%</th>\n",
       "      <th>75%</th>\n",
       "      <th>max</th>\n",
       "    </tr>\n",
       "    <tr>\n",
       "      <th>year</th>\n",
       "      <th>country</th>\n",
       "      <th></th>\n",
       "      <th></th>\n",
       "      <th></th>\n",
       "      <th></th>\n",
       "      <th></th>\n",
       "      <th></th>\n",
       "      <th></th>\n",
       "      <th></th>\n",
       "    </tr>\n",
       "  </thead>\n",
       "  <tbody>\n",
       "    <tr>\n",
       "      <th rowspan=\"2\" valign=\"top\">1965</th>\n",
       "      <th>China</th>\n",
       "      <td>1.0</td>\n",
       "      <td>0.010881</td>\n",
       "      <td>0.008520</td>\n",
       "      <td>0.008593</td>\n",
       "      <td>0.011661</td>\n",
       "      <td>0.012069</td>\n",
       "      <td>0.011830</td>\n",
       "      <td>0.007736</td>\n",
       "    </tr>\n",
       "    <tr>\n",
       "      <th>USA</th>\n",
       "      <td>1.0</td>\n",
       "      <td>0.520303</td>\n",
       "      <td>0.411843</td>\n",
       "      <td>0.855450</td>\n",
       "      <td>0.592969</td>\n",
       "      <td>0.564406</td>\n",
       "      <td>0.534410</td>\n",
       "      <td>0.350711</td>\n",
       "    </tr>\n",
       "    <tr>\n",
       "      <th rowspan=\"2\" valign=\"top\">2015</th>\n",
       "      <th>China</th>\n",
       "      <td>1.0</td>\n",
       "      <td>0.164796</td>\n",
       "      <td>0.141274</td>\n",
       "      <td>0.104280</td>\n",
       "      <td>0.170797</td>\n",
       "      <td>0.170191</td>\n",
       "      <td>0.174843</td>\n",
       "      <td>0.076493</td>\n",
       "    </tr>\n",
       "    <tr>\n",
       "      <th>USA</th>\n",
       "      <td>1.0</td>\n",
       "      <td>1.000000</td>\n",
       "      <td>1.000000</td>\n",
       "      <td>1.000000</td>\n",
       "      <td>1.000000</td>\n",
       "      <td>1.000000</td>\n",
       "      <td>1.000000</td>\n",
       "      <td>1.000000</td>\n",
       "    </tr>\n",
       "  </tbody>\n",
       "</table>\n",
       "</div>"
      ],
      "text/plain": [
       "              count      mean       std       min       25%       50%  \\\n",
       "year country                                                            \n",
       "1965 China      1.0  0.010881  0.008520  0.008593  0.011661  0.012069   \n",
       "     USA        1.0  0.520303  0.411843  0.855450  0.592969  0.564406   \n",
       "2015 China      1.0  0.164796  0.141274  0.104280  0.170797  0.170191   \n",
       "     USA        1.0  1.000000  1.000000  1.000000  1.000000  1.000000   \n",
       "\n",
       "                   75%       max  \n",
       "year country                      \n",
       "1965 China    0.011830  0.007736  \n",
       "     USA      0.534410  0.350711  \n",
       "2015 China    0.174843  0.076493  \n",
       "     USA      1.000000  1.000000  "
      ]
     },
     "execution_count": 162,
     "metadata": {},
     "output_type": "execute_result"
    }
   ],
   "source": [
    "incomes.groupby(['year', 'country']).yearly.describe() / incomes.loc['USA', 2015].yearly.describe()"
   ]
  },
  {
   "cell_type": "markdown",
   "metadata": {},
   "source": [
    "Great. In the next video we'll move on to plotting these distributions."
   ]
  }
 ],
 "metadata": {
  "kernelspec": {
   "display_name": "Python 3 (ipykernel)",
   "language": "python",
   "name": "python3"
  },
  "language_info": {
   "codemirror_mode": {
    "name": "ipython",
    "version": 3
   },
   "file_extension": ".py",
   "mimetype": "text/x-python",
   "name": "python",
   "nbconvert_exporter": "python",
   "pygments_lexer": "ipython3",
   "version": "3.12.2"
  },
  "toc": {
   "base_numbering": 1,
   "nav_menu": {},
   "number_sections": true,
   "sideBar": true,
   "skip_h1_title": false,
   "title_cell": "Table of Contents",
   "title_sidebar": "Contents",
   "toc_cell": false,
   "toc_position": {},
   "toc_section_display": true,
   "toc_window_display": false
  }
 },
 "nbformat": 4,
 "nbformat_minor": 4
}
