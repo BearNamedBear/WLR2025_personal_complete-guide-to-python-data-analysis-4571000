{
 "cells": [
  {
   "cell_type": "markdown",
   "id": "7a2bc430-5129-469e-b2de-d2eb1148fc81",
   "metadata": {},
   "source": [
    "# 09_05: summarizing and visualizing categorical data"
   ]
  },
  {
   "cell_type": "code",
   "execution_count": 1,
   "id": "39a63126-be8b-47d6-9581-e31688f4a21f",
   "metadata": {},
   "outputs": [],
   "source": [
    "import math\n",
    "import collections\n",
    "import dataclasses\n",
    "import datetime\n",
    "\n",
    "import numpy as np\n",
    "import pandas as pd\n",
    "import matplotlib.pyplot as pp"
   ]
  },
  {
   "cell_type": "markdown",
   "id": "2b2c68f4-a2d7-4adc-81be-4d119332fe97",
   "metadata": {},
   "source": [
    "We move on to categorical variables... those that can take a finite and discrete set of values.\n",
    "\n",
    "How do we describe variation in categorical variables? Well, with tables, of course!"
   ]
  },
  {
   "cell_type": "markdown",
   "id": "1bca6b42-a5bb-434b-8fcb-65ac93b5daed",
   "metadata": {},
   "source": [
    "We switch from gapminder to the \"Whickham\" dataset discussed by Kaplan in his excellent textbook \"Statistical modeling\". The table records interviews with women in Whickham, England, in 1973, who were asked if they were smokers. The interviews were followed up 20 years later, when it was recorded if the women were still alive. \n",
    "\n",
    "The categorical variables in this case, smoker and outcome, are both binary (yes/no)."
   ]
  },
  {
   "cell_type": "code",
   "execution_count": 19,
   "id": "552e0bea-d0c2-47c0-b546-78a37a7fb31b",
   "metadata": {},
   "outputs": [],
   "source": [
    "smoking = pd.read_csv('whickham.csv')\n",
    "\n",
    "# encoding the variables explicitly as categories will save memory and CPU\n",
    "smoking.smoker = smoking.smoker.astype('category')\n",
    "smoking.outcome = smoking.outcome.astype('category')"
   ]
  },
  {
   "cell_type": "code",
   "execution_count": 20,
   "id": "79eb9253-d44f-43bb-8a0e-9be4b2e90ed8",
   "metadata": {},
   "outputs": [
    {
     "data": {
      "text/html": [
       "<div>\n",
       "<style scoped>\n",
       "    .dataframe tbody tr th:only-of-type {\n",
       "        vertical-align: middle;\n",
       "    }\n",
       "\n",
       "    .dataframe tbody tr th {\n",
       "        vertical-align: top;\n",
       "    }\n",
       "\n",
       "    .dataframe thead th {\n",
       "        text-align: right;\n",
       "    }\n",
       "</style>\n",
       "<table border=\"1\" class=\"dataframe\">\n",
       "  <thead>\n",
       "    <tr style=\"text-align: right;\">\n",
       "      <th></th>\n",
       "      <th>age</th>\n",
       "      <th>smoker</th>\n",
       "      <th>outcome</th>\n",
       "    </tr>\n",
       "  </thead>\n",
       "  <tbody>\n",
       "    <tr>\n",
       "      <th>0</th>\n",
       "      <td>23</td>\n",
       "      <td>Yes</td>\n",
       "      <td>Alive</td>\n",
       "    </tr>\n",
       "    <tr>\n",
       "      <th>1</th>\n",
       "      <td>18</td>\n",
       "      <td>Yes</td>\n",
       "      <td>Alive</td>\n",
       "    </tr>\n",
       "    <tr>\n",
       "      <th>2</th>\n",
       "      <td>71</td>\n",
       "      <td>Yes</td>\n",
       "      <td>Dead</td>\n",
       "    </tr>\n",
       "    <tr>\n",
       "      <th>3</th>\n",
       "      <td>67</td>\n",
       "      <td>No</td>\n",
       "      <td>Alive</td>\n",
       "    </tr>\n",
       "    <tr>\n",
       "      <th>4</th>\n",
       "      <td>64</td>\n",
       "      <td>No</td>\n",
       "      <td>Alive</td>\n",
       "    </tr>\n",
       "  </tbody>\n",
       "</table>\n",
       "</div>"
      ],
      "text/plain": [
       "   age smoker outcome\n",
       "0   23    Yes   Alive\n",
       "1   18    Yes   Alive\n",
       "2   71    Yes    Dead\n",
       "3   67     No   Alive\n",
       "4   64     No   Alive"
      ]
     },
     "execution_count": 20,
     "metadata": {},
     "output_type": "execute_result"
    }
   ],
   "source": [
    "smoking.head()"
   ]
  },
  {
   "cell_type": "markdown",
   "id": "6279ad5c-6eb9-4801-80ac-6209e6ce5657",
   "metadata": {},
   "source": [
    "Using `value_counts()`, we can tally the explanatory (smoker) and response (outcome) variables separately. This does not tell us much, other than both pairs of groups are represented fairly well: smokers and nonsmokers, women who survived for twenty years and those who didn't. Wrapping with a `DataFrame` makes the output a little prettier."
   ]
  },
  {
   "cell_type": "code",
   "execution_count": 28,
   "id": "e660b263-123b-47ec-8682-7c5d7e09fb57",
   "metadata": {},
   "outputs": [
    {
     "data": {
      "text/plain": [
       "smoker\n",
       "No     732\n",
       "Yes    582\n",
       "Name: count, dtype: int64"
      ]
     },
     "execution_count": 28,
     "metadata": {},
     "output_type": "execute_result"
    }
   ],
   "source": [
    "smoking.smoker.value_counts()"
   ]
  },
  {
   "cell_type": "code",
   "execution_count": 29,
   "id": "4b032649-55e3-4024-b598-0a8e0f589449",
   "metadata": {},
   "outputs": [
    {
     "data": {
      "text/plain": [
       "outcome\n",
       "Alive    945\n",
       "Dead     369\n",
       "Name: count, dtype: int64"
      ]
     },
     "execution_count": 29,
     "metadata": {},
     "output_type": "execute_result"
    }
   ],
   "source": [
    "smoking.outcome.value_counts()"
   ]
  },
  {
   "cell_type": "markdown",
   "id": "1e58fb8b-1046-4c23-a9bd-c22b0dae8834",
   "metadata": {},
   "source": [
    "If we want to see the values as fractions of the total number of records, we add `normalize=True`. These fractions are known in statistics as **proportions**."
   ]
  },
  {
   "cell_type": "code",
   "execution_count": 31,
   "id": "f275c799-3e02-4563-98af-82659222d155",
   "metadata": {},
   "outputs": [
    {
     "data": {
      "text/plain": [
       "outcome\n",
       "Alive    0.719178\n",
       "Dead     0.280822\n",
       "Name: proportion, dtype: float64"
      ]
     },
     "execution_count": 31,
     "metadata": {},
     "output_type": "execute_result"
    }
   ],
   "source": [
    "smoking.outcome.value_counts(normalize=True)"
   ]
  },
  {
   "cell_type": "markdown",
   "id": "965daee2-3ddc-4fa9-9c33-640c54b51193",
   "metadata": {},
   "source": [
    "We are looking for an **association**: that is, we wish to evaluate a claim that the groups of smokers and nonsmokers are different with regards to their longevity. So we break down the proportion of outcomes by smoker group."
   ]
  },
  {
   "cell_type": "code",
   "execution_count": 38,
   "id": "f1284c8e-7dfd-42a6-8c20-3052aba12609",
   "metadata": {},
   "outputs": [
    {
     "data": {
      "text/plain": [
       "smoker  outcome\n",
       "No      Alive      0.685792\n",
       "        Dead       0.314208\n",
       "Yes     Alive      0.761168\n",
       "        Dead       0.238832\n",
       "Name: proportion, dtype: float64"
      ]
     },
     "execution_count": 38,
     "metadata": {},
     "output_type": "execute_result"
    }
   ],
   "source": [
    "# specifying observer=True includes only categories that are represented in the data; here it avoids a warning\n",
    "smoking.groupby(\"smoker\", observed=True).outcome.value_counts(normalize=True)"
   ]
  },
  {
   "cell_type": "markdown",
   "id": "9d67eabc-5495-4ee3-8db9-558e1348bd9d",
   "metadata": {},
   "source": [
    "This series has a two-level multiindex. We move one of the levels to a column using unstack"
   ]
  },
  {
   "cell_type": "code",
   "execution_count": 45,
   "id": "e4858e0f-9e50-4cb2-8859-f31dfe21bd1e",
   "metadata": {},
   "outputs": [
    {
     "data": {
      "text/html": [
       "<div>\n",
       "<style scoped>\n",
       "    .dataframe tbody tr th:only-of-type {\n",
       "        vertical-align: middle;\n",
       "    }\n",
       "\n",
       "    .dataframe tbody tr th {\n",
       "        vertical-align: top;\n",
       "    }\n",
       "\n",
       "    .dataframe thead th {\n",
       "        text-align: right;\n",
       "    }\n",
       "</style>\n",
       "<table border=\"1\" class=\"dataframe\">\n",
       "  <thead>\n",
       "    <tr style=\"text-align: right;\">\n",
       "      <th>outcome</th>\n",
       "      <th>Alive</th>\n",
       "      <th>Dead</th>\n",
       "    </tr>\n",
       "    <tr>\n",
       "      <th>smoker</th>\n",
       "      <th></th>\n",
       "      <th></th>\n",
       "    </tr>\n",
       "  </thead>\n",
       "  <tbody>\n",
       "    <tr>\n",
       "      <th>No</th>\n",
       "      <td>0.685792</td>\n",
       "      <td>0.314208</td>\n",
       "    </tr>\n",
       "    <tr>\n",
       "      <th>Yes</th>\n",
       "      <td>0.761168</td>\n",
       "      <td>0.238832</td>\n",
       "    </tr>\n",
       "  </tbody>\n",
       "</table>\n",
       "</div>"
      ],
      "text/plain": [
       "outcome     Alive      Dead\n",
       "smoker                     \n",
       "No       0.685792  0.314208\n",
       "Yes      0.761168  0.238832"
      ]
     },
     "execution_count": 45,
     "metadata": {},
     "output_type": "execute_result"
    }
   ],
   "source": [
    "smoking.groupby(\"smoker\", observed=True).outcome.value_counts(normalize=True).unstack()"
   ]
  },
  {
   "cell_type": "markdown",
   "id": "2a524a92-f5cf-4e5b-bd20-dfe7ce7e3d58",
   "metadata": {},
   "source": [
    "This table is a bit surprising! It seems that smoking improves the chance of being alive twenty years later!\n",
    "\n",
    "The problem is that we're not **controlling** for other variables, such as age. If smokers are younger on average at the beginning of the study, then it stands to reason that more of them would be alive after twenty years, no matter what."
   ]
  },
  {
   "cell_type": "markdown",
   "id": "307405c3-db4c-4181-9f6c-b0f1003304d9",
   "metadata": {},
   "source": [
    "To investigate this puzzle, we use a method that statisticians call **stratification**. We divide the people in the table (that is, our cases) into age groups. The pandas function to do this is `cut`. We see that the result is another categorical variable."
   ]
  },
  {
   "cell_type": "code",
   "execution_count": 66,
   "id": "5c327407-d18d-4646-b13f-9d8ae453e5c4",
   "metadata": {},
   "outputs": [
    {
     "data": {
      "text/plain": [
       "0       (15, 40]\n",
       "1       (15, 40]\n",
       "2       (65, 90]\n",
       "3       (65, 90]\n",
       "4       (40, 65]\n",
       "          ...   \n",
       "1309    (15, 40]\n",
       "1310    (15, 40]\n",
       "1311    (15, 40]\n",
       "1312    (40, 65]\n",
       "1313    (40, 65]\n",
       "Name: agegroup, Length: 1314, dtype: category\n",
       "Categories (3, interval[int64, right]): [(15, 40] < (40, 65] < (65, 90]]"
      ]
     },
     "execution_count": 66,
     "metadata": {},
     "output_type": "execute_result"
    }
   ],
   "source": [
    "smoking['agegroup'] = pd.cut(smoking.age, bins=[15,40,65,90])\n",
    "smoking['agegroup']"
   ]
  },
  {
   "cell_type": "markdown",
   "id": "3873eaf9-ed95-4bff-83f3-29dbd6e6ba5e",
   "metadata": {},
   "source": [
    "This time, we group the data first by ageGroup, then by smoker status.\n",
    "\n",
    "In each age group, nonsmokers have better life expectancy. In fact, these data represent an example of **Simpson's paradox**, a phenomenon in probability and statistics in which a trend appears in several different groups of data but disappears or reverses when these groups are combined."
   ]
  },
  {
   "cell_type": "code",
   "execution_count": 67,
   "id": "9d346b14-76ed-45d8-93f6-7b0ab6c82ea7",
   "metadata": {},
   "outputs": [
    {
     "data": {
      "text/html": [
       "<div>\n",
       "<style scoped>\n",
       "    .dataframe tbody tr th:only-of-type {\n",
       "        vertical-align: middle;\n",
       "    }\n",
       "\n",
       "    .dataframe tbody tr th {\n",
       "        vertical-align: top;\n",
       "    }\n",
       "\n",
       "    .dataframe thead th {\n",
       "        text-align: right;\n",
       "    }\n",
       "</style>\n",
       "<table border=\"1\" class=\"dataframe\">\n",
       "  <thead>\n",
       "    <tr style=\"text-align: right;\">\n",
       "      <th></th>\n",
       "      <th>outcome</th>\n",
       "      <th>Alive</th>\n",
       "      <th>Dead</th>\n",
       "    </tr>\n",
       "    <tr>\n",
       "      <th>agegroup</th>\n",
       "      <th>smoker</th>\n",
       "      <th></th>\n",
       "      <th></th>\n",
       "    </tr>\n",
       "  </thead>\n",
       "  <tbody>\n",
       "    <tr>\n",
       "      <th rowspan=\"2\" valign=\"top\">(15, 40]</th>\n",
       "      <th>No</th>\n",
       "      <td>0.969900</td>\n",
       "      <td>0.030100</td>\n",
       "    </tr>\n",
       "    <tr>\n",
       "      <th>Yes</th>\n",
       "      <td>0.958506</td>\n",
       "      <td>0.041494</td>\n",
       "    </tr>\n",
       "    <tr>\n",
       "      <th rowspan=\"2\" valign=\"top\">(40, 65]</th>\n",
       "      <th>No</th>\n",
       "      <td>0.739130</td>\n",
       "      <td>0.260870</td>\n",
       "    </tr>\n",
       "    <tr>\n",
       "      <th>Yes</th>\n",
       "      <td>0.705479</td>\n",
       "      <td>0.294521</td>\n",
       "    </tr>\n",
       "    <tr>\n",
       "      <th rowspan=\"2\" valign=\"top\">(65, 90]</th>\n",
       "      <th>No</th>\n",
       "      <td>0.138889</td>\n",
       "      <td>0.861111</td>\n",
       "    </tr>\n",
       "    <tr>\n",
       "      <th>Yes</th>\n",
       "      <td>0.122449</td>\n",
       "      <td>0.877551</td>\n",
       "    </tr>\n",
       "  </tbody>\n",
       "</table>\n",
       "</div>"
      ],
      "text/plain": [
       "outcome             Alive      Dead\n",
       "agegroup smoker                    \n",
       "(15, 40] No      0.969900  0.030100\n",
       "         Yes     0.958506  0.041494\n",
       "(40, 65] No      0.739130  0.260870\n",
       "         Yes     0.705479  0.294521\n",
       "(65, 90] No      0.138889  0.861111\n",
       "         Yes     0.122449  0.877551"
      ]
     },
     "execution_count": 67,
     "metadata": {},
     "output_type": "execute_result"
    }
   ],
   "source": [
    "smoking.groupby(['agegroup', 'smoker'], observed=True).outcome.value_counts(normalize=True).unstack()"
   ]
  },
  {
   "cell_type": "markdown",
   "id": "1cfed58b-564d-4cd7-be46-46cf1e0d818a",
   "metadata": {},
   "source": [
    "Now we plot!"
   ]
  },
  {
   "cell_type": "markdown",
   "id": "2808146a-2888-4f67-a9c6-8d3fa05144b3",
   "metadata": {},
   "source": [
    "We start by plotting counts separately for our response and explanatory variables."
   ]
  },
  {
   "cell_type": "code",
   "execution_count": 92,
   "id": "6247f23c-056e-4e07-bbb6-e03a7c8f3374",
   "metadata": {},
   "outputs": [
    {
     "data": {
      "image/png": "[encoded data removed]",
      "text/plain": [
       "<Figure size 600x200 with 2 Axes>"
      ]
     },
     "metadata": {},
     "output_type": "display_data"
    }
   ],
   "source": [
    "pp.figure(figsize=(6,2))\n",
    "\n",
    "pp.subplot(1,2,1)\n",
    "smoking.outcome.value_counts().plot(kind='bar', color=['C0','C1']) \n",
    "pp.title('outcome')\n",
    "\n",
    "pp.subplot(1,2,2)\n",
    "smoking.smoker.value_counts().plot(kind='bar', color=['C2','C3'])\n",
    "pp.title('smoker');"
   ]
  },
  {
   "cell_type": "markdown",
   "id": "edbb4042-d880-40c3-aaba-c6920777e58f",
   "metadata": {},
   "source": [
    "The bars could be horizontal..."
   ]
  },
  {
   "cell_type": "code",
   "execution_count": 96,
   "id": "0675184c-83e2-487c-85a6-cfe0a11a0505",
   "metadata": {},
   "outputs": [
    {
     "data": {
      "text/plain": [
       "<Axes: ylabel='outcome'>"
      ]
     },
     "execution_count": 96,
     "metadata": {},
     "output_type": "execute_result"
    },
    {
     "data": {
      "image/png": "[encoded data removed]",
      "text/plain": [
       "<Figure size 300x200 with 1 Axes>"
      ]
     },
     "metadata": {},
     "output_type": "display_data"
    }
   ],
   "source": [
    "smoking.outcome.value_counts().plot(kind='barh', color=['C0','C1'], figsize=(3,2)) "
   ]
  },
  {
   "cell_type": "markdown",
   "id": "74a41a3b-30ca-4e86-9a79-60b3eda61fa4",
   "metadata": {},
   "source": [
    "...or even pie charts."
   ]
  },
  {
   "cell_type": "code",
   "execution_count": 97,
   "id": "7d742f10-2e06-401e-9af2-c8220d4d083d",
   "metadata": {},
   "outputs": [
    {
     "data": {
      "text/plain": [
       "<Axes: ylabel='count'>"
      ]
     },
     "execution_count": 97,
     "metadata": {},
     "output_type": "execute_result"
    },
    {
     "data": {
      "image/png": "[encoded data removed]",
      "text/plain": [
       "<Figure size 300x200 with 1 Axes>"
      ]
     },
     "metadata": {},
     "output_type": "display_data"
    }
   ],
   "source": [
    "smoking.outcome.value_counts().plot(kind='pie', color=['C0','C1'], figsize=(3,2)) "
   ]
  },
  {
   "cell_type": "markdown",
   "id": "b7fb3b6e-ba6c-4637-a27c-01cf4bb1ef0f",
   "metadata": {},
   "source": [
    "Now let's try to break up the visualization so that we show the outcome by smoker status. We have already created a table grouped by outcome. Plotting as a bar will handle that just fine."
   ]
  },
  {
   "cell_type": "code",
   "execution_count": 116,
   "id": "b8a4dd0f-9311-4a70-8f63-5991272d1cfd",
   "metadata": {},
   "outputs": [
    {
     "data": {
      "text/html": [
       "<div>\n",
       "<style scoped>\n",
       "    .dataframe tbody tr th:only-of-type {\n",
       "        vertical-align: middle;\n",
       "    }\n",
       "\n",
       "    .dataframe tbody tr th {\n",
       "        vertical-align: top;\n",
       "    }\n",
       "\n",
       "    .dataframe thead th {\n",
       "        text-align: right;\n",
       "    }\n",
       "</style>\n",
       "<table border=\"1\" class=\"dataframe\">\n",
       "  <thead>\n",
       "    <tr style=\"text-align: right;\">\n",
       "      <th>outcome</th>\n",
       "      <th>Alive</th>\n",
       "      <th>Dead</th>\n",
       "    </tr>\n",
       "    <tr>\n",
       "      <th>smoker</th>\n",
       "      <th></th>\n",
       "      <th></th>\n",
       "    </tr>\n",
       "  </thead>\n",
       "  <tbody>\n",
       "    <tr>\n",
       "      <th>No</th>\n",
       "      <td>0.685792</td>\n",
       "      <td>0.314208</td>\n",
       "    </tr>\n",
       "    <tr>\n",
       "      <th>Yes</th>\n",
       "      <td>0.761168</td>\n",
       "      <td>0.238832</td>\n",
       "    </tr>\n",
       "  </tbody>\n",
       "</table>\n",
       "</div>"
      ],
      "text/plain": [
       "outcome     Alive      Dead\n",
       "smoker                     \n",
       "No       0.685792  0.314208\n",
       "Yes      0.761168  0.238832"
      ]
     },
     "execution_count": 116,
     "metadata": {},
     "output_type": "execute_result"
    }
   ],
   "source": [
    "grouped = smoking.groupby(\"smoker\", observed=True).outcome.value_counts(normalize=True).unstack()\n",
    "grouped"
   ]
  },
  {
   "cell_type": "code",
   "execution_count": 125,
   "id": "8cf05d8b-7a6e-409b-a49f-08f28eefa873",
   "metadata": {},
   "outputs": [
    {
     "data": {
      "image/png": "[encoded data removed]",
      "text/plain": [
       "<Figure size 400x300 with 1 Axes>"
      ]
     },
     "metadata": {},
     "output_type": "display_data"
    }
   ],
   "source": [
    "axes = grouped.plot(kind='bar', figsize=(4,3))\n",
    "axes.legend(loc='upper right', bbox_to_anchor=(1.1, 1)); # fix legend location"
   ]
  },
  {
   "cell_type": "markdown",
   "id": "8efc60ed-08a7-4b36-b878-45d84dde0d3b",
   "metadata": {},
   "source": [
    "We can also do a stacked histogram!"
   ]
  },
  {
   "cell_type": "code",
   "execution_count": 130,
   "id": "57d7bb5b-709b-4ecc-9ac9-61253ec35874",
   "metadata": {},
   "outputs": [
    {
     "data": {
      "image/png": "[encoded data removed]",
      "text/plain": [
       "<Figure size 400x300 with 1 Axes>"
      ]
     },
     "metadata": {},
     "output_type": "display_data"
    }
   ],
   "source": [
    "axes = grouped.plot(kind='bar', figsize=(4,3), stacked=True)\n",
    "axes.legend(loc='upper right', bbox_to_anchor=(1.25, 1)); # fix legend location"
   ]
  },
  {
   "cell_type": "markdown",
   "id": "5bc40848-32de-4b06-8e99-e012e557b427",
   "metadata": {},
   "source": [
    "Hm, this plot supports the original suspicious finding that smoking improves the outcome. Now let's do stratification."
   ]
  },
  {
   "cell_type": "code",
   "execution_count": 183,
   "id": "3481d78d-c32d-44ac-9229-1090f4efeaee",
   "metadata": {},
   "outputs": [
    {
     "data": {
      "text/html": [
       "<div>\n",
       "<style scoped>\n",
       "    .dataframe tbody tr th:only-of-type {\n",
       "        vertical-align: middle;\n",
       "    }\n",
       "\n",
       "    .dataframe tbody tr th {\n",
       "        vertical-align: top;\n",
       "    }\n",
       "\n",
       "    .dataframe thead th {\n",
       "        text-align: right;\n",
       "    }\n",
       "</style>\n",
       "<table border=\"1\" class=\"dataframe\">\n",
       "  <thead>\n",
       "    <tr style=\"text-align: right;\">\n",
       "      <th></th>\n",
       "      <th>outcome</th>\n",
       "      <th>Alive</th>\n",
       "      <th>Dead</th>\n",
       "    </tr>\n",
       "    <tr>\n",
       "      <th>agegroup</th>\n",
       "      <th>smoker</th>\n",
       "      <th></th>\n",
       "      <th></th>\n",
       "    </tr>\n",
       "  </thead>\n",
       "  <tbody>\n",
       "    <tr>\n",
       "      <th rowspan=\"2\" valign=\"top\">(15, 40]</th>\n",
       "      <th>No</th>\n",
       "      <td>0.969900</td>\n",
       "      <td>0.030100</td>\n",
       "    </tr>\n",
       "    <tr>\n",
       "      <th>Yes</th>\n",
       "      <td>0.958506</td>\n",
       "      <td>0.041494</td>\n",
       "    </tr>\n",
       "    <tr>\n",
       "      <th rowspan=\"2\" valign=\"top\">(40, 65]</th>\n",
       "      <th>No</th>\n",
       "      <td>0.739130</td>\n",
       "      <td>0.260870</td>\n",
       "    </tr>\n",
       "    <tr>\n",
       "      <th>Yes</th>\n",
       "      <td>0.705479</td>\n",
       "      <td>0.294521</td>\n",
       "    </tr>\n",
       "    <tr>\n",
       "      <th rowspan=\"2\" valign=\"top\">(65, 90]</th>\n",
       "      <th>No</th>\n",
       "      <td>0.138889</td>\n",
       "      <td>0.861111</td>\n",
       "    </tr>\n",
       "    <tr>\n",
       "      <th>Yes</th>\n",
       "      <td>0.122449</td>\n",
       "      <td>0.877551</td>\n",
       "    </tr>\n",
       "  </tbody>\n",
       "</table>\n",
       "</div>"
      ],
      "text/plain": [
       "outcome             Alive      Dead\n",
       "agegroup smoker                    \n",
       "(15, 40] No      0.969900  0.030100\n",
       "         Yes     0.958506  0.041494\n",
       "(40, 65] No      0.739130  0.260870\n",
       "         Yes     0.705479  0.294521\n",
       "(65, 90] No      0.138889  0.861111\n",
       "         Yes     0.122449  0.877551"
      ]
     },
     "execution_count": 183,
     "metadata": {},
     "output_type": "execute_result"
    }
   ],
   "source": [
    "regrouped = smoking.groupby(['agegroup', 'smoker'], observed=True).outcome.value_counts(normalize=True).unstack()\n",
    "regrouped"
   ]
  },
  {
   "cell_type": "markdown",
   "id": "c5ed6cce-d248-42eb-8329-d0f83cbb548c",
   "metadata": {},
   "source": [
    "A decent first try, but confusing, with the mixed labels at the bottom."
   ]
  },
  {
   "cell_type": "code",
   "execution_count": 184,
   "id": "cc1d7769-c1d6-4d2c-b0aa-570670cf2675",
   "metadata": {},
   "outputs": [
    {
     "data": {
      "image/png": "[encoded data removed]",
      "text/plain": [
       "<Figure size 600x400 with 1 Axes>"
      ]
     },
     "metadata": {},
     "output_type": "display_data"
    }
   ],
   "source": [
    "regrouped.plot(kind='bar', figsize=(6,4));"
   ]
  },
  {
   "cell_type": "markdown",
   "id": "d26ee5f5-44a5-406f-aa8b-3a36a8e15ead",
   "metadata": {},
   "source": [
    "We can do better by keeping only the fraction of people who are alive."
   ]
  },
  {
   "cell_type": "code",
   "execution_count": 172,
   "id": "0e5847e3-902d-41ce-a928-46aa072e97c2",
   "metadata": {},
   "outputs": [],
   "source": [
    "regrouped = smoking.groupby(['agegroup', 'smoker'], observed=True) \\\n",
    "                   .outcome.value_counts(normalize=True).loc[:,:,'Alive'].unstack()"
   ]
  },
  {
   "cell_type": "code",
   "execution_count": 181,
   "id": "b6704d64-e927-4502-af2e-2a6e0aed1da0",
   "metadata": {},
   "outputs": [
    {
     "data": {
      "image/png": "[encoded data removed]",
      "text/plain": [
       "<Figure size 400x300 with 1 Axes>"
      ]
     },
     "metadata": {},
     "output_type": "display_data"
    }
   ],
   "source": [
    "regrouped.plot(kind='bar', color=['C2','C3'], figsize=(4,3));\n",
    "pp.ylabel('fraction alive after 20 years');"
   ]
  },
  {
   "cell_type": "markdown",
   "id": "29add8d8-a5ba-46a0-8713-01a6fd9618f4",
   "metadata": {},
   "source": [
    "Here we see that in every age group nonsmokers have a slight edge in outcomes. Simpson's paradox at work."
   ]
  }
 ],
 "metadata": {
  "kernelspec": {
   "display_name": "Python 3 (ipykernel)",
   "language": "python",
   "name": "python3"
  },
  "language_info": {
   "codemirror_mode": {
    "name": "ipython",
    "version": 3
   },
   "file_extension": ".py",
   "mimetype": "text/x-python",
   "name": "python",
   "nbconvert_exporter": "python",
   "pygments_lexer": "ipython3",
   "version": "3.11.8"
  }
 },
 "nbformat": 4,
 "nbformat_minor": 5
}
