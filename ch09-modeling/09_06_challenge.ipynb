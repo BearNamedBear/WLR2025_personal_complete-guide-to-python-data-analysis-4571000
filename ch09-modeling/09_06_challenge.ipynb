{
 "cells": [
  {
   "cell_type": "markdown",
   "id": "e7e324a7-5956-4daa-acbe-de644a194ef4",
   "metadata": {},
   "source": [
    "# 11_06: CoderPad challenge"
   ]
  },
  {
   "cell_type": "code",
   "execution_count": null,
   "id": "329ddb0b-55d1-4af0-b01e-ba58c80258e4",
   "metadata": {},
   "outputs": [],
   "source": [
    "# Instructions"
   ]
  },
  {
   "cell_type": "markdown",
   "id": "ac02accb-be33-4c27-b742-f4ba67367fd4",
   "metadata": {},
   "source": [
    "## A better model for the GapMinder babies/\n",
    "\n",
    "**Your task** \n",
    "\n",
    "Design a statsmodels OLS fit for the gapminder babies_per_woman data with an fvalue fit statistic greater than 120. Write the fit formula with the tilde notation. You can use any of the variables in the dataset (`region`, `population`, `life_expectancy`, `age5_surviving`, `gdp_per_capita`) on the right side of the formula.\n",
    "\n",
    "## Parameters\n",
    "\n",
    "None.\n",
    "\n",
    "## Result\n",
    "\n",
    "Return a statsmodels `RegressionResultsWrapper` object, as created by fit()."
   ]
  },
  {
   "cell_type": "code",
   "execution_count": 137,
   "id": "f957531c-b0d3-46a6-a329-cca4eccc265b",
   "metadata": {},
   "outputs": [
    {
     "data": {
      "text/plain": [
       "Index(['country', 'year', 'region', 'population', 'life_expectancy',\n",
       "       'age5_surviving', 'babies_per_woman', 'gdp_per_capita'],\n",
       "      dtype='object')"
      ]
     },
     "execution_count": 137,
     "metadata": {},
     "output_type": "execute_result"
    }
   ],
   "source": [
    "gm.columns"
   ]
  },
  {
   "cell_type": "code",
   "execution_count": 1,
   "id": "71e782a0-1cb1-4284-a57f-325e57934eb0",
   "metadata": {},
   "outputs": [],
   "source": [
    "# Answer"
   ]
  },
  {
   "cell_type": "code",
   "execution_count": 148,
   "id": "ec989abe-aad5-4702-9acf-0f6d541ba453",
   "metadata": {},
   "outputs": [],
   "source": [
    "# Python code​​​​​​‌​‌​‌​​‌‌​‌​‌​‌​‌​‌‌‌‌​‌‌ below\n",
    "# Use print(\"messages...\") to debug your solution.\n",
    "\n",
    "show_expected_result = True\n",
    "show_hints = True\n",
    "\n",
    "import numpy as np\n",
    "import pandas as pd\n",
    "import statsmodels\n",
    "import statsmodels.formula.api as smf\n",
    "\n",
    "gm = pd.read_csv('gapminder2.csv', dtype_backend='pyarrow')\n",
    "\n",
    "gdata = gm[gm.year == 1985].copy()\n",
    "gdata['region'] = gdata['region'].astype('category')\n",
    "\n",
    "def bettermodel():\n",
    "    formula = 'babies_per_woman ~ region + age5_surviving + np.power(age5_surviving, 2.0)'\n",
    "    fit = smf.ols(formula, data=gdata).fit()\n",
    "    \n",
    "    return fit"
   ]
  },
  {
   "cell_type": "code",
   "execution_count": 149,
   "id": "3509a280-7bb1-4a6a-a0ee-592de31f4f09",
   "metadata": {},
   "outputs": [],
   "source": [
    "# Test code"
   ]
  },
  {
   "cell_type": "code",
   "execution_count": 150,
   "id": "7f520f5d-e431-4da5-9ace-fd2dc9fefa96",
   "metadata": {},
   "outputs": [
    {
     "data": {
      "text/plain": [
       "True"
      ]
     },
     "execution_count": 150,
     "metadata": {},
     "output_type": "execute_result"
    }
   ],
   "source": [
    "fit = bettermodel()\n",
    "fit.model.endog_names == 'babies_per_woman' and fit.fvalue > 120"
   ]
  },
  {
   "cell_type": "code",
   "execution_count": 151,
   "id": "bc0045b2-e2b6-416f-80c1-0a6878577e67",
   "metadata": {},
   "outputs": [],
   "source": [
    "# Console output\n",
    "\n",
    "# Hint: try powers of the explanatory variables, which you can get with np.power(..., ...)"
   ]
  },
  {
   "cell_type": "code",
   "execution_count": 152,
   "id": "e95f3a19-0b6d-4125-803b-de8fefad5728",
   "metadata": {},
   "outputs": [
    {
     "data": {
      "text/plain": [
       "120.93707776641989"
      ]
     },
     "execution_count": 152,
     "metadata": {},
     "output_type": "execute_result"
    }
   ],
   "source": [
    "bettermodel().fvalue"
   ]
  }
 ],
 "metadata": {
  "kernelspec": {
   "display_name": "Python 3 (ipykernel)",
   "language": "python",
   "name": "python3"
  },
  "language_info": {
   "codemirror_mode": {
    "name": "ipython",
    "version": 3
   },
   "file_extension": ".py",
   "mimetype": "text/x-python",
   "name": "python",
   "nbconvert_exporter": "python",
   "pygments_lexer": "ipython3",
   "version": "3.11.8"
  }
 },
 "nbformat": 4,
 "nbformat_minor": 5
}
