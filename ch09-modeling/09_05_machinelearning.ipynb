{
 "cells": [
  {
   "cell_type": "markdown",
   "id": "11716b0a-305c-4c3a-a192-4cab4cf48f17",
   "metadata": {},
   "source": [
    "# 11_05: A taste of machine learning"
   ]
  },
  {
   "cell_type": "code",
   "execution_count": 1,
   "id": "fb7ab238-1d6d-41ce-9bbb-4fd482f39fab",
   "metadata": {},
   "outputs": [],
   "source": [
    "import math\n",
    "import collections\n",
    "import dataclasses\n",
    "import datetime\n",
    "\n",
    "import numpy as np\n",
    "import pandas as pd\n",
    "import matplotlib.pyplot as pp"
   ]
  },
  {
   "cell_type": "markdown",
   "id": "7a86d213-543c-4ddb-9413-2914eb8e2782",
   "metadata": {},
   "source": [
    "If you're learning about data analysis, there's a good chance you're thinking about big data and machine learning. It's a technology of huge importance to the world today, and it's also a huge subject, covered by many excellent courses in the LinkedIn library. So all I want to do is to give you a small taste of it, using the tools we have discussed, plus the very comprehensive scikit-learn library."
   ]
  },
  {
   "cell_type": "markdown",
   "id": "5c7a3301-1913-4d20-b8f5-53789e20666f",
   "metadata": {},
   "source": [
    "The name \"machine learning\" is very descriptive. [slide] It's the science of getting computers to learn from data. We have already seen the standard modus operandi of machine learning: divide your dataset into training data and testing data; use the former to train a model or algorithm; then use the testing data to verify performance."
   ]
  },
  {
   "cell_type": "markdown",
   "id": "1c3ffb92-c99e-443a-b854-74fbf8243979",
   "metadata": {},
   "source": [
    "Machine learning covers many different tasks and use cases. [slide] Perhaps the most straightforward is _classification_: we teach an algorithm to assign an input to one of a few predefined classes, by providing a number of examples (inputs with their labels). The algorithm then will provide classes for unlabeled examples."
   ]
  },
  {
   "cell_type": "code",
   "execution_count": 141,
   "id": "8f2093e3-45d4-4ec8-8aa7-b83910cfa48c",
   "metadata": {},
   "outputs": [],
   "source": [
    "from sklearn.model_selection import train_test_split\n",
    "from sklearn.tree import DecisionTreeClassifier\n",
    "from sklearn.ensemble import RandomForestClassifier\n",
    "from sklearn.metrics import accuracy_score, classification_report, confusion_matrix"
   ]
  },
  {
   "cell_type": "markdown",
   "id": "e2d62a9b-4c31-46c2-9e2b-c9ba4859ba7d",
   "metadata": {},
   "source": [
    "Once more, we will use our gapminder data, and pick a year. We'll try to answer a simple enough question. Can we tell the continent of a country just by looking at the macro variables of population, life_expectancy, child survival, babies_per_woman, and gdp?"
   ]
  },
  {
   "cell_type": "code",
   "execution_count": 2,
   "id": "cc734632-3be7-4432-a553-9b10780b8931",
   "metadata": {},
   "outputs": [],
   "source": [
    "gm = pd.read_csv('gapminder2.csv')"
   ]
  },
  {
   "cell_type": "code",
   "execution_count": 79,
   "id": "67122491-fa83-4ee7-85ab-f801cac69b63",
   "metadata": {},
   "outputs": [
    {
     "data": {
      "text/html": [
       "<div>\n",
       "<style scoped>\n",
       "    .dataframe tbody tr th:only-of-type {\n",
       "        vertical-align: middle;\n",
       "    }\n",
       "\n",
       "    .dataframe tbody tr th {\n",
       "        vertical-align: top;\n",
       "    }\n",
       "\n",
       "    .dataframe thead th {\n",
       "        text-align: right;\n",
       "    }\n",
       "</style>\n",
       "<table border=\"1\" class=\"dataframe\">\n",
       "  <thead>\n",
       "    <tr style=\"text-align: right;\">\n",
       "      <th></th>\n",
       "      <th>country</th>\n",
       "      <th>year</th>\n",
       "      <th>region</th>\n",
       "      <th>population</th>\n",
       "      <th>life_expectancy</th>\n",
       "      <th>age5_surviving</th>\n",
       "      <th>babies_per_woman</th>\n",
       "      <th>gdp_per_capita</th>\n",
       "    </tr>\n",
       "  </thead>\n",
       "  <tbody>\n",
       "    <tr>\n",
       "      <th>207</th>\n",
       "      <td>Afghanistan</td>\n",
       "      <td>2023</td>\n",
       "      <td>Asia</td>\n",
       "      <td>41500000.0</td>\n",
       "      <td>64.0</td>\n",
       "      <td>94.760</td>\n",
       "      <td>4.84</td>\n",
       "      <td>1400.0</td>\n",
       "    </tr>\n",
       "    <tr>\n",
       "      <th>431</th>\n",
       "      <td>Albania</td>\n",
       "      <td>2023</td>\n",
       "      <td>Europe</td>\n",
       "      <td>2810000.0</td>\n",
       "      <td>77.3</td>\n",
       "      <td>99.199</td>\n",
       "      <td>1.35</td>\n",
       "      <td>16100.0</td>\n",
       "    </tr>\n",
       "    <tr>\n",
       "      <th>655</th>\n",
       "      <td>Algeria</td>\n",
       "      <td>2023</td>\n",
       "      <td>Africa</td>\n",
       "      <td>46200000.0</td>\n",
       "      <td>77.1</td>\n",
       "      <td>97.960</td>\n",
       "      <td>2.77</td>\n",
       "      <td>11400.0</td>\n",
       "    </tr>\n",
       "    <tr>\n",
       "      <th>866</th>\n",
       "      <td>Andorra</td>\n",
       "      <td>2023</td>\n",
       "      <td>Europe</td>\n",
       "      <td>80900.0</td>\n",
       "      <td>82.9</td>\n",
       "      <td>99.723</td>\n",
       "      <td>1.08</td>\n",
       "      <td>55700.0</td>\n",
       "    </tr>\n",
       "    <tr>\n",
       "      <th>1090</th>\n",
       "      <td>Angola</td>\n",
       "      <td>2023</td>\n",
       "      <td>Africa</td>\n",
       "      <td>36700000.0</td>\n",
       "      <td>65.9</td>\n",
       "      <td>93.300</td>\n",
       "      <td>5.12</td>\n",
       "      <td>5810.0</td>\n",
       "    </tr>\n",
       "  </tbody>\n",
       "</table>\n",
       "</div>"
      ],
      "text/plain": [
       "          country  year  region  population  life_expectancy  age5_surviving  \\\n",
       "207   Afghanistan  2023    Asia  41500000.0             64.0          94.760   \n",
       "431       Albania  2023  Europe   2810000.0             77.3          99.199   \n",
       "655       Algeria  2023  Africa  46200000.0             77.1          97.960   \n",
       "866       Andorra  2023  Europe     80900.0             82.9          99.723   \n",
       "1090       Angola  2023  Africa  36700000.0             65.9          93.300   \n",
       "\n",
       "      babies_per_woman  gdp_per_capita  \n",
       "207               4.84          1400.0  \n",
       "431               1.35         16100.0  \n",
       "655               2.77         11400.0  \n",
       "866               1.08         55700.0  \n",
       "1090              5.12          5810.0  "
      ]
     },
     "execution_count": 79,
     "metadata": {},
     "output_type": "execute_result"
    }
   ],
   "source": [
    "gm2023 = gm[gm.year == 2023]\n",
    "gm2023.head()"
   ]
  },
  {
   "cell_type": "markdown",
   "id": "8a5c2156-f2ce-4871-8e82-10b98d00aa22",
   "metadata": {},
   "source": [
    "We collect these explanatory variables into a pandas dataframe, and the response variable, which is our **class label** into a series. We'll want the series to be categorical..."
   ]
  },
  {
   "cell_type": "code",
   "execution_count": 83,
   "id": "1cc6c6e3-f354-4997-810a-439521f7566c",
   "metadata": {},
   "outputs": [],
   "source": [
    "x = gm2023[['population', 'life_expectancy', 'age5_surviving', 'babies_per_woman', 'gdp_per_capita']]"
   ]
  },
  {
   "cell_type": "code",
   "execution_count": 84,
   "id": "e7653701-2cb5-4ab5-b88f-f26d06eb08c7",
   "metadata": {},
   "outputs": [],
   "source": [
    "y = gm2023['region'].astype('category')"
   ]
  },
  {
   "cell_type": "markdown",
   "id": "dcc7a107-90a3-4703-9b56-e26a5e504f4c",
   "metadata": {},
   "source": [
    "...so we can turn it into numerical codes, as needed by the scikit-learn algorithm."
   ]
  },
  {
   "cell_type": "code",
   "execution_count": 87,
   "id": "c8aea701-565c-4edc-b528-713aebcde80b",
   "metadata": {},
   "outputs": [
    {
     "data": {
      "text/plain": [
       "207     2\n",
       "431     3\n",
       "655     0\n",
       "866     3\n",
       "1090    0\n",
       "dtype: int8"
      ]
     },
     "execution_count": 87,
     "metadata": {},
     "output_type": "execute_result"
    }
   ],
   "source": [
    "z = y.cat.codes\n",
    "z.head()"
   ]
  },
  {
   "cell_type": "markdown",
   "id": "b4321784-3deb-4b00-8d92-c7bb4bb31d18",
   "metadata": {},
   "source": [
    "scikit-learn usefully provides a function to divide a dataset into training and testing."
   ]
  },
  {
   "cell_type": "code",
   "execution_count": 71,
   "id": "6b376c6a-e5b5-4510-b311-fe1f9df347eb",
   "metadata": {},
   "outputs": [],
   "source": [
    "x_train, x_test, z_train, z_test = train_test_split(x, z, test_size=0.3)"
   ]
  },
  {
   "cell_type": "code",
   "execution_count": 108,
   "id": "6e9a67ba-b979-48ba-b5e6-50e7ef774669",
   "metadata": {},
   "outputs": [],
   "source": [
    "tree = DecisionTreeClassifier()"
   ]
  },
  {
   "cell_type": "markdown",
   "id": "e14eaa82-df19-4f87-a3ce-5594598862e7",
   "metadata": {},
   "source": [
    "We'll start with a **decision tree** classifier. This is an algorithm that splits data into branches based on the explanatory variables, creating a tree-like model of decisions. Here's an example to distinguish between breeds of dogs. At each node we are making a decision based on a variable, and follow different branches based on that, until we find a leaf that matches the input to a class."
   ]
  },
  {
   "cell_type": "markdown",
   "id": "a9a80d7d-ce80-49ca-85dc-a6111085f25f",
   "metadata": {},
   "source": [
    "The point to machine learning, however, is that we don't know what decisions to make, and we have to learn them from examples. [slide] So we start processing example inputs through an initial tree, and then the algorithm modifies the tree by comparing the predicted labels with the known example labels."
   ]
  },
  {
   "cell_type": "markdown",
   "id": "5b1c77cb-8053-40b5-a9eb-e3d1e5013c0e",
   "metadata": {},
   "source": [
    "[slide] After going through the example datasets, possibly multiple times, the classifier is trained, and we can use it for _inference_---on inputs that do not have labels.\n",
    "\n",
    "So let's train our tree... it's very fast."
   ]
  },
  {
   "cell_type": "code",
   "execution_count": 109,
   "id": "d75af9bc-cc99-4666-8c9a-23a3e36b0db5",
   "metadata": {},
   "outputs": [
    {
     "data": {
      "text/html": [
       "<style>#sk-container-id-16 {color: black;}#sk-container-id-16 pre{padding: 0;}#sk-container-id-16 div.sk-toggleable {background-color: white;}#sk-container-id-16 label.sk-toggleable__label {cursor: pointer;display: block;width: 100%;margin-bottom: 0;padding: 0.3em;box-sizing: border-box;text-align: center;}#sk-container-id-16 label.sk-toggleable__label-arrow:before {content: \"▸\";float: left;margin-right: 0.25em;color: #696969;}#sk-container-id-16 label.sk-toggleable__label-arrow:hover:before {color: black;}#sk-container-id-16 div.sk-estimator:hover label.sk-toggleable__label-arrow:before {color: black;}#sk-container-id-16 div.sk-toggleable__content {max-height: 0;max-width: 0;overflow: hidden;text-align: left;background-color: #f0f8ff;}#sk-container-id-16 div.sk-toggleable__content pre {margin: 0.2em;color: black;border-radius: 0.25em;background-color: #f0f8ff;}#sk-container-id-16 input.sk-toggleable__control:checked~div.sk-toggleable__content {max-height: 200px;max-width: 100%;overflow: auto;}#sk-container-id-16 input.sk-toggleable__control:checked~label.sk-toggleable__label-arrow:before {content: \"▾\";}#sk-container-id-16 div.sk-estimator input.sk-toggleable__control:checked~label.sk-toggleable__label {background-color: #d4ebff;}#sk-container-id-16 div.sk-label input.sk-toggleable__control:checked~label.sk-toggleable__label {background-color: #d4ebff;}#sk-container-id-16 input.sk-hidden--visually {border: 0;clip: rect(1px 1px 1px 1px);clip: rect(1px, 1px, 1px, 1px);height: 1px;margin: -1px;overflow: hidden;padding: 0;position: absolute;width: 1px;}#sk-container-id-16 div.sk-estimator {font-family: monospace;background-color: #f0f8ff;border: 1px dotted black;border-radius: 0.25em;box-sizing: border-box;margin-bottom: 0.5em;}#sk-container-id-16 div.sk-estimator:hover {background-color: #d4ebff;}#sk-container-id-16 div.sk-parallel-item::after {content: \"\";width: 100%;border-bottom: 1px solid gray;flex-grow: 1;}#sk-container-id-16 div.sk-label:hover label.sk-toggleable__label {background-color: #d4ebff;}#sk-container-id-16 div.sk-serial::before {content: \"\";position: absolute;border-left: 1px solid gray;box-sizing: border-box;top: 0;bottom: 0;left: 50%;z-index: 0;}#sk-container-id-16 div.sk-serial {display: flex;flex-direction: column;align-items: center;background-color: white;padding-right: 0.2em;padding-left: 0.2em;position: relative;}#sk-container-id-16 div.sk-item {position: relative;z-index: 1;}#sk-container-id-16 div.sk-parallel {display: flex;align-items: stretch;justify-content: center;background-color: white;position: relative;}#sk-container-id-16 div.sk-item::before, #sk-container-id-16 div.sk-parallel-item::before {content: \"\";position: absolute;border-left: 1px solid gray;box-sizing: border-box;top: 0;bottom: 0;left: 50%;z-index: -1;}#sk-container-id-16 div.sk-parallel-item {display: flex;flex-direction: column;z-index: 1;position: relative;background-color: white;}#sk-container-id-16 div.sk-parallel-item:first-child::after {align-self: flex-end;width: 50%;}#sk-container-id-16 div.sk-parallel-item:last-child::after {align-self: flex-start;width: 50%;}#sk-container-id-16 div.sk-parallel-item:only-child::after {width: 0;}#sk-container-id-16 div.sk-dashed-wrapped {border: 1px dashed gray;margin: 0 0.4em 0.5em 0.4em;box-sizing: border-box;padding-bottom: 0.4em;background-color: white;}#sk-container-id-16 div.sk-label label {font-family: monospace;font-weight: bold;display: inline-block;line-height: 1.2em;}#sk-container-id-16 div.sk-label-container {text-align: center;}#sk-container-id-16 div.sk-container {/* jupyter's `normalize.less` sets `[hidden] { display: none; }` but bootstrap.min.css set `[hidden] { display: none !important; }` so we also need the `!important` here to be able to override the default hidden behavior on the sphinx rendered scikit-learn.org. See: https://github.com/scikit-learn/scikit-learn/issues/21755 */display: inline-block !important;position: relative;}#sk-container-id-16 div.sk-text-repr-fallback {display: none;}</style><div id=\"sk-container-id-16\" class=\"sk-top-container\"><div class=\"sk-text-repr-fallback\"><pre>DecisionTreeClassifier()</pre><b>In a Jupyter environment, please rerun this cell to show the HTML representation or trust the notebook. <br />On GitHub, the HTML representation is unable to render, please try loading this page with nbviewer.org.</b></div><div class=\"sk-container\" hidden><div class=\"sk-item\"><div class=\"sk-estimator sk-toggleable\"><input class=\"sk-toggleable__control sk-hidden--visually\" id=\"sk-estimator-id-16\" type=\"checkbox\" checked><label for=\"sk-estimator-id-16\" class=\"sk-toggleable__label sk-toggleable__label-arrow\">DecisionTreeClassifier</label><div class=\"sk-toggleable__content\"><pre>DecisionTreeClassifier()</pre></div></div></div></div></div>"
      ],
      "text/plain": [
       "DecisionTreeClassifier()"
      ]
     },
     "execution_count": 109,
     "metadata": {},
     "output_type": "execute_result"
    }
   ],
   "source": [
    "tree.fit(x_train, z_train)"
   ]
  },
  {
   "cell_type": "markdown",
   "id": "6471ce4e-f231-489b-9d5d-be0865f0d915",
   "metadata": {},
   "source": [
    "And let's use it to assign labels to our test examples."
   ]
  },
  {
   "cell_type": "code",
   "execution_count": 168,
   "id": "dd93e50f-952d-440f-a40d-ee70c0e18ff5",
   "metadata": {},
   "outputs": [
    {
     "data": {
      "text/plain": [
       "array([2, 3, 0, 3, 3, 3, 0, 3, 0, 0, 2, 3, 2, 2, 3, 2, 0, 0, 0, 2, 0, 3,\n",
       "       0, 3, 4, 2, 2, 1, 1, 2, 3, 2, 1, 0, 3, 0, 2, 1, 3, 1, 0, 0, 0, 0,\n",
       "       1, 2, 3, 0, 2, 0, 3, 0, 0, 0, 0, 0, 3, 0, 3], dtype=int8)"
      ]
     },
     "execution_count": 168,
     "metadata": {},
     "output_type": "execute_result"
    }
   ],
   "source": [
    "tree_pred = tree.predict(x_test)\n",
    "tree_pred"
   ]
  },
  {
   "cell_type": "markdown",
   "id": "bf248a04-7878-4bdd-80ac-221717a26d55",
   "metadata": {},
   "source": [
    "These are integer numbers, but we can match them back to categories. Let's see how we did. Several predictions are indeed correct, but some are wrong."
   ]
  },
  {
   "cell_type": "code",
   "execution_count": 169,
   "id": "562eca2e-b8c8-4c90-8881-cd3ff7baec2e",
   "metadata": {},
   "outputs": [
    {
     "data": {
      "text/html": [
       "<div>\n",
       "<style scoped>\n",
       "    .dataframe tbody tr th:only-of-type {\n",
       "        vertical-align: middle;\n",
       "    }\n",
       "\n",
       "    .dataframe tbody tr th {\n",
       "        vertical-align: top;\n",
       "    }\n",
       "\n",
       "    .dataframe thead th {\n",
       "        text-align: right;\n",
       "    }\n",
       "</style>\n",
       "<table border=\"1\" class=\"dataframe\">\n",
       "  <thead>\n",
       "    <tr style=\"text-align: right;\">\n",
       "      <th></th>\n",
       "      <th>label</th>\n",
       "      <th>predicted</th>\n",
       "    </tr>\n",
       "  </thead>\n",
       "  <tbody>\n",
       "    <tr>\n",
       "      <th>0</th>\n",
       "      <td>Asia</td>\n",
       "      <td>Asia</td>\n",
       "    </tr>\n",
       "    <tr>\n",
       "      <th>1</th>\n",
       "      <td>Asia</td>\n",
       "      <td>Europe</td>\n",
       "    </tr>\n",
       "    <tr>\n",
       "      <th>2</th>\n",
       "      <td>Africa</td>\n",
       "      <td>Africa</td>\n",
       "    </tr>\n",
       "    <tr>\n",
       "      <th>3</th>\n",
       "      <td>Europe</td>\n",
       "      <td>Europe</td>\n",
       "    </tr>\n",
       "    <tr>\n",
       "      <th>4</th>\n",
       "      <td>Europe</td>\n",
       "      <td>Europe</td>\n",
       "    </tr>\n",
       "    <tr>\n",
       "      <th>5</th>\n",
       "      <td>Europe</td>\n",
       "      <td>Europe</td>\n",
       "    </tr>\n",
       "    <tr>\n",
       "      <th>6</th>\n",
       "      <td>Africa</td>\n",
       "      <td>Africa</td>\n",
       "    </tr>\n",
       "    <tr>\n",
       "      <th>7</th>\n",
       "      <td>Europe</td>\n",
       "      <td>Europe</td>\n",
       "    </tr>\n",
       "    <tr>\n",
       "      <th>8</th>\n",
       "      <td>Asia</td>\n",
       "      <td>Africa</td>\n",
       "    </tr>\n",
       "    <tr>\n",
       "      <th>9</th>\n",
       "      <td>Africa</td>\n",
       "      <td>Africa</td>\n",
       "    </tr>\n",
       "    <tr>\n",
       "      <th>10</th>\n",
       "      <td>Europe</td>\n",
       "      <td>Asia</td>\n",
       "    </tr>\n",
       "    <tr>\n",
       "      <th>11</th>\n",
       "      <td>Asia</td>\n",
       "      <td>Europe</td>\n",
       "    </tr>\n",
       "    <tr>\n",
       "      <th>12</th>\n",
       "      <td>Asia</td>\n",
       "      <td>Asia</td>\n",
       "    </tr>\n",
       "    <tr>\n",
       "      <th>13</th>\n",
       "      <td>Asia</td>\n",
       "      <td>Asia</td>\n",
       "    </tr>\n",
       "    <tr>\n",
       "      <th>14</th>\n",
       "      <td>America</td>\n",
       "      <td>Europe</td>\n",
       "    </tr>\n",
       "    <tr>\n",
       "      <th>15</th>\n",
       "      <td>Africa</td>\n",
       "      <td>Asia</td>\n",
       "    </tr>\n",
       "    <tr>\n",
       "      <th>16</th>\n",
       "      <td>Africa</td>\n",
       "      <td>Africa</td>\n",
       "    </tr>\n",
       "    <tr>\n",
       "      <th>17</th>\n",
       "      <td>Oceania</td>\n",
       "      <td>Africa</td>\n",
       "    </tr>\n",
       "    <tr>\n",
       "      <th>18</th>\n",
       "      <td>Africa</td>\n",
       "      <td>Africa</td>\n",
       "    </tr>\n",
       "    <tr>\n",
       "      <th>19</th>\n",
       "      <td>Oceania</td>\n",
       "      <td>Asia</td>\n",
       "    </tr>\n",
       "  </tbody>\n",
       "</table>\n",
       "</div>"
      ],
      "text/plain": [
       "      label predicted\n",
       "0      Asia      Asia\n",
       "1      Asia    Europe\n",
       "2    Africa    Africa\n",
       "3    Europe    Europe\n",
       "4    Europe    Europe\n",
       "5    Europe    Europe\n",
       "6    Africa    Africa\n",
       "7    Europe    Europe\n",
       "8      Asia    Africa\n",
       "9    Africa    Africa\n",
       "10   Europe      Asia\n",
       "11     Asia    Europe\n",
       "12     Asia      Asia\n",
       "13     Asia      Asia\n",
       "14  America    Europe\n",
       "15   Africa      Asia\n",
       "16   Africa    Africa\n",
       "17  Oceania    Africa\n",
       "18   Africa    Africa\n",
       "19  Oceania      Asia"
      ]
     },
     "execution_count": 169,
     "metadata": {},
     "output_type": "execute_result"
    }
   ],
   "source": [
    "pd.DataFrame({'label': y.cat.categories[z_test],\n",
    "              'predicted': y.cat.categories[tree_pred]}).head(20)"
   ]
  },
  {
   "cell_type": "markdown",
   "id": "7356ce1f-3a55-4600-979b-c502a572d660",
   "metadata": {},
   "source": [
    "In fact, scikit-learn tells us about 64% of the predictions are correct."
   ]
  },
  {
   "cell_type": "code",
   "execution_count": 174,
   "id": "c6dda7ef-221c-48c8-bf02-a6ebd3eb8507",
   "metadata": {},
   "outputs": [
    {
     "data": {
      "text/plain": [
       "0.6440677966101694"
      ]
     },
     "execution_count": 174,
     "metadata": {},
     "output_type": "execute_result"
    }
   ],
   "source": [
    "accuracy_score(z_test, tree_pred)"
   ]
  },
  {
   "cell_type": "markdown",
   "id": "6d325e0c-ac38-4b04-837b-ad6854e935d8",
   "metadata": {},
   "source": [
    "We could have computed this ourselves!"
   ]
  },
  {
   "cell_type": "code",
   "execution_count": 175,
   "id": "2e9d2159-2c1f-4eec-85d5-42b2c9121081",
   "metadata": {},
   "outputs": [
    {
     "data": {
      "text/plain": [
       "0.6440677966101694"
      ]
     },
     "execution_count": 175,
     "metadata": {},
     "output_type": "execute_result"
    }
   ],
   "source": [
    "np.sum(y.cat.categories[z_test] == y.cat.categories[tree_pred]) / len(z_test)"
   ]
  },
  {
   "cell_type": "markdown",
   "id": "2bc54a22-d136-4caf-86ae-89da9b5891c4",
   "metadata": {},
   "source": [
    "scikit-learn can give us a much more detailed report, which answers questions that may be important in practical use cases. Let's look at Africa to explain.\n",
    "\n",
    "* The _precision_ number says that out of all the times the classifier chose \"Africa\", 70% were correct.\n",
    "* The _recall_ says that out of all the examples from Africa, 89% were correctly identified.\n",
    "* The f1 score is an average of these two.\n",
    "* The support is the number of test-dataset examples from Africa.\n",
    "* Finally, the averages at the bottom are taken across classes without weights and by weighting for the number of examples in each class."
   ]
  },
  {
   "cell_type": "code",
   "execution_count": 176,
   "id": "70bd152e-5414-4324-a667-ad8ee534e240",
   "metadata": {},
   "outputs": [
    {
     "name": "stdout",
     "output_type": "stream",
     "text": [
      "              precision    recall  f1-score   support\n",
      "\n",
      "      Africa       0.70      0.89      0.78        18\n",
      "     America       0.83      0.45      0.59        11\n",
      "        Asia       0.46      0.46      0.46        13\n",
      "      Europe       0.62      0.91      0.74        11\n",
      "     Oceania       1.00      0.17      0.29         6\n",
      "\n",
      "    accuracy                           0.64        59\n",
      "   macro avg       0.72      0.58      0.57        59\n",
      "weighted avg       0.69      0.64      0.62        59\n",
      "\n"
     ]
    }
   ],
   "source": [
    "print(classification_report(z_test, tree_pred, target_names=y.cat.categories))"
   ]
  },
  {
   "cell_type": "markdown",
   "id": "84ea22a4-20dd-4629-9ba7-7568c0c90082",
   "metadata": {},
   "source": [
    "We can also plot the _confusion matrix_ showing which true labels (the rows) ended up in which estimated class. We see that the classifier did OK with Africa and Europe input, but it found it hard to distinguish between America and Asia. Also some countries in Asia and Oceania ended up classified into Africa."
   ]
  },
  {
   "cell_type": "code",
   "execution_count": 178,
   "id": "c6de5ac9-9db6-4d33-8cfc-02a05ec18f37",
   "metadata": {},
   "outputs": [
    {
     "data": {
      "image/png": "[encoded data removed]",
      "text/plain": [
       "<Figure size 640x480 with 2 Axes>"
      ]
     },
     "metadata": {},
     "output_type": "display_data"
    }
   ],
   "source": [
    "pp.imshow(confusion_matrix(z_test, tree_pred, normalize='true'))\n",
    "pp.xticks(range(5), y.cat.categories); pp.yticks(range(5), y.cat.categories)\n",
    "pp.colorbar();"
   ]
  },
  {
   "cell_type": "markdown",
   "id": "f0ad3184-27f7-4b53-96d4-e53a5adaf505",
   "metadata": {},
   "source": [
    "Can we do better? There are many classification algorithms of various degrees of sophistication. One step up from a tree, we get a random forest, which combines multiple decision trees to improve classification accuracy and control overfitting. The algorithm builds multiple trees during training and uses voting or averages to combine their outputs during inference. In scikit-learn, we only have to change the definition of the model."
   ]
  },
  {
   "cell_type": "code",
   "execution_count": 158,
   "id": "8cd8b29e-4fb9-404f-80eb-d218480ae64a",
   "metadata": {},
   "outputs": [],
   "source": [
    "forest = RandomForestClassifier()"
   ]
  },
  {
   "cell_type": "code",
   "execution_count": 159,
   "id": "d2280a8c-e5cd-4f47-bba2-405383f84a36",
   "metadata": {},
   "outputs": [
    {
     "data": {
      "text/html": [
       "<style>#sk-container-id-17 {color: black;}#sk-container-id-17 pre{padding: 0;}#sk-container-id-17 div.sk-toggleable {background-color: white;}#sk-container-id-17 label.sk-toggleable__label {cursor: pointer;display: block;width: 100%;margin-bottom: 0;padding: 0.3em;box-sizing: border-box;text-align: center;}#sk-container-id-17 label.sk-toggleable__label-arrow:before {content: \"▸\";float: left;margin-right: 0.25em;color: #696969;}#sk-container-id-17 label.sk-toggleable__label-arrow:hover:before {color: black;}#sk-container-id-17 div.sk-estimator:hover label.sk-toggleable__label-arrow:before {color: black;}#sk-container-id-17 div.sk-toggleable__content {max-height: 0;max-width: 0;overflow: hidden;text-align: left;background-color: #f0f8ff;}#sk-container-id-17 div.sk-toggleable__content pre {margin: 0.2em;color: black;border-radius: 0.25em;background-color: #f0f8ff;}#sk-container-id-17 input.sk-toggleable__control:checked~div.sk-toggleable__content {max-height: 200px;max-width: 100%;overflow: auto;}#sk-container-id-17 input.sk-toggleable__control:checked~label.sk-toggleable__label-arrow:before {content: \"▾\";}#sk-container-id-17 div.sk-estimator input.sk-toggleable__control:checked~label.sk-toggleable__label {background-color: #d4ebff;}#sk-container-id-17 div.sk-label input.sk-toggleable__control:checked~label.sk-toggleable__label {background-color: #d4ebff;}#sk-container-id-17 input.sk-hidden--visually {border: 0;clip: rect(1px 1px 1px 1px);clip: rect(1px, 1px, 1px, 1px);height: 1px;margin: -1px;overflow: hidden;padding: 0;position: absolute;width: 1px;}#sk-container-id-17 div.sk-estimator {font-family: monospace;background-color: #f0f8ff;border: 1px dotted black;border-radius: 0.25em;box-sizing: border-box;margin-bottom: 0.5em;}#sk-container-id-17 div.sk-estimator:hover {background-color: #d4ebff;}#sk-container-id-17 div.sk-parallel-item::after {content: \"\";width: 100%;border-bottom: 1px solid gray;flex-grow: 1;}#sk-container-id-17 div.sk-label:hover label.sk-toggleable__label {background-color: #d4ebff;}#sk-container-id-17 div.sk-serial::before {content: \"\";position: absolute;border-left: 1px solid gray;box-sizing: border-box;top: 0;bottom: 0;left: 50%;z-index: 0;}#sk-container-id-17 div.sk-serial {display: flex;flex-direction: column;align-items: center;background-color: white;padding-right: 0.2em;padding-left: 0.2em;position: relative;}#sk-container-id-17 div.sk-item {position: relative;z-index: 1;}#sk-container-id-17 div.sk-parallel {display: flex;align-items: stretch;justify-content: center;background-color: white;position: relative;}#sk-container-id-17 div.sk-item::before, #sk-container-id-17 div.sk-parallel-item::before {content: \"\";position: absolute;border-left: 1px solid gray;box-sizing: border-box;top: 0;bottom: 0;left: 50%;z-index: -1;}#sk-container-id-17 div.sk-parallel-item {display: flex;flex-direction: column;z-index: 1;position: relative;background-color: white;}#sk-container-id-17 div.sk-parallel-item:first-child::after {align-self: flex-end;width: 50%;}#sk-container-id-17 div.sk-parallel-item:last-child::after {align-self: flex-start;width: 50%;}#sk-container-id-17 div.sk-parallel-item:only-child::after {width: 0;}#sk-container-id-17 div.sk-dashed-wrapped {border: 1px dashed gray;margin: 0 0.4em 0.5em 0.4em;box-sizing: border-box;padding-bottom: 0.4em;background-color: white;}#sk-container-id-17 div.sk-label label {font-family: monospace;font-weight: bold;display: inline-block;line-height: 1.2em;}#sk-container-id-17 div.sk-label-container {text-align: center;}#sk-container-id-17 div.sk-container {/* jupyter's `normalize.less` sets `[hidden] { display: none; }` but bootstrap.min.css set `[hidden] { display: none !important; }` so we also need the `!important` here to be able to override the default hidden behavior on the sphinx rendered scikit-learn.org. See: https://github.com/scikit-learn/scikit-learn/issues/21755 */display: inline-block !important;position: relative;}#sk-container-id-17 div.sk-text-repr-fallback {display: none;}</style><div id=\"sk-container-id-17\" class=\"sk-top-container\"><div class=\"sk-text-repr-fallback\"><pre>RandomForestClassifier()</pre><b>In a Jupyter environment, please rerun this cell to show the HTML representation or trust the notebook. <br />On GitHub, the HTML representation is unable to render, please try loading this page with nbviewer.org.</b></div><div class=\"sk-container\" hidden><div class=\"sk-item\"><div class=\"sk-estimator sk-toggleable\"><input class=\"sk-toggleable__control sk-hidden--visually\" id=\"sk-estimator-id-17\" type=\"checkbox\" checked><label for=\"sk-estimator-id-17\" class=\"sk-toggleable__label sk-toggleable__label-arrow\">RandomForestClassifier</label><div class=\"sk-toggleable__content\"><pre>RandomForestClassifier()</pre></div></div></div></div></div>"
      ],
      "text/plain": [
       "RandomForestClassifier()"
      ]
     },
     "execution_count": 159,
     "metadata": {},
     "output_type": "execute_result"
    }
   ],
   "source": [
    "forest.fit(x_train, z_train)"
   ]
  },
  {
   "cell_type": "code",
   "execution_count": 179,
   "id": "4ee2ef7c-c930-4607-95e3-3d50b71af69f",
   "metadata": {},
   "outputs": [],
   "source": [
    "forest_pred = forest.predict(x_test)"
   ]
  },
  {
   "cell_type": "markdown",
   "id": "c8e654d4-0794-42e0-ac88-554cdb57d8c3",
   "metadata": {},
   "source": [
    "So the accuracy went up a few percent, but the confusion matrix is similar. This is probably a limitation of the data themselves. People can thrive (or fail to) in different places on Earth."
   ]
  },
  {
   "cell_type": "code",
   "execution_count": 181,
   "id": "1d62c02f-72b6-4051-85ec-e2587b428503",
   "metadata": {},
   "outputs": [
    {
     "name": "stdout",
     "output_type": "stream",
     "text": [
      "              precision    recall  f1-score   support\n",
      "\n",
      "      Africa       0.75      0.83      0.79        18\n",
      "     America       0.50      0.27      0.35        11\n",
      "        Asia       0.62      0.77      0.69        13\n",
      "      Europe       0.69      1.00      0.81        11\n",
      "     Oceania       1.00      0.17      0.29         6\n",
      "\n",
      "    accuracy                           0.68        59\n",
      "   macro avg       0.71      0.61      0.59        59\n",
      "weighted avg       0.69      0.68      0.64        59\n",
      "\n"
     ]
    }
   ],
   "source": [
    "print(classification_report(z_test, forest_pred, target_names=y.cat.categories))"
   ]
  },
  {
   "cell_type": "code",
   "execution_count": 182,
   "id": "5c01dc07-45ae-42db-b960-d36cea51f4bc",
   "metadata": {},
   "outputs": [
    {
     "data": {
      "image/png": "[encoded data removed]",
      "text/plain": [
       "<Figure size 640x480 with 2 Axes>"
      ]
     },
     "metadata": {},
     "output_type": "display_data"
    }
   ],
   "source": [
    "pp.imshow(confusion_matrix(z_test, forest_pred, normalize='true'))\n",
    "pp.xticks(range(5), y.cat.categories); pp.yticks(range(5), y.cat.categories)\n",
    "pp.colorbar();"
   ]
  },
  {
   "cell_type": "markdown",
   "id": "a0a4f26b-972a-4b04-bc9f-e879429541d5",
   "metadata": {},
   "source": [
    "This completes our appetizer of machine learning. It's a fascinating discipline and I know that if you are interested you will find many excellent resources on linkedin learning, in the literature, and on websites."
   ]
  },
  {
   "cell_type": "code",
   "execution_count": null,
   "id": "e8242da8-e6c4-4d79-9c5c-2544a082fe1f",
   "metadata": {},
   "outputs": [],
   "source": []
  }
 ],
 "metadata": {
  "kernelspec": {
   "display_name": "Python 3 (ipykernel)",
   "language": "python",
   "name": "python3"
  },
  "language_info": {
   "codemirror_mode": {
    "name": "ipython",
    "version": 3
   },
   "file_extension": ".py",
   "mimetype": "text/x-python",
   "name": "python",
   "nbconvert_exporter": "python",
   "pygments_lexer": "ipython3",
   "version": "3.11.8"
  }
 },
 "nbformat": 4,
 "nbformat_minor": 5
}
