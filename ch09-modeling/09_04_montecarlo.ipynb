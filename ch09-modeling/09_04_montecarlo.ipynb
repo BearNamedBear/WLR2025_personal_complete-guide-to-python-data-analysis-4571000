{
 "cells": [
  {
   "cell_type": "markdown",
   "id": "5262a7aa-4ca7-4dd7-8f93-dd0fa1f7f9b5",
   "metadata": {},
   "source": [
    "# 11_04: Estimating sampling errors with Monte Carlo"
   ]
  },
  {
   "cell_type": "code",
   "execution_count": 1,
   "id": "f32dfd0a-f332-4d34-b0a5-26d1c2bdad61",
   "metadata": {},
   "outputs": [],
   "source": [
    "import math\n",
    "import collections\n",
    "import dataclasses\n",
    "import datetime\n",
    "\n",
    "import numpy as np\n",
    "import pandas as pd\n",
    "import matplotlib.pyplot as pp"
   ]
  },
  {
   "cell_type": "markdown",
   "id": "038c1c7f-dd05-4ead-bee5-9c63ac29d609",
   "metadata": {},
   "source": [
    "In this chapter we have seen how modeling can help us understand data by giving us estimates of the model parameters. These estimates are necessarily imperfect because models are never be faithful representations of reality. Nevertheless, models can be very useful!"
   ]
  },
  {
   "cell_type": "markdown",
   "id": "1d4b9fbb-eb93-43e9-b04f-9facd72a04f2",
   "metadata": {},
   "source": [
    "But we can also ask a different type of question---a question about a real property of a underlying population. For instance, the number of voters in a district that support a certain politician. This number really exists, and we could compute it if we could ask any single voter (and if they replied, of course). But in practice we will have access only to a limited _sample_ --- say, 1000 randomly chosen voters --- so our estimate is going to be uncertain. But how uncertain?"
   ]
  },
  {
   "cell_type": "markdown",
   "id": "aad66a0c-59de-4e1b-8977-cac1d2cf734b",
   "metadata": {},
   "source": [
    "Statistics offers sophisticated mathematical methods to tackle this kind of questions. Since however this is not a course about statistics, what I want to show you is that we can get answers with little mathematics by resorting to simulations based on random numbers. Physicists call this Monte Carlo, because it's very much like gambling."
   ]
  },
  {
   "cell_type": "markdown",
   "id": "6b35770e-9f6e-4204-9401-d8c40704cbc6",
   "metadata": {},
   "source": [
    "So imagine a very important election is taking place in your city, pitting incumbent mayor, Mr. Brown, against a local celebrity chef, Mrs. Green. You work for the local newspaper, and you are asked to poll your co-citizens for their vote. To make things easy for you, we'll assume you can reach every voter by phone, and that every polled voter replies truthfully. Laboriously, you call 1000 voters and ask for their voting intention. Here's a file of their answers."
   ]
  },
  {
   "cell_type": "code",
   "execution_count": 4,
   "id": "d103abbf-18ad-4a3f-b0b2-71c382ec8981",
   "metadata": {},
   "outputs": [
    {
     "data": {
      "text/html": [
       "<div>\n",
       "<style scoped>\n",
       "    .dataframe tbody tr th:only-of-type {\n",
       "        vertical-align: middle;\n",
       "    }\n",
       "\n",
       "    .dataframe tbody tr th {\n",
       "        vertical-align: top;\n",
       "    }\n",
       "\n",
       "    .dataframe thead th {\n",
       "        text-align: right;\n",
       "    }\n",
       "</style>\n",
       "<table border=\"1\" class=\"dataframe\">\n",
       "  <thead>\n",
       "    <tr style=\"text-align: right;\">\n",
       "      <th></th>\n",
       "      <th>vote</th>\n",
       "    </tr>\n",
       "  </thead>\n",
       "  <tbody>\n",
       "    <tr>\n",
       "      <th>0</th>\n",
       "      <td>Brown</td>\n",
       "    </tr>\n",
       "    <tr>\n",
       "      <th>1</th>\n",
       "      <td>Green</td>\n",
       "    </tr>\n",
       "    <tr>\n",
       "      <th>2</th>\n",
       "      <td>Brown</td>\n",
       "    </tr>\n",
       "    <tr>\n",
       "      <th>3</th>\n",
       "      <td>Brown</td>\n",
       "    </tr>\n",
       "    <tr>\n",
       "      <th>4</th>\n",
       "      <td>Brown</td>\n",
       "    </tr>\n",
       "  </tbody>\n",
       "</table>\n",
       "</div>"
      ],
      "text/plain": [
       "    vote\n",
       "0  Brown\n",
       "1  Green\n",
       "2  Brown\n",
       "3  Brown\n",
       "4  Brown"
      ]
     },
     "execution_count": 4,
     "metadata": {},
     "output_type": "execute_result"
    }
   ],
   "source": [
    "poll = pd.read_csv('poll.csv')\n",
    "poll.head()"
   ]
  },
  {
   "cell_type": "markdown",
   "id": "7ddfa185-d847-4fa8-955b-17458e468f50",
   "metadata": {},
   "source": [
    "Here are the measured proportions of votes for the two candidates."
   ]
  },
  {
   "cell_type": "code",
   "execution_count": 6,
   "id": "bd8b2f04-f53b-4af3-949f-3d1f4c9a274a",
   "metadata": {},
   "outputs": [
    {
     "data": {
      "text/plain": [
       "vote \n",
       "Brown    0.511\n",
       "Green    0.489\n",
       "Name: proportion, dtype: float64"
      ]
     },
     "execution_count": 6,
     "metadata": {},
     "output_type": "execute_result"
    }
   ],
   "source": [
    "poll.value_counts(normalize=True)"
   ]
  },
  {
   "cell_type": "markdown",
   "id": "fc43af03-bde5-4f9f-9a91-4315d4a9d2fc",
   "metadata": {},
   "source": [
    "It seems Brown will remain Mayor. However the proportion is going to depend on the specific sample that we drew. How much?"
   ]
  },
  {
   "cell_type": "markdown",
   "id": "4fc0aace-df29-4d3e-be0e-1f16d3fadeb1",
   "metadata": {},
   "source": [
    "Let's simulate a thousand-voter sample when the true proportion is 51 to 49 percent. NumPy has a very handy function for this."
   ]
  },
  {
   "cell_type": "code",
   "execution_count": 71,
   "id": "00309543-b641-414b-8599-0f1e856aeaf9",
   "metadata": {},
   "outputs": [],
   "source": [
    "def makepoll(nsample=1000, brown=0.51):\n",
    "    return pd.DataFrame({'vote': np.random.choice(['Brown', 'Green'], nsample, p=[brown, 1.0 - brown])})"
   ]
  },
  {
   "cell_type": "code",
   "execution_count": 72,
   "id": "b6ddecd5-db60-4ad5-b97d-24a6eb1ece63",
   "metadata": {},
   "outputs": [
    {
     "data": {
      "text/plain": [
       "vote \n",
       "Brown    0.507\n",
       "Green    0.493\n",
       "Name: proportion, dtype: float64"
      ]
     },
     "execution_count": 72,
     "metadata": {},
     "output_type": "execute_result"
    }
   ],
   "source": [
    "makepoll().value_counts(normalize=True)"
   ]
  },
  {
   "cell_type": "markdown",
   "id": "1e8fa4ae-234f-414f-a812-5fabbfcc58b6",
   "metadata": {},
   "source": [
    "So it's a little different, as we expected. Now let's repeat the simulation many times, and collect Brown's share."
   ]
  },
  {
   "cell_type": "code",
   "execution_count": 98,
   "id": "65060377-207b-40bd-ac41-ed8cbc754bcc",
   "metadata": {},
   "outputs": [],
   "source": [
    "def makedist(ntries=2000, nsample=1000, brown=0.51):\n",
    "    return pd.DataFrame([makepoll(nsample, brown).value_counts(normalize=True) for i in range(ntries)])"
   ]
  },
  {
   "cell_type": "code",
   "execution_count": 99,
   "id": "f3284368-1f46-43be-ab2a-fd5e907642dd",
   "metadata": {},
   "outputs": [],
   "source": [
    "counts = makedist()"
   ]
  },
  {
   "cell_type": "markdown",
   "id": "bc650c25-c75d-4975-8c03-857812198d90",
   "metadata": {},
   "source": [
    "Plotting a histogram of this **sampling distribution**, we see that a true share of 0.51 may result in fractions between (roughly) 0.48 and 0.54 in a sample of 1000. This means also that if we observe a majority of 51% for Brown in the sample, the winner may very well be Green."
   ]
  },
  {
   "cell_type": "code",
   "execution_count": 100,
   "id": "775297ef-1732-41b9-b6e1-c11ecf786254",
   "metadata": {},
   "outputs": [
    {
     "data": {
      "image/png": "[encoded data removed]",
      "text/plain": [
       "<Figure size 400x300 with 1 Axes>"
      ]
     },
     "metadata": {},
     "output_type": "display_data"
    }
   ],
   "source": [
    "pp.figure(figsize=(4,3))\n",
    "pp.hist(counts['Brown'], histtype='step', bins=20, density=True);"
   ]
  },
  {
   "cell_type": "markdown",
   "id": "1105b571-dd39-4d4f-8357-68a55667dfc8",
   "metadata": {},
   "source": [
    "Computing summary statistics shows that the error is about 1.5%, and the interquartile range is 50% to 52%.\n",
    "\n",
    "Indeed, that means that with a true Brown majority of 51%, the poll would yield Green as winner about 25% of the times. Journalists must be careful!"
   ]
  },
  {
   "cell_type": "code",
   "execution_count": 101,
   "id": "020ca3d7-4571-4dcb-b48c-0bacba8f216a",
   "metadata": {},
   "outputs": [
    {
     "data": {
      "text/html": [
       "<div>\n",
       "<style scoped>\n",
       "    .dataframe tbody tr th:only-of-type {\n",
       "        vertical-align: middle;\n",
       "    }\n",
       "\n",
       "    .dataframe tbody tr th {\n",
       "        vertical-align: top;\n",
       "    }\n",
       "\n",
       "    .dataframe thead tr th {\n",
       "        text-align: left;\n",
       "    }\n",
       "</style>\n",
       "<table border=\"1\" class=\"dataframe\">\n",
       "  <thead>\n",
       "    <tr>\n",
       "      <th>vote</th>\n",
       "      <th>Brown</th>\n",
       "    </tr>\n",
       "  </thead>\n",
       "  <tbody>\n",
       "    <tr>\n",
       "      <th>count</th>\n",
       "      <td>2000.000000</td>\n",
       "    </tr>\n",
       "    <tr>\n",
       "      <th>mean</th>\n",
       "      <td>0.509907</td>\n",
       "    </tr>\n",
       "    <tr>\n",
       "      <th>std</th>\n",
       "      <td>0.016124</td>\n",
       "    </tr>\n",
       "    <tr>\n",
       "      <th>min</th>\n",
       "      <td>0.453000</td>\n",
       "    </tr>\n",
       "    <tr>\n",
       "      <th>25%</th>\n",
       "      <td>0.499000</td>\n",
       "    </tr>\n",
       "    <tr>\n",
       "      <th>50%</th>\n",
       "      <td>0.510000</td>\n",
       "    </tr>\n",
       "    <tr>\n",
       "      <th>75%</th>\n",
       "      <td>0.521000</td>\n",
       "    </tr>\n",
       "    <tr>\n",
       "      <th>max</th>\n",
       "      <td>0.562000</td>\n",
       "    </tr>\n",
       "  </tbody>\n",
       "</table>\n",
       "</div>"
      ],
      "text/plain": [
       "vote         Brown\n",
       "count  2000.000000\n",
       "mean      0.509907\n",
       "std       0.016124\n",
       "min       0.453000\n",
       "25%       0.499000\n",
       "50%       0.510000\n",
       "75%       0.521000\n",
       "max       0.562000"
      ]
     },
     "execution_count": 101,
     "metadata": {},
     "output_type": "execute_result"
    }
   ],
   "source": [
    "counts.Brown.describe()"
   ]
  },
  {
   "cell_type": "markdown",
   "id": "859ab470-6d7c-4d1c-8830-b1bc17dcfbb0",
   "metadata": {},
   "source": [
    "The fun thing with simulations is that it's easy to verify our intuition. For instance, a slightly stronger true majority for Brown would almost never result in an uncertain poll:"
   ]
  },
  {
   "cell_type": "code",
   "execution_count": 102,
   "id": "e004d02c-11e8-457e-a524-b6cc148d71a3",
   "metadata": {},
   "outputs": [
    {
     "data": {
      "image/png": "[encoded data removed]",
      "text/plain": [
       "<Figure size 400x300 with 1 Axes>"
      ]
     },
     "metadata": {},
     "output_type": "display_data"
    }
   ],
   "source": [
    "pp.figure(figsize=(4,3))\n",
    "pp.hist(makedist(2000, 1000, 0.55)['Brown'], histtype='step', bins=20, density=True);"
   ]
  },
  {
   "cell_type": "markdown",
   "id": "76a4267e-f5c1-49d2-a641-b67e06b77836",
   "metadata": {},
   "source": [
    "And a larger poll of 10000 would be more precise than a poll of 1000."
   ]
  },
  {
   "cell_type": "code",
   "execution_count": 104,
   "id": "0e8b7483-ba8c-4dfa-88ce-a9dad7fca3c1",
   "metadata": {},
   "outputs": [
    {
     "data": {
      "image/png": "[encoded data removed]",
      "text/plain": [
       "<Figure size 400x300 with 1 Axes>"
      ]
     },
     "metadata": {},
     "output_type": "display_data"
    }
   ],
   "source": [
    "pp.figure(figsize=(4,3))\n",
    "pp.hist(makedist(2000, 1000, 0.55)['Brown'], histtype='step', bins=20, density=True, label='1,000')\n",
    "pp.hist(makedist(2000, 10000, 0.55)['Brown'], histtype='step', bins=20, density=True, label='10,000')\n",
    "pp.legend();"
   ]
  },
  {
   "cell_type": "markdown",
   "id": "7248a870-c97b-4084-90eb-b1feec15a830",
   "metadata": {},
   "source": [
    "Statisticians make precise statements about the uncertainty of polling by giving **confidence intervals**. They will say: given this sampling, 95% of the times the true value would fall within this range. How do we find that?"
   ]
  },
  {
   "cell_type": "markdown",
   "id": "c7760ede-415a-4d34-99c6-94c504936cdf",
   "metadata": {},
   "source": [
    "A 95% confidence interval means that we can be wrong 5% of the time. We'll split that equally between being too high and too low.\n",
    "\n",
    "So we look for the true vote fraction for which the lowest 2.5% of the sampling distribution lies below 0.51. That's about 54%."
   ]
  },
  {
   "cell_type": "code",
   "execution_count": 105,
   "id": "569df928-c4aa-4205-9bd4-b95b30563678",
   "metadata": {},
   "outputs": [
    {
     "data": {
      "text/plain": [
       "vote \n",
       "Brown    0.52\n",
       "Name: 0.025, dtype: float64"
      ]
     },
     "execution_count": 105,
     "metadata": {},
     "output_type": "execute_result"
    }
   ],
   "source": [
    "makedist(2000, 1000, 0.55)['Brown'].quantile(0.025)"
   ]
  },
  {
   "cell_type": "code",
   "execution_count": 112,
   "id": "4ffac014-4587-49cd-86e5-e83bc6c919ba",
   "metadata": {},
   "outputs": [
    {
     "data": {
      "text/plain": [
       "vote \n",
       "Brown    0.508975\n",
       "Name: 0.025, dtype: float64"
      ]
     },
     "execution_count": 112,
     "metadata": {},
     "output_type": "execute_result"
    }
   ],
   "source": [
    "makedist(2000, 1000, 0.54)['Brown'].quantile(0.025)"
   ]
  },
  {
   "cell_type": "markdown",
   "id": "c8f1b0cd-af17-4db4-88ff-992a61103c35",
   "metadata": {},
   "source": [
    "And we look for the true vote fraction for which the highest 2.5% of the sampling distribution lies above 0.51. That's about 48%."
   ]
  },
  {
   "cell_type": "code",
   "execution_count": 119,
   "id": "010712a2-191f-4885-a078-0b3690e97291",
   "metadata": {},
   "outputs": [
    {
     "data": {
      "text/plain": [
       "vote \n",
       "Brown    0.501025\n",
       "Name: 0.975, dtype: float64"
      ]
     },
     "execution_count": 119,
     "metadata": {},
     "output_type": "execute_result"
    }
   ],
   "source": [
    "makedist(2000, 1000, 0.47)['Brown'].quantile(0.975)"
   ]
  },
  {
   "cell_type": "code",
   "execution_count": 120,
   "id": "964fa3fc-e668-426b-af79-7f91513c7910",
   "metadata": {},
   "outputs": [
    {
     "data": {
      "text/plain": [
       "vote \n",
       "Brown    0.511\n",
       "Name: 0.975, dtype: float64"
      ]
     },
     "execution_count": 120,
     "metadata": {},
     "output_type": "execute_result"
    }
   ],
   "source": [
    "makedist(2000, 1000, 0.48)['Brown'].quantile(0.975)"
   ]
  },
  {
   "cell_type": "markdown",
   "id": "d95cc9f9-96a6-4c6b-bb5f-e5c5e1463b5b",
   "metadata": {},
   "source": [
    "So the 95% confidence interval for a finding of 51% in a 1,000-voter poll is between 48% and 54%."
   ]
  },
  {
   "cell_type": "markdown",
   "id": "1092218b-75d8-4c35-8bd6-5b6ec40062dd",
   "metadata": {},
   "source": [
    "This is a simple analysis, but it gives you a good sense of how professional pollsters actually estimate their errors. Except they have to deal with the complications of reality, such as the fact that any polling may overrepresent some segments of the population and underrepresent others (this would be a **selection bias**), as well as the fact that voters may not respond truthfully (this would be a **response bias**)."
   ]
  },
  {
   "cell_type": "code",
   "execution_count": null,
   "id": "708157cc-0de1-4cb4-a4e7-6637d8105d3d",
   "metadata": {},
   "outputs": [],
   "source": []
  }
 ],
 "metadata": {
  "kernelspec": {
   "display_name": "Python 3 (ipykernel)",
   "language": "python",
   "name": "python3"
  },
  "language_info": {
   "codemirror_mode": {
    "name": "ipython",
    "version": 3
   },
   "file_extension": ".py",
   "mimetype": "text/x-python",
   "name": "python",
   "nbconvert_exporter": "python",
   "pygments_lexer": "ipython3",
   "version": "3.11.8"
  }
 },
 "nbformat": 4,
 "nbformat_minor": 5
}
