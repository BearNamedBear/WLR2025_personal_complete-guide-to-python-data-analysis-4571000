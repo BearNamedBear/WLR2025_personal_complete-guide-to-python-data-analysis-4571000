{
 "cells": [
  {
   "cell_type": "markdown",
   "metadata": {},
   "source": [
    "# 07_05: Simulating data"
   ]
  },
  {
   "cell_type": "code",
   "execution_count": 1,
   "metadata": {},
   "outputs": [],
   "source": [
    "import math\n",
    "import collections\n",
    "import dataclasses\n",
    "import datetime\n",
    "\n",
    "import numpy as np\n",
    "import pandas as pd\n",
    "import matplotlib.pyplot as pp"
   ]
  },
  {
   "cell_type": "code",
   "execution_count": 2,
   "metadata": {},
   "outputs": [],
   "source": [
    "import random\n",
    "import faker"
   ]
  },
  {
   "cell_type": "markdown",
   "metadata": {},
   "source": [
    "Sometimes you need to develop a data-analysis application before you have access to the data. In that case, a good approach is creating fake data with the right structure and realistic content. Then you can use that to populate your tables and test your algorithms. However, making these records by hand can be very time consuming.\n",
    "\n",
    "Of course the Python ecosystem can help with that! The `faker` package is a popular library to generate random, realistic-looking fake data, such as names, addresses, dates, and more. Let's have a look at what it can do.\n",
    "\n",
    "See https://faker.readthedocs.io/en/master"
   ]
  },
  {
   "cell_type": "markdown",
   "metadata": {},
   "source": [
    "We start by creating an instance of the `Faker` class."
   ]
  },
  {
   "cell_type": "code",
   "execution_count": 3,
   "metadata": {},
   "outputs": [],
   "source": [
    "fake = faker.Faker()"
   ]
  },
  {
   "cell_type": "markdown",
   "metadata": {},
   "source": [
    "Then we can call its methods to make up a person."
   ]
  },
  {
   "cell_type": "code",
   "execution_count": 7,
   "metadata": {},
   "outputs": [
    {
     "data": {
      "text/plain": [
       "'Cameron Rocha'"
      ]
     },
     "execution_count": 7,
     "metadata": {},
     "output_type": "execute_result"
    }
   ],
   "source": [
    "fake.name()"
   ]
  },
  {
   "cell_type": "code",
   "execution_count": 8,
   "metadata": {},
   "outputs": [
    {
     "data": {
      "text/plain": [
       "'51001 Jennifer Drives Suite 296\\nNorth Rachel, ME 49377'"
      ]
     },
     "execution_count": 8,
     "metadata": {},
     "output_type": "execute_result"
    }
   ],
   "source": [
    "fake.address()"
   ]
  },
  {
   "cell_type": "code",
   "execution_count": 9,
   "metadata": {},
   "outputs": [
    {
     "data": {
      "text/plain": [
       "datetime.date(2008, 7, 4)"
      ]
     },
     "execution_count": 9,
     "metadata": {},
     "output_type": "execute_result"
    }
   ],
   "source": [
    "fake.date_of_birth()"
   ]
  },
  {
   "cell_type": "code",
   "execution_count": 10,
   "metadata": {},
   "outputs": [
    {
     "data": {
      "text/plain": [
       "'East Luke'"
      ]
     },
     "execution_count": 10,
     "metadata": {},
     "output_type": "execute_result"
    }
   ],
   "source": [
    "fake.city()"
   ]
  },
  {
   "cell_type": "code",
   "execution_count": 12,
   "metadata": {},
   "outputs": [
    {
     "data": {
      "text/plain": [
       "'OH'"
      ]
     },
     "execution_count": 12,
     "metadata": {},
     "output_type": "execute_result"
    }
   ],
   "source": [
    "fake.state_abbr()"
   ]
  },
  {
   "cell_type": "markdown",
   "metadata": {},
   "source": [
    "To make this a bit more interesting, we're going to create a database of imaginary musical performers, of their songs, and of the songs' rankings in a weekly billboard."
   ]
  },
  {
   "cell_type": "markdown",
   "metadata": {},
   "source": [
    "We start with an imaginary performer. In addition to name and date of birth, for which we specify minimum and maximum age, we put together city and state of birth using a Python f string, and a pick a random genre from a list that we provide using `random_element`. We could also use `random.choice`, but it's a bit more elegant to keep using `faker` methods."
   ]
  },
  {
   "cell_type": "code",
   "execution_count": 4,
   "metadata": {},
   "outputs": [],
   "source": [
    "music_genres = ['Rock', 'Pop', 'Jazz', 'Hip Hop', 'Country', 'Electronic', 'Blues', \n",
    "                'Reggae', 'Metal', 'Folk', 'Soul', 'R&B', 'Punk', 'Indie', 'Alternative']"
   ]
  },
  {
   "cell_type": "code",
   "execution_count": 378,
   "metadata": {},
   "outputs": [],
   "source": [
    "def artist():\n",
    "    return {'name': fake.name(),\n",
    "            'dob': pd.to_datetime(fake.date_of_birth(minimum_age=16, maximum_age=80)), # from Python to pandas date object\n",
    "            'birthplace': f'{fake.city()} {fake.state_abbr()}',\n",
    "            'genre': fake.random_element(music_genres)}"
   ]
  },
  {
   "cell_type": "markdown",
   "metadata": {},
   "source": [
    "Here's an artist, as a Python dictionary."
   ]
  },
  {
   "cell_type": "code",
   "execution_count": 379,
   "metadata": {},
   "outputs": [
    {
     "data": {
      "text/plain": [
       "{'name': 'Tina Stewart',\n",
       " 'dob': Timestamp('1985-03-02 00:00:00'),\n",
       " 'birthplace': 'North Allison GA',\n",
       " 'genre': 'Blues'}"
      ]
     },
     "execution_count": 379,
     "metadata": {},
     "output_type": "execute_result"
    }
   ],
   "source": [
    "artist()"
   ]
  },
  {
   "cell_type": "markdown",
   "metadata": {},
   "source": [
    "We collect 100 random artists in a dataframe. The index is just a simple ordinal range, but we can use that just fine to link to other tables, so we'll name explicitly `artist_id`."
   ]
  },
  {
   "cell_type": "code",
   "execution_count": 380,
   "metadata": {},
   "outputs": [],
   "source": [
    "artists = pd.DataFrame([artist() for i in range(100)])\n",
    "artists.index.name = 'artist_id'"
   ]
  },
  {
   "cell_type": "code",
   "execution_count": 383,
   "metadata": {},
   "outputs": [
    {
     "data": {
      "text/html": [
       "<div>\n",
       "<style scoped>\n",
       "    .dataframe tbody tr th:only-of-type {\n",
       "        vertical-align: middle;\n",
       "    }\n",
       "\n",
       "    .dataframe tbody tr th {\n",
       "        vertical-align: top;\n",
       "    }\n",
       "\n",
       "    .dataframe thead th {\n",
       "        text-align: right;\n",
       "    }\n",
       "</style>\n",
       "<table border=\"1\" class=\"dataframe\">\n",
       "  <thead>\n",
       "    <tr style=\"text-align: right;\">\n",
       "      <th></th>\n",
       "      <th>name</th>\n",
       "      <th>dob</th>\n",
       "      <th>birthplace</th>\n",
       "      <th>genre</th>\n",
       "    </tr>\n",
       "    <tr>\n",
       "      <th>artist_id</th>\n",
       "      <th></th>\n",
       "      <th></th>\n",
       "      <th></th>\n",
       "      <th></th>\n",
       "    </tr>\n",
       "  </thead>\n",
       "  <tbody>\n",
       "    <tr>\n",
       "      <th>0</th>\n",
       "      <td>Michelle Graham</td>\n",
       "      <td>1990-02-11</td>\n",
       "      <td>Raymondville KY</td>\n",
       "      <td>Blues</td>\n",
       "    </tr>\n",
       "    <tr>\n",
       "      <th>1</th>\n",
       "      <td>Kimberly Olson</td>\n",
       "      <td>1989-11-03</td>\n",
       "      <td>Christopherbury VT</td>\n",
       "      <td>Jazz</td>\n",
       "    </tr>\n",
       "    <tr>\n",
       "      <th>2</th>\n",
       "      <td>Stephanie Hale</td>\n",
       "      <td>1986-03-21</td>\n",
       "      <td>Port Connorhaven FM</td>\n",
       "      <td>Hip Hop</td>\n",
       "    </tr>\n",
       "    <tr>\n",
       "      <th>3</th>\n",
       "      <td>Dennis Sparks</td>\n",
       "      <td>1996-06-30</td>\n",
       "      <td>Nathanhaven PA</td>\n",
       "      <td>Pop</td>\n",
       "    </tr>\n",
       "    <tr>\n",
       "      <th>4</th>\n",
       "      <td>Taylor Turner</td>\n",
       "      <td>1992-05-23</td>\n",
       "      <td>New Timothy CA</td>\n",
       "      <td>Country</td>\n",
       "    </tr>\n",
       "    <tr>\n",
       "      <th>...</th>\n",
       "      <td>...</td>\n",
       "      <td>...</td>\n",
       "      <td>...</td>\n",
       "      <td>...</td>\n",
       "    </tr>\n",
       "    <tr>\n",
       "      <th>95</th>\n",
       "      <td>Suzanne Wagner</td>\n",
       "      <td>1948-05-09</td>\n",
       "      <td>Rodneyfort AL</td>\n",
       "      <td>R&amp;B</td>\n",
       "    </tr>\n",
       "    <tr>\n",
       "      <th>96</th>\n",
       "      <td>Antonio Hernandez</td>\n",
       "      <td>1945-11-15</td>\n",
       "      <td>Richardmouth ME</td>\n",
       "      <td>Hip Hop</td>\n",
       "    </tr>\n",
       "    <tr>\n",
       "      <th>97</th>\n",
       "      <td>Mandy Burton</td>\n",
       "      <td>1949-06-08</td>\n",
       "      <td>West Melissa KS</td>\n",
       "      <td>Pop</td>\n",
       "    </tr>\n",
       "    <tr>\n",
       "      <th>98</th>\n",
       "      <td>Melinda Fields</td>\n",
       "      <td>1971-02-14</td>\n",
       "      <td>East Courtney MS</td>\n",
       "      <td>Indie</td>\n",
       "    </tr>\n",
       "    <tr>\n",
       "      <th>99</th>\n",
       "      <td>David Kim</td>\n",
       "      <td>2002-12-18</td>\n",
       "      <td>Lake David SC</td>\n",
       "      <td>R&amp;B</td>\n",
       "    </tr>\n",
       "  </tbody>\n",
       "</table>\n",
       "<p>100 rows × 4 columns</p>\n",
       "</div>"
      ],
      "text/plain": [
       "                        name        dob           birthplace    genre\n",
       "artist_id                                                            \n",
       "0            Michelle Graham 1990-02-11      Raymondville KY    Blues\n",
       "1             Kimberly Olson 1989-11-03   Christopherbury VT     Jazz\n",
       "2             Stephanie Hale 1986-03-21  Port Connorhaven FM  Hip Hop\n",
       "3              Dennis Sparks 1996-06-30       Nathanhaven PA      Pop\n",
       "4              Taylor Turner 1992-05-23       New Timothy CA  Country\n",
       "...                      ...        ...                  ...      ...\n",
       "95            Suzanne Wagner 1948-05-09        Rodneyfort AL      R&B\n",
       "96         Antonio Hernandez 1945-11-15      Richardmouth ME  Hip Hop\n",
       "97              Mandy Burton 1949-06-08      West Melissa KS      Pop\n",
       "98            Melinda Fields 1971-02-14     East Courtney MS    Indie\n",
       "99                 David Kim 2002-12-18        Lake David SC      R&B\n",
       "\n",
       "[100 rows x 4 columns]"
      ]
     },
     "execution_count": 383,
     "metadata": {},
     "output_type": "execute_result"
    }
   ],
   "source": [
    "artists"
   ]
  },
  {
   "cell_type": "markdown",
   "metadata": {},
   "source": [
    "Now for imaginary songs. We'll include a random `artist_id` picked from the index; a random title of up to twenty characters; the date of release in the last two years, and the appropriate genre for that artist."
   ]
  },
  {
   "cell_type": "code",
   "execution_count": 184,
   "metadata": {},
   "outputs": [],
   "source": [
    "def song():\n",
    "    artist = fake.random_element(artists.index)\n",
    "    \n",
    "    return {'title': fake.text(max_nb_chars=20)[:-1], # skip the fin\n",
    "            'release': pd.to_datetime(fake.past_date(start_date=\"-2y\")),\n",
    "            'artist_id': artist,\n",
    "            'genre': artists.loc[artist, 'genre']}"
   ]
  },
  {
   "cell_type": "markdown",
   "metadata": {},
   "source": [
    "Looks great. Yeah, the title could be more incisive, I agree."
   ]
  },
  {
   "cell_type": "code",
   "execution_count": 185,
   "metadata": {},
   "outputs": [
    {
     "data": {
      "text/plain": [
       "{'title': 'For inside herself',\n",
       " 'release': Timestamp('2022-12-01 00:00:00'),\n",
       " 'artist_id': 74,\n",
       " 'genre': 'Punk'}"
      ]
     },
     "execution_count": 185,
     "metadata": {},
     "output_type": "execute_result"
    }
   ],
   "source": [
    "song()"
   ]
  },
  {
   "cell_type": "markdown",
   "metadata": {},
   "source": [
    "Let's try another... a bit better/just as bad."
   ]
  },
  {
   "cell_type": "code",
   "execution_count": 186,
   "metadata": {},
   "outputs": [
    {
     "data": {
      "text/plain": [
       "{'title': 'Home our three guy',\n",
       " 'release': Timestamp('2023-01-02 00:00:00'),\n",
       " 'artist_id': 60,\n",
       " 'genre': 'Pop'}"
      ]
     },
     "execution_count": 186,
     "metadata": {},
     "output_type": "execute_result"
    }
   ],
   "source": [
    "song()"
   ]
  },
  {
   "cell_type": "markdown",
   "metadata": {},
   "source": [
    "So here's a table of 500 songs, and again we'll adopt the automatically generated index."
   ]
  },
  {
   "cell_type": "code",
   "execution_count": 187,
   "metadata": {},
   "outputs": [],
   "source": [
    "songs = pd.DataFrame([song() for i in range(500)])\n",
    "songs.index.name = 'song_id'"
   ]
  },
  {
   "cell_type": "code",
   "execution_count": 188,
   "metadata": {},
   "outputs": [
    {
     "data": {
      "text/html": [
       "<div>\n",
       "<style scoped>\n",
       "    .dataframe tbody tr th:only-of-type {\n",
       "        vertical-align: middle;\n",
       "    }\n",
       "\n",
       "    .dataframe tbody tr th {\n",
       "        vertical-align: top;\n",
       "    }\n",
       "\n",
       "    .dataframe thead th {\n",
       "        text-align: right;\n",
       "    }\n",
       "</style>\n",
       "<table border=\"1\" class=\"dataframe\">\n",
       "  <thead>\n",
       "    <tr style=\"text-align: right;\">\n",
       "      <th></th>\n",
       "      <th>title</th>\n",
       "      <th>release</th>\n",
       "      <th>artist_id</th>\n",
       "      <th>genre</th>\n",
       "    </tr>\n",
       "    <tr>\n",
       "      <th>song_id</th>\n",
       "      <th></th>\n",
       "      <th></th>\n",
       "      <th></th>\n",
       "      <th></th>\n",
       "    </tr>\n",
       "  </thead>\n",
       "  <tbody>\n",
       "    <tr>\n",
       "      <th>0</th>\n",
       "      <td>Deal treatment keep</td>\n",
       "      <td>2024-08-02</td>\n",
       "      <td>50</td>\n",
       "      <td>R&amp;B</td>\n",
       "    </tr>\n",
       "    <tr>\n",
       "      <th>1</th>\n",
       "      <td>Past guy letter</td>\n",
       "      <td>2024-04-13</td>\n",
       "      <td>10</td>\n",
       "      <td>R&amp;B</td>\n",
       "    </tr>\n",
       "    <tr>\n",
       "      <th>2</th>\n",
       "      <td>Full three job our</td>\n",
       "      <td>2023-03-16</td>\n",
       "      <td>28</td>\n",
       "      <td>Blues</td>\n",
       "    </tr>\n",
       "    <tr>\n",
       "      <th>3</th>\n",
       "      <td>Image center thank</td>\n",
       "      <td>2023-01-24</td>\n",
       "      <td>43</td>\n",
       "      <td>R&amp;B</td>\n",
       "    </tr>\n",
       "    <tr>\n",
       "      <th>4</th>\n",
       "      <td>Already anything</td>\n",
       "      <td>2024-09-02</td>\n",
       "      <td>39</td>\n",
       "      <td>Country</td>\n",
       "    </tr>\n",
       "    <tr>\n",
       "      <th>...</th>\n",
       "      <td>...</td>\n",
       "      <td>...</td>\n",
       "      <td>...</td>\n",
       "      <td>...</td>\n",
       "    </tr>\n",
       "    <tr>\n",
       "      <th>495</th>\n",
       "      <td>Cost hard hope low</td>\n",
       "      <td>2022-09-27</td>\n",
       "      <td>49</td>\n",
       "      <td>Pop</td>\n",
       "    </tr>\n",
       "    <tr>\n",
       "      <th>496</th>\n",
       "      <td>Send audience</td>\n",
       "      <td>2023-04-06</td>\n",
       "      <td>59</td>\n",
       "      <td>Rock</td>\n",
       "    </tr>\n",
       "    <tr>\n",
       "      <th>497</th>\n",
       "      <td>Thing animal</td>\n",
       "      <td>2023-09-13</td>\n",
       "      <td>53</td>\n",
       "      <td>Metal</td>\n",
       "    </tr>\n",
       "    <tr>\n",
       "      <th>498</th>\n",
       "      <td>Car character bar</td>\n",
       "      <td>2024-07-30</td>\n",
       "      <td>5</td>\n",
       "      <td>Punk</td>\n",
       "    </tr>\n",
       "    <tr>\n",
       "      <th>499</th>\n",
       "      <td>Series spring</td>\n",
       "      <td>2024-05-15</td>\n",
       "      <td>70</td>\n",
       "      <td>R&amp;B</td>\n",
       "    </tr>\n",
       "  </tbody>\n",
       "</table>\n",
       "<p>500 rows × 4 columns</p>\n",
       "</div>"
      ],
      "text/plain": [
       "                       title    release  artist_id    genre\n",
       "song_id                                                    \n",
       "0        Deal treatment keep 2024-08-02         50      R&B\n",
       "1            Past guy letter 2024-04-13         10      R&B\n",
       "2         Full three job our 2023-03-16         28    Blues\n",
       "3         Image center thank 2023-01-24         43      R&B\n",
       "4           Already anything 2024-09-02         39  Country\n",
       "...                      ...        ...        ...      ...\n",
       "495       Cost hard hope low 2022-09-27         49      Pop\n",
       "496            Send audience 2023-04-06         59     Rock\n",
       "497             Thing animal 2023-09-13         53    Metal\n",
       "498        Car character bar 2024-07-30          5     Punk\n",
       "499            Series spring 2024-05-15         70      R&B\n",
       "\n",
       "[500 rows x 4 columns]"
      ]
     },
     "execution_count": 188,
     "metadata": {},
     "output_type": "execute_result"
    }
   ],
   "source": [
    "songs"
   ]
  },
  {
   "cell_type": "markdown",
   "metadata": {},
   "source": [
    "Now we get into the weeds a bit. I'd like to create a history of plays (say on the radio, or on a streaming platform) for each songs. So we first set up a range of weeks from the release, for a randomized number of weeks. We use the pandas Timestamp and Timedelta objects, and the pandas function date_range. A frequency parameter of `W-MON` gets us a Monday every week. "
   ]
  },
  {
   "cell_type": "code",
   "execution_count": 191,
   "metadata": {},
   "outputs": [
    {
     "data": {
      "text/plain": [
       "Timestamp('2024-08-02 00:00:00')"
      ]
     },
     "execution_count": 191,
     "metadata": {},
     "output_type": "execute_result"
    }
   ],
   "source": [
    "songs.loc[0].release"
   ]
  },
  {
   "cell_type": "code",
   "execution_count": 192,
   "metadata": {},
   "outputs": [],
   "source": [
    "duration = np.random.randint(10, 50)"
   ]
  },
  {
   "cell_type": "code",
   "execution_count": 193,
   "metadata": {},
   "outputs": [
    {
     "data": {
      "text/plain": [
       "Timestamp('2025-02-07 00:00:00')"
      ]
     },
     "execution_count": 193,
     "metadata": {},
     "output_type": "execute_result"
    }
   ],
   "source": [
    "songs.loc[0].release + pd.Timedelta(weeks=duration)"
   ]
  },
  {
   "cell_type": "code",
   "execution_count": 194,
   "metadata": {},
   "outputs": [],
   "source": [
    "t = pd.date_range(start=songs.loc[0].release,\n",
    "                  end=songs.loc[0].release + pd.Timedelta(weeks=duration),\n",
    "                  freq='W-MON')"
   ]
  },
  {
   "cell_type": "markdown",
   "metadata": {},
   "source": [
    "We'll simulate a very simple history, declining linearly from a random initial value, multiplying by random coefficients between 0.8 and 1.2 to add some noise. But if you want to play with this you can get as fancy as you wish."
   ]
  },
  {
   "cell_type": "code",
   "execution_count": 195,
   "metadata": {},
   "outputs": [],
   "source": [
    "initial_plays = np.random.randint(500000, 1000000)"
   ]
  },
  {
   "cell_type": "code",
   "execution_count": 196,
   "metadata": {},
   "outputs": [],
   "source": [
    "plays = initial_plays * np.linspace(1, 1/duration, duration) * np.random.uniform(0.8, 1.2, duration)"
   ]
  },
  {
   "cell_type": "code",
   "execution_count": 197,
   "metadata": {},
   "outputs": [
    {
     "data": {
      "image/png": "[encoded data removed]",
      "text/plain": [
       "<Figure size 500x300 with 1 Axes>"
      ]
     },
     "metadata": {},
     "output_type": "display_data"
    }
   ],
   "source": [
    "pp.figure(figsize=(5,3))\n",
    "pp.plot(t, plays)\n",
    "pp.xticks(rotation=30); # angled tick labels are more readable"
   ]
  },
  {
   "cell_type": "markdown",
   "metadata": {},
   "source": [
    "Great! Let's put all of this together."
   ]
  },
  {
   "cell_type": "code",
   "execution_count": 312,
   "metadata": {},
   "outputs": [],
   "source": [
    "def history(song_id):\n",
    "    duration = np.random.randint(10, 50)\n",
    "\n",
    "    t = pd.date_range(start=songs.loc[song_id].release,\n",
    "                      end=songs.loc[song_id].release + pd.Timedelta(weeks=duration),\n",
    "                      freq='W-MON')\n",
    "\n",
    "    initial_plays = np.random.randint(500000, 1000000)\n",
    "    plays = initial_plays * np.linspace(1, 0, duration) * np.random.uniform(0.8, 1.2, duration)\n",
    "    \n",
    "    return pd.DataFrame({'song_id': song_id, 'plays': plays.astype(int), 'date': t[:duration]})"
   ]
  },
  {
   "cell_type": "markdown",
   "metadata": {},
   "source": [
    "Looks good!"
   ]
  },
  {
   "cell_type": "markdown",
   "metadata": {},
   "source": [
    "Let's make such a history for every song.\n",
    "\n",
    "Ah, and the original index from every history will be useful, because it gives us the number of weeks since the release of a song. We turn it into a regular column with `reset_index`, then change its name."
   ]
  },
  {
   "cell_type": "code",
   "execution_count": 330,
   "metadata": {},
   "outputs": [],
   "source": [
    "histories = pd.concat([history(song_id) for song_id in songs.index], axis=0).reset_index().rename(columns={'index': 'week'})"
   ]
  },
  {
   "cell_type": "code",
   "execution_count": 331,
   "metadata": {},
   "outputs": [
    {
     "data": {
      "text/html": [
       "<div>\n",
       "<style scoped>\n",
       "    .dataframe tbody tr th:only-of-type {\n",
       "        vertical-align: middle;\n",
       "    }\n",
       "\n",
       "    .dataframe tbody tr th {\n",
       "        vertical-align: top;\n",
       "    }\n",
       "\n",
       "    .dataframe thead th {\n",
       "        text-align: right;\n",
       "    }\n",
       "</style>\n",
       "<table border=\"1\" class=\"dataframe\">\n",
       "  <thead>\n",
       "    <tr style=\"text-align: right;\">\n",
       "      <th></th>\n",
       "      <th>week</th>\n",
       "      <th>song_id</th>\n",
       "      <th>plays</th>\n",
       "      <th>date</th>\n",
       "    </tr>\n",
       "  </thead>\n",
       "  <tbody>\n",
       "    <tr>\n",
       "      <th>0</th>\n",
       "      <td>0</td>\n",
       "      <td>0</td>\n",
       "      <td>532148</td>\n",
       "      <td>2024-08-05</td>\n",
       "    </tr>\n",
       "    <tr>\n",
       "      <th>1</th>\n",
       "      <td>1</td>\n",
       "      <td>0</td>\n",
       "      <td>516859</td>\n",
       "      <td>2024-08-12</td>\n",
       "    </tr>\n",
       "    <tr>\n",
       "      <th>2</th>\n",
       "      <td>2</td>\n",
       "      <td>0</td>\n",
       "      <td>536810</td>\n",
       "      <td>2024-08-19</td>\n",
       "    </tr>\n",
       "    <tr>\n",
       "      <th>3</th>\n",
       "      <td>3</td>\n",
       "      <td>0</td>\n",
       "      <td>707906</td>\n",
       "      <td>2024-08-26</td>\n",
       "    </tr>\n",
       "    <tr>\n",
       "      <th>4</th>\n",
       "      <td>4</td>\n",
       "      <td>0</td>\n",
       "      <td>630020</td>\n",
       "      <td>2024-09-02</td>\n",
       "    </tr>\n",
       "    <tr>\n",
       "      <th>...</th>\n",
       "      <td>...</td>\n",
       "      <td>...</td>\n",
       "      <td>...</td>\n",
       "      <td>...</td>\n",
       "    </tr>\n",
       "    <tr>\n",
       "      <th>14556</th>\n",
       "      <td>22</td>\n",
       "      <td>499</td>\n",
       "      <td>127098</td>\n",
       "      <td>2024-10-21</td>\n",
       "    </tr>\n",
       "    <tr>\n",
       "      <th>14557</th>\n",
       "      <td>23</td>\n",
       "      <td>499</td>\n",
       "      <td>101714</td>\n",
       "      <td>2024-10-28</td>\n",
       "    </tr>\n",
       "    <tr>\n",
       "      <th>14558</th>\n",
       "      <td>24</td>\n",
       "      <td>499</td>\n",
       "      <td>64009</td>\n",
       "      <td>2024-11-04</td>\n",
       "    </tr>\n",
       "    <tr>\n",
       "      <th>14559</th>\n",
       "      <td>25</td>\n",
       "      <td>499</td>\n",
       "      <td>40399</td>\n",
       "      <td>2024-11-11</td>\n",
       "    </tr>\n",
       "    <tr>\n",
       "      <th>14560</th>\n",
       "      <td>26</td>\n",
       "      <td>499</td>\n",
       "      <td>0</td>\n",
       "      <td>2024-11-18</td>\n",
       "    </tr>\n",
       "  </tbody>\n",
       "</table>\n",
       "<p>14561 rows × 4 columns</p>\n",
       "</div>"
      ],
      "text/plain": [
       "       week  song_id   plays       date\n",
       "0         0        0  532148 2024-08-05\n",
       "1         1        0  516859 2024-08-12\n",
       "2         2        0  536810 2024-08-19\n",
       "3         3        0  707906 2024-08-26\n",
       "4         4        0  630020 2024-09-02\n",
       "...     ...      ...     ...        ...\n",
       "14556    22      499  127098 2024-10-21\n",
       "14557    23      499  101714 2024-10-28\n",
       "14558    24      499   64009 2024-11-04\n",
       "14559    25      499   40399 2024-11-11\n",
       "14560    26      499       0 2024-11-18\n",
       "\n",
       "[14561 rows x 4 columns]"
      ]
     },
     "execution_count": 331,
     "metadata": {},
     "output_type": "execute_result"
    }
   ],
   "source": [
    "histories"
   ]
  },
  {
   "cell_type": "markdown",
   "metadata": {},
   "source": [
    "Last, we'll concentrate on the last year, downselecting our table using a boolean condition."
   ]
  },
  {
   "cell_type": "code",
   "execution_count": 332,
   "metadata": {},
   "outputs": [],
   "source": [
    "histories = histories[(histories.date > pd.Timestamp.today() - pd.Timedelta(weeks=52)) &\n",
    "                      (histories.date <= pd.Timestamp.today())]"
   ]
  },
  {
   "cell_type": "markdown",
   "metadata": {},
   "source": [
    "We will also sort by week of the year and by number of plays, largest first."
   ]
  },
  {
   "cell_type": "code",
   "execution_count": 335,
   "metadata": {},
   "outputs": [],
   "source": [
    "histories = histories.sort_values(['date', 'plays'], ascending=[True, False])"
   ]
  },
  {
   "cell_type": "code",
   "execution_count": 336,
   "metadata": {},
   "outputs": [
    {
     "data": {
      "text/html": [
       "<div>\n",
       "<style scoped>\n",
       "    .dataframe tbody tr th:only-of-type {\n",
       "        vertical-align: middle;\n",
       "    }\n",
       "\n",
       "    .dataframe tbody tr th {\n",
       "        vertical-align: top;\n",
       "    }\n",
       "\n",
       "    .dataframe thead th {\n",
       "        text-align: right;\n",
       "    }\n",
       "</style>\n",
       "<table border=\"1\" class=\"dataframe\">\n",
       "  <thead>\n",
       "    <tr style=\"text-align: right;\">\n",
       "      <th></th>\n",
       "      <th>week</th>\n",
       "      <th>song_id</th>\n",
       "      <th>plays</th>\n",
       "      <th>date</th>\n",
       "    </tr>\n",
       "  </thead>\n",
       "  <tbody>\n",
       "    <tr>\n",
       "      <th>10551</th>\n",
       "      <td>5</td>\n",
       "      <td>356</td>\n",
       "      <td>914858</td>\n",
       "      <td>2023-09-18</td>\n",
       "    </tr>\n",
       "    <tr>\n",
       "      <th>8717</th>\n",
       "      <td>3</td>\n",
       "      <td>298</td>\n",
       "      <td>889235</td>\n",
       "      <td>2023-09-18</td>\n",
       "    </tr>\n",
       "    <tr>\n",
       "      <th>12662</th>\n",
       "      <td>1</td>\n",
       "      <td>434</td>\n",
       "      <td>861902</td>\n",
       "      <td>2023-09-18</td>\n",
       "    </tr>\n",
       "    <tr>\n",
       "      <th>10498</th>\n",
       "      <td>0</td>\n",
       "      <td>354</td>\n",
       "      <td>853999</td>\n",
       "      <td>2023-09-18</td>\n",
       "    </tr>\n",
       "    <tr>\n",
       "      <th>11814</th>\n",
       "      <td>3</td>\n",
       "      <td>402</td>\n",
       "      <td>852520</td>\n",
       "      <td>2023-09-18</td>\n",
       "    </tr>\n",
       "    <tr>\n",
       "      <th>...</th>\n",
       "      <td>...</td>\n",
       "      <td>...</td>\n",
       "      <td>...</td>\n",
       "      <td>...</td>\n",
       "    </tr>\n",
       "    <tr>\n",
       "      <th>9511</th>\n",
       "      <td>47</td>\n",
       "      <td>323</td>\n",
       "      <td>12915</td>\n",
       "      <td>2024-09-09</td>\n",
       "    </tr>\n",
       "    <tr>\n",
       "      <th>8342</th>\n",
       "      <td>13</td>\n",
       "      <td>286</td>\n",
       "      <td>0</td>\n",
       "      <td>2024-09-09</td>\n",
       "    </tr>\n",
       "    <tr>\n",
       "      <th>9200</th>\n",
       "      <td>42</td>\n",
       "      <td>313</td>\n",
       "      <td>0</td>\n",
       "      <td>2024-09-09</td>\n",
       "    </tr>\n",
       "    <tr>\n",
       "      <th>11145</th>\n",
       "      <td>9</td>\n",
       "      <td>375</td>\n",
       "      <td>0</td>\n",
       "      <td>2024-09-09</td>\n",
       "    </tr>\n",
       "    <tr>\n",
       "      <th>14207</th>\n",
       "      <td>24</td>\n",
       "      <td>486</td>\n",
       "      <td>0</td>\n",
       "      <td>2024-09-09</td>\n",
       "    </tr>\n",
       "  </tbody>\n",
       "</table>\n",
       "<p>7459 rows × 4 columns</p>\n",
       "</div>"
      ],
      "text/plain": [
       "       week  song_id   plays       date\n",
       "10551     5      356  914858 2023-09-18\n",
       "8717      3      298  889235 2023-09-18\n",
       "12662     1      434  861902 2023-09-18\n",
       "10498     0      354  853999 2023-09-18\n",
       "11814     3      402  852520 2023-09-18\n",
       "...     ...      ...     ...        ...\n",
       "9511     47      323   12915 2024-09-09\n",
       "8342     13      286       0 2024-09-09\n",
       "9200     42      313       0 2024-09-09\n",
       "11145     9      375       0 2024-09-09\n",
       "14207    24      486       0 2024-09-09\n",
       "\n",
       "[7459 rows x 4 columns]"
      ]
     },
     "execution_count": 336,
     "metadata": {},
     "output_type": "execute_result"
    }
   ],
   "source": [
    "histories"
   ]
  },
  {
   "cell_type": "markdown",
   "metadata": {},
   "source": [
    "If we want the top ten of every week, we can group by date and take the first ten records, then set the date as index.\n",
    "\n",
    "`groupby` is a powerful method to split data into groups, apply a function to each group, and then combine the results back into a single DataFrame."
   ]
  },
  {
   "cell_type": "code",
   "execution_count": 337,
   "metadata": {},
   "outputs": [
    {
     "data": {
      "text/html": [
       "<div>\n",
       "<style scoped>\n",
       "    .dataframe tbody tr th:only-of-type {\n",
       "        vertical-align: middle;\n",
       "    }\n",
       "\n",
       "    .dataframe tbody tr th {\n",
       "        vertical-align: top;\n",
       "    }\n",
       "\n",
       "    .dataframe thead th {\n",
       "        text-align: right;\n",
       "    }\n",
       "</style>\n",
       "<table border=\"1\" class=\"dataframe\">\n",
       "  <thead>\n",
       "    <tr style=\"text-align: right;\">\n",
       "      <th></th>\n",
       "      <th>week</th>\n",
       "      <th>song_id</th>\n",
       "      <th>plays</th>\n",
       "    </tr>\n",
       "    <tr>\n",
       "      <th>date</th>\n",
       "      <th></th>\n",
       "      <th></th>\n",
       "      <th></th>\n",
       "    </tr>\n",
       "  </thead>\n",
       "  <tbody>\n",
       "    <tr>\n",
       "      <th>2023-09-18</th>\n",
       "      <td>5</td>\n",
       "      <td>356</td>\n",
       "      <td>914858</td>\n",
       "    </tr>\n",
       "    <tr>\n",
       "      <th>2023-09-18</th>\n",
       "      <td>3</td>\n",
       "      <td>298</td>\n",
       "      <td>889235</td>\n",
       "    </tr>\n",
       "    <tr>\n",
       "      <th>2023-09-18</th>\n",
       "      <td>1</td>\n",
       "      <td>434</td>\n",
       "      <td>861902</td>\n",
       "    </tr>\n",
       "    <tr>\n",
       "      <th>2023-09-18</th>\n",
       "      <td>0</td>\n",
       "      <td>354</td>\n",
       "      <td>853999</td>\n",
       "    </tr>\n",
       "    <tr>\n",
       "      <th>2023-09-18</th>\n",
       "      <td>3</td>\n",
       "      <td>402</td>\n",
       "      <td>852520</td>\n",
       "    </tr>\n",
       "    <tr>\n",
       "      <th>...</th>\n",
       "      <td>...</td>\n",
       "      <td>...</td>\n",
       "      <td>...</td>\n",
       "    </tr>\n",
       "    <tr>\n",
       "      <th>2024-09-09</th>\n",
       "      <td>3</td>\n",
       "      <td>159</td>\n",
       "      <td>766831</td>\n",
       "    </tr>\n",
       "    <tr>\n",
       "      <th>2024-09-09</th>\n",
       "      <td>3</td>\n",
       "      <td>33</td>\n",
       "      <td>766118</td>\n",
       "    </tr>\n",
       "    <tr>\n",
       "      <th>2024-09-09</th>\n",
       "      <td>1</td>\n",
       "      <td>113</td>\n",
       "      <td>741397</td>\n",
       "    </tr>\n",
       "    <tr>\n",
       "      <th>2024-09-09</th>\n",
       "      <td>4</td>\n",
       "      <td>124</td>\n",
       "      <td>694890</td>\n",
       "    </tr>\n",
       "    <tr>\n",
       "      <th>2024-09-09</th>\n",
       "      <td>1</td>\n",
       "      <td>309</td>\n",
       "      <td>687203</td>\n",
       "    </tr>\n",
       "  </tbody>\n",
       "</table>\n",
       "<p>520 rows × 3 columns</p>\n",
       "</div>"
      ],
      "text/plain": [
       "            week  song_id   plays\n",
       "date                             \n",
       "2023-09-18     5      356  914858\n",
       "2023-09-18     3      298  889235\n",
       "2023-09-18     1      434  861902\n",
       "2023-09-18     0      354  853999\n",
       "2023-09-18     3      402  852520\n",
       "...          ...      ...     ...\n",
       "2024-09-09     3      159  766831\n",
       "2024-09-09     3       33  766118\n",
       "2024-09-09     1      113  741397\n",
       "2024-09-09     4      124  694890\n",
       "2024-09-09     1      309  687203\n",
       "\n",
       "[520 rows x 3 columns]"
      ]
     },
     "execution_count": 337,
     "metadata": {},
     "output_type": "execute_result"
    }
   ],
   "source": [
    "topten = histories.groupby('date').head(10).set_index('date')\n",
    "topten"
   ]
  },
  {
   "cell_type": "code",
   "execution_count": 340,
   "metadata": {},
   "outputs": [
    {
     "data": {
      "text/html": [
       "<div>\n",
       "<style scoped>\n",
       "    .dataframe tbody tr th:only-of-type {\n",
       "        vertical-align: middle;\n",
       "    }\n",
       "\n",
       "    .dataframe tbody tr th {\n",
       "        vertical-align: top;\n",
       "    }\n",
       "\n",
       "    .dataframe thead th {\n",
       "        text-align: right;\n",
       "    }\n",
       "</style>\n",
       "<table border=\"1\" class=\"dataframe\">\n",
       "  <thead>\n",
       "    <tr style=\"text-align: right;\">\n",
       "      <th></th>\n",
       "      <th>week</th>\n",
       "      <th>song_id</th>\n",
       "      <th>plays</th>\n",
       "    </tr>\n",
       "    <tr>\n",
       "      <th>date</th>\n",
       "      <th></th>\n",
       "      <th></th>\n",
       "      <th></th>\n",
       "    </tr>\n",
       "  </thead>\n",
       "  <tbody>\n",
       "    <tr>\n",
       "      <th>2024-09-09</th>\n",
       "      <td>1</td>\n",
       "      <td>133</td>\n",
       "      <td>963318</td>\n",
       "    </tr>\n",
       "    <tr>\n",
       "      <th>2024-09-09</th>\n",
       "      <td>2</td>\n",
       "      <td>332</td>\n",
       "      <td>889085</td>\n",
       "    </tr>\n",
       "    <tr>\n",
       "      <th>2024-09-09</th>\n",
       "      <td>0</td>\n",
       "      <td>56</td>\n",
       "      <td>827170</td>\n",
       "    </tr>\n",
       "    <tr>\n",
       "      <th>2024-09-09</th>\n",
       "      <td>0</td>\n",
       "      <td>209</td>\n",
       "      <td>811642</td>\n",
       "    </tr>\n",
       "    <tr>\n",
       "      <th>2024-09-09</th>\n",
       "      <td>7</td>\n",
       "      <td>200</td>\n",
       "      <td>768662</td>\n",
       "    </tr>\n",
       "    <tr>\n",
       "      <th>2024-09-09</th>\n",
       "      <td>3</td>\n",
       "      <td>159</td>\n",
       "      <td>766831</td>\n",
       "    </tr>\n",
       "    <tr>\n",
       "      <th>2024-09-09</th>\n",
       "      <td>3</td>\n",
       "      <td>33</td>\n",
       "      <td>766118</td>\n",
       "    </tr>\n",
       "    <tr>\n",
       "      <th>2024-09-09</th>\n",
       "      <td>1</td>\n",
       "      <td>113</td>\n",
       "      <td>741397</td>\n",
       "    </tr>\n",
       "    <tr>\n",
       "      <th>2024-09-09</th>\n",
       "      <td>4</td>\n",
       "      <td>124</td>\n",
       "      <td>694890</td>\n",
       "    </tr>\n",
       "    <tr>\n",
       "      <th>2024-09-09</th>\n",
       "      <td>1</td>\n",
       "      <td>309</td>\n",
       "      <td>687203</td>\n",
       "    </tr>\n",
       "  </tbody>\n",
       "</table>\n",
       "</div>"
      ],
      "text/plain": [
       "            week  song_id   plays\n",
       "date                             \n",
       "2024-09-09     1      133  963318\n",
       "2024-09-09     2      332  889085\n",
       "2024-09-09     0       56  827170\n",
       "2024-09-09     0      209  811642\n",
       "2024-09-09     7      200  768662\n",
       "2024-09-09     3      159  766831\n",
       "2024-09-09     3       33  766118\n",
       "2024-09-09     1      113  741397\n",
       "2024-09-09     4      124  694890\n",
       "2024-09-09     1      309  687203"
      ]
     },
     "execution_count": 340,
     "metadata": {},
     "output_type": "execute_result"
    }
   ],
   "source": [
    "topten.loc['2024-09-09']"
   ]
  },
  {
   "cell_type": "markdown",
   "metadata": {},
   "source": [
    "With another `groupby` we can compute the rank of each top-ten song, every week."
   ]
  },
  {
   "cell_type": "code",
   "execution_count": 341,
   "metadata": {},
   "outputs": [],
   "source": [
    "topten['rank'] = topten.groupby('date').plays.rank(ascending=False)"
   ]
  },
  {
   "cell_type": "code",
   "execution_count": 342,
   "metadata": {},
   "outputs": [
    {
     "data": {
      "text/html": [
       "<div>\n",
       "<style scoped>\n",
       "    .dataframe tbody tr th:only-of-type {\n",
       "        vertical-align: middle;\n",
       "    }\n",
       "\n",
       "    .dataframe tbody tr th {\n",
       "        vertical-align: top;\n",
       "    }\n",
       "\n",
       "    .dataframe thead th {\n",
       "        text-align: right;\n",
       "    }\n",
       "</style>\n",
       "<table border=\"1\" class=\"dataframe\">\n",
       "  <thead>\n",
       "    <tr style=\"text-align: right;\">\n",
       "      <th></th>\n",
       "      <th>week</th>\n",
       "      <th>song_id</th>\n",
       "      <th>plays</th>\n",
       "      <th>rank</th>\n",
       "    </tr>\n",
       "    <tr>\n",
       "      <th>date</th>\n",
       "      <th></th>\n",
       "      <th></th>\n",
       "      <th></th>\n",
       "      <th></th>\n",
       "    </tr>\n",
       "  </thead>\n",
       "  <tbody>\n",
       "    <tr>\n",
       "      <th>2023-09-18</th>\n",
       "      <td>5</td>\n",
       "      <td>356</td>\n",
       "      <td>914858</td>\n",
       "      <td>1.0</td>\n",
       "    </tr>\n",
       "    <tr>\n",
       "      <th>2023-09-18</th>\n",
       "      <td>3</td>\n",
       "      <td>298</td>\n",
       "      <td>889235</td>\n",
       "      <td>2.0</td>\n",
       "    </tr>\n",
       "    <tr>\n",
       "      <th>2023-09-18</th>\n",
       "      <td>1</td>\n",
       "      <td>434</td>\n",
       "      <td>861902</td>\n",
       "      <td>3.0</td>\n",
       "    </tr>\n",
       "    <tr>\n",
       "      <th>2023-09-18</th>\n",
       "      <td>0</td>\n",
       "      <td>354</td>\n",
       "      <td>853999</td>\n",
       "      <td>4.0</td>\n",
       "    </tr>\n",
       "    <tr>\n",
       "      <th>2023-09-18</th>\n",
       "      <td>3</td>\n",
       "      <td>402</td>\n",
       "      <td>852520</td>\n",
       "      <td>5.0</td>\n",
       "    </tr>\n",
       "    <tr>\n",
       "      <th>...</th>\n",
       "      <td>...</td>\n",
       "      <td>...</td>\n",
       "      <td>...</td>\n",
       "      <td>...</td>\n",
       "    </tr>\n",
       "    <tr>\n",
       "      <th>2024-09-09</th>\n",
       "      <td>3</td>\n",
       "      <td>159</td>\n",
       "      <td>766831</td>\n",
       "      <td>6.0</td>\n",
       "    </tr>\n",
       "    <tr>\n",
       "      <th>2024-09-09</th>\n",
       "      <td>3</td>\n",
       "      <td>33</td>\n",
       "      <td>766118</td>\n",
       "      <td>7.0</td>\n",
       "    </tr>\n",
       "    <tr>\n",
       "      <th>2024-09-09</th>\n",
       "      <td>1</td>\n",
       "      <td>113</td>\n",
       "      <td>741397</td>\n",
       "      <td>8.0</td>\n",
       "    </tr>\n",
       "    <tr>\n",
       "      <th>2024-09-09</th>\n",
       "      <td>4</td>\n",
       "      <td>124</td>\n",
       "      <td>694890</td>\n",
       "      <td>9.0</td>\n",
       "    </tr>\n",
       "    <tr>\n",
       "      <th>2024-09-09</th>\n",
       "      <td>1</td>\n",
       "      <td>309</td>\n",
       "      <td>687203</td>\n",
       "      <td>10.0</td>\n",
       "    </tr>\n",
       "  </tbody>\n",
       "</table>\n",
       "<p>520 rows × 4 columns</p>\n",
       "</div>"
      ],
      "text/plain": [
       "            week  song_id   plays  rank\n",
       "date                                   \n",
       "2023-09-18     5      356  914858   1.0\n",
       "2023-09-18     3      298  889235   2.0\n",
       "2023-09-18     1      434  861902   3.0\n",
       "2023-09-18     0      354  853999   4.0\n",
       "2023-09-18     3      402  852520   5.0\n",
       "...          ...      ...     ...   ...\n",
       "2024-09-09     3      159  766831   6.0\n",
       "2024-09-09     3       33  766118   7.0\n",
       "2024-09-09     1      113  741397   8.0\n",
       "2024-09-09     4      124  694890   9.0\n",
       "2024-09-09     1      309  687203  10.0\n",
       "\n",
       "[520 rows x 4 columns]"
      ]
     },
     "execution_count": 342,
     "metadata": {},
     "output_type": "execute_result"
    }
   ],
   "source": [
    "topten"
   ]
  },
  {
   "cell_type": "markdown",
   "metadata": {},
   "source": [
    "Finally, we merge with the song and artists tables, using the `song_id` and `artist_id`, to get titles and performers. Remember that those ids are actually in the index of those tables, hence the options given to merge."
   ]
  },
  {
   "cell_type": "code",
   "execution_count": 343,
   "metadata": {},
   "outputs": [
    {
     "data": {
      "text/html": [
       "<div>\n",
       "<style scoped>\n",
       "    .dataframe tbody tr th:only-of-type {\n",
       "        vertical-align: middle;\n",
       "    }\n",
       "\n",
       "    .dataframe tbody tr th {\n",
       "        vertical-align: top;\n",
       "    }\n",
       "\n",
       "    .dataframe thead th {\n",
       "        text-align: right;\n",
       "    }\n",
       "</style>\n",
       "<table border=\"1\" class=\"dataframe\">\n",
       "  <thead>\n",
       "    <tr style=\"text-align: right;\">\n",
       "      <th></th>\n",
       "      <th>title</th>\n",
       "      <th>release</th>\n",
       "      <th>artist_id</th>\n",
       "      <th>genre</th>\n",
       "    </tr>\n",
       "    <tr>\n",
       "      <th>song_id</th>\n",
       "      <th></th>\n",
       "      <th></th>\n",
       "      <th></th>\n",
       "      <th></th>\n",
       "    </tr>\n",
       "  </thead>\n",
       "  <tbody>\n",
       "    <tr>\n",
       "      <th>0</th>\n",
       "      <td>Deal treatment keep</td>\n",
       "      <td>2024-08-02</td>\n",
       "      <td>50</td>\n",
       "      <td>R&amp;B</td>\n",
       "    </tr>\n",
       "    <tr>\n",
       "      <th>1</th>\n",
       "      <td>Past guy letter</td>\n",
       "      <td>2024-04-13</td>\n",
       "      <td>10</td>\n",
       "      <td>R&amp;B</td>\n",
       "    </tr>\n",
       "    <tr>\n",
       "      <th>2</th>\n",
       "      <td>Full three job our</td>\n",
       "      <td>2023-03-16</td>\n",
       "      <td>28</td>\n",
       "      <td>Blues</td>\n",
       "    </tr>\n",
       "    <tr>\n",
       "      <th>3</th>\n",
       "      <td>Image center thank</td>\n",
       "      <td>2023-01-24</td>\n",
       "      <td>43</td>\n",
       "      <td>R&amp;B</td>\n",
       "    </tr>\n",
       "    <tr>\n",
       "      <th>4</th>\n",
       "      <td>Already anything</td>\n",
       "      <td>2024-09-02</td>\n",
       "      <td>39</td>\n",
       "      <td>Country</td>\n",
       "    </tr>\n",
       "  </tbody>\n",
       "</table>\n",
       "</div>"
      ],
      "text/plain": [
       "                       title    release  artist_id    genre\n",
       "song_id                                                    \n",
       "0        Deal treatment keep 2024-08-02         50      R&B\n",
       "1            Past guy letter 2024-04-13         10      R&B\n",
       "2         Full three job our 2023-03-16         28    Blues\n",
       "3         Image center thank 2023-01-24         43      R&B\n",
       "4           Already anything 2024-09-02         39  Country"
      ]
     },
     "execution_count": 343,
     "metadata": {},
     "output_type": "execute_result"
    }
   ],
   "source": [
    "songs.head()"
   ]
  },
  {
   "cell_type": "code",
   "execution_count": 344,
   "metadata": {},
   "outputs": [
    {
     "data": {
      "text/html": [
       "<div>\n",
       "<style scoped>\n",
       "    .dataframe tbody tr th:only-of-type {\n",
       "        vertical-align: middle;\n",
       "    }\n",
       "\n",
       "    .dataframe tbody tr th {\n",
       "        vertical-align: top;\n",
       "    }\n",
       "\n",
       "    .dataframe thead th {\n",
       "        text-align: right;\n",
       "    }\n",
       "</style>\n",
       "<table border=\"1\" class=\"dataframe\">\n",
       "  <thead>\n",
       "    <tr style=\"text-align: right;\">\n",
       "      <th></th>\n",
       "      <th>name</th>\n",
       "      <th>dob</th>\n",
       "      <th>birthplace</th>\n",
       "      <th>genre</th>\n",
       "    </tr>\n",
       "    <tr>\n",
       "      <th>artist_id</th>\n",
       "      <th></th>\n",
       "      <th></th>\n",
       "      <th></th>\n",
       "      <th></th>\n",
       "    </tr>\n",
       "  </thead>\n",
       "  <tbody>\n",
       "    <tr>\n",
       "      <th>0</th>\n",
       "      <td>Shawn Taylor</td>\n",
       "      <td>1980-11-07</td>\n",
       "      <td>Bassbury NC</td>\n",
       "      <td>Folk</td>\n",
       "    </tr>\n",
       "    <tr>\n",
       "      <th>1</th>\n",
       "      <td>Christian Stone</td>\n",
       "      <td>1995-01-04</td>\n",
       "      <td>Lake Bradberg DE</td>\n",
       "      <td>Soul</td>\n",
       "    </tr>\n",
       "    <tr>\n",
       "      <th>2</th>\n",
       "      <td>Bradley Bailey</td>\n",
       "      <td>1952-08-17</td>\n",
       "      <td>Powellton IL</td>\n",
       "      <td>Rock</td>\n",
       "    </tr>\n",
       "    <tr>\n",
       "      <th>3</th>\n",
       "      <td>Jennifer Vasquez</td>\n",
       "      <td>1951-01-28</td>\n",
       "      <td>Calhounport VT</td>\n",
       "      <td>Country</td>\n",
       "    </tr>\n",
       "    <tr>\n",
       "      <th>4</th>\n",
       "      <td>Jennifer Rogers</td>\n",
       "      <td>1981-02-24</td>\n",
       "      <td>North Luismouth OH</td>\n",
       "      <td>Blues</td>\n",
       "    </tr>\n",
       "  </tbody>\n",
       "</table>\n",
       "</div>"
      ],
      "text/plain": [
       "                       name         dob          birthplace    genre\n",
       "artist_id                                                           \n",
       "0              Shawn Taylor  1980-11-07         Bassbury NC     Folk\n",
       "1           Christian Stone  1995-01-04    Lake Bradberg DE     Soul\n",
       "2            Bradley Bailey  1952-08-17        Powellton IL     Rock\n",
       "3          Jennifer Vasquez  1951-01-28      Calhounport VT  Country\n",
       "4           Jennifer Rogers  1981-02-24  North Luismouth OH    Blues"
      ]
     },
     "execution_count": 344,
     "metadata": {},
     "output_type": "execute_result"
    }
   ],
   "source": [
    "artists.head()"
   ]
  },
  {
   "cell_type": "code",
   "execution_count": 357,
   "metadata": {},
   "outputs": [
    {
     "data": {
      "text/html": [
       "<div>\n",
       "<style scoped>\n",
       "    .dataframe tbody tr th:only-of-type {\n",
       "        vertical-align: middle;\n",
       "    }\n",
       "\n",
       "    .dataframe tbody tr th {\n",
       "        vertical-align: top;\n",
       "    }\n",
       "\n",
       "    .dataframe thead th {\n",
       "        text-align: right;\n",
       "    }\n",
       "</style>\n",
       "<table border=\"1\" class=\"dataframe\">\n",
       "  <thead>\n",
       "    <tr style=\"text-align: right;\">\n",
       "      <th></th>\n",
       "      <th>week</th>\n",
       "      <th>song_id</th>\n",
       "      <th>plays</th>\n",
       "      <th>rank</th>\n",
       "      <th>title</th>\n",
       "      <th>release</th>\n",
       "      <th>artist_id</th>\n",
       "      <th>genre</th>\n",
       "      <th>name</th>\n",
       "    </tr>\n",
       "    <tr>\n",
       "      <th>date</th>\n",
       "      <th></th>\n",
       "      <th></th>\n",
       "      <th></th>\n",
       "      <th></th>\n",
       "      <th></th>\n",
       "      <th></th>\n",
       "      <th></th>\n",
       "      <th></th>\n",
       "      <th></th>\n",
       "    </tr>\n",
       "  </thead>\n",
       "  <tbody>\n",
       "    <tr>\n",
       "      <th>2023-09-18</th>\n",
       "      <td>5</td>\n",
       "      <td>356</td>\n",
       "      <td>914858</td>\n",
       "      <td>1.0</td>\n",
       "      <td>Sit outside then</td>\n",
       "      <td>2023-08-13</td>\n",
       "      <td>0</td>\n",
       "      <td>Folk</td>\n",
       "      <td>Shawn Taylor</td>\n",
       "    </tr>\n",
       "    <tr>\n",
       "      <th>2023-09-18</th>\n",
       "      <td>3</td>\n",
       "      <td>298</td>\n",
       "      <td>889235</td>\n",
       "      <td>2.0</td>\n",
       "      <td>Her operation</td>\n",
       "      <td>2023-08-23</td>\n",
       "      <td>51</td>\n",
       "      <td>Reggae</td>\n",
       "      <td>Curtis Chen</td>\n",
       "    </tr>\n",
       "    <tr>\n",
       "      <th>2023-09-18</th>\n",
       "      <td>1</td>\n",
       "      <td>434</td>\n",
       "      <td>861902</td>\n",
       "      <td>3.0</td>\n",
       "      <td>Trial improve his</td>\n",
       "      <td>2023-09-06</td>\n",
       "      <td>39</td>\n",
       "      <td>Country</td>\n",
       "      <td>Nancy Nash</td>\n",
       "    </tr>\n",
       "    <tr>\n",
       "      <th>2023-09-18</th>\n",
       "      <td>0</td>\n",
       "      <td>354</td>\n",
       "      <td>853999</td>\n",
       "      <td>4.0</td>\n",
       "      <td>Certainly assume</td>\n",
       "      <td>2023-09-18</td>\n",
       "      <td>90</td>\n",
       "      <td>Hip Hop</td>\n",
       "      <td>Renee Hunter</td>\n",
       "    </tr>\n",
       "    <tr>\n",
       "      <th>2023-09-18</th>\n",
       "      <td>3</td>\n",
       "      <td>402</td>\n",
       "      <td>852520</td>\n",
       "      <td>5.0</td>\n",
       "      <td>Oil because</td>\n",
       "      <td>2023-08-23</td>\n",
       "      <td>6</td>\n",
       "      <td>Rock</td>\n",
       "      <td>Robert Barry</td>\n",
       "    </tr>\n",
       "    <tr>\n",
       "      <th>...</th>\n",
       "      <td>...</td>\n",
       "      <td>...</td>\n",
       "      <td>...</td>\n",
       "      <td>...</td>\n",
       "      <td>...</td>\n",
       "      <td>...</td>\n",
       "      <td>...</td>\n",
       "      <td>...</td>\n",
       "      <td>...</td>\n",
       "    </tr>\n",
       "    <tr>\n",
       "      <th>2024-09-09</th>\n",
       "      <td>3</td>\n",
       "      <td>159</td>\n",
       "      <td>766831</td>\n",
       "      <td>6.0</td>\n",
       "      <td>Both age policy</td>\n",
       "      <td>2024-08-14</td>\n",
       "      <td>91</td>\n",
       "      <td>Rock</td>\n",
       "      <td>Janet Williamson</td>\n",
       "    </tr>\n",
       "    <tr>\n",
       "      <th>2024-09-09</th>\n",
       "      <td>3</td>\n",
       "      <td>33</td>\n",
       "      <td>766118</td>\n",
       "      <td>7.0</td>\n",
       "      <td>Property our best</td>\n",
       "      <td>2024-08-14</td>\n",
       "      <td>0</td>\n",
       "      <td>Folk</td>\n",
       "      <td>Shawn Taylor</td>\n",
       "    </tr>\n",
       "    <tr>\n",
       "      <th>2024-09-09</th>\n",
       "      <td>1</td>\n",
       "      <td>113</td>\n",
       "      <td>741397</td>\n",
       "      <td>8.0</td>\n",
       "      <td>Remain wind man see</td>\n",
       "      <td>2024-08-29</td>\n",
       "      <td>74</td>\n",
       "      <td>Punk</td>\n",
       "      <td>James Jones</td>\n",
       "    </tr>\n",
       "    <tr>\n",
       "      <th>2024-09-09</th>\n",
       "      <td>4</td>\n",
       "      <td>124</td>\n",
       "      <td>694890</td>\n",
       "      <td>9.0</td>\n",
       "      <td>Under everyone pick</td>\n",
       "      <td>2024-08-08</td>\n",
       "      <td>33</td>\n",
       "      <td>Country</td>\n",
       "      <td>Douglas Gonzalez</td>\n",
       "    </tr>\n",
       "    <tr>\n",
       "      <th>2024-09-09</th>\n",
       "      <td>1</td>\n",
       "      <td>309</td>\n",
       "      <td>687203</td>\n",
       "      <td>10.0</td>\n",
       "      <td>Design measure</td>\n",
       "      <td>2024-08-29</td>\n",
       "      <td>13</td>\n",
       "      <td>Indie</td>\n",
       "      <td>Sheena White</td>\n",
       "    </tr>\n",
       "  </tbody>\n",
       "</table>\n",
       "<p>520 rows × 9 columns</p>\n",
       "</div>"
      ],
      "text/plain": [
       "            week  song_id   plays  rank                title    release  \\\n",
       "date                                                                      \n",
       "2023-09-18     5      356  914858   1.0     Sit outside then 2023-08-13   \n",
       "2023-09-18     3      298  889235   2.0        Her operation 2023-08-23   \n",
       "2023-09-18     1      434  861902   3.0    Trial improve his 2023-09-06   \n",
       "2023-09-18     0      354  853999   4.0     Certainly assume 2023-09-18   \n",
       "2023-09-18     3      402  852520   5.0          Oil because 2023-08-23   \n",
       "...          ...      ...     ...   ...                  ...        ...   \n",
       "2024-09-09     3      159  766831   6.0      Both age policy 2024-08-14   \n",
       "2024-09-09     3       33  766118   7.0    Property our best 2024-08-14   \n",
       "2024-09-09     1      113  741397   8.0  Remain wind man see 2024-08-29   \n",
       "2024-09-09     4      124  694890   9.0  Under everyone pick 2024-08-08   \n",
       "2024-09-09     1      309  687203  10.0       Design measure 2024-08-29   \n",
       "\n",
       "            artist_id    genre              name  \n",
       "date                                              \n",
       "2023-09-18          0     Folk      Shawn Taylor  \n",
       "2023-09-18         51   Reggae       Curtis Chen  \n",
       "2023-09-18         39  Country        Nancy Nash  \n",
       "2023-09-18         90  Hip Hop      Renee Hunter  \n",
       "2023-09-18          6     Rock      Robert Barry  \n",
       "...               ...      ...               ...  \n",
       "2024-09-09         91     Rock  Janet Williamson  \n",
       "2024-09-09          0     Folk      Shawn Taylor  \n",
       "2024-09-09         74     Punk       James Jones  \n",
       "2024-09-09         33  Country  Douglas Gonzalez  \n",
       "2024-09-09         13    Indie      Sheena White  \n",
       "\n",
       "[520 rows x 9 columns]"
      ]
     },
     "execution_count": 357,
     "metadata": {},
     "output_type": "execute_result"
    }
   ],
   "source": [
    "merged = topten.merge(songs, left_on='song_id', right_index=True) \\\n",
    "               .merge(artists.name, left_on='artist_id', right_index=True)\n",
    "merged"
   ]
  },
  {
   "cell_type": "markdown",
   "metadata": {},
   "source": [
    "Excellent! Is there any performer who has been at the top of the billboard more than once?"
   ]
  },
  {
   "cell_type": "code",
   "execution_count": 358,
   "metadata": {},
   "outputs": [
    {
     "data": {
      "text/plain": [
       "name\n",
       "Logan Martin         5\n",
       "Wanda Park           4\n",
       "Renee Hunter         3\n",
       "Richard Hendricks    3\n",
       "John Page            3\n",
       "Name: title, dtype: int64"
      ]
     },
     "execution_count": 358,
     "metadata": {},
     "output_type": "execute_result"
    }
   ],
   "source": [
    "first = merged.query('rank == 1').groupby('name').title.count().sort_values(ascending=False).head()\n",
    "first"
   ]
  },
  {
   "cell_type": "markdown",
   "metadata": {},
   "source": [
    "Here it is! (change) Logan Martin took 5 first spots with \"Another increase\" and \"Call meeting!\"."
   ]
  },
  {
   "cell_type": "code",
   "execution_count": 366,
   "metadata": {},
   "outputs": [
    {
     "data": {
      "text/html": [
       "<div>\n",
       "<style scoped>\n",
       "    .dataframe tbody tr th:only-of-type {\n",
       "        vertical-align: middle;\n",
       "    }\n",
       "\n",
       "    .dataframe tbody tr th {\n",
       "        vertical-align: top;\n",
       "    }\n",
       "\n",
       "    .dataframe thead th {\n",
       "        text-align: right;\n",
       "    }\n",
       "</style>\n",
       "<table border=\"1\" class=\"dataframe\">\n",
       "  <thead>\n",
       "    <tr style=\"text-align: right;\">\n",
       "      <th></th>\n",
       "      <th>week</th>\n",
       "      <th>song_id</th>\n",
       "      <th>plays</th>\n",
       "      <th>rank</th>\n",
       "      <th>title</th>\n",
       "      <th>release</th>\n",
       "      <th>artist_id</th>\n",
       "      <th>genre</th>\n",
       "      <th>name</th>\n",
       "    </tr>\n",
       "    <tr>\n",
       "      <th>date</th>\n",
       "      <th></th>\n",
       "      <th></th>\n",
       "      <th></th>\n",
       "      <th></th>\n",
       "      <th></th>\n",
       "      <th></th>\n",
       "      <th></th>\n",
       "      <th></th>\n",
       "      <th></th>\n",
       "    </tr>\n",
       "  </thead>\n",
       "  <tbody>\n",
       "    <tr>\n",
       "      <th>2023-10-09</th>\n",
       "      <td>0</td>\n",
       "      <td>140</td>\n",
       "      <td>1108304</td>\n",
       "      <td>1.0</td>\n",
       "      <td>Another increase</td>\n",
       "      <td>2023-10-06</td>\n",
       "      <td>79</td>\n",
       "      <td>Alternative</td>\n",
       "      <td>Logan Martin</td>\n",
       "    </tr>\n",
       "    <tr>\n",
       "      <th>2023-10-16</th>\n",
       "      <td>1</td>\n",
       "      <td>140</td>\n",
       "      <td>1094319</td>\n",
       "      <td>1.0</td>\n",
       "      <td>Another increase</td>\n",
       "      <td>2023-10-06</td>\n",
       "      <td>79</td>\n",
       "      <td>Alternative</td>\n",
       "      <td>Logan Martin</td>\n",
       "    </tr>\n",
       "    <tr>\n",
       "      <th>2024-01-29</th>\n",
       "      <td>0</td>\n",
       "      <td>314</td>\n",
       "      <td>1075464</td>\n",
       "      <td>1.0</td>\n",
       "      <td>Call meeting</td>\n",
       "      <td>2024-01-28</td>\n",
       "      <td>79</td>\n",
       "      <td>Alternative</td>\n",
       "      <td>Logan Martin</td>\n",
       "    </tr>\n",
       "    <tr>\n",
       "      <th>2024-02-12</th>\n",
       "      <td>2</td>\n",
       "      <td>314</td>\n",
       "      <td>1101413</td>\n",
       "      <td>1.0</td>\n",
       "      <td>Call meeting</td>\n",
       "      <td>2024-01-28</td>\n",
       "      <td>79</td>\n",
       "      <td>Alternative</td>\n",
       "      <td>Logan Martin</td>\n",
       "    </tr>\n",
       "    <tr>\n",
       "      <th>2024-03-18</th>\n",
       "      <td>7</td>\n",
       "      <td>314</td>\n",
       "      <td>948515</td>\n",
       "      <td>1.0</td>\n",
       "      <td>Call meeting</td>\n",
       "      <td>2024-01-28</td>\n",
       "      <td>79</td>\n",
       "      <td>Alternative</td>\n",
       "      <td>Logan Martin</td>\n",
       "    </tr>\n",
       "  </tbody>\n",
       "</table>\n",
       "</div>"
      ],
      "text/plain": [
       "            week  song_id    plays  rank             title    release  \\\n",
       "date                                                                    \n",
       "2023-10-09     0      140  1108304   1.0  Another increase 2023-10-06   \n",
       "2023-10-16     1      140  1094319   1.0  Another increase 2023-10-06   \n",
       "2024-01-29     0      314  1075464   1.0      Call meeting 2024-01-28   \n",
       "2024-02-12     2      314  1101413   1.0      Call meeting 2024-01-28   \n",
       "2024-03-18     7      314   948515   1.0      Call meeting 2024-01-28   \n",
       "\n",
       "            artist_id        genre          name  \n",
       "date                                              \n",
       "2023-10-09         79  Alternative  Logan Martin  \n",
       "2023-10-16         79  Alternative  Logan Martin  \n",
       "2024-01-29         79  Alternative  Logan Martin  \n",
       "2024-02-12         79  Alternative  Logan Martin  \n",
       "2024-03-18         79  Alternative  Logan Martin  "
      ]
     },
     "execution_count": 366,
     "metadata": {},
     "output_type": "execute_result"
    }
   ],
   "source": [
    "merged[(merged['rank'] == 1) & (merged['name'] == first.index[0])]"
   ]
  },
  {
   "cell_type": "code",
   "execution_count": 367,
   "metadata": {},
   "outputs": [
    {
     "data": {
      "text/html": [
       "<div>\n",
       "<style scoped>\n",
       "    .dataframe tbody tr th:only-of-type {\n",
       "        vertical-align: middle;\n",
       "    }\n",
       "\n",
       "    .dataframe tbody tr th {\n",
       "        vertical-align: top;\n",
       "    }\n",
       "\n",
       "    .dataframe thead th {\n",
       "        text-align: right;\n",
       "    }\n",
       "</style>\n",
       "<table border=\"1\" class=\"dataframe\">\n",
       "  <thead>\n",
       "    <tr style=\"text-align: right;\">\n",
       "      <th></th>\n",
       "      <th>week</th>\n",
       "      <th>song_id</th>\n",
       "      <th>plays</th>\n",
       "      <th>rank</th>\n",
       "      <th>title</th>\n",
       "      <th>release</th>\n",
       "      <th>artist_id</th>\n",
       "      <th>genre</th>\n",
       "      <th>name</th>\n",
       "    </tr>\n",
       "    <tr>\n",
       "      <th>date</th>\n",
       "      <th></th>\n",
       "      <th></th>\n",
       "      <th></th>\n",
       "      <th></th>\n",
       "      <th></th>\n",
       "      <th></th>\n",
       "      <th></th>\n",
       "      <th></th>\n",
       "      <th></th>\n",
       "    </tr>\n",
       "  </thead>\n",
       "  <tbody>\n",
       "    <tr>\n",
       "      <th>2023-09-18</th>\n",
       "      <td>5</td>\n",
       "      <td>356</td>\n",
       "      <td>914858</td>\n",
       "      <td>1.0</td>\n",
       "      <td>Sit outside then</td>\n",
       "      <td>2023-08-13</td>\n",
       "      <td>0</td>\n",
       "      <td>Folk</td>\n",
       "      <td>Shawn Taylor</td>\n",
       "    </tr>\n",
       "    <tr>\n",
       "      <th>2023-09-18</th>\n",
       "      <td>3</td>\n",
       "      <td>298</td>\n",
       "      <td>889235</td>\n",
       "      <td>2.0</td>\n",
       "      <td>Her operation</td>\n",
       "      <td>2023-08-23</td>\n",
       "      <td>51</td>\n",
       "      <td>Reggae</td>\n",
       "      <td>Curtis Chen</td>\n",
       "    </tr>\n",
       "    <tr>\n",
       "      <th>2023-09-18</th>\n",
       "      <td>1</td>\n",
       "      <td>434</td>\n",
       "      <td>861902</td>\n",
       "      <td>3.0</td>\n",
       "      <td>Trial improve his</td>\n",
       "      <td>2023-09-06</td>\n",
       "      <td>39</td>\n",
       "      <td>Country</td>\n",
       "      <td>Nancy Nash</td>\n",
       "    </tr>\n",
       "    <tr>\n",
       "      <th>2023-09-18</th>\n",
       "      <td>0</td>\n",
       "      <td>354</td>\n",
       "      <td>853999</td>\n",
       "      <td>4.0</td>\n",
       "      <td>Certainly assume</td>\n",
       "      <td>2023-09-18</td>\n",
       "      <td>90</td>\n",
       "      <td>Hip Hop</td>\n",
       "      <td>Renee Hunter</td>\n",
       "    </tr>\n",
       "    <tr>\n",
       "      <th>2023-09-18</th>\n",
       "      <td>3</td>\n",
       "      <td>402</td>\n",
       "      <td>852520</td>\n",
       "      <td>5.0</td>\n",
       "      <td>Oil because</td>\n",
       "      <td>2023-08-23</td>\n",
       "      <td>6</td>\n",
       "      <td>Rock</td>\n",
       "      <td>Robert Barry</td>\n",
       "    </tr>\n",
       "    <tr>\n",
       "      <th>...</th>\n",
       "      <td>...</td>\n",
       "      <td>...</td>\n",
       "      <td>...</td>\n",
       "      <td>...</td>\n",
       "      <td>...</td>\n",
       "      <td>...</td>\n",
       "      <td>...</td>\n",
       "      <td>...</td>\n",
       "      <td>...</td>\n",
       "    </tr>\n",
       "    <tr>\n",
       "      <th>2024-09-09</th>\n",
       "      <td>3</td>\n",
       "      <td>159</td>\n",
       "      <td>766831</td>\n",
       "      <td>6.0</td>\n",
       "      <td>Both age policy</td>\n",
       "      <td>2024-08-14</td>\n",
       "      <td>91</td>\n",
       "      <td>Rock</td>\n",
       "      <td>Janet Williamson</td>\n",
       "    </tr>\n",
       "    <tr>\n",
       "      <th>2024-09-09</th>\n",
       "      <td>3</td>\n",
       "      <td>33</td>\n",
       "      <td>766118</td>\n",
       "      <td>7.0</td>\n",
       "      <td>Property our best</td>\n",
       "      <td>2024-08-14</td>\n",
       "      <td>0</td>\n",
       "      <td>Folk</td>\n",
       "      <td>Shawn Taylor</td>\n",
       "    </tr>\n",
       "    <tr>\n",
       "      <th>2024-09-09</th>\n",
       "      <td>1</td>\n",
       "      <td>113</td>\n",
       "      <td>741397</td>\n",
       "      <td>8.0</td>\n",
       "      <td>Remain wind man see</td>\n",
       "      <td>2024-08-29</td>\n",
       "      <td>74</td>\n",
       "      <td>Punk</td>\n",
       "      <td>James Jones</td>\n",
       "    </tr>\n",
       "    <tr>\n",
       "      <th>2024-09-09</th>\n",
       "      <td>4</td>\n",
       "      <td>124</td>\n",
       "      <td>694890</td>\n",
       "      <td>9.0</td>\n",
       "      <td>Under everyone pick</td>\n",
       "      <td>2024-08-08</td>\n",
       "      <td>33</td>\n",
       "      <td>Country</td>\n",
       "      <td>Douglas Gonzalez</td>\n",
       "    </tr>\n",
       "    <tr>\n",
       "      <th>2024-09-09</th>\n",
       "      <td>1</td>\n",
       "      <td>309</td>\n",
       "      <td>687203</td>\n",
       "      <td>10.0</td>\n",
       "      <td>Design measure</td>\n",
       "      <td>2024-08-29</td>\n",
       "      <td>13</td>\n",
       "      <td>Indie</td>\n",
       "      <td>Sheena White</td>\n",
       "    </tr>\n",
       "  </tbody>\n",
       "</table>\n",
       "<p>520 rows × 9 columns</p>\n",
       "</div>"
      ],
      "text/plain": [
       "            week  song_id   plays  rank                title    release  \\\n",
       "date                                                                      \n",
       "2023-09-18     5      356  914858   1.0     Sit outside then 2023-08-13   \n",
       "2023-09-18     3      298  889235   2.0        Her operation 2023-08-23   \n",
       "2023-09-18     1      434  861902   3.0    Trial improve his 2023-09-06   \n",
       "2023-09-18     0      354  853999   4.0     Certainly assume 2023-09-18   \n",
       "2023-09-18     3      402  852520   5.0          Oil because 2023-08-23   \n",
       "...          ...      ...     ...   ...                  ...        ...   \n",
       "2024-09-09     3      159  766831   6.0      Both age policy 2024-08-14   \n",
       "2024-09-09     3       33  766118   7.0    Property our best 2024-08-14   \n",
       "2024-09-09     1      113  741397   8.0  Remain wind man see 2024-08-29   \n",
       "2024-09-09     4      124  694890   9.0  Under everyone pick 2024-08-08   \n",
       "2024-09-09     1      309  687203  10.0       Design measure 2024-08-29   \n",
       "\n",
       "            artist_id    genre              name  \n",
       "date                                              \n",
       "2023-09-18          0     Folk      Shawn Taylor  \n",
       "2023-09-18         51   Reggae       Curtis Chen  \n",
       "2023-09-18         39  Country        Nancy Nash  \n",
       "2023-09-18         90  Hip Hop      Renee Hunter  \n",
       "2023-09-18          6     Rock      Robert Barry  \n",
       "...               ...      ...               ...  \n",
       "2024-09-09         91     Rock  Janet Williamson  \n",
       "2024-09-09          0     Folk      Shawn Taylor  \n",
       "2024-09-09         74     Punk       James Jones  \n",
       "2024-09-09         33  Country  Douglas Gonzalez  \n",
       "2024-09-09         13    Indie      Sheena White  \n",
       "\n",
       "[520 rows x 9 columns]"
      ]
     },
     "execution_count": 367,
     "metadata": {},
     "output_type": "execute_result"
    }
   ],
   "source": [
    "merged"
   ]
  },
  {
   "cell_type": "markdown",
   "metadata": {},
   "source": [
    "Let's save our work! Not all the pandas output formats can save multiple tables together. Pickles are always an option, and so is one format that we did not discuss in detail---HDF5.\n",
    "\n",
    "With HDF5, the `DataFrame` method `to_hdf` keeps appending tables to the same file; you give a _key_, which is how the individual tables are found. (In fact HDF5 files can have a hierarchical structure similar to a file system.)"
   ]
  },
  {
   "cell_type": "code",
   "execution_count": 384,
   "metadata": {},
   "outputs": [],
   "source": [
    "merged.to_hdf('songtables.h5', key='topten')\n",
    "artists.to_hdf('songtables.h5', key='artists')\n",
    "songs.to_hdf('songtables.h5', key='songs')"
   ]
  },
  {
   "cell_type": "markdown",
   "metadata": {},
   "source": [
    "To read the tables back into pandas we'd use `HDFStore` and a simple dictionary syntax."
   ]
  },
  {
   "cell_type": "code",
   "execution_count": 386,
   "metadata": {},
   "outputs": [],
   "source": [
    "h5 = pd.HDFStore('songtables.h5')"
   ]
  },
  {
   "cell_type": "code",
   "execution_count": 387,
   "metadata": {},
   "outputs": [
    {
     "data": {
      "text/plain": [
       "['/artists', '/songs', '/topten']"
      ]
     },
     "execution_count": 387,
     "metadata": {},
     "output_type": "execute_result"
    }
   ],
   "source": [
    "h5.keys()"
   ]
  },
  {
   "cell_type": "code",
   "execution_count": 390,
   "metadata": {},
   "outputs": [
    {
     "data": {
      "text/html": [
       "<div>\n",
       "<style scoped>\n",
       "    .dataframe tbody tr th:only-of-type {\n",
       "        vertical-align: middle;\n",
       "    }\n",
       "\n",
       "    .dataframe tbody tr th {\n",
       "        vertical-align: top;\n",
       "    }\n",
       "\n",
       "    .dataframe thead th {\n",
       "        text-align: right;\n",
       "    }\n",
       "</style>\n",
       "<table border=\"1\" class=\"dataframe\">\n",
       "  <thead>\n",
       "    <tr style=\"text-align: right;\">\n",
       "      <th></th>\n",
       "      <th>name</th>\n",
       "      <th>dob</th>\n",
       "      <th>birthplace</th>\n",
       "      <th>genre</th>\n",
       "    </tr>\n",
       "    <tr>\n",
       "      <th>artist_id</th>\n",
       "      <th></th>\n",
       "      <th></th>\n",
       "      <th></th>\n",
       "      <th></th>\n",
       "    </tr>\n",
       "  </thead>\n",
       "  <tbody>\n",
       "    <tr>\n",
       "      <th>0</th>\n",
       "      <td>Michelle Graham</td>\n",
       "      <td>1990-02-11</td>\n",
       "      <td>Raymondville KY</td>\n",
       "      <td>Blues</td>\n",
       "    </tr>\n",
       "    <tr>\n",
       "      <th>1</th>\n",
       "      <td>Kimberly Olson</td>\n",
       "      <td>1989-11-03</td>\n",
       "      <td>Christopherbury VT</td>\n",
       "      <td>Jazz</td>\n",
       "    </tr>\n",
       "    <tr>\n",
       "      <th>2</th>\n",
       "      <td>Stephanie Hale</td>\n",
       "      <td>1986-03-21</td>\n",
       "      <td>Port Connorhaven FM</td>\n",
       "      <td>Hip Hop</td>\n",
       "    </tr>\n",
       "    <tr>\n",
       "      <th>3</th>\n",
       "      <td>Dennis Sparks</td>\n",
       "      <td>1996-06-30</td>\n",
       "      <td>Nathanhaven PA</td>\n",
       "      <td>Pop</td>\n",
       "    </tr>\n",
       "    <tr>\n",
       "      <th>4</th>\n",
       "      <td>Taylor Turner</td>\n",
       "      <td>1992-05-23</td>\n",
       "      <td>New Timothy CA</td>\n",
       "      <td>Country</td>\n",
       "    </tr>\n",
       "    <tr>\n",
       "      <th>...</th>\n",
       "      <td>...</td>\n",
       "      <td>...</td>\n",
       "      <td>...</td>\n",
       "      <td>...</td>\n",
       "    </tr>\n",
       "    <tr>\n",
       "      <th>95</th>\n",
       "      <td>Suzanne Wagner</td>\n",
       "      <td>1948-05-09</td>\n",
       "      <td>Rodneyfort AL</td>\n",
       "      <td>R&amp;B</td>\n",
       "    </tr>\n",
       "    <tr>\n",
       "      <th>96</th>\n",
       "      <td>Antonio Hernandez</td>\n",
       "      <td>1945-11-15</td>\n",
       "      <td>Richardmouth ME</td>\n",
       "      <td>Hip Hop</td>\n",
       "    </tr>\n",
       "    <tr>\n",
       "      <th>97</th>\n",
       "      <td>Mandy Burton</td>\n",
       "      <td>1949-06-08</td>\n",
       "      <td>West Melissa KS</td>\n",
       "      <td>Pop</td>\n",
       "    </tr>\n",
       "    <tr>\n",
       "      <th>98</th>\n",
       "      <td>Melinda Fields</td>\n",
       "      <td>1971-02-14</td>\n",
       "      <td>East Courtney MS</td>\n",
       "      <td>Indie</td>\n",
       "    </tr>\n",
       "    <tr>\n",
       "      <th>99</th>\n",
       "      <td>David Kim</td>\n",
       "      <td>2002-12-18</td>\n",
       "      <td>Lake David SC</td>\n",
       "      <td>R&amp;B</td>\n",
       "    </tr>\n",
       "  </tbody>\n",
       "</table>\n",
       "<p>100 rows × 4 columns</p>\n",
       "</div>"
      ],
      "text/plain": [
       "                        name        dob           birthplace    genre\n",
       "artist_id                                                            \n",
       "0            Michelle Graham 1990-02-11      Raymondville KY    Blues\n",
       "1             Kimberly Olson 1989-11-03   Christopherbury VT     Jazz\n",
       "2             Stephanie Hale 1986-03-21  Port Connorhaven FM  Hip Hop\n",
       "3              Dennis Sparks 1996-06-30       Nathanhaven PA      Pop\n",
       "4              Taylor Turner 1992-05-23       New Timothy CA  Country\n",
       "...                      ...        ...                  ...      ...\n",
       "95            Suzanne Wagner 1948-05-09        Rodneyfort AL      R&B\n",
       "96         Antonio Hernandez 1945-11-15      Richardmouth ME  Hip Hop\n",
       "97              Mandy Burton 1949-06-08      West Melissa KS      Pop\n",
       "98            Melinda Fields 1971-02-14     East Courtney MS    Indie\n",
       "99                 David Kim 2002-12-18        Lake David SC      R&B\n",
       "\n",
       "[100 rows x 4 columns]"
      ]
     },
     "execution_count": 390,
     "metadata": {},
     "output_type": "execute_result"
    }
   ],
   "source": [
    "h5['/artists']"
   ]
  },
  {
   "cell_type": "markdown",
   "metadata": {},
   "source": [
    "That's all folks!"
   ]
  },
  {
   "cell_type": "code",
   "execution_count": null,
   "metadata": {},
   "outputs": [],
   "source": []
  }
 ],
 "metadata": {
  "kernelspec": {
   "display_name": "Python 3 (ipykernel)",
   "language": "python",
   "name": "python3"
  },
  "language_info": {
   "codemirror_mode": {
    "name": "ipython",
    "version": 3
   },
   "file_extension": ".py",
   "mimetype": "text/x-python",
   "name": "python",
   "nbconvert_exporter": "python",
   "pygments_lexer": "ipython3",
   "version": "3.11.8"
  },
  "toc": {
   "base_numbering": 1,
   "nav_menu": {},
   "number_sections": true,
   "sideBar": true,
   "skip_h1_title": false,
   "title_cell": "Table of Contents",
   "title_sidebar": "Contents",
   "toc_cell": false,
   "toc_position": {},
   "toc_section_display": true,
   "toc_window_display": false
  }
 },
 "nbformat": 4,
 "nbformat_minor": 4
}
