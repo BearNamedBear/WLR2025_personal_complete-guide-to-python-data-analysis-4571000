{
 "cells": [
  {
   "cell_type": "markdown",
   "metadata": {},
   "source": [
    "# 07_01: The structure of data"
   ]
  },
  {
   "cell_type": "code",
   "execution_count": 2,
   "metadata": {},
   "outputs": [],
   "source": [
    "import math\n",
    "import collections\n",
    "import dataclasses\n",
    "import datetime\n",
    "\n",
    "import numpy as np\n",
    "import pandas as pd\n",
    "import matplotlib.pyplot as pp"
   ]
  },
  {
   "cell_type": "markdown",
   "metadata": {},
   "source": [
    "So far we've been casual in the way we speak about data. As we move into the second part of this course, we should get more precise with out terminology.\n",
    "\n",
    "The word \"data\" is plural---that's appropriate, because we are usually interested in the variability of our observations; we need to establish how things are different from each other.\n",
    "\n",
    "So a dataset is like a catalog, or a collection. For instance, for a planetary scientist a dataset of interest would be the planets of the solar system. The dataset consists of **cases** (the planets), and each case has attributes, called **variables** (for instance, the mass of the planet, or the period of its orbit around the Sun).\n",
    "\n",
    "It is standard practice to organize data in a **data frame**, in effect a table, where each row, or record, refers to one case, and each column, or field, to one variable.\n",
    "\n",
    "Variables can be **quantitative** (represented by a number) or **categorical** (a description that can be put in words, selected from a fixed set of **levels**). Usually quantitative variables are given as pure numbers, with standard units described in the **code book** (or data dictionary) for the data frame; likewise the codebook would describe the levels that are available for a variable.\n",
    "\n",
    "This arrangement, known as **case/variable organization**, is very simple, but it can accommodate many different sorts of data. It is also reflected directly in the data structures used by statistical software---in our case pandas."
   ]
  }
 ],
 "metadata": {
  "kernelspec": {
   "display_name": "Python 3 (ipykernel)",
   "language": "python",
   "name": "python3"
  },
  "language_info": {
   "codemirror_mode": {
    "name": "ipython",
    "version": 3
   },
   "file_extension": ".py",
   "mimetype": "text/x-python",
   "name": "python",
   "nbconvert_exporter": "python",
   "pygments_lexer": "ipython3",
   "version": "3.11.8"
  },
  "toc": {
   "base_numbering": 1,
   "nav_menu": {},
   "number_sections": true,
   "sideBar": true,
   "skip_h1_title": false,
   "title_cell": "Table of Contents",
   "title_sidebar": "Contents",
   "toc_cell": false,
   "toc_position": {},
   "toc_section_display": true,
   "toc_window_display": false
  }
 },
 "nbformat": 4,
 "nbformat_minor": 4
}
