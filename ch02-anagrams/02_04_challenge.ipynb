{
 "cells": [
  {
   "cell_type": "markdown",
   "metadata": {},
   "source": [
    "# 02_04: CoderPad challenge"
   ]
  },
  {
   "cell_type": "code",
   "execution_count": 1,
   "metadata": {},
   "outputs": [],
   "source": [
    "# Instructions"
   ]
  },
  {
   "cell_type": "markdown",
   "metadata": {},
   "source": [
    "## Find palindromes\n",
    "\n",
    "Palindromes are pairs of words that become each other when we reverse the order of their letters. Palindromes are also anagrams!\n",
    "\n",
    "**Your task**: Write a function that returns all the palindromes in the dictionary of length 7 or above. You will work with the `anagrams_by_signature` dictionary. \n",
    "\n",
    "### Parameters\n",
    "\n",
    "`anagrams_by_signature` as defined in video 02_03.\n",
    "\n",
    "### Result\n",
    "\n",
    "A list of 2-sets containing all palindromic pairs consisting of words of length 7 or above."
   ]
  },
  {
   "cell_type": "code",
   "execution_count": null,
   "metadata": {},
   "outputs": [],
   "source": [
    "# Answer"
   ]
  },
  {
   "cell_type": "code",
   "execution_count": 48,
   "metadata": {},
   "outputs": [],
   "source": [
    "# Python code​​​​​​‌​‌​‌​​‌‌​‌​‌​‌​‌​‌‌‌‌​‌‌ below\n",
    "# Use print(\"messages...\") to debug your solution.\n",
    "\n",
    "show_expected_result = True\n",
    "show_hints = True\n",
    "\n",
    "import itertools\n",
    "\n",
    "def palindromes(anagrams_by_signature):\n",
    "    # Your code goes here\n",
    "    pals = []\n",
    "    \n",
    "    for signature, wordset in anagrams_by_signature.items():\n",
    "        if len(signature) > 6:    \n",
    "            for word1, word2 in itertools.combinations(wordset, 2):\n",
    "                if word1 == word2[::-1]:\n",
    "                    pals.append({word1, word2})\n",
    "        \n",
    "    return pals"
   ]
  },
  {
   "cell_type": "code",
   "execution_count": 49,
   "metadata": {},
   "outputs": [],
   "source": [
    "# Test code"
   ]
  },
  {
   "cell_type": "code",
   "execution_count": 50,
   "metadata": {},
   "outputs": [],
   "source": [
    "import collections\n",
    "\n",
    "words = sorted({line.strip().lower() for line in open('words.txt', 'r')})\n",
    "\n",
    "def signature(word):\n",
    "    return ''.join(sorted(word))\n",
    "\n",
    "words_by_signature = collections.defaultdict(set)\n",
    "for word in words:\n",
    "    words_by_signature[signature(word)].add(word)\n",
    "\n",
    "anagrams_by_signature = {sig: wordset for sig, wordset in words_by_signature.items() if len(wordset) > 1}\n",
    "\n",
    "palindromes(anagrams_by_signature)"
   ]
  },
  {
   "cell_type": "code",
   "execution_count": 55,
   "metadata": {},
   "outputs": [],
   "source": [
    "# Console output\n",
    "\n",
    "# Hint: to reverse a string, use slicing with negative step\n",
    "# Hint: you can use itertools.combinations(wordset, 2) to get all unique pairs from a list or set"
   ]
  },
  {
   "cell_type": "code",
   "execution_count": 52,
   "metadata": {},
   "outputs": [
    {
     "data": {
      "text/plain": [
       "[{'amaroid', 'diorama'},\n",
       " {'anacara', 'aracana'},\n",
       " {'artamus', 'sumatra'},\n",
       " {'dessert', 'tressed'},\n",
       " {'leveler', 'relevel'},\n",
       " {'redrawer', 'rewarder'},\n",
       " {'rotanev', 'venator'}]"
      ]
     },
     "execution_count": 52,
     "metadata": {},
     "output_type": "execute_result"
    }
   ],
   "source": [
    "palindromes()"
   ]
  },
  {
   "cell_type": "markdown",
   "metadata": {},
   "source": [
    "Note:\n",
    "* amaroid is imitation amber\n",
    "* anacara is a fish\n",
    "* aracana is a fruit\n",
    "* artamus is a bird\n",
    "* rotanev may be a name\n",
    "* venator is latin for hunter"
   ]
  },
  {
   "cell_type": "code",
   "execution_count": null,
   "metadata": {},
   "outputs": [],
   "source": []
  }
 ],
 "metadata": {
  "kernelspec": {
   "display_name": "Python 3 (ipykernel)",
   "language": "python",
   "name": "python3"
  },
  "language_info": {
   "codemirror_mode": {
    "name": "ipython",
    "version": 3
   },
   "file_extension": ".py",
   "mimetype": "text/x-python",
   "name": "python",
   "nbconvert_exporter": "python",
   "pygments_lexer": "ipython3",
   "version": "3.11.5"
  }
 },
 "nbformat": 4,
 "nbformat_minor": 4
}
