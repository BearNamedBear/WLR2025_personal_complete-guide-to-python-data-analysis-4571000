{
 "cells": [
  {
   "cell_type": "markdown",
   "metadata": {},
   "source": [
    "# 02_01: Anagrams"
   ]
  },
  {
   "cell_type": "markdown",
   "metadata": {},
   "source": [
    "In chapter 1 we have reviewed Python loops, data containers, and comprehensions. \n",
    "\n",
    "We will get some practice with them in a simple practical project: finding anagrams in the English dictionary. As you know, two words are anagrams of each other when their letters can be rearranged to turn one word into the other. For instance, stop can be anagrammed into post, spot, tops, pots, ands opts. \n",
    "\n",
    "We will use this simple strategy: we define the _signature_ of a word as the sorted list of its letters, including duplicates. So the signature of \"post\" would be \"opst\", while the signature of my name, ***, would be ***. Two words are anagrams of each other if they have the same signature. Thus, we are going to make a python dict of all the words in a dictionary, indexed by their signature. Looking up if a word has an anagram would then be as simple as computing its signature and looking it up in the dict.\n",
    "\n",
    "Let's begin!"
   ]
  },
  {
   "cell_type": "code",
   "execution_count": null,
   "metadata": {},
   "outputs": [],
   "source": []
  }
 ],
 "metadata": {
  "kernelspec": {
   "display_name": "Python 3 (ipykernel)",
   "language": "python",
   "name": "python3"
  },
  "language_info": {
   "codemirror_mode": {
    "name": "ipython",
    "version": 3
   },
   "file_extension": ".py",
   "mimetype": "text/x-python",
   "name": "python",
   "nbconvert_exporter": "python",
   "pygments_lexer": "ipython3",
   "version": "3.11.5"
  }
 },
 "nbformat": 4,
 "nbformat_minor": 4
}
