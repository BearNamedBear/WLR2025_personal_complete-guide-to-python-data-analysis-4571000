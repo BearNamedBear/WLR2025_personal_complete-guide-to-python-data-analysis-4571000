{
 "cells": [
  {
   "cell_type": "markdown",
   "metadata": {},
   "source": [
    "# 06_01: Baby names overview"
   ]
  },
  {
   "cell_type": "markdown",
   "metadata": {},
   "source": [
    "In this chapter we are going to practice using Pandas with an intriguing real-world use case. We will analyze the U.S. Social Security baby name catalog, which lists the names given to male and female newborns for every year since 1880. This is very simple data set, but it's great fun to play with, and it has been mined, analyzed, and visualized in many publications and websites.\n",
    "\n",
    "We will load the Social Security data, to track the popularity of a name across all years, and extract the 10 most popular names in a year. All of this with pandas of course!"
   ]
  },
  {
   "cell_type": "markdown",
   "metadata": {},
   "source": [
    "    https://www.ssa.gov/oact/babynames/index.html"
   ]
  }
 ],
 "metadata": {
  "kernelspec": {
   "display_name": "Python 3 (ipykernel)",
   "language": "python",
   "name": "python3"
  },
  "language_info": {
   "codemirror_mode": {
    "name": "ipython",
    "version": 3
   },
   "file_extension": ".py",
   "mimetype": "text/x-python",
   "name": "python",
   "nbconvert_exporter": "python",
   "pygments_lexer": "ipython3",
   "version": "3.12.5"
  }
 },
 "nbformat": 4,
 "nbformat_minor": 4
}
