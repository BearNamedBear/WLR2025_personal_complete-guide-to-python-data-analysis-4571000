{
 "cells": [
  {
   "cell_type": "markdown",
   "metadata": {},
   "source": [
    "# 06_05: CoderPad challenge"
   ]
  },
  {
   "cell_type": "code",
   "execution_count": null,
   "metadata": {},
   "outputs": [],
   "source": [
    "# Instructions"
   ]
  },
  {
   "cell_type": "markdown",
   "metadata": {},
   "source": [
    "## Unisex names\n",
    "\n",
    "I would like you to find the top ten unisex names in a given year.\n",
    "\n",
    "**Your task** \n",
    "\n",
    "For a given year, find the ten most common unisex names. We will define unisex names in a given year as those for which the number of boys and girls with that name are within a factor of two. That means `0.5 < nboys / ngirls < 2.0`.\n",
    "\n",
    "## Parameters\n",
    "\n",
    "Year.\n",
    "\n",
    "## Result\n",
    "\n",
    "A pandas Series with the name as index and the total (boys + girls) number as data, sorted with the highest total first."
   ]
  },
  {
   "cell_type": "code",
   "execution_count": null,
   "metadata": {},
   "outputs": [],
   "source": [
    "# Answer"
   ]
  },
  {
   "cell_type": "code",
   "execution_count": 53,
   "metadata": {},
   "outputs": [],
   "source": [
    "# Python code​​​​​​‌​‌​‌​​‌‌​‌​‌​‌​‌​‌‌‌‌​‌‌ below\n",
    "# Use print(\"messages...\") to debug your solution.\n",
    "\n",
    "show_expected_result = True\n",
    "show_hints = True\n",
    "\n",
    "import pandas as pd\n",
    "\n",
    "allyears = pd.read_feather('allyears.feather')\n",
    "allyears_byname = allyears.set_index(['sex', 'name', 'year'])\n",
    "\n",
    "def unisex(year):\n",
    "    boys  = allyears_byname.loc['M', :, year]\n",
    "    girls = allyears_byname.loc['F', :, year]\n",
    "\n",
    "    combine = pd.merge(boys, girls, on='name', suffixes=['_boys', '_girls'])\n",
    "\n",
    "    combine['total'] = combine.number_boys + combine.number_girls\n",
    "    combine['ratio'] = combine.number_boys / combine.number_girls\n",
    "\n",
    "    combine = combine[(0.5 < combine.ratio) & (combine.ratio < 2.0)]\n",
    "\n",
    "    return combine.sort_values('total', ascending=False).head(10).total  "
   ]
  },
  {
   "cell_type": "code",
   "execution_count": 54,
   "metadata": {},
   "outputs": [],
   "source": [
    "# Test code"
   ]
  },
  {
   "cell_type": "code",
   "execution_count": 86,
   "metadata": {},
   "outputs": [],
   "source": [
    "# Console output\n",
    "\n",
    "# Hint: start by creating DataFrames or Series for boys and girls, then combine them to find totals and ratios"
   ]
  },
  {
   "cell_type": "code",
   "execution_count": 55,
   "metadata": {},
   "outputs": [
    {
     "data": {
      "text/plain": [
       "name\n",
       "Parker     6085\n",
       "River      4661\n",
       "Charlie    4326\n",
       "Emerson    3022\n",
       "Tatum      2806\n",
       "Blake      2712\n",
       "Rory       2447\n",
       "Finley     2277\n",
       "Dakota     2192\n",
       "Phoenix    2109\n",
       "Name: total, dtype: int64[pyarrow]"
      ]
     },
     "execution_count": 55,
     "metadata": {},
     "output_type": "execute_result"
    }
   ],
   "source": [
    "unisex(2023)"
   ]
  }
 ],
 "metadata": {
  "kernelspec": {
   "display_name": "Python 3 (ipykernel)",
   "language": "python",
   "name": "python3"
  },
  "language_info": {
   "codemirror_mode": {
    "name": "ipython",
    "version": 3
   },
   "file_extension": ".py",
   "mimetype": "text/x-python",
   "name": "python",
   "nbconvert_exporter": "python",
   "pygments_lexer": "ipython3",
   "version": "3.12.5"
  }
 },
 "nbformat": 4,
 "nbformat_minor": 4
}
